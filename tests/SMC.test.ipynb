{
 "cells": [
  {
   "cell_type": "code",
   "execution_count": 1,
   "metadata": {},
   "outputs": [],
   "source": [
    "from binance.client import Client\n",
    "import pandas as pd"
   ]
  },
  {
   "cell_type": "code",
   "execution_count": 2,
   "metadata": {},
   "outputs": [],
   "source": [
    "# Binance API credentials (replace with your actual keys)\n",
    "API_KEY = \"BQvneva3VBJoPwbeBAPXRrEvxuHCY3LUupBJKQzwYKDcgIloAEPU2MdlbWcK9aZs\"\n",
    "API_SECRET = \"PphvclSjha2dQnrB12ZO3QKl3RpKdfHxfLpttCHKP7wyFP5SB0LdKgROLi46BM50\"\n",
    "\n",
    "# Initialize Binance client\n",
    "binance_client = Client(API_KEY, API_SECRET)"
   ]
  },
  {
   "cell_type": "code",
   "execution_count": 5,
   "metadata": {},
   "outputs": [],
   "source": [
    "symbol = 'BTCUSDT'"
   ]
  },
  {
   "cell_type": "code",
   "execution_count": 6,
   "metadata": {},
   "outputs": [],
   "source": [
    "df_1d = pd.DataFrame(binance_client.get_historical_klines(symbol, Client.KLINE_INTERVAL_1DAY, \"400 days ago UTC\"),\n",
    "                        columns=['timestamp', 'open', 'high', 'low', 'close', 'volume', 'close_time', 'quote_asset_volume', 'number_of_trades', 'taker_buy_base', 'taker_buy_quote', 'ignore'])\n"
   ]
  },
  {
   "cell_type": "code",
   "execution_count": 7,
   "metadata": {},
   "outputs": [
    {
     "data": {
      "text/html": [
       "<div>\n",
       "<style scoped>\n",
       "    .dataframe tbody tr th:only-of-type {\n",
       "        vertical-align: middle;\n",
       "    }\n",
       "\n",
       "    .dataframe tbody tr th {\n",
       "        vertical-align: top;\n",
       "    }\n",
       "\n",
       "    .dataframe thead th {\n",
       "        text-align: right;\n",
       "    }\n",
       "</style>\n",
       "<table border=\"1\" class=\"dataframe\">\n",
       "  <thead>\n",
       "    <tr style=\"text-align: right;\">\n",
       "      <th></th>\n",
       "      <th>timestamp</th>\n",
       "      <th>open</th>\n",
       "      <th>high</th>\n",
       "      <th>low</th>\n",
       "      <th>close</th>\n",
       "      <th>volume</th>\n",
       "      <th>close_time</th>\n",
       "      <th>quote_asset_volume</th>\n",
       "      <th>number_of_trades</th>\n",
       "      <th>taker_buy_base</th>\n",
       "      <th>taker_buy_quote</th>\n",
       "      <th>ignore</th>\n",
       "    </tr>\n",
       "  </thead>\n",
       "  <tbody>\n",
       "    <tr>\n",
       "      <th>0</th>\n",
       "      <td>1692230400000</td>\n",
       "      <td>28730.51000000</td>\n",
       "      <td>28783.48000000</td>\n",
       "      <td>25166.00000000</td>\n",
       "      <td>26623.41000000</td>\n",
       "      <td>100271.54033000</td>\n",
       "      <td>1692316799999</td>\n",
       "      <td>2755821274.34060490</td>\n",
       "      <td>1976577</td>\n",
       "      <td>47495.99471000</td>\n",
       "      <td>1302553963.31062280</td>\n",
       "      <td>0</td>\n",
       "    </tr>\n",
       "    <tr>\n",
       "      <th>1</th>\n",
       "      <td>1692316800000</td>\n",
       "      <td>26623.41000000</td>\n",
       "      <td>26832.60000000</td>\n",
       "      <td>25619.00000000</td>\n",
       "      <td>26054.00000000</td>\n",
       "      <td>69790.65711000</td>\n",
       "      <td>1692403199999</td>\n",
       "      <td>1834219523.69940400</td>\n",
       "      <td>1293122</td>\n",
       "      <td>33522.24573000</td>\n",
       "      <td>881095856.19440350</td>\n",
       "      <td>0</td>\n",
       "    </tr>\n",
       "    <tr>\n",
       "      <th>2</th>\n",
       "      <td>1692403200000</td>\n",
       "      <td>26054.00000000</td>\n",
       "      <td>26281.00000000</td>\n",
       "      <td>25801.09000000</td>\n",
       "      <td>26100.01000000</td>\n",
       "      <td>26160.75343000</td>\n",
       "      <td>1692489599999</td>\n",
       "      <td>680623880.82475540</td>\n",
       "      <td>615764</td>\n",
       "      <td>12952.29598000</td>\n",
       "      <td>337010159.81151820</td>\n",
       "      <td>0</td>\n",
       "    </tr>\n",
       "    <tr>\n",
       "      <th>3</th>\n",
       "      <td>1692489600000</td>\n",
       "      <td>26100.01000000</td>\n",
       "      <td>26299.00000000</td>\n",
       "      <td>25971.05000000</td>\n",
       "      <td>26189.99000000</td>\n",
       "      <td>19056.91209000</td>\n",
       "      <td>1692575999999</td>\n",
       "      <td>497880752.23011580</td>\n",
       "      <td>451543</td>\n",
       "      <td>9909.12930000</td>\n",
       "      <td>258890029.08250630</td>\n",
       "      <td>0</td>\n",
       "    </tr>\n",
       "    <tr>\n",
       "      <th>4</th>\n",
       "      <td>1692576000000</td>\n",
       "      <td>26190.00000000</td>\n",
       "      <td>26258.42000000</td>\n",
       "      <td>25812.00000000</td>\n",
       "      <td>26126.92000000</td>\n",
       "      <td>30267.24233000</td>\n",
       "      <td>1692662399999</td>\n",
       "      <td>788205156.32159240</td>\n",
       "      <td>565987</td>\n",
       "      <td>14052.07264000</td>\n",
       "      <td>365942107.34064460</td>\n",
       "      <td>0</td>\n",
       "    </tr>\n",
       "    <tr>\n",
       "      <th>...</th>\n",
       "      <td>...</td>\n",
       "      <td>...</td>\n",
       "      <td>...</td>\n",
       "      <td>...</td>\n",
       "      <td>...</td>\n",
       "      <td>...</td>\n",
       "      <td>...</td>\n",
       "      <td>...</td>\n",
       "      <td>...</td>\n",
       "      <td>...</td>\n",
       "      <td>...</td>\n",
       "      <td>...</td>\n",
       "    </tr>\n",
       "    <tr>\n",
       "      <th>395</th>\n",
       "      <td>1726358400000</td>\n",
       "      <td>59993.02000000</td>\n",
       "      <td>60395.80000000</td>\n",
       "      <td>58691.05000000</td>\n",
       "      <td>59132.00000000</td>\n",
       "      <td>13757.92361000</td>\n",
       "      <td>1726444799999</td>\n",
       "      <td>822410872.39069560</td>\n",
       "      <td>1552950</td>\n",
       "      <td>6431.24697000</td>\n",
       "      <td>384460724.57039670</td>\n",
       "      <td>0</td>\n",
       "    </tr>\n",
       "    <tr>\n",
       "      <th>396</th>\n",
       "      <td>1726444800000</td>\n",
       "      <td>59132.00000000</td>\n",
       "      <td>59210.70000000</td>\n",
       "      <td>57493.30000000</td>\n",
       "      <td>58213.99000000</td>\n",
       "      <td>26477.56420000</td>\n",
       "      <td>1726531199999</td>\n",
       "      <td>1543273198.70274520</td>\n",
       "      <td>3145152</td>\n",
       "      <td>12859.75840000</td>\n",
       "      <td>749563220.80605080</td>\n",
       "      <td>0</td>\n",
       "    </tr>\n",
       "    <tr>\n",
       "      <th>397</th>\n",
       "      <td>1726531200000</td>\n",
       "      <td>58213.99000000</td>\n",
       "      <td>61320.00000000</td>\n",
       "      <td>57610.01000000</td>\n",
       "      <td>60313.99000000</td>\n",
       "      <td>33116.25878000</td>\n",
       "      <td>1726617599999</td>\n",
       "      <td>1983378424.77570380</td>\n",
       "      <td>3918209</td>\n",
       "      <td>16390.65993000</td>\n",
       "      <td>981860543.27358150</td>\n",
       "      <td>0</td>\n",
       "    </tr>\n",
       "    <tr>\n",
       "      <th>398</th>\n",
       "      <td>1726617600000</td>\n",
       "      <td>60313.99000000</td>\n",
       "      <td>61786.24000000</td>\n",
       "      <td>59174.80000000</td>\n",
       "      <td>61759.99000000</td>\n",
       "      <td>36087.02469000</td>\n",
       "      <td>1726703999999</td>\n",
       "      <td>2174000496.82077610</td>\n",
       "      <td>5167671</td>\n",
       "      <td>18429.59712000</td>\n",
       "      <td>1110622778.75108520</td>\n",
       "      <td>0</td>\n",
       "    </tr>\n",
       "    <tr>\n",
       "      <th>399</th>\n",
       "      <td>1726704000000</td>\n",
       "      <td>61759.98000000</td>\n",
       "      <td>62589.52000000</td>\n",
       "      <td>61555.00000000</td>\n",
       "      <td>62092.01000000</td>\n",
       "      <td>11514.30216000</td>\n",
       "      <td>1726790399999</td>\n",
       "      <td>714685272.55031700</td>\n",
       "      <td>1334279</td>\n",
       "      <td>6021.02131000</td>\n",
       "      <td>373787543.09669430</td>\n",
       "      <td>0</td>\n",
       "    </tr>\n",
       "  </tbody>\n",
       "</table>\n",
       "<p>400 rows × 12 columns</p>\n",
       "</div>"
      ],
      "text/plain": [
       "         timestamp            open            high             low  \\\n",
       "0    1692230400000  28730.51000000  28783.48000000  25166.00000000   \n",
       "1    1692316800000  26623.41000000  26832.60000000  25619.00000000   \n",
       "2    1692403200000  26054.00000000  26281.00000000  25801.09000000   \n",
       "3    1692489600000  26100.01000000  26299.00000000  25971.05000000   \n",
       "4    1692576000000  26190.00000000  26258.42000000  25812.00000000   \n",
       "..             ...             ...             ...             ...   \n",
       "395  1726358400000  59993.02000000  60395.80000000  58691.05000000   \n",
       "396  1726444800000  59132.00000000  59210.70000000  57493.30000000   \n",
       "397  1726531200000  58213.99000000  61320.00000000  57610.01000000   \n",
       "398  1726617600000  60313.99000000  61786.24000000  59174.80000000   \n",
       "399  1726704000000  61759.98000000  62589.52000000  61555.00000000   \n",
       "\n",
       "              close           volume     close_time   quote_asset_volume  \\\n",
       "0    26623.41000000  100271.54033000  1692316799999  2755821274.34060490   \n",
       "1    26054.00000000   69790.65711000  1692403199999  1834219523.69940400   \n",
       "2    26100.01000000   26160.75343000  1692489599999   680623880.82475540   \n",
       "3    26189.99000000   19056.91209000  1692575999999   497880752.23011580   \n",
       "4    26126.92000000   30267.24233000  1692662399999   788205156.32159240   \n",
       "..              ...              ...            ...                  ...   \n",
       "395  59132.00000000   13757.92361000  1726444799999   822410872.39069560   \n",
       "396  58213.99000000   26477.56420000  1726531199999  1543273198.70274520   \n",
       "397  60313.99000000   33116.25878000  1726617599999  1983378424.77570380   \n",
       "398  61759.99000000   36087.02469000  1726703999999  2174000496.82077610   \n",
       "399  62092.01000000   11514.30216000  1726790399999   714685272.55031700   \n",
       "\n",
       "     number_of_trades  taker_buy_base      taker_buy_quote ignore  \n",
       "0             1976577  47495.99471000  1302553963.31062280      0  \n",
       "1             1293122  33522.24573000   881095856.19440350      0  \n",
       "2              615764  12952.29598000   337010159.81151820      0  \n",
       "3              451543   9909.12930000   258890029.08250630      0  \n",
       "4              565987  14052.07264000   365942107.34064460      0  \n",
       "..                ...             ...                  ...    ...  \n",
       "395           1552950   6431.24697000   384460724.57039670      0  \n",
       "396           3145152  12859.75840000   749563220.80605080      0  \n",
       "397           3918209  16390.65993000   981860543.27358150      0  \n",
       "398           5167671  18429.59712000  1110622778.75108520      0  \n",
       "399           1334279   6021.02131000   373787543.09669430      0  \n",
       "\n",
       "[400 rows x 12 columns]"
      ]
     },
     "execution_count": 7,
     "metadata": {},
     "output_type": "execute_result"
    }
   ],
   "source": [
    "df_1d"
   ]
  },
  {
   "cell_type": "code",
   "execution_count": null,
   "metadata": {},
   "outputs": [],
   "source": []
  },
  {
   "cell_type": "code",
   "execution_count": 1,
   "metadata": {},
   "outputs": [
    {
     "name": "stderr",
     "output_type": "stream",
     "text": [
      "you are using nologin method, data you access may be limited\n"
     ]
    }
   ],
   "source": [
    "from SMC import *\n",
    "from tvDatafeed import TvDatafeed, Interval\n",
    "tv = TvDatafeed()  "
   ]
  },
  {
   "cell_type": "code",
   "execution_count": 2,
   "metadata": {},
   "outputs": [],
   "source": [
    "df_1d = tv.get_hist(symbol='DJI',exchange='TVC',interval=Interval.in_daily,n_bars=200)\n",
    "df_4h = tv.get_hist(symbol='DJI',exchange='TVC',interval=Interval.in_4_hour,n_bars=200)\n",
    "df_1h = tv.get_hist(symbol='DJI',exchange='TVC',interval=Interval.in_1_hour,n_bars=200)\n",
    "df_30t = tv.get_hist(symbol='DJI',exchange='TVC',interval=Interval.in_30_minute,n_bars=200)\n",
    "df_15t = tv.get_hist(symbol='DJI',exchange='TVC',interval=Interval.in_15_minute,n_bars=200)\n",
    "df_5t = tv.get_hist(symbol='DJI',exchange='TVC',interval=Interval.in_5_minute,n_bars=200)"
   ]
  },
  {
   "cell_type": "code",
   "execution_count": 13,
   "metadata": {},
   "outputs": [],
   "source": [
    "def find_rangebreaks(df, freq):\n",
    "    # Create a reference date range with the same frequency as the dataframe\n",
    "    ref_date = pd.date_range(start=pd.Timestamp(df.index[0]), end=pd.Timestamp(df.index[-1]), freq=freq)\n",
    "    df_index_as_date = pd.to_datetime(df.index)  # Convert index to datetime\n",
    "    rangebreak_list = ref_date.difference(df_index_as_date)  # Find missing timestamps\n",
    "    return rangebreak_list\n",
    "\n",
    "# Finding range breaks for each dataframe with corresponding frequency\n",
    "rangebreak_1d = find_rangebreaks(df_1d, '1d')\n",
    "rangebreak_4h = find_rangebreaks(df_4h, '4h')\n",
    "rangebreak_1h = find_rangebreaks(df_1h, '1h')\n",
    "rangebreak_30t = find_rangebreaks(df_30t, '30min')\n",
    "rangebreak_15t = find_rangebreaks(df_15t, '15min')\n",
    "rangebreak_5t = find_rangebreaks(df_5t, '5min')"
   ]
  },
  {
   "cell_type": "code",
   "execution_count": null,
   "metadata": {},
   "outputs": [],
   "source": []
  },
  {
   "cell_type": "code",
   "execution_count": 4,
   "metadata": {},
   "outputs": [],
   "source": [
    "# window_df = df_tv.iloc[-200:]\n",
    "\n",
    "# fvg_data = smc.fvg(window_df, join_consecutive=True)\n",
    "# swing_highs_lows_data = smc.swing_highs_lows(window_df, swing_length=5)\n",
    "# bos_choch_data = smc.bos_choch(window_df, swing_highs_lows_data)\n",
    "# ob_data = smc.ob(window_df, swing_highs_lows_data)\n",
    "# liquidity_data = smc.liquidity(window_df, swing_highs_lows_data)\n",
    "# previous_high_low_data = smc.previous_high_low(window_df, time_frame=\"4h\")\n",
    "# sessions = smc.sessions(window_df, session=\"New York kill zone\")\n",
    "# retracements = smc.retracements(window_df, swing_highs_lows_data)"
   ]
  },
  {
   "cell_type": "code",
   "execution_count": 5,
   "metadata": {},
   "outputs": [],
   "source": [
    "# fig = go.Figure(\n",
    "#     data=[\n",
    "#         go.Candlestick(\n",
    "#             x=window_df.index,\n",
    "#             open=window_df[\"open\"],\n",
    "#             high=window_df[\"high\"],\n",
    "#             low=window_df[\"low\"],\n",
    "#             close=window_df[\"close\"],\n",
    "#             increasing_line_color=\"#77dd76\",\n",
    "#             decreasing_line_color=\"#ff6962\",\n",
    "#         )\n",
    "#     ]\n",
    "# )"
   ]
  },
  {
   "cell_type": "code",
   "execution_count": 6,
   "metadata": {},
   "outputs": [],
   "source": [
    "# # fig = add_FVG(fig, window_df, fvg_data)\n",
    "# # fig = add_swing_highs_lows(fig, window_df, swing_highs_lows_data)\n",
    "# # fig = add_bos_choch(fig, window_df, bos_choch_data)\n",
    "# fig = add_OB(fig, window_df, ob_data)\n",
    "# # fig = add_liquidity(fig, window_df, liquidity_data)\n",
    "# # fig = add_previous_high_low(fig, window_df, previous_high_low_data)\n",
    "# fig = add_sessions(fig, window_df, sessions)\n",
    "# # fig = add_retracements(fig, window_df, retracements)\n",
    "\n",
    "# fig.update_layout(xaxis_rangeslider_visible=False)\n",
    "# fig.update_layout(showlegend=False)\n",
    "# fig.update_layout(margin=dict(l=0, r=0, b=0, t=0))\n",
    "# fig.update_xaxes(visible=True, showticklabels=False, rangebreaks = [dict(values=rangebreak_list, dvalue=30 * 60 * 1000)])\n",
    "# fig.update_yaxes(visible=False, showticklabels=False)\n",
    "# fig.update_layout(plot_bgcolor=\"rgba(0,0,0,0)\")\n",
    "# fig.update_layout(paper_bgcolor=\"rgba(12, 14, 18, 1)\")\n",
    "# fig.update_layout(font=dict(color=\"white\"))\n",
    "\n",
    "# # reduce the size of the image\n",
    "# fig.update_layout(width=800, height=400)"
   ]
  },
  {
   "cell_type": "code",
   "execution_count": 7,
   "metadata": {},
   "outputs": [],
   "source": [
    "import plotly.graph_objects as go\n",
    "\n",
    "def create_smc_plot(df, rangebreak_list, session=\"New York kill zone\", swing_length=5, join_consecutive=True, time_frame=\"4h\", width=800, height=400, dvalue=30):\n",
    "    # Slice the dataframe\n",
    "    window_df = df.copy()\n",
    "    \n",
    "    # Calculate various SMC-related data\n",
    "    # fvg_data = smc.fvg(window_df, join_consecutive=join_consecutive)\n",
    "    swing_highs_lows_data = smc.swing_highs_lows(window_df, swing_length=swing_length)\n",
    "    bos_choch_data = smc.bos_choch(window_df, swing_highs_lows_data)\n",
    "    ob_data = smc.ob(window_df, swing_highs_lows_data)\n",
    "    # liquidity_data = smc.liquidity(window_df, swing_highs_lows_data)\n",
    "    # previous_high_low_data = smc.previous_high_low(window_df, time_frame=time_frame)\n",
    "    sessions = smc.sessions(window_df, session=session)\n",
    "    # retracements = smc.retracements(window_df, swing_highs_lows_data)\n",
    "    \n",
    "    # Create the base candlestick chart\n",
    "    fig = go.Figure(\n",
    "        data=[\n",
    "            go.Candlestick(\n",
    "                x=window_df.index,\n",
    "                open=window_df[\"open\"],\n",
    "                high=window_df[\"high\"],\n",
    "                low=window_df[\"low\"],\n",
    "                close=window_df[\"close\"],\n",
    "                increasing_line_color=\"#77dd76\",\n",
    "                decreasing_line_color=\"#ff6962\",\n",
    "            )\n",
    "        ]\n",
    "    )\n",
    "\n",
    "    # Optionally add overlays to the chart (comment or uncomment as needed)\n",
    "    # fig = add_FVG(fig, window_df, fvg_data)\n",
    "    # fig = add_swing_highs_lows(fig, window_df, swing_highs_lows_data)\n",
    "    fig = add_bos_choch(fig, window_df, bos_choch_data)\n",
    "    fig = add_OB(fig, window_df, ob_data)\n",
    "    # fig = add_liquidity(fig, window_df, liquidity_data)\n",
    "    # fig = add_previous_high_low(fig, window_df, previous_high_low_data)\n",
    "    fig = add_sessions(fig, window_df, sessions)\n",
    "    # fig = add_retracements(fig, window_df, retracements)\n",
    "\n",
    "    # Update layout for the plot\n",
    "    fig.update_layout(xaxis_rangeslider_visible=False)\n",
    "    fig.update_layout(showlegend=False)\n",
    "    fig.update_layout(margin=dict(l=21, r=21, b=21, t=0.8))\n",
    "    \n",
    "    # Set rangebreaks if there are gaps\n",
    "    # rangebreak_list = find_rangebreaks(df, '30min')  # Assuming 30-minute intervals for range breaks\n",
    "    fig.update_xaxes(visible=True, showticklabels=False, rangebreaks=[dict(values=rangebreak_list, dvalue= (dvalue * 60 * 1000))],\n",
    "                     showgrid=False, zeroline=False, showline=False)\n",
    "    \n",
    "    fig.update_yaxes(visible=False, showticklabels=False)\n",
    "    \n",
    "    # Customize background colors\n",
    "    fig.update_layout(plot_bgcolor=\"rgba(34, 42, 58, 0.8)\")\n",
    "    fig.update_layout(paper_bgcolor=\"rgba(34, 42, 58, 0.8)\")\n",
    "    \n",
    "    # Customize font\n",
    "    fig.update_layout(font=dict(color=\"white\"))\n",
    "\n",
    "    # Set the plot size\n",
    "    fig.update_layout(width=width, height=height,\n",
    "                          margin=dict( l=0, r=50, b=0, t=0, pad=50))\n",
    "    \n",
    "    # Return the figure object\n",
    "    return fig\n",
    "\n",
    "# Example of using the function\n",
    "\n",
    "fig = create_smc_plot(df_1d, rangebreak_1d, dvalue=1)\n",
    "fig.show()\n",
    "\n",
    "fig = create_smc_plot(df_4h, rangebreak_4h, dvalue= 240)\n",
    "fig.show()\n",
    "\n",
    "fig = create_smc_plot(df_1h, rangebreak_1h,  dvalue= 60)\n",
    "fig.show()\n",
    "\n",
    "fig = create_smc_plot(df_30t, rangebreak_30t,  dvalue= 30)\n",
    "fig.show()\n",
    "\n",
    "fig = create_smc_plot(df_15t, rangebreak_15t, dvalue= 15)\n",
    "fig.show()"
   ]
  },
  {
   "cell_type": "code",
   "execution_count": 24,
   "metadata": {},
   "outputs": [
    {
     "data": {
      "application/vnd.plotly.v1+json": {
       "config": {
        "plotlyServerURL": "https://plot.ly"
       },
       "data": [
        {
         "close": [
          35333.48,
          35416.99,
          35430.43,
          35950.9,
          36245.51,
          36204.45,
          36124.57,
          36054.44,
          36117.39,
          36247.88,
          36404.94,
          36577.95,
          37090.25,
          37248.36,
          37305.17,
          37306.03,
          37557.93,
          37082.01,
          37404.36,
          37385.98,
          37545.34,
          37656.53,
          37710.11,
          37689.55,
          37715.05,
          37430.2,
          37440.35,
          37466.12,
          37683.02,
          37525.17,
          37695.74,
          37711.03,
          37592.99,
          37361.13,
          37266.68,
          37468.62,
          37863.81,
          38001.82,
          37905.46,
          37806.4,
          38049.14,
          38109.44,
          38333.46,
          38467.32,
          38150.31,
          38519.85,
          38654.43,
          38380.13,
          38521.37,
          38677.37,
          38726.34,
          38671.7,
          38797.39,
          38272.76,
          38424.28,
          38773.13,
          38628,
          38563.81,
          38612.25,
          39069.12,
          39131.54,
          39069.24,
          38972.42,
          38949.03,
          38996.4,
          39087.39,
          38989.84,
          38585.2,
          38661.06,
          38791.36,
          38722.7,
          38769.67,
          39005.5,
          39043.33,
          38905.67,
          38714.78,
          38790.44,
          39110.77,
          39512.14,
          39781.38,
          39475.91,
          39313.65,
          39282.34,
          39760.09,
          39807.38,
          39566.86,
          39170.25,
          39127.15,
          38596.99,
          38904.05,
          38892.81,
          38883.68,
          38461.52,
          38459.09,
          37983.25,
          37735.12,
          37798.98,
          37753.32,
          37775.39,
          37986.41,
          38239.99,
          38503.7,
          38460.93,
          38085.81,
          38239.67,
          38386.1,
          37815.93,
          37903.3,
          38225.67,
          38675.69,
          38852.28,
          38884.27,
          39056.4,
          39387.77,
          39512.85,
          39431.52,
          39558.12,
          39908.01,
          39869.39,
          40003.6,
          39806.78,
          39873,
          39671.05,
          39065.27,
          39069.6,
          38852.87,
          38441.55,
          38111.49,
          38686.33,
          38571.04,
          38711.3,
          38807.34,
          38886.18,
          38799,
          38868.05,
          38747.43,
          38712.22,
          38647.09,
          38589.17,
          38778.11,
          38834.87,
          39134.77,
          39150.34,
          39411.22,
          39112.17,
          39127.81,
          39164.07,
          39118.87,
          39169.53,
          39331.86,
          39308.01,
          39375.88,
          39344.8,
          39291.98,
          39721.37,
          39753.76,
          40000.91,
          40211.73,
          40954.49,
          41198.09,
          40665.03,
          40287.54,
          40415.45,
          40358.1,
          39853.88,
          39935.08,
          40589.35,
          40539.94,
          40743.34,
          40842.8,
          40347.98,
          39737.27,
          38703.28,
          38997.67,
          38763.46,
          39446.5,
          39497.55,
          39357.02,
          39765.65,
          40008.4,
          40563.07,
          40659.77,
          40896.54,
          40834.98,
          40890.5,
          40712.79,
          41175.09,
          41240.53,
          41250.51,
          41091.43,
          41335.06,
          41563.09,
          40936.94,
          40974.98,
          40755.76,
          40345.42,
          40829.6,
          40736.96,
          40861.71,
          40866.6
         ],
         "decreasing": {
          "line": {
           "color": "#ff6962"
          }
         },
         "high": [
          35410.37,
          35518.67,
          35579.13,
          35970.7,
          36264.85,
          36238.18,
          36164.68,
          36292.58,
          36164.17,
          36296.2,
          36416.18,
          36596.11,
          37094.85,
          37287.5,
          37347.6,
          37393.45,
          37562.83,
          37641.3,
          37418.76,
          37534.52,
          37617.99,
          37683.7,
          37778.85,
          37759.43,
          37790.08,
          37629.23,
          37716.41,
          37623.62,
          37692.92,
          37552.38,
          37740.77,
          37801.9,
          37825.27,
          37543.18,
          37371.66,
          37522.29,
          37933.73,
          38109.2,
          37980.73,
          38064.22,
          38057.53,
          38215.31,
          38343.93,
          38497.39,
          38588.86,
          38522.5,
          38783.62,
          38633.88,
          38545.28,
          38748.11,
          38755.68,
          38734.28,
          38927.08,
          38699.17,
          38442.56,
          38781.89,
          38825.03,
          38663.09,
          38618.03,
          39149.61,
          39282.28,
          39245.89,
          39087.9,
          38956.46,
          39074.13,
          39120.36,
          39087.86,
          38906.98,
          38858.13,
          38910.35,
          38971.15,
          38794.76,
          39071.56,
          39201.94,
          39160.25,
          38928.13,
          38898.41,
          39122.71,
          39529.13,
          39889.05,
          39824.76,
          39430.17,
          39439.44,
          39769.41,
          39868.59,
          39815,
          39256.27,
          39305.76,
          39421.35,
          39040.17,
          39013.2,
          38992.89,
          38662.28,
          38598.98,
          38319.14,
          38386.81,
          37992.22,
          38036.7,
          38083.76,
          38102.57,
          38447.16,
          38561.5,
          38552.79,
          38157.22,
          38337.64,
          38406.2,
          38337.4,
          38349.2,
          38295.29,
          38808.52,
          38886.47,
          38977.61,
          39094.74,
          39413.66,
          39579.88,
          39647.39,
          39616.41,
          39935.04,
          40051.05,
          40010.88,
          40077.4,
          39905.8,
          39890.91,
          39694.95,
          39220.31,
          39028.99,
          38716.28,
          38493.6,
          38719.43,
          38735.61,
          38786.62,
          38844.32,
          39004.16,
          39105.23,
          38877.86,
          38795.71,
          39120.26,
          38712.21,
          38595.24,
          38839.88,
          38936.93,
          39232.5,
          39257.18,
          39571.23,
          39423.26,
          39183.74,
          39250.69,
          39443.6,
          39438.36,
          39340.49,
          39411.17,
          39399.62,
          39654.96,
          39492.28,
          39736.2,
          39875.6,
          40257.24,
          40351.1,
          40988.81,
          41221.98,
          41376,
          40626.16,
          40472.53,
          40527.89,
          40258.44,
          40438.82,
          40753.83,
          40682.49,
          40866.25,
          41198.63,
          41096.66,
          40075.33,
          39056.19,
          39449.53,
          39477.96,
          39508.4,
          39628.66,
          39587.06,
          39792.8,
          40068.75,
          40590.51,
          40726.03,
          40907.32,
          40909.38,
          40974.4,
          41026.64,
          41207.92,
          41420.05,
          41271.75,
          41351.11,
          41577.97,
          41585.21,
          41489.67,
          41172.59,
          41084.78,
          41009.39,
          41000.24,
          40916.5,
          40903.68,
          40984.28
         ],
         "increasing": {
          "line": {
           "color": "#77dd76"
          }
         },
         "low": [
          35280.57,
          35307.73,
          35405.89,
          35592.22,
          35914.45,
          36029.69,
          36010.85,
          36024.25,
          36021.95,
          36061.64,
          36231.19,
          36373.22,
          36523.59,
          37051.52,
          37092.02,
          37284.85,
          37311.82,
          37073.04,
          37127.05,
          37268.88,
          37371.83,
          37488.6,
          37650.98,
          37538.8,
          37495.91,
          37401.85,
          37425.28,
          37323.82,
          37249.24,
          37373.3,
          37524.4,
          37424.28,
          37470.19,
          37201.39,
          37132.89,
          37122.95,
          37451.71,
          37911.61,
          37804.99,
          37795.71,
          37796.47,
          37997.77,
          38061.17,
          38257.8,
          38139.66,
          38106.84,
          38336.57,
          38220.4,
          38350.46,
          38571.01,
          38544.36,
          38567.9,
          38628.92,
          38039.86,
          38194.62,
          38397.94,
          38583.24,
          38460.2,
          38338.58,
          38802.07,
          39094.36,
          39025.8,
          38881.9,
          38741.68,
          38809.28,
          38850.5,
          38913.3,
          38457.83,
          38570.8,
          38730.13,
          38705.03,
          38483.25,
          38711.39,
          38937.92,
          38704.36,
          38618.2,
          38760.79,
          38761.28,
          38988.65,
          39589.23,
          39469.53,
          39296.03,
          39277.19,
          39461.98,
          39717.25,
          39491.22,
          39051.7,
          39017.13,
          38559.42,
          38602.18,
          38857.7,
          38572.09,
          38304.66,
          38197.28,
          37877.3,
          37657.79,
          37713.7,
          37611.56,
          37681.52,
          37781.61,
          37985.07,
          38297.72,
          38310.55,
          37754.38,
          38065.05,
          38215.47,
          37810.12,
          37780.54,
          37895.66,
          38518.28,
          38689.38,
          38840.4,
          38814.99,
          38988.85,
          39406.26,
          39403.05,
          39371.92,
          39615.1,
          39864.68,
          39858.86,
          39787.09,
          39778.73,
          39559.09,
          39025.51,
          39020.29,
          38706.14,
          38413.67,
          38000.96,
          38092.27,
          38247.22,
          38397.82,
          38548.77,
          38735.99,
          38751.85,
          38665.45,
          38446.24,
          38621.45,
          38407.7,
          38305.85,
          38431.95,
          38727.67,
          38778.46,
          39061.67,
          39184.49,
          38997.23,
          38908.99,
          39026.75,
          38937.15,
          39037.94,
          39090.97,
          39230.86,
          39168.7,
          39278.43,
          39146.6,
          39256.72,
          39623.12,
          39783.28,
          40136.1,
          40263.78,
          40849.71,
          40597.5,
          40203.27,
          40222.77,
          40319.7,
          39807.45,
          39817.5,
          40140.86,
          40388.83,
          40529.1,
          40655.89,
          40098.57,
          39358.68,
          38499.27,
          38638.3,
          38731.51,
          38922.79,
          39230.43,
          39251.72,
          39392.41,
          39737.2,
          40295.74,
          40453.58,
          40670.83,
          40756.65,
          40738.43,
          40584.47,
          40842.96,
          41140.23,
          41109.42,
          40842.29,
          41086.81,
          41145.85,
          40778.09,
          40840.89,
          40519.08,
          40297.33,
          40518.06,
          40417.48,
          39993.07,
          40665.53
         ],
         "open": [
          35376.44,
          35332.13,
          35436.8,
          35596.57,
          35914.45,
          36089.38,
          36135.65,
          36183.73,
          36124.17,
          36084.82,
          36254.33,
          36442.1,
          36601.8,
          37115.63,
          37194.5,
          37330.14,
          37311.82,
          37520.13,
          37225.32,
          37349.27,
          37405.9,
          37518.62,
          37661.52,
          37701.63,
          37566.22,
          37629.23,
          37425.28,
          37455.46,
          37327.37,
          37523.55,
          37552.91,
          37747.14,
          37818.05,
          37493.54,
          37281.86,
          37300.81,
          37572.5,
          37919.55,
          37959.79,
          37975.37,
          37862.57,
          38006.68,
          38115.83,
          38298.23,
          38426.78,
          38175.34,
          38448.1,
          38546.77,
          38392.9,
          38613.89,
          38702.11,
          38731.97,
          38656.76,
          38699.17,
          38372.67,
          38397.94,
          38751.71,
          38576.26,
          38483.66,
          38845.19,
          39127.97,
          39144.79,
          39087.9,
          38938.08,
          39013.75,
          38989.51,
          38968.77,
          38906.98,
          38721.15,
          38784.3,
          38776.8,
          38667.21,
          38883.32,
          39054.58,
          39122.39,
          38798.07,
          38826.93,
          38819.61,
          39072.05,
          39661.03,
          39774.06,
          39410.54,
          39338.32,
          39461.98,
          39763.74,
          39807.93,
          39256.27,
          39139.59,
          39391.18,
          38612.57,
          38916.42,
          38983.66,
          38662.28,
          38565.64,
          38319.14,
          38075.38,
          37992.22,
          37949.67,
          37847.21,
          37801.98,
          38116.89,
          38356.07,
          38552.79,
          38052.09,
          38114.7,
          38282.16,
          38337.4,
          37845.56,
          38075.65,
          38709.36,
          38762.43,
          38858.94,
          38818.9,
          39064.27,
          39466.52,
          39591.28,
          39466.76,
          39615.1,
          39912.34,
          39911.72,
          39989.76,
          39804.4,
          39863.33,
          39694.95,
          39089.23,
          39028.99,
          38716.28,
          38368.35,
          38140.26,
          38709.99,
          38518.86,
          38774.82,
          38825.4,
          38861.24,
          38784.9,
          38795.71,
          38950.65,
          38677.12,
          38528.39,
          38565.18,
          38779.12,
          38804.73,
          39208.51,
          39184.49,
          39398.79,
          39063.15,
          39107.1,
          39092.39,
          39186.2,
          39090.97,
          39358.95,
          39313.4,
          39428.91,
          39357.37,
          39272.45,
          39695.18,
          39783.28,
          40138.4,
          40263.78,
          40862.57,
          41156.56,
          40592.35,
          40414.49,
          40443.73,
          40210.63,
          39828.63,
          40140.86,
          40665.71,
          40622.13,
          40768.88,
          40916.96,
          40075.33,
          39056.19,
          38736.22,
          39230.09,
          38940.38,
          39408.06,
          39556.01,
          39445.27,
          39800.59,
          40295.74,
          40528.86,
          40670.83,
          40874.52,
          40881.03,
          40932.23,
          40879.12,
          41200.84,
          41186.28,
          41250.17,
          41345.5,
          41366.16,
          41489.67,
          40872.06,
          41056.33,
          40756.81,
          40555.11,
          40916.5,
          40638.76,
          40862.11
         ],
         "type": "candlestick",
         "x": [
          "2023-11-27T21:30:00",
          "2023-11-28T21:30:00",
          "2023-11-29T21:30:00",
          "2023-11-30T21:30:00",
          "2023-12-01T21:30:00",
          "2023-12-04T21:30:00",
          "2023-12-05T21:30:00",
          "2023-12-06T21:30:00",
          "2023-12-07T21:30:00",
          "2023-12-08T21:30:00",
          "2023-12-11T21:30:00",
          "2023-12-12T21:30:00",
          "2023-12-13T21:30:00",
          "2023-12-14T21:30:00",
          "2023-12-15T21:30:00",
          "2023-12-18T21:30:00",
          "2023-12-19T21:30:00",
          "2023-12-20T21:30:00",
          "2023-12-21T21:30:00",
          "2023-12-22T21:30:00",
          "2023-12-26T21:30:00",
          "2023-12-27T21:30:00",
          "2023-12-28T21:30:00",
          "2023-12-29T21:30:00",
          "2024-01-02T21:30:00",
          "2024-01-03T21:30:00",
          "2024-01-04T21:30:00",
          "2024-01-05T21:30:00",
          "2024-01-08T21:30:00",
          "2024-01-09T21:30:00",
          "2024-01-10T21:30:00",
          "2024-01-11T21:30:00",
          "2024-01-12T21:30:00",
          "2024-01-16T21:30:00",
          "2024-01-17T21:30:00",
          "2024-01-18T21:30:00",
          "2024-01-19T21:30:00",
          "2024-01-22T21:30:00",
          "2024-01-23T21:30:00",
          "2024-01-24T21:30:00",
          "2024-01-25T21:30:00",
          "2024-01-26T21:30:00",
          "2024-01-29T21:30:00",
          "2024-01-30T21:30:00",
          "2024-01-31T21:30:00",
          "2024-02-01T21:30:00",
          "2024-02-02T21:30:00",
          "2024-02-05T21:30:00",
          "2024-02-06T21:30:00",
          "2024-02-07T21:30:00",
          "2024-02-08T21:30:00",
          "2024-02-09T21:30:00",
          "2024-02-12T21:30:00",
          "2024-02-13T21:30:00",
          "2024-02-14T21:30:00",
          "2024-02-15T21:30:00",
          "2024-02-16T21:30:00",
          "2024-02-20T21:30:00",
          "2024-02-21T21:30:00",
          "2024-02-22T21:30:00",
          "2024-02-23T21:30:00",
          "2024-02-26T21:30:00",
          "2024-02-27T21:30:00",
          "2024-02-28T21:30:00",
          "2024-02-29T21:30:00",
          "2024-03-01T21:30:00",
          "2024-03-04T21:30:00",
          "2024-03-05T21:30:00",
          "2024-03-06T21:30:00",
          "2024-03-07T21:30:00",
          "2024-03-08T21:30:00",
          "2024-03-11T20:30:00",
          "2024-03-12T20:30:00",
          "2024-03-13T20:30:00",
          "2024-03-14T20:30:00",
          "2024-03-15T20:30:00",
          "2024-03-18T20:30:00",
          "2024-03-19T20:30:00",
          "2024-03-20T20:30:00",
          "2024-03-21T20:30:00",
          "2024-03-22T20:30:00",
          "2024-03-25T20:30:00",
          "2024-03-26T20:30:00",
          "2024-03-27T20:30:00",
          "2024-03-28T20:30:00",
          "2024-04-01T20:30:00",
          "2024-04-02T20:30:00",
          "2024-04-03T20:30:00",
          "2024-04-04T20:30:00",
          "2024-04-05T20:30:00",
          "2024-04-08T20:30:00",
          "2024-04-09T20:30:00",
          "2024-04-10T20:30:00",
          "2024-04-11T20:30:00",
          "2024-04-12T20:30:00",
          "2024-04-15T20:30:00",
          "2024-04-16T20:30:00",
          "2024-04-17T20:30:00",
          "2024-04-18T20:30:00",
          "2024-04-19T20:30:00",
          "2024-04-22T20:30:00",
          "2024-04-23T20:30:00",
          "2024-04-24T20:30:00",
          "2024-04-25T20:30:00",
          "2024-04-26T20:30:00",
          "2024-04-29T20:30:00",
          "2024-04-30T20:30:00",
          "2024-05-01T20:30:00",
          "2024-05-02T20:30:00",
          "2024-05-03T20:30:00",
          "2024-05-06T20:30:00",
          "2024-05-07T20:30:00",
          "2024-05-08T20:30:00",
          "2024-05-09T20:30:00",
          "2024-05-10T20:30:00",
          "2024-05-13T20:30:00",
          "2024-05-14T20:30:00",
          "2024-05-15T20:30:00",
          "2024-05-16T20:30:00",
          "2024-05-17T20:30:00",
          "2024-05-20T20:30:00",
          "2024-05-21T20:30:00",
          "2024-05-22T20:30:00",
          "2024-05-23T20:30:00",
          "2024-05-24T20:30:00",
          "2024-05-28T20:30:00",
          "2024-05-29T20:30:00",
          "2024-05-30T20:30:00",
          "2024-05-31T20:30:00",
          "2024-06-03T20:30:00",
          "2024-06-04T20:30:00",
          "2024-06-05T20:30:00",
          "2024-06-06T20:30:00",
          "2024-06-07T20:30:00",
          "2024-06-10T20:30:00",
          "2024-06-11T20:30:00",
          "2024-06-12T20:30:00",
          "2024-06-13T20:30:00",
          "2024-06-14T20:30:00",
          "2024-06-17T20:30:00",
          "2024-06-18T20:30:00",
          "2024-06-20T20:30:00",
          "2024-06-21T20:30:00",
          "2024-06-24T20:30:00",
          "2024-06-25T20:30:00",
          "2024-06-26T20:30:00",
          "2024-06-27T20:30:00",
          "2024-06-28T20:30:00",
          "2024-07-01T20:30:00",
          "2024-07-02T20:30:00",
          "2024-07-03T20:30:00",
          "2024-07-05T20:30:00",
          "2024-07-08T20:30:00",
          "2024-07-09T20:30:00",
          "2024-07-10T20:30:00",
          "2024-07-11T20:30:00",
          "2024-07-12T20:30:00",
          "2024-07-15T20:30:00",
          "2024-07-16T20:30:00",
          "2024-07-17T20:30:00",
          "2024-07-18T20:30:00",
          "2024-07-19T20:30:00",
          "2024-07-22T20:30:00",
          "2024-07-23T20:30:00",
          "2024-07-24T20:30:00",
          "2024-07-25T20:30:00",
          "2024-07-26T20:30:00",
          "2024-07-29T20:30:00",
          "2024-07-30T20:30:00",
          "2024-07-31T20:30:00",
          "2024-08-01T20:30:00",
          "2024-08-02T20:30:00",
          "2024-08-05T20:30:00",
          "2024-08-06T20:30:00",
          "2024-08-07T20:30:00",
          "2024-08-08T20:30:00",
          "2024-08-09T20:30:00",
          "2024-08-12T20:30:00",
          "2024-08-13T20:30:00",
          "2024-08-14T20:30:00",
          "2024-08-15T20:30:00",
          "2024-08-16T20:30:00",
          "2024-08-19T20:30:00",
          "2024-08-20T20:30:00",
          "2024-08-21T20:30:00",
          "2024-08-22T20:30:00",
          "2024-08-23T20:30:00",
          "2024-08-26T20:30:00",
          "2024-08-27T20:30:00",
          "2024-08-28T20:30:00",
          "2024-08-29T20:30:00",
          "2024-08-30T20:30:00",
          "2024-09-03T20:30:00",
          "2024-09-04T20:30:00",
          "2024-09-05T20:30:00",
          "2024-09-06T20:30:00",
          "2024-09-09T20:30:00",
          "2024-09-10T20:30:00",
          "2024-09-11T20:30:00",
          "2024-09-12T20:30:00"
         ]
        },
        {
         "line": {
          "color": "rgba(255, 165, 0, 0.2)"
         },
         "mode": "lines",
         "type": "scatter",
         "x": [
          "2024-01-02T21:30:00",
          "2024-01-19T21:30:00"
         ],
         "y": [
          37790.078125,
          37790.078125
         ]
        },
        {
         "mode": "text",
         "text": "BOS",
         "textfont": {
          "color": "rgba(255, 165, 0, 0.4)",
          "size": 8
         },
         "textposition": "top center",
         "type": "scatter",
         "x": [
          "2024-01-10T21:30:00"
         ],
         "y": [
          37790.078125
         ]
        },
        {
         "line": {
          "color": "rgba(255, 165, 0, 0.2)"
         },
         "mode": "lines",
         "type": "scatter",
         "x": [
          "2024-02-12T21:30:00",
          "2024-02-22T21:30:00"
         ],
         "y": [
          38927.078125,
          38927.078125
         ]
        },
        {
         "mode": "text",
         "text": "BOS",
         "textfont": {
          "color": "rgba(255, 165, 0, 0.4)",
          "size": 8
         },
         "textposition": "top center",
         "type": "scatter",
         "x": [
          "2024-02-16T21:30:00"
         ],
         "y": [
          38927.078125
         ]
        },
        {
         "line": {
          "color": "rgba(255, 165, 0, 0.2)"
         },
         "mode": "lines",
         "type": "scatter",
         "x": [
          "2024-02-23T21:30:00",
          "2024-03-20T20:30:00"
         ],
         "y": [
          39282.28125,
          39282.28125
         ]
        },
        {
         "mode": "text",
         "text": "BOS",
         "textfont": {
          "color": "rgba(255, 165, 0, 0.4)",
          "size": 8
         },
         "textposition": "top center",
         "type": "scatter",
         "x": [
          "2024-03-07T21:30:00"
         ],
         "y": [
          39282.28125
         ]
        },
        {
         "line": {
          "color": "rgba(255, 255, 255, 0.2)"
         },
         "mode": "lines",
         "type": "scatter",
         "x": [
          "2024-03-05T21:30:00",
          "2024-04-12T20:30:00"
         ],
         "y": [
          38457.828125,
          38457.828125
         ]
        },
        {
         "mode": "text",
         "text": "CHOCH",
         "textfont": {
          "color": "rgba(255, 255, 255, 0.4)",
          "size": 8
         },
         "textposition": "bottom center",
         "type": "scatter",
         "x": [
          "2024-03-22T20:30:00"
         ],
         "y": [
          38457.828125
         ]
        },
        {
         "line": {
          "color": "rgba(255, 165, 0, 0.2)"
         },
         "mode": "lines",
         "type": "scatter",
         "x": [
          "2024-04-23T20:30:00",
          "2024-05-03T20:30:00"
         ],
         "y": [
          38561.5,
          38561.5
         ]
        },
        {
         "mode": "text",
         "text": "BOS",
         "textfont": {
          "color": "rgba(255, 165, 0, 0.4)",
          "size": 8
         },
         "textposition": "top center",
         "type": "scatter",
         "x": [
          "2024-04-29T20:30:00"
         ],
         "y": [
          38561.5
         ]
        },
        {
         "line": {
          "color": "rgba(255, 165, 0, 0.2)"
         },
         "mode": "lines",
         "type": "scatter",
         "x": [
          "2024-05-20T20:30:00",
          "2024-07-15T20:30:00"
         ],
         "y": [
          40077.3984375,
          40077.3984375
         ]
        },
        {
         "mode": "text",
         "text": "BOS",
         "textfont": {
          "color": "rgba(255, 165, 0, 0.4)",
          "size": 8
         },
         "textposition": "top center",
         "type": "scatter",
         "x": [
          "2024-06-14T20:30:00"
         ],
         "y": [
          40077.3984375
         ]
        },
        {
         "line": {
          "color": "rgba(255, 165, 0, 0.2)"
         },
         "mode": "lines",
         "type": "scatter",
         "x": [
          "2024-07-24T20:30:00",
          "2024-08-02T20:30:00"
         ],
         "y": [
          39807.44921875,
          39807.44921875
         ]
        },
        {
         "mode": "text",
         "text": "BOS",
         "textfont": {
          "color": "rgba(255, 165, 0, 0.4)",
          "size": 8
         },
         "textposition": "bottom center",
         "type": "scatter",
         "x": [
          "2024-07-30T20:30:00"
         ],
         "y": [
          39807.44921875
         ]
        },
        {
         "line": {
          "color": "rgba(255, 255, 255, 0.2)"
         },
         "mode": "lines",
         "type": "scatter",
         "x": [
          "2024-07-31T20:30:00",
          "2024-08-26T20:30:00"
         ],
         "y": [
          41198.62890625,
          41198.62890625
         ]
        },
        {
         "mode": "text",
         "text": "CHOCH",
         "textfont": {
          "color": "rgba(255, 255, 255, 0.4)",
          "size": 8
         },
         "textposition": "top center",
         "type": "scatter",
         "x": [
          "2024-08-13T20:30:00"
         ],
         "y": [
          41198.62890625
         ]
        }
       ],
       "layout": {
        "annotations": [
         {
          "align": "center",
          "font": {
           "color": "rgba(250, 250, 250, 1)",
           "size": 8
          },
          "showarrow": false,
          "text": "OB: 0.00 (100.0%)",
          "x": "2024-05-15T20:30:00",
          "xref": "x",
          "y": 37322.6171875,
          "yref": "y"
         },
         {
          "align": "center",
          "font": {
           "color": "rgba(250, 250, 250, 1)",
           "size": 8
          },
          "showarrow": false,
          "text": "OB: 0.00 (100.0%)",
          "x": "2024-07-05T20:30:00",
          "xref": "x",
          "y": 37955.796875,
          "yref": "y"
         },
         {
          "align": "center",
          "font": {
           "color": "rgba(250, 250, 250, 1)",
           "size": 8
          },
          "showarrow": false,
          "text": "OB: 0.00 (100.0%)",
          "x": "2024-07-23T20:30:00",
          "xref": "x",
          "y": 38247.28125,
          "yref": "y"
         },
         {
          "align": "center",
          "font": {
           "color": "rgba(250, 250, 250, 1)",
           "size": 8
          },
          "showarrow": false,
          "text": "OB: 0.00 (100.0%)",
          "x": "2024-08-23T20:30:00",
          "xref": "x",
          "y": 38777.73046875,
          "yref": "y"
         }
        ],
        "font": {
         "color": "white"
        },
        "height": 400,
        "margin": {
         "b": 0,
         "l": 0,
         "pad": 50,
         "r": 50,
         "t": 0
        },
        "paper_bgcolor": "rgba(34, 42, 58, 0.8)",
        "plot_bgcolor": "rgba(34, 42, 58, 0.8)",
        "shapes": [
         {
          "fillcolor": "Purple",
          "legendgroup": "bullish ob",
          "line": {
           "color": "Purple"
          },
          "name": "Bullish OB",
          "opacity": 0.2,
          "showlegend": true,
          "type": "rect",
          "x0": "2024-01-18T21:30:00",
          "x1": "2024-09-12T20:30:00",
          "y0": 37122.94921875,
          "y1": 37522.2890625
         },
         {
          "fillcolor": "Purple",
          "legendgroup": "bullish ob",
          "line": {
           "color": "Purple"
          },
          "name": "Bullish OB",
          "opacity": 0.2,
          "showlegend": true,
          "type": "rect",
          "x0": "2024-04-25T20:30:00",
          "x1": "2024-09-12T20:30:00",
          "y0": 37754.37890625,
          "y1": 38157.21875
         },
         {
          "fillcolor": "Purple",
          "legendgroup": "bullish ob",
          "line": {
           "color": "Purple"
          },
          "name": "Bullish OB",
          "opacity": 0.2,
          "showlegend": true,
          "type": "rect",
          "x0": "2024-05-30T20:30:00",
          "x1": "2024-09-12T20:30:00",
          "y0": 38000.9609375,
          "y1": 38493.6015625
         },
         {
          "fillcolor": "Purple",
          "legendgroup": "bullish ob",
          "line": {
           "color": "Purple"
          },
          "name": "Bullish OB",
          "opacity": 0.2,
          "showlegend": true,
          "type": "rect",
          "x0": "2024-08-05T20:30:00",
          "x1": "2024-09-12T20:30:00",
          "y0": 38499.26953125,
          "y1": 39056.19140625
         }
        ],
        "showlegend": false,
        "template": {
         "data": {
          "bar": [
           {
            "error_x": {
             "color": "#2a3f5f"
            },
            "error_y": {
             "color": "#2a3f5f"
            },
            "marker": {
             "line": {
              "color": "#E5ECF6",
              "width": 0.5
             },
             "pattern": {
              "fillmode": "overlay",
              "size": 10,
              "solidity": 0.2
             }
            },
            "type": "bar"
           }
          ],
          "barpolar": [
           {
            "marker": {
             "line": {
              "color": "#E5ECF6",
              "width": 0.5
             },
             "pattern": {
              "fillmode": "overlay",
              "size": 10,
              "solidity": 0.2
             }
            },
            "type": "barpolar"
           }
          ],
          "carpet": [
           {
            "aaxis": {
             "endlinecolor": "#2a3f5f",
             "gridcolor": "white",
             "linecolor": "white",
             "minorgridcolor": "white",
             "startlinecolor": "#2a3f5f"
            },
            "baxis": {
             "endlinecolor": "#2a3f5f",
             "gridcolor": "white",
             "linecolor": "white",
             "minorgridcolor": "white",
             "startlinecolor": "#2a3f5f"
            },
            "type": "carpet"
           }
          ],
          "choropleth": [
           {
            "colorbar": {
             "outlinewidth": 0,
             "ticks": ""
            },
            "type": "choropleth"
           }
          ],
          "contour": [
           {
            "colorbar": {
             "outlinewidth": 0,
             "ticks": ""
            },
            "colorscale": [
             [
              0,
              "#0d0887"
             ],
             [
              0.1111111111111111,
              "#46039f"
             ],
             [
              0.2222222222222222,
              "#7201a8"
             ],
             [
              0.3333333333333333,
              "#9c179e"
             ],
             [
              0.4444444444444444,
              "#bd3786"
             ],
             [
              0.5555555555555556,
              "#d8576b"
             ],
             [
              0.6666666666666666,
              "#ed7953"
             ],
             [
              0.7777777777777778,
              "#fb9f3a"
             ],
             [
              0.8888888888888888,
              "#fdca26"
             ],
             [
              1,
              "#f0f921"
             ]
            ],
            "type": "contour"
           }
          ],
          "contourcarpet": [
           {
            "colorbar": {
             "outlinewidth": 0,
             "ticks": ""
            },
            "type": "contourcarpet"
           }
          ],
          "heatmap": [
           {
            "colorbar": {
             "outlinewidth": 0,
             "ticks": ""
            },
            "colorscale": [
             [
              0,
              "#0d0887"
             ],
             [
              0.1111111111111111,
              "#46039f"
             ],
             [
              0.2222222222222222,
              "#7201a8"
             ],
             [
              0.3333333333333333,
              "#9c179e"
             ],
             [
              0.4444444444444444,
              "#bd3786"
             ],
             [
              0.5555555555555556,
              "#d8576b"
             ],
             [
              0.6666666666666666,
              "#ed7953"
             ],
             [
              0.7777777777777778,
              "#fb9f3a"
             ],
             [
              0.8888888888888888,
              "#fdca26"
             ],
             [
              1,
              "#f0f921"
             ]
            ],
            "type": "heatmap"
           }
          ],
          "heatmapgl": [
           {
            "colorbar": {
             "outlinewidth": 0,
             "ticks": ""
            },
            "colorscale": [
             [
              0,
              "#0d0887"
             ],
             [
              0.1111111111111111,
              "#46039f"
             ],
             [
              0.2222222222222222,
              "#7201a8"
             ],
             [
              0.3333333333333333,
              "#9c179e"
             ],
             [
              0.4444444444444444,
              "#bd3786"
             ],
             [
              0.5555555555555556,
              "#d8576b"
             ],
             [
              0.6666666666666666,
              "#ed7953"
             ],
             [
              0.7777777777777778,
              "#fb9f3a"
             ],
             [
              0.8888888888888888,
              "#fdca26"
             ],
             [
              1,
              "#f0f921"
             ]
            ],
            "type": "heatmapgl"
           }
          ],
          "histogram": [
           {
            "marker": {
             "pattern": {
              "fillmode": "overlay",
              "size": 10,
              "solidity": 0.2
             }
            },
            "type": "histogram"
           }
          ],
          "histogram2d": [
           {
            "colorbar": {
             "outlinewidth": 0,
             "ticks": ""
            },
            "colorscale": [
             [
              0,
              "#0d0887"
             ],
             [
              0.1111111111111111,
              "#46039f"
             ],
             [
              0.2222222222222222,
              "#7201a8"
             ],
             [
              0.3333333333333333,
              "#9c179e"
             ],
             [
              0.4444444444444444,
              "#bd3786"
             ],
             [
              0.5555555555555556,
              "#d8576b"
             ],
             [
              0.6666666666666666,
              "#ed7953"
             ],
             [
              0.7777777777777778,
              "#fb9f3a"
             ],
             [
              0.8888888888888888,
              "#fdca26"
             ],
             [
              1,
              "#f0f921"
             ]
            ],
            "type": "histogram2d"
           }
          ],
          "histogram2dcontour": [
           {
            "colorbar": {
             "outlinewidth": 0,
             "ticks": ""
            },
            "colorscale": [
             [
              0,
              "#0d0887"
             ],
             [
              0.1111111111111111,
              "#46039f"
             ],
             [
              0.2222222222222222,
              "#7201a8"
             ],
             [
              0.3333333333333333,
              "#9c179e"
             ],
             [
              0.4444444444444444,
              "#bd3786"
             ],
             [
              0.5555555555555556,
              "#d8576b"
             ],
             [
              0.6666666666666666,
              "#ed7953"
             ],
             [
              0.7777777777777778,
              "#fb9f3a"
             ],
             [
              0.8888888888888888,
              "#fdca26"
             ],
             [
              1,
              "#f0f921"
             ]
            ],
            "type": "histogram2dcontour"
           }
          ],
          "mesh3d": [
           {
            "colorbar": {
             "outlinewidth": 0,
             "ticks": ""
            },
            "type": "mesh3d"
           }
          ],
          "parcoords": [
           {
            "line": {
             "colorbar": {
              "outlinewidth": 0,
              "ticks": ""
             }
            },
            "type": "parcoords"
           }
          ],
          "pie": [
           {
            "automargin": true,
            "type": "pie"
           }
          ],
          "scatter": [
           {
            "fillpattern": {
             "fillmode": "overlay",
             "size": 10,
             "solidity": 0.2
            },
            "type": "scatter"
           }
          ],
          "scatter3d": [
           {
            "line": {
             "colorbar": {
              "outlinewidth": 0,
              "ticks": ""
             }
            },
            "marker": {
             "colorbar": {
              "outlinewidth": 0,
              "ticks": ""
             }
            },
            "type": "scatter3d"
           }
          ],
          "scattercarpet": [
           {
            "marker": {
             "colorbar": {
              "outlinewidth": 0,
              "ticks": ""
             }
            },
            "type": "scattercarpet"
           }
          ],
          "scattergeo": [
           {
            "marker": {
             "colorbar": {
              "outlinewidth": 0,
              "ticks": ""
             }
            },
            "type": "scattergeo"
           }
          ],
          "scattergl": [
           {
            "marker": {
             "colorbar": {
              "outlinewidth": 0,
              "ticks": ""
             }
            },
            "type": "scattergl"
           }
          ],
          "scattermapbox": [
           {
            "marker": {
             "colorbar": {
              "outlinewidth": 0,
              "ticks": ""
             }
            },
            "type": "scattermapbox"
           }
          ],
          "scatterpolar": [
           {
            "marker": {
             "colorbar": {
              "outlinewidth": 0,
              "ticks": ""
             }
            },
            "type": "scatterpolar"
           }
          ],
          "scatterpolargl": [
           {
            "marker": {
             "colorbar": {
              "outlinewidth": 0,
              "ticks": ""
             }
            },
            "type": "scatterpolargl"
           }
          ],
          "scatterternary": [
           {
            "marker": {
             "colorbar": {
              "outlinewidth": 0,
              "ticks": ""
             }
            },
            "type": "scatterternary"
           }
          ],
          "surface": [
           {
            "colorbar": {
             "outlinewidth": 0,
             "ticks": ""
            },
            "colorscale": [
             [
              0,
              "#0d0887"
             ],
             [
              0.1111111111111111,
              "#46039f"
             ],
             [
              0.2222222222222222,
              "#7201a8"
             ],
             [
              0.3333333333333333,
              "#9c179e"
             ],
             [
              0.4444444444444444,
              "#bd3786"
             ],
             [
              0.5555555555555556,
              "#d8576b"
             ],
             [
              0.6666666666666666,
              "#ed7953"
             ],
             [
              0.7777777777777778,
              "#fb9f3a"
             ],
             [
              0.8888888888888888,
              "#fdca26"
             ],
             [
              1,
              "#f0f921"
             ]
            ],
            "type": "surface"
           }
          ],
          "table": [
           {
            "cells": {
             "fill": {
              "color": "#EBF0F8"
             },
             "line": {
              "color": "white"
             }
            },
            "header": {
             "fill": {
              "color": "#C8D4E3"
             },
             "line": {
              "color": "white"
             }
            },
            "type": "table"
           }
          ]
         },
         "layout": {
          "annotationdefaults": {
           "arrowcolor": "#2a3f5f",
           "arrowhead": 0,
           "arrowwidth": 1
          },
          "autotypenumbers": "strict",
          "coloraxis": {
           "colorbar": {
            "outlinewidth": 0,
            "ticks": ""
           }
          },
          "colorscale": {
           "diverging": [
            [
             0,
             "#8e0152"
            ],
            [
             0.1,
             "#c51b7d"
            ],
            [
             0.2,
             "#de77ae"
            ],
            [
             0.3,
             "#f1b6da"
            ],
            [
             0.4,
             "#fde0ef"
            ],
            [
             0.5,
             "#f7f7f7"
            ],
            [
             0.6,
             "#e6f5d0"
            ],
            [
             0.7,
             "#b8e186"
            ],
            [
             0.8,
             "#7fbc41"
            ],
            [
             0.9,
             "#4d9221"
            ],
            [
             1,
             "#276419"
            ]
           ],
           "sequential": [
            [
             0,
             "#0d0887"
            ],
            [
             0.1111111111111111,
             "#46039f"
            ],
            [
             0.2222222222222222,
             "#7201a8"
            ],
            [
             0.3333333333333333,
             "#9c179e"
            ],
            [
             0.4444444444444444,
             "#bd3786"
            ],
            [
             0.5555555555555556,
             "#d8576b"
            ],
            [
             0.6666666666666666,
             "#ed7953"
            ],
            [
             0.7777777777777778,
             "#fb9f3a"
            ],
            [
             0.8888888888888888,
             "#fdca26"
            ],
            [
             1,
             "#f0f921"
            ]
           ],
           "sequentialminus": [
            [
             0,
             "#0d0887"
            ],
            [
             0.1111111111111111,
             "#46039f"
            ],
            [
             0.2222222222222222,
             "#7201a8"
            ],
            [
             0.3333333333333333,
             "#9c179e"
            ],
            [
             0.4444444444444444,
             "#bd3786"
            ],
            [
             0.5555555555555556,
             "#d8576b"
            ],
            [
             0.6666666666666666,
             "#ed7953"
            ],
            [
             0.7777777777777778,
             "#fb9f3a"
            ],
            [
             0.8888888888888888,
             "#fdca26"
            ],
            [
             1,
             "#f0f921"
            ]
           ]
          },
          "colorway": [
           "#636efa",
           "#EF553B",
           "#00cc96",
           "#ab63fa",
           "#FFA15A",
           "#19d3f3",
           "#FF6692",
           "#B6E880",
           "#FF97FF",
           "#FECB52"
          ],
          "font": {
           "color": "#2a3f5f"
          },
          "geo": {
           "bgcolor": "white",
           "lakecolor": "white",
           "landcolor": "#E5ECF6",
           "showlakes": true,
           "showland": true,
           "subunitcolor": "white"
          },
          "hoverlabel": {
           "align": "left"
          },
          "hovermode": "closest",
          "mapbox": {
           "style": "light"
          },
          "paper_bgcolor": "white",
          "plot_bgcolor": "#E5ECF6",
          "polar": {
           "angularaxis": {
            "gridcolor": "white",
            "linecolor": "white",
            "ticks": ""
           },
           "bgcolor": "#E5ECF6",
           "radialaxis": {
            "gridcolor": "white",
            "linecolor": "white",
            "ticks": ""
           }
          },
          "scene": {
           "xaxis": {
            "backgroundcolor": "#E5ECF6",
            "gridcolor": "white",
            "gridwidth": 2,
            "linecolor": "white",
            "showbackground": true,
            "ticks": "",
            "zerolinecolor": "white"
           },
           "yaxis": {
            "backgroundcolor": "#E5ECF6",
            "gridcolor": "white",
            "gridwidth": 2,
            "linecolor": "white",
            "showbackground": true,
            "ticks": "",
            "zerolinecolor": "white"
           },
           "zaxis": {
            "backgroundcolor": "#E5ECF6",
            "gridcolor": "white",
            "gridwidth": 2,
            "linecolor": "white",
            "showbackground": true,
            "ticks": "",
            "zerolinecolor": "white"
           }
          },
          "shapedefaults": {
           "line": {
            "color": "#2a3f5f"
           }
          },
          "ternary": {
           "aaxis": {
            "gridcolor": "white",
            "linecolor": "white",
            "ticks": ""
           },
           "baxis": {
            "gridcolor": "white",
            "linecolor": "white",
            "ticks": ""
           },
           "bgcolor": "#E5ECF6",
           "caxis": {
            "gridcolor": "white",
            "linecolor": "white",
            "ticks": ""
           }
          },
          "title": {
           "x": 0.05
          },
          "xaxis": {
           "automargin": true,
           "gridcolor": "white",
           "linecolor": "white",
           "ticks": "",
           "title": {
            "standoff": 15
           },
           "zerolinecolor": "white",
           "zerolinewidth": 2
          },
          "yaxis": {
           "automargin": true,
           "gridcolor": "white",
           "linecolor": "white",
           "ticks": "",
           "title": {
            "standoff": 15
           },
           "zerolinecolor": "white",
           "zerolinewidth": 2
          }
         }
        },
        "width": 800,
        "xaxis": {
         "rangebreaks": [
          {
           "dvalue": 60000,
           "values": [
            "2023-12-02T21:30:00",
            "2023-12-03T21:30:00",
            "2023-12-09T21:30:00",
            "2023-12-10T21:30:00",
            "2023-12-16T21:30:00",
            "2023-12-17T21:30:00",
            "2023-12-23T21:30:00",
            "2023-12-24T21:30:00",
            "2023-12-25T21:30:00",
            "2023-12-30T21:30:00",
            "2023-12-31T21:30:00",
            "2024-01-01T21:30:00",
            "2024-01-06T21:30:00",
            "2024-01-07T21:30:00",
            "2024-01-13T21:30:00",
            "2024-01-14T21:30:00",
            "2024-01-15T21:30:00",
            "2024-01-20T21:30:00",
            "2024-01-21T21:30:00",
            "2024-01-27T21:30:00",
            "2024-01-28T21:30:00",
            "2024-02-03T21:30:00",
            "2024-02-04T21:30:00",
            "2024-02-10T21:30:00",
            "2024-02-11T21:30:00",
            "2024-02-17T21:30:00",
            "2024-02-18T21:30:00",
            "2024-02-19T21:30:00",
            "2024-02-24T21:30:00",
            "2024-02-25T21:30:00",
            "2024-03-02T21:30:00",
            "2024-03-03T21:30:00",
            "2024-03-09T21:30:00",
            "2024-03-10T21:30:00",
            "2024-03-11T21:30:00",
            "2024-03-12T21:30:00",
            "2024-03-13T21:30:00",
            "2024-03-14T21:30:00",
            "2024-03-15T21:30:00",
            "2024-03-16T21:30:00",
            "2024-03-17T21:30:00",
            "2024-03-18T21:30:00",
            "2024-03-19T21:30:00",
            "2024-03-20T21:30:00",
            "2024-03-21T21:30:00",
            "2024-03-22T21:30:00",
            "2024-03-23T21:30:00",
            "2024-03-24T21:30:00",
            "2024-03-25T21:30:00",
            "2024-03-26T21:30:00",
            "2024-03-27T21:30:00",
            "2024-03-28T21:30:00",
            "2024-03-29T21:30:00",
            "2024-03-30T21:30:00",
            "2024-03-31T21:30:00",
            "2024-04-01T21:30:00",
            "2024-04-02T21:30:00",
            "2024-04-03T21:30:00",
            "2024-04-04T21:30:00",
            "2024-04-05T21:30:00",
            "2024-04-06T21:30:00",
            "2024-04-07T21:30:00",
            "2024-04-08T21:30:00",
            "2024-04-09T21:30:00",
            "2024-04-10T21:30:00",
            "2024-04-11T21:30:00",
            "2024-04-12T21:30:00",
            "2024-04-13T21:30:00",
            "2024-04-14T21:30:00",
            "2024-04-15T21:30:00",
            "2024-04-16T21:30:00",
            "2024-04-17T21:30:00",
            "2024-04-18T21:30:00",
            "2024-04-19T21:30:00",
            "2024-04-20T21:30:00",
            "2024-04-21T21:30:00",
            "2024-04-22T21:30:00",
            "2024-04-23T21:30:00",
            "2024-04-24T21:30:00",
            "2024-04-25T21:30:00",
            "2024-04-26T21:30:00",
            "2024-04-27T21:30:00",
            "2024-04-28T21:30:00",
            "2024-04-29T21:30:00",
            "2024-04-30T21:30:00",
            "2024-05-01T21:30:00",
            "2024-05-02T21:30:00",
            "2024-05-03T21:30:00",
            "2024-05-04T21:30:00",
            "2024-05-05T21:30:00",
            "2024-05-06T21:30:00",
            "2024-05-07T21:30:00",
            "2024-05-08T21:30:00",
            "2024-05-09T21:30:00",
            "2024-05-10T21:30:00",
            "2024-05-11T21:30:00",
            "2024-05-12T21:30:00",
            "2024-05-13T21:30:00",
            "2024-05-14T21:30:00",
            "2024-05-15T21:30:00",
            "2024-05-16T21:30:00",
            "2024-05-17T21:30:00",
            "2024-05-18T21:30:00",
            "2024-05-19T21:30:00",
            "2024-05-20T21:30:00",
            "2024-05-21T21:30:00",
            "2024-05-22T21:30:00",
            "2024-05-23T21:30:00",
            "2024-05-24T21:30:00",
            "2024-05-25T21:30:00",
            "2024-05-26T21:30:00",
            "2024-05-27T21:30:00",
            "2024-05-28T21:30:00",
            "2024-05-29T21:30:00",
            "2024-05-30T21:30:00",
            "2024-05-31T21:30:00",
            "2024-06-01T21:30:00",
            "2024-06-02T21:30:00",
            "2024-06-03T21:30:00",
            "2024-06-04T21:30:00",
            "2024-06-05T21:30:00",
            "2024-06-06T21:30:00",
            "2024-06-07T21:30:00",
            "2024-06-08T21:30:00",
            "2024-06-09T21:30:00",
            "2024-06-10T21:30:00",
            "2024-06-11T21:30:00",
            "2024-06-12T21:30:00",
            "2024-06-13T21:30:00",
            "2024-06-14T21:30:00",
            "2024-06-15T21:30:00",
            "2024-06-16T21:30:00",
            "2024-06-17T21:30:00",
            "2024-06-18T21:30:00",
            "2024-06-19T21:30:00",
            "2024-06-20T21:30:00",
            "2024-06-21T21:30:00",
            "2024-06-22T21:30:00",
            "2024-06-23T21:30:00",
            "2024-06-24T21:30:00",
            "2024-06-25T21:30:00",
            "2024-06-26T21:30:00",
            "2024-06-27T21:30:00",
            "2024-06-28T21:30:00",
            "2024-06-29T21:30:00",
            "2024-06-30T21:30:00",
            "2024-07-01T21:30:00",
            "2024-07-02T21:30:00",
            "2024-07-03T21:30:00",
            "2024-07-04T21:30:00",
            "2024-07-05T21:30:00",
            "2024-07-06T21:30:00",
            "2024-07-07T21:30:00",
            "2024-07-08T21:30:00",
            "2024-07-09T21:30:00",
            "2024-07-10T21:30:00",
            "2024-07-11T21:30:00",
            "2024-07-12T21:30:00",
            "2024-07-13T21:30:00",
            "2024-07-14T21:30:00",
            "2024-07-15T21:30:00",
            "2024-07-16T21:30:00",
            "2024-07-17T21:30:00",
            "2024-07-18T21:30:00",
            "2024-07-19T21:30:00",
            "2024-07-20T21:30:00",
            "2024-07-21T21:30:00",
            "2024-07-22T21:30:00",
            "2024-07-23T21:30:00",
            "2024-07-24T21:30:00",
            "2024-07-25T21:30:00",
            "2024-07-26T21:30:00",
            "2024-07-27T21:30:00",
            "2024-07-28T21:30:00",
            "2024-07-29T21:30:00",
            "2024-07-30T21:30:00",
            "2024-07-31T21:30:00",
            "2024-08-01T21:30:00",
            "2024-08-02T21:30:00",
            "2024-08-03T21:30:00",
            "2024-08-04T21:30:00",
            "2024-08-05T21:30:00",
            "2024-08-06T21:30:00",
            "2024-08-07T21:30:00",
            "2024-08-08T21:30:00",
            "2024-08-09T21:30:00",
            "2024-08-10T21:30:00",
            "2024-08-11T21:30:00",
            "2024-08-12T21:30:00",
            "2024-08-13T21:30:00",
            "2024-08-14T21:30:00",
            "2024-08-15T21:30:00",
            "2024-08-16T21:30:00",
            "2024-08-17T21:30:00",
            "2024-08-18T21:30:00",
            "2024-08-19T21:30:00",
            "2024-08-20T21:30:00",
            "2024-08-21T21:30:00",
            "2024-08-22T21:30:00",
            "2024-08-23T21:30:00",
            "2024-08-24T21:30:00",
            "2024-08-25T21:30:00",
            "2024-08-26T21:30:00",
            "2024-08-27T21:30:00",
            "2024-08-28T21:30:00",
            "2024-08-29T21:30:00",
            "2024-08-30T21:30:00",
            "2024-08-31T21:30:00",
            "2024-09-01T21:30:00",
            "2024-09-02T21:30:00",
            "2024-09-03T21:30:00",
            "2024-09-04T21:30:00",
            "2024-09-05T21:30:00",
            "2024-09-06T21:30:00",
            "2024-09-07T21:30:00",
            "2024-09-08T21:30:00",
            "2024-09-09T21:30:00",
            "2024-09-10T21:30:00",
            "2024-09-11T21:30:00"
           ]
          }
         ],
         "rangeslider": {
          "visible": false
         },
         "showgrid": false,
         "showline": false,
         "showticklabels": false,
         "visible": true,
         "zeroline": false
        },
        "yaxis": {
         "showticklabels": false,
         "visible": false
        }
       }
      }
     },
     "metadata": {},
     "output_type": "display_data"
    }
   ],
   "source": [
    "fig = create_smc_plot(df_1d, rangebreak_1d, dvalue=1)\n",
    "fig.show()"
   ]
  },
  {
   "cell_type": "code",
   "execution_count": 8,
   "metadata": {},
   "outputs": [
    {
     "data": {
      "application/vnd.plotly.v1+json": {
       "config": {
        "plotlyServerURL": "https://plot.ly"
       },
       "data": [
        {
         "close": [
          37970.61,
          37988.29,
          38297.39,
          38247.53,
          38514.93,
          38497.8,
          38433.66,
          38466.2,
          38020.17,
          38087.94,
          38301.01,
          38238.66,
          38363.52,
          38391.5,
          37994.27,
          37823.56,
          37938.21,
          37894.47,
          38161.92,
          38234.37,
          38677.46,
          38677.31,
          38777.96,
          38853.05,
          38937.69,
          38878.28,
          38953.7,
          39056.7,
          39303.54,
          39394.44,
          39465.61,
          39510.04,
          39450.6,
          39435.58,
          39390.69,
          39551.46,
          39856.36,
          39915.88,
          39939.74,
          39879.15,
          39941.31,
          40007.2,
          39918.93,
          39816.35,
          39813.19,
          39879.91,
          39812.78,
          39669.58,
          39284.39,
          39066.89,
          39146.8,
          39069.02,
          38828.9,
          38853.45,
          38509.88,
          38446.87,
          38180.18,
          38108.42,
          38292.07,
          38706.97,
          38352.55,
          38571.38,
          38638.63,
          38705.07,
          38744.42,
          38805.55,
          38849.97,
          38884.76,
          38977.39,
          38785.69,
          38769.66,
          38871.84,
          38600.19,
          38750.95,
          38794.11,
          38702.77,
          38583.87,
          38631.98,
          38556.76,
          38589.61,
          38694.44,
          38771.27,
          38779.71,
          38829.07,
          39008.83,
          39137.53,
          39132.17,
          39155.09,
          39417.93,
          39408.33,
          39112.92,
          39119.4,
          39146.28,
          39138.5,
          39244,
          39176.21,
          39154.43,
          39109.92,
          39184.33,
          39161.19,
          39158.55,
          39333.78,
          39308.01,
          39259.98,
          39370.92,
          39291.52,
          39334.57,
          39413.25,
          39295.8,
          39488.03,
          39719.04,
          39773.38,
          39757.78,
          40169.29,
          40013.76,
          40195.86,
          40208.12,
          40769.05,
          40956.3,
          41145.27,
          41196.12,
          40929.73,
          40659.99,
          40229.68,
          40293.62,
          40388.39,
          40429.91,
          40415.45,
          40354.92,
          40025.45,
          39862.45,
          40273.18,
          39937.11,
          40749.46,
          40601.34,
          40587.01,
          40542.55,
          40592.12,
          40743.98,
          41002.6,
          40843.51,
          40253.85,
          40322.82,
          39499.07,
          39721.25,
          38842.85,
          38690.68,
          39282.99,
          38999.29,
          39002.33,
          38775.59,
          39402.69,
          39445.84,
          39606.12,
          39496.36,
          39364.87,
          39360.53,
          39677.3,
          39770.78,
          40000.7,
          39994.37,
          40505.49,
          40568.54,
          40673.91,
          40655.08,
          40839.03,
          40891.87,
          40829.36,
          40830.65,
          40874.91,
          40890.54,
          40680.92,
          40731.72,
          41033.07,
          41175.55,
          41264.54,
          41249.66,
          41222.31,
          41254.78,
          41051.68,
          41091.31,
          41516.49,
          41340.22,
          41229.09,
          41573.98,
          41120.98,
          40939.59,
          40879.87,
          40968.38,
          40631.62,
          40752.93,
          40402.96,
          40353.68,
          40931.83,
          40828.33,
          40611.92,
          40746.94,
          40548.24,
          40838.38,
          40868.71
         ],
         "decreasing": {
          "line": {
           "color": "#ff6962"
          }
         },
         "high": [
          38044.98,
          38102.57,
          38299.27,
          38447.16,
          38517.31,
          38561.5,
          38525.46,
          38546.76,
          38035.18,
          38157.22,
          38321.64,
          38337.64,
          38394.3,
          38406.2,
          38337.4,
          38076.45,
          37962.65,
          38349.2,
          38161.92,
          38295.29,
          38808.52,
          38732.15,
          38886.47,
          38864.13,
          38977.61,
          38946.88,
          38983.17,
          39094.74,
          39303.89,
          39413.66,
          39579.88,
          39545.5,
          39647.39,
          39473.94,
          39546.42,
          39616.41,
          39864.9,
          39935.04,
          40051.05,
          39977.68,
          39951.3,
          40007.73,
          40077.4,
          39918.59,
          39890.66,
          39905.8,
          39890.91,
          39816.48,
          39694.95,
          39285.48,
          39220.31,
          39152.27,
          39028.99,
          38858.85,
          38716.28,
          38529.27,
          38493.6,
          38193.86,
          38301.51,
          38719.43,
          38735.61,
          38576,
          38680,
          38786.62,
          38807.32,
          38844.32,
          39004.16,
          38904.2,
          39105.23,
          38982.93,
          38849.84,
          38877.86,
          38719.45,
          38760.78,
          39120.26,
          38858.87,
          38638.53,
          38712.21,
          38595.24,
          38589.61,
          38711.45,
          38839.88,
          38936.93,
          38846.11,
          39031.37,
          39232.5,
          39257.18,
          39195.19,
          39571.23,
          39477.64,
          39423.26,
          39165.75,
          39170.56,
          39183.74,
          39250.69,
          39245.61,
          39443.6,
          39155.27,
          39438.36,
          39197.71,
          39208.54,
          39340.49,
          39411.17,
          39346.82,
          39399.62,
          39654.96,
          39349.4,
          39492.28,
          39425.6,
          39528.67,
          39736.2,
          39875.6,
          39808.5,
          40169.29,
          40257.24,
          40351.1,
          40333.54,
          40851.48,
          40988.81,
          41211.12,
          41221.98,
          41376,
          40946.46,
          40611.23,
          40387.09,
          40472.53,
          40450.51,
          40527.89,
          40494.84,
          40258.44,
          40073.63,
          40438.82,
          40285.06,
          40753.83,
          40752.55,
          40682.49,
          40634.69,
          40780.42,
          40866.25,
          41053.15,
          41198.63,
          41096.66,
          40352.8,
          40016.48,
          39739.57,
          39029.04,
          38883.41,
          39289.69,
          39449.53,
          39477.96,
          39109.19,
          39404.27,
          39508.4,
          39606.12,
          39628.66,
          39587.06,
          39391.91,
          39732.03,
          39792.8,
          40051.82,
          40068.75,
          40542.66,
          40590.51,
          40712.67,
          40726.03,
          40907.32,
          40894.71,
          40888.64,
          40909.38,
          40974.4,
          40920.88,
          41026.64,
          40731.72,
          41207.92,
          41207.77,
          41420.05,
          41268.21,
          41260.79,
          41271.75,
          41351.11,
          41141.06,
          41577.97,
          41570.4,
          41498.98,
          41585.21,
          41428.94,
          41122.08,
          41172.59,
          41006.19,
          41084.78,
          40866.15,
          41009.39,
          40450.52,
          41000.24,
          40935.51,
          40916.5,
          40750.71,
          40638.75,
          40903.67,
          40984.29
         ],
         "increasing": {
          "line": {
           "color": "#77dd76"
          }
         },
         "low": [
          37781.61,
          37860.17,
          37985.07,
          38201.33,
          38297.72,
          38465.15,
          38310.55,
          38392.72,
          37754.38,
          37973.39,
          38065.05,
          38231.07,
          38282.16,
          38215.47,
          37952.85,
          37810.12,
          37780.54,
          37894.47,
          37895.66,
          38127.17,
          38518.28,
          38651.67,
          38689.38,
          38747.9,
          38858.94,
          38840.4,
          38814.99,
          38948.3,
          38988.85,
          39296.56,
          39406.26,
          39447.84,
          39403.05,
          39416.59,
          39371.92,
          39386.34,
          39615.1,
          39808.94,
          39879.84,
          39864.68,
          39861.01,
          39858.86,
          39908.22,
          39787.09,
          39778.73,
          39808.06,
          39766.83,
          39559.09,
          39245.01,
          39025.51,
          39042.62,
          39020.29,
          38815.54,
          38706.14,
          38413.67,
          38427.73,
          38000.96,
          38016.86,
          38092.27,
          38288.49,
          38247.22,
          38351.94,
          38397.82,
          38593.83,
          38548.77,
          38720.81,
          38740.34,
          38735.99,
          38751.85,
          38785.69,
          38665.45,
          38764.92,
          38446.24,
          38599.79,
          38769.46,
          38621.45,
          38407.7,
          38560.28,
          38305.85,
          38465.73,
          38431.95,
          38694.16,
          38727.67,
          38746.98,
          38778.46,
          38991.28,
          39061.67,
          39110.91,
          39184.49,
          39363.14,
          38997.23,
          39084.96,
          38908.99,
          39111.34,
          39049,
          39026.75,
          39092.28,
          38937.15,
          39037.94,
          39072.84,
          39089.29,
          39154.43,
          39230.86,
          39168.7,
          39260.06,
          39278.43,
          39289.7,
          39146.6,
          39248.1,
          39256.72,
          39467.62,
          39623.12,
          39721.15,
          39802.23,
          39981.48,
          40136.1,
          40136.83,
          40376.49,
          40758.54,
          40862.95,
          41111.24,
          40838.68,
          40597.5,
          40203.27,
          40203.59,
          40222.77,
          40348.4,
          40324.69,
          40319.7,
          39947.38,
          39807.45,
          39817.5,
          39937.11,
          40181.57,
          40517,
          40388.83,
          40523.99,
          40529.1,
          40584.32,
          40655.89,
          40814.6,
          40219.86,
          40098.57,
          39358.68,
          39419.69,
          38499.27,
          38571.23,
          38638.3,
          38981.88,
          38918.99,
          38731.51,
          38922.79,
          39325.03,
          39230.43,
          39392.57,
          39251.72,
          39269.87,
          39392.41,
          39616.63,
          39737.2,
          39963.38,
          40303.45,
          40491.31,
          40453.58,
          40646.17,
          40670.83,
          40799.79,
          40756.65,
          40793.98,
          40738.43,
          40814.43,
          40659.15,
          40584.47,
          40842.96,
          41021.31,
          41179.61,
          41140.23,
          41109.42,
          41215.16,
          41021.25,
          40842.29,
          41086.81,
          41269.71,
          41145.85,
          41228.71,
          41052.64,
          40778.09,
          40872.08,
          40840.89,
          40519.08,
          40625.31,
          40315.12,
          40297.33,
          40518.06,
          40732.8,
          40417.47,
          40611.86,
          39993.08,
          40548.79,
          40665.52
         ],
         "open": [
          37829.9,
          37970.25,
          38174.24,
          38298.98,
          38383.84,
          38515,
          38519.66,
          38433.07,
          37923.61,
          38020.85,
          38114.7,
          38301.22,
          38282.16,
          38363.87,
          38337.4,
          37993.87,
          37845.56,
          37938.13,
          38075.65,
          38161.63,
          38709.36,
          38677.5,
          38849.31,
          38777.36,
          38858.94,
          38937.63,
          38818.9,
          38953.77,
          39064.27,
          39304.68,
          39466.52,
          39465.81,
          39591.28,
          39450.81,
          39466.76,
          39390.75,
          39615.1,
          39857.14,
          39912.34,
          39940.68,
          39911.72,
          39941.31,
          39989.76,
          39918.59,
          39822.83,
          39813.1,
          39863.33,
          39813.03,
          39694.95,
          39284.36,
          39089.23,
          39146.75,
          39028.99,
          38828.77,
          38716.28,
          38510.07,
          38368.35,
          38180.49,
          38140.26,
          38292.08,
          38709.99,
          38352.74,
          38518.86,
          38639.24,
          38774.82,
          38744.02,
          38833.36,
          38849.79,
          38814.46,
          38977.6,
          38784.9,
          38769.77,
          38719.45,
          38600.17,
          39099.56,
          38793.26,
          38634.41,
          38584.17,
          38445.95,
          38556.76,
          38565.18,
          38695.12,
          38785.48,
          38779.81,
          38800.13,
          39010.1,
          39203.36,
          39132.06,
          39184.49,
          39417.72,
          39398.79,
          39113.4,
          39021.87,
          39146.04,
          39119.72,
          39243.83,
          39104.66,
          39154.06,
          39236,
          39184.31,
          39090.97,
          39158.34,
          39358.95,
          39312.59,
          39260.06,
          39428.91,
          39291.65,
          39348.06,
          39413.04,
          39266.76,
          39489.63,
          39754.77,
          39773.67,
          39839.73,
          40169.56,
          40222.03,
          40195.89,
          40390.61,
          40768.78,
          40865.59,
          41145.19,
          41066.91,
          40930.04,
          40592.35,
          40229.91,
          40414.49,
          40387.98,
          40430.13,
          40414.86,
          40143.74,
          40025.74,
          39870.08,
          40272.36,
          40188.28,
          40748.75,
          40671.47,
          40579.17,
          40713.85,
          40593.61,
          40817.04,
          41002.42,
          40916.96,
          40250.94,
          39927.02,
          39499.31,
          38660.04,
          38843.46,
          38736.22,
          39286.69,
          39267.47,
          39002.17,
          38940.38,
          39402.57,
          39410.37,
          39607.05,
          39556.01,
          39364.96,
          39507.19,
          39677.36,
          39800.59,
          40001.04,
          40416.72,
          40505.25,
          40515.01,
          40674.06,
          40670.83,
          40838.5,
          40858.06,
          40829.47,
          40923.63,
          40875.16,
          40950.11,
          40680.29,
          40879.12,
          41032.75,
          41226.16,
          41265.23,
          41215.45,
          41222.06,
          41240.74,
          41051.7,
          41370,
          41516.7,
          41398.03,
          41228.87,
          41364.92,
          41120.96,
          40888.29,
          40879.39,
          41050.96,
          40631.65,
          40797.85,
          40403.31,
          40643.13,
          40931.92,
          40916.5,
          40611.86,
          40638.75,
          40549.31,
          40862.1
         ],
         "type": "candlestick",
         "x": [
          "2024-04-19T20:30:00",
          "2024-04-20T00:30:00",
          "2024-04-22T20:30:00",
          "2024-04-23T00:30:00",
          "2024-04-23T20:30:00",
          "2024-04-24T00:30:00",
          "2024-04-24T20:30:00",
          "2024-04-25T00:30:00",
          "2024-04-25T20:30:00",
          "2024-04-26T00:30:00",
          "2024-04-26T20:30:00",
          "2024-04-27T00:30:00",
          "2024-04-29T20:30:00",
          "2024-04-30T00:30:00",
          "2024-04-30T20:30:00",
          "2024-05-01T00:30:00",
          "2024-05-01T20:30:00",
          "2024-05-02T00:30:00",
          "2024-05-02T20:30:00",
          "2024-05-03T00:30:00",
          "2024-05-03T20:30:00",
          "2024-05-04T00:30:00",
          "2024-05-06T20:30:00",
          "2024-05-07T00:30:00",
          "2024-05-07T20:30:00",
          "2024-05-08T00:30:00",
          "2024-05-08T20:30:00",
          "2024-05-09T00:30:00",
          "2024-05-09T20:30:00",
          "2024-05-10T00:30:00",
          "2024-05-10T20:30:00",
          "2024-05-11T00:30:00",
          "2024-05-13T20:30:00",
          "2024-05-14T00:30:00",
          "2024-05-14T20:30:00",
          "2024-05-15T00:30:00",
          "2024-05-15T20:30:00",
          "2024-05-16T00:30:00",
          "2024-05-16T20:30:00",
          "2024-05-17T00:30:00",
          "2024-05-17T20:30:00",
          "2024-05-18T00:30:00",
          "2024-05-20T20:30:00",
          "2024-05-21T00:30:00",
          "2024-05-21T20:30:00",
          "2024-05-22T00:30:00",
          "2024-05-22T20:30:00",
          "2024-05-23T00:30:00",
          "2024-05-23T20:30:00",
          "2024-05-24T00:30:00",
          "2024-05-24T20:30:00",
          "2024-05-25T00:30:00",
          "2024-05-28T20:30:00",
          "2024-05-29T00:30:00",
          "2024-05-29T20:30:00",
          "2024-05-30T00:30:00",
          "2024-05-30T20:30:00",
          "2024-05-31T00:30:00",
          "2024-05-31T20:30:00",
          "2024-06-01T00:30:00",
          "2024-06-03T20:30:00",
          "2024-06-04T00:30:00",
          "2024-06-04T20:30:00",
          "2024-06-05T00:30:00",
          "2024-06-05T20:30:00",
          "2024-06-06T00:30:00",
          "2024-06-06T20:30:00",
          "2024-06-07T00:30:00",
          "2024-06-07T20:30:00",
          "2024-06-08T00:30:00",
          "2024-06-10T20:30:00",
          "2024-06-11T00:30:00",
          "2024-06-11T20:30:00",
          "2024-06-12T00:30:00",
          "2024-06-12T20:30:00",
          "2024-06-13T00:30:00",
          "2024-06-13T20:30:00",
          "2024-06-14T00:30:00",
          "2024-06-14T20:30:00",
          "2024-06-15T00:30:00",
          "2024-06-17T20:30:00",
          "2024-06-18T00:30:00",
          "2024-06-18T20:30:00",
          "2024-06-19T00:30:00",
          "2024-06-20T20:30:00",
          "2024-06-21T00:30:00",
          "2024-06-21T20:30:00",
          "2024-06-22T00:30:00",
          "2024-06-24T20:30:00",
          "2024-06-25T00:30:00",
          "2024-06-25T20:30:00",
          "2024-06-26T00:30:00",
          "2024-06-26T20:30:00",
          "2024-06-27T00:30:00",
          "2024-06-27T20:30:00",
          "2024-06-28T00:30:00",
          "2024-06-28T20:30:00",
          "2024-06-29T00:30:00",
          "2024-07-01T20:30:00",
          "2024-07-02T00:30:00",
          "2024-07-02T20:30:00",
          "2024-07-03T00:30:00",
          "2024-07-03T20:30:00",
          "2024-07-05T20:30:00",
          "2024-07-06T00:30:00",
          "2024-07-08T20:30:00",
          "2024-07-09T00:30:00",
          "2024-07-09T20:30:00",
          "2024-07-10T00:30:00",
          "2024-07-10T20:30:00",
          "2024-07-11T00:30:00",
          "2024-07-11T20:30:00",
          "2024-07-12T00:30:00",
          "2024-07-12T20:30:00",
          "2024-07-13T00:30:00",
          "2024-07-15T20:30:00",
          "2024-07-16T00:30:00",
          "2024-07-16T20:30:00",
          "2024-07-17T00:30:00",
          "2024-07-17T20:30:00",
          "2024-07-18T00:30:00",
          "2024-07-18T20:30:00",
          "2024-07-19T00:30:00",
          "2024-07-19T20:30:00",
          "2024-07-20T00:30:00",
          "2024-07-22T20:30:00",
          "2024-07-23T00:30:00",
          "2024-07-23T20:30:00",
          "2024-07-24T00:30:00",
          "2024-07-24T20:30:00",
          "2024-07-25T00:30:00",
          "2024-07-25T20:30:00",
          "2024-07-26T00:30:00",
          "2024-07-26T20:30:00",
          "2024-07-27T00:30:00",
          "2024-07-29T20:30:00",
          "2024-07-30T00:30:00",
          "2024-07-30T20:30:00",
          "2024-07-31T00:30:00",
          "2024-07-31T20:30:00",
          "2024-08-01T00:30:00",
          "2024-08-01T20:30:00",
          "2024-08-02T00:30:00",
          "2024-08-02T20:30:00",
          "2024-08-03T00:30:00",
          "2024-08-05T20:30:00",
          "2024-08-06T00:30:00",
          "2024-08-06T20:30:00",
          "2024-08-07T00:30:00",
          "2024-08-07T20:30:00",
          "2024-08-08T00:30:00",
          "2024-08-08T20:30:00",
          "2024-08-09T00:30:00",
          "2024-08-09T20:30:00",
          "2024-08-10T00:30:00",
          "2024-08-12T20:30:00",
          "2024-08-13T00:30:00",
          "2024-08-13T20:30:00",
          "2024-08-14T00:30:00",
          "2024-08-14T20:30:00",
          "2024-08-15T00:30:00",
          "2024-08-15T20:30:00",
          "2024-08-16T00:30:00",
          "2024-08-16T20:30:00",
          "2024-08-17T00:30:00",
          "2024-08-19T20:30:00",
          "2024-08-20T00:30:00",
          "2024-08-20T20:30:00",
          "2024-08-21T00:30:00",
          "2024-08-21T20:30:00",
          "2024-08-22T00:30:00",
          "2024-08-22T20:30:00",
          "2024-08-23T00:30:00",
          "2024-08-23T20:30:00",
          "2024-08-24T00:30:00",
          "2024-08-26T20:30:00",
          "2024-08-27T00:30:00",
          "2024-08-27T20:30:00",
          "2024-08-28T00:30:00",
          "2024-08-28T20:30:00",
          "2024-08-29T00:30:00",
          "2024-08-29T20:30:00",
          "2024-08-30T00:30:00",
          "2024-08-30T20:30:00",
          "2024-08-31T00:30:00",
          "2024-09-03T20:30:00",
          "2024-09-04T00:30:00",
          "2024-09-04T20:30:00",
          "2024-09-05T00:30:00",
          "2024-09-05T20:30:00",
          "2024-09-06T00:30:00",
          "2024-09-06T20:30:00",
          "2024-09-07T00:30:00",
          "2024-09-09T20:30:00",
          "2024-09-10T00:30:00",
          "2024-09-10T20:30:00",
          "2024-09-11T00:30:00",
          "2024-09-11T20:30:00",
          "2024-09-12T00:30:00",
          "2024-09-12T20:30:00"
         ]
        },
        {
         "line": {
          "color": "rgba(255, 255, 255, 0.2)"
         },
         "mode": "lines",
         "type": "scatter",
         "x": [
          "2024-04-30T00:30:00",
          "2024-05-03T20:30:00"
         ],
         "y": [
          38406.19921875,
          38406.19921875
         ]
        },
        {
         "mode": "text",
         "text": "CHOCH",
         "textfont": {
          "color": "rgba(255, 255, 255, 0.4)",
          "size": 8
         },
         "textposition": "top center",
         "type": "scatter",
         "x": [
          "2024-05-01T20:30:00"
         ],
         "y": [
          38406.19921875
         ]
        },
        {
         "line": {
          "color": "rgba(255, 165, 0, 0.2)"
         },
         "mode": "lines",
         "type": "scatter",
         "x": [
          "2024-06-12T20:30:00",
          "2024-06-21T00:30:00"
         ],
         "y": [
          39120.26171875,
          39120.26171875
         ]
        },
        {
         "mode": "text",
         "text": "BOS",
         "textfont": {
          "color": "rgba(255, 165, 0, 0.4)",
          "size": 8
         },
         "textposition": "top center",
         "type": "scatter",
         "x": [
          "2024-06-17T20:30:00"
         ],
         "y": [
          39120.26171875
         ]
        },
        {
         "line": {
          "color": "rgba(255, 165, 0, 0.2)"
         },
         "mode": "lines",
         "type": "scatter",
         "x": [
          "2024-06-28T20:30:00",
          "2024-07-10T20:30:00"
         ],
         "y": [
          39443.6015625,
          39443.6015625
         ]
        },
        {
         "mode": "text",
         "text": "BOS",
         "textfont": {
          "color": "rgba(255, 165, 0, 0.4)",
          "size": 8
         },
         "textposition": "top center",
         "type": "scatter",
         "x": [
          "2024-07-03T20:30:00"
         ],
         "y": [
          39443.6015625
         ]
        },
        {
         "line": {
          "color": "rgba(255, 165, 0, 0.2)"
         },
         "mode": "lines",
         "type": "scatter",
         "x": [
          "2024-07-25T00:30:00",
          "2024-08-02T20:30:00"
         ],
         "y": [
          39807.44921875,
          39807.44921875
         ]
        },
        {
         "mode": "text",
         "text": "BOS",
         "textfont": {
          "color": "rgba(255, 165, 0, 0.4)",
          "size": 8
         },
         "textposition": "bottom center",
         "type": "scatter",
         "x": [
          "2024-07-30T00:30:00"
         ],
         "y": [
          39807.44921875
         ]
        },
        {
         "line": {
          "color": "rgba(255, 255, 255, 0.2)"
         },
         "mode": "lines",
         "type": "scatter",
         "x": [
          "2024-08-01T00:30:00",
          "2024-08-26T20:30:00"
         ],
         "y": [
          41198.62890625,
          41198.62890625
         ]
        },
        {
         "mode": "text",
         "text": "CHOCH",
         "textfont": {
          "color": "rgba(255, 255, 255, 0.4)",
          "size": 8
         },
         "textposition": "top center",
         "type": "scatter",
         "x": [
          "2024-08-14T00:30:00"
         ],
         "y": [
          41198.62890625
         ]
        },
        {
         "line": {
          "color": "rgba(255, 165, 0, 0.2)"
         },
         "mode": "lines",
         "type": "scatter",
         "x": [
          "2024-08-26T20:30:00",
          "2024-08-29T20:30:00"
         ],
         "y": [
          41420.05078125,
          41420.05078125
         ]
        },
        {
         "mode": "text",
         "text": "BOS",
         "textfont": {
          "color": "rgba(255, 165, 0, 0.4)",
          "size": 8
         },
         "textposition": "top center",
         "type": "scatter",
         "x": [
          "2024-08-28T00:30:00"
         ],
         "y": [
          41420.05078125
         ]
        },
        {
         "line": {
          "color": "rgba(255, 255, 255, 0.2)"
         },
         "mode": "lines",
         "type": "scatter",
         "x": [
          "2024-08-29T00:30:00",
          "2024-09-05T20:30:00"
         ],
         "y": [
          40842.2890625,
          40842.2890625
         ]
        },
        {
         "mode": "text",
         "text": "CHOCH",
         "textfont": {
          "color": "rgba(255, 255, 255, 0.4)",
          "size": 8
         },
         "textposition": "bottom center",
         "type": "scatter",
         "x": [
          "2024-08-31T00:30:00"
         ],
         "y": [
          40842.2890625
         ]
        }
       ],
       "layout": {
        "annotations": [
         {
          "align": "center",
          "font": {
           "color": "rgba(250, 250, 250, 1)",
           "size": 8
          },
          "showarrow": false,
          "text": "OB: 0.00 (100.0%)",
          "x": "2024-07-10T00:30:00",
          "xref": "x",
          "y": 37871.59375,
          "yref": "y"
         },
         {
          "align": "center",
          "font": {
           "color": "rgba(250, 250, 250, 1)",
           "size": 8
          },
          "showarrow": false,
          "text": "OB: 0.00 (100.0%)",
          "x": "2024-07-31T20:30:00",
          "xref": "x",
          "y": 38450.546875,
          "yref": "y"
         },
         {
          "align": "center",
          "font": {
           "color": "rgba(250, 250, 250, 1)",
           "size": 8
          },
          "showarrow": false,
          "text": "OB: 0.00 (100.0%)",
          "x": "2024-08-23T00:30:00",
          "xref": "x",
          "y": 38764.15625,
          "yref": "y"
         },
         {
          "align": "center",
          "font": {
           "color": "rgba(250, 250, 250, 1)",
           "size": 8
          },
          "showarrow": false,
          "text": "OB: 0.00 (100.0%)",
          "x": "2024-09-07T00:30:00",
          "xref": "x",
          "y": 41406.9609375,
          "yref": "y"
         }
        ],
        "font": {
         "color": "white"
        },
        "height": 400,
        "margin": {
         "b": 0,
         "l": 0,
         "pad": 50,
         "r": 50,
         "t": 0
        },
        "paper_bgcolor": "rgba(34, 42, 58, 0.8)",
        "plot_bgcolor": "rgba(34, 42, 58, 0.8)",
        "shapes": [
         {
          "fillcolor": "Purple",
          "legendgroup": "bullish ob",
          "line": {
           "color": "Purple"
          },
          "name": "Bullish OB",
          "opacity": 0.2,
          "showlegend": true,
          "type": "rect",
          "x0": "2024-05-01T20:30:00",
          "x1": "2024-09-12T20:30:00",
          "y0": 37780.5390625,
          "y1": 37962.6484375
         },
         {
          "fillcolor": "Purple",
          "legendgroup": "bullish ob",
          "line": {
           "color": "Purple"
          },
          "name": "Bullish OB",
          "opacity": 0.2,
          "showlegend": true,
          "type": "rect",
          "x0": "2024-06-14T20:30:00",
          "x1": "2024-09-12T20:30:00",
          "y0": 38305.8515625,
          "y1": 38595.23828125
         },
         {
          "fillcolor": "Purple",
          "legendgroup": "bullish ob",
          "line": {
           "color": "Purple"
          },
          "name": "Bullish OB",
          "opacity": 0.2,
          "showlegend": true,
          "type": "rect",
          "x0": "2024-08-05T20:30:00",
          "x1": "2024-09-12T20:30:00",
          "y0": 38499.26953125,
          "y1": 39029.0390625
         },
         {
          "fillcolor": "Purple",
          "legendgroup": "bearish ob",
          "line": {
           "color": "Purple"
          },
          "name": "Bearish OB",
          "opacity": 0.2,
          "showlegend": true,
          "type": "rect",
          "x0": "2024-08-31T00:30:00",
          "x1": "2024-09-12T20:30:00",
          "y0": 41228.7109375,
          "y1": 41585.2109375
         }
        ],
        "showlegend": false,
        "template": {
         "data": {
          "bar": [
           {
            "error_x": {
             "color": "#2a3f5f"
            },
            "error_y": {
             "color": "#2a3f5f"
            },
            "marker": {
             "line": {
              "color": "#E5ECF6",
              "width": 0.5
             },
             "pattern": {
              "fillmode": "overlay",
              "size": 10,
              "solidity": 0.2
             }
            },
            "type": "bar"
           }
          ],
          "barpolar": [
           {
            "marker": {
             "line": {
              "color": "#E5ECF6",
              "width": 0.5
             },
             "pattern": {
              "fillmode": "overlay",
              "size": 10,
              "solidity": 0.2
             }
            },
            "type": "barpolar"
           }
          ],
          "carpet": [
           {
            "aaxis": {
             "endlinecolor": "#2a3f5f",
             "gridcolor": "white",
             "linecolor": "white",
             "minorgridcolor": "white",
             "startlinecolor": "#2a3f5f"
            },
            "baxis": {
             "endlinecolor": "#2a3f5f",
             "gridcolor": "white",
             "linecolor": "white",
             "minorgridcolor": "white",
             "startlinecolor": "#2a3f5f"
            },
            "type": "carpet"
           }
          ],
          "choropleth": [
           {
            "colorbar": {
             "outlinewidth": 0,
             "ticks": ""
            },
            "type": "choropleth"
           }
          ],
          "contour": [
           {
            "colorbar": {
             "outlinewidth": 0,
             "ticks": ""
            },
            "colorscale": [
             [
              0,
              "#0d0887"
             ],
             [
              0.1111111111111111,
              "#46039f"
             ],
             [
              0.2222222222222222,
              "#7201a8"
             ],
             [
              0.3333333333333333,
              "#9c179e"
             ],
             [
              0.4444444444444444,
              "#bd3786"
             ],
             [
              0.5555555555555556,
              "#d8576b"
             ],
             [
              0.6666666666666666,
              "#ed7953"
             ],
             [
              0.7777777777777778,
              "#fb9f3a"
             ],
             [
              0.8888888888888888,
              "#fdca26"
             ],
             [
              1,
              "#f0f921"
             ]
            ],
            "type": "contour"
           }
          ],
          "contourcarpet": [
           {
            "colorbar": {
             "outlinewidth": 0,
             "ticks": ""
            },
            "type": "contourcarpet"
           }
          ],
          "heatmap": [
           {
            "colorbar": {
             "outlinewidth": 0,
             "ticks": ""
            },
            "colorscale": [
             [
              0,
              "#0d0887"
             ],
             [
              0.1111111111111111,
              "#46039f"
             ],
             [
              0.2222222222222222,
              "#7201a8"
             ],
             [
              0.3333333333333333,
              "#9c179e"
             ],
             [
              0.4444444444444444,
              "#bd3786"
             ],
             [
              0.5555555555555556,
              "#d8576b"
             ],
             [
              0.6666666666666666,
              "#ed7953"
             ],
             [
              0.7777777777777778,
              "#fb9f3a"
             ],
             [
              0.8888888888888888,
              "#fdca26"
             ],
             [
              1,
              "#f0f921"
             ]
            ],
            "type": "heatmap"
           }
          ],
          "heatmapgl": [
           {
            "colorbar": {
             "outlinewidth": 0,
             "ticks": ""
            },
            "colorscale": [
             [
              0,
              "#0d0887"
             ],
             [
              0.1111111111111111,
              "#46039f"
             ],
             [
              0.2222222222222222,
              "#7201a8"
             ],
             [
              0.3333333333333333,
              "#9c179e"
             ],
             [
              0.4444444444444444,
              "#bd3786"
             ],
             [
              0.5555555555555556,
              "#d8576b"
             ],
             [
              0.6666666666666666,
              "#ed7953"
             ],
             [
              0.7777777777777778,
              "#fb9f3a"
             ],
             [
              0.8888888888888888,
              "#fdca26"
             ],
             [
              1,
              "#f0f921"
             ]
            ],
            "type": "heatmapgl"
           }
          ],
          "histogram": [
           {
            "marker": {
             "pattern": {
              "fillmode": "overlay",
              "size": 10,
              "solidity": 0.2
             }
            },
            "type": "histogram"
           }
          ],
          "histogram2d": [
           {
            "colorbar": {
             "outlinewidth": 0,
             "ticks": ""
            },
            "colorscale": [
             [
              0,
              "#0d0887"
             ],
             [
              0.1111111111111111,
              "#46039f"
             ],
             [
              0.2222222222222222,
              "#7201a8"
             ],
             [
              0.3333333333333333,
              "#9c179e"
             ],
             [
              0.4444444444444444,
              "#bd3786"
             ],
             [
              0.5555555555555556,
              "#d8576b"
             ],
             [
              0.6666666666666666,
              "#ed7953"
             ],
             [
              0.7777777777777778,
              "#fb9f3a"
             ],
             [
              0.8888888888888888,
              "#fdca26"
             ],
             [
              1,
              "#f0f921"
             ]
            ],
            "type": "histogram2d"
           }
          ],
          "histogram2dcontour": [
           {
            "colorbar": {
             "outlinewidth": 0,
             "ticks": ""
            },
            "colorscale": [
             [
              0,
              "#0d0887"
             ],
             [
              0.1111111111111111,
              "#46039f"
             ],
             [
              0.2222222222222222,
              "#7201a8"
             ],
             [
              0.3333333333333333,
              "#9c179e"
             ],
             [
              0.4444444444444444,
              "#bd3786"
             ],
             [
              0.5555555555555556,
              "#d8576b"
             ],
             [
              0.6666666666666666,
              "#ed7953"
             ],
             [
              0.7777777777777778,
              "#fb9f3a"
             ],
             [
              0.8888888888888888,
              "#fdca26"
             ],
             [
              1,
              "#f0f921"
             ]
            ],
            "type": "histogram2dcontour"
           }
          ],
          "mesh3d": [
           {
            "colorbar": {
             "outlinewidth": 0,
             "ticks": ""
            },
            "type": "mesh3d"
           }
          ],
          "parcoords": [
           {
            "line": {
             "colorbar": {
              "outlinewidth": 0,
              "ticks": ""
             }
            },
            "type": "parcoords"
           }
          ],
          "pie": [
           {
            "automargin": true,
            "type": "pie"
           }
          ],
          "scatter": [
           {
            "fillpattern": {
             "fillmode": "overlay",
             "size": 10,
             "solidity": 0.2
            },
            "type": "scatter"
           }
          ],
          "scatter3d": [
           {
            "line": {
             "colorbar": {
              "outlinewidth": 0,
              "ticks": ""
             }
            },
            "marker": {
             "colorbar": {
              "outlinewidth": 0,
              "ticks": ""
             }
            },
            "type": "scatter3d"
           }
          ],
          "scattercarpet": [
           {
            "marker": {
             "colorbar": {
              "outlinewidth": 0,
              "ticks": ""
             }
            },
            "type": "scattercarpet"
           }
          ],
          "scattergeo": [
           {
            "marker": {
             "colorbar": {
              "outlinewidth": 0,
              "ticks": ""
             }
            },
            "type": "scattergeo"
           }
          ],
          "scattergl": [
           {
            "marker": {
             "colorbar": {
              "outlinewidth": 0,
              "ticks": ""
             }
            },
            "type": "scattergl"
           }
          ],
          "scattermapbox": [
           {
            "marker": {
             "colorbar": {
              "outlinewidth": 0,
              "ticks": ""
             }
            },
            "type": "scattermapbox"
           }
          ],
          "scatterpolar": [
           {
            "marker": {
             "colorbar": {
              "outlinewidth": 0,
              "ticks": ""
             }
            },
            "type": "scatterpolar"
           }
          ],
          "scatterpolargl": [
           {
            "marker": {
             "colorbar": {
              "outlinewidth": 0,
              "ticks": ""
             }
            },
            "type": "scatterpolargl"
           }
          ],
          "scatterternary": [
           {
            "marker": {
             "colorbar": {
              "outlinewidth": 0,
              "ticks": ""
             }
            },
            "type": "scatterternary"
           }
          ],
          "surface": [
           {
            "colorbar": {
             "outlinewidth": 0,
             "ticks": ""
            },
            "colorscale": [
             [
              0,
              "#0d0887"
             ],
             [
              0.1111111111111111,
              "#46039f"
             ],
             [
              0.2222222222222222,
              "#7201a8"
             ],
             [
              0.3333333333333333,
              "#9c179e"
             ],
             [
              0.4444444444444444,
              "#bd3786"
             ],
             [
              0.5555555555555556,
              "#d8576b"
             ],
             [
              0.6666666666666666,
              "#ed7953"
             ],
             [
              0.7777777777777778,
              "#fb9f3a"
             ],
             [
              0.8888888888888888,
              "#fdca26"
             ],
             [
              1,
              "#f0f921"
             ]
            ],
            "type": "surface"
           }
          ],
          "table": [
           {
            "cells": {
             "fill": {
              "color": "#EBF0F8"
             },
             "line": {
              "color": "white"
             }
            },
            "header": {
             "fill": {
              "color": "#C8D4E3"
             },
             "line": {
              "color": "white"
             }
            },
            "type": "table"
           }
          ]
         },
         "layout": {
          "annotationdefaults": {
           "arrowcolor": "#2a3f5f",
           "arrowhead": 0,
           "arrowwidth": 1
          },
          "autotypenumbers": "strict",
          "coloraxis": {
           "colorbar": {
            "outlinewidth": 0,
            "ticks": ""
           }
          },
          "colorscale": {
           "diverging": [
            [
             0,
             "#8e0152"
            ],
            [
             0.1,
             "#c51b7d"
            ],
            [
             0.2,
             "#de77ae"
            ],
            [
             0.3,
             "#f1b6da"
            ],
            [
             0.4,
             "#fde0ef"
            ],
            [
             0.5,
             "#f7f7f7"
            ],
            [
             0.6,
             "#e6f5d0"
            ],
            [
             0.7,
             "#b8e186"
            ],
            [
             0.8,
             "#7fbc41"
            ],
            [
             0.9,
             "#4d9221"
            ],
            [
             1,
             "#276419"
            ]
           ],
           "sequential": [
            [
             0,
             "#0d0887"
            ],
            [
             0.1111111111111111,
             "#46039f"
            ],
            [
             0.2222222222222222,
             "#7201a8"
            ],
            [
             0.3333333333333333,
             "#9c179e"
            ],
            [
             0.4444444444444444,
             "#bd3786"
            ],
            [
             0.5555555555555556,
             "#d8576b"
            ],
            [
             0.6666666666666666,
             "#ed7953"
            ],
            [
             0.7777777777777778,
             "#fb9f3a"
            ],
            [
             0.8888888888888888,
             "#fdca26"
            ],
            [
             1,
             "#f0f921"
            ]
           ],
           "sequentialminus": [
            [
             0,
             "#0d0887"
            ],
            [
             0.1111111111111111,
             "#46039f"
            ],
            [
             0.2222222222222222,
             "#7201a8"
            ],
            [
             0.3333333333333333,
             "#9c179e"
            ],
            [
             0.4444444444444444,
             "#bd3786"
            ],
            [
             0.5555555555555556,
             "#d8576b"
            ],
            [
             0.6666666666666666,
             "#ed7953"
            ],
            [
             0.7777777777777778,
             "#fb9f3a"
            ],
            [
             0.8888888888888888,
             "#fdca26"
            ],
            [
             1,
             "#f0f921"
            ]
           ]
          },
          "colorway": [
           "#636efa",
           "#EF553B",
           "#00cc96",
           "#ab63fa",
           "#FFA15A",
           "#19d3f3",
           "#FF6692",
           "#B6E880",
           "#FF97FF",
           "#FECB52"
          ],
          "font": {
           "color": "#2a3f5f"
          },
          "geo": {
           "bgcolor": "white",
           "lakecolor": "white",
           "landcolor": "#E5ECF6",
           "showlakes": true,
           "showland": true,
           "subunitcolor": "white"
          },
          "hoverlabel": {
           "align": "left"
          },
          "hovermode": "closest",
          "mapbox": {
           "style": "light"
          },
          "paper_bgcolor": "white",
          "plot_bgcolor": "#E5ECF6",
          "polar": {
           "angularaxis": {
            "gridcolor": "white",
            "linecolor": "white",
            "ticks": ""
           },
           "bgcolor": "#E5ECF6",
           "radialaxis": {
            "gridcolor": "white",
            "linecolor": "white",
            "ticks": ""
           }
          },
          "scene": {
           "xaxis": {
            "backgroundcolor": "#E5ECF6",
            "gridcolor": "white",
            "gridwidth": 2,
            "linecolor": "white",
            "showbackground": true,
            "ticks": "",
            "zerolinecolor": "white"
           },
           "yaxis": {
            "backgroundcolor": "#E5ECF6",
            "gridcolor": "white",
            "gridwidth": 2,
            "linecolor": "white",
            "showbackground": true,
            "ticks": "",
            "zerolinecolor": "white"
           },
           "zaxis": {
            "backgroundcolor": "#E5ECF6",
            "gridcolor": "white",
            "gridwidth": 2,
            "linecolor": "white",
            "showbackground": true,
            "ticks": "",
            "zerolinecolor": "white"
           }
          },
          "shapedefaults": {
           "line": {
            "color": "#2a3f5f"
           }
          },
          "ternary": {
           "aaxis": {
            "gridcolor": "white",
            "linecolor": "white",
            "ticks": ""
           },
           "baxis": {
            "gridcolor": "white",
            "linecolor": "white",
            "ticks": ""
           },
           "bgcolor": "#E5ECF6",
           "caxis": {
            "gridcolor": "white",
            "linecolor": "white",
            "ticks": ""
           }
          },
          "title": {
           "x": 0.05
          },
          "xaxis": {
           "automargin": true,
           "gridcolor": "white",
           "linecolor": "white",
           "ticks": "",
           "title": {
            "standoff": 15
           },
           "zerolinecolor": "white",
           "zerolinewidth": 2
          },
          "yaxis": {
           "automargin": true,
           "gridcolor": "white",
           "linecolor": "white",
           "ticks": "",
           "title": {
            "standoff": 15
           },
           "zerolinecolor": "white",
           "zerolinewidth": 2
          }
         }
        },
        "width": 800,
        "xaxis": {
         "rangebreaks": [
          {
           "dvalue": 14400000,
           "values": [
            "2024-04-20T04:30:00",
            "2024-04-20T08:30:00",
            "2024-04-20T12:30:00",
            "2024-04-20T16:30:00",
            "2024-04-20T20:30:00",
            "2024-04-21T00:30:00",
            "2024-04-21T04:30:00",
            "2024-04-21T08:30:00",
            "2024-04-21T12:30:00",
            "2024-04-21T16:30:00",
            "2024-04-21T20:30:00",
            "2024-04-22T00:30:00",
            "2024-04-22T04:30:00",
            "2024-04-22T08:30:00",
            "2024-04-22T12:30:00",
            "2024-04-22T16:30:00",
            "2024-04-23T04:30:00",
            "2024-04-23T08:30:00",
            "2024-04-23T12:30:00",
            "2024-04-23T16:30:00",
            "2024-04-24T04:30:00",
            "2024-04-24T08:30:00",
            "2024-04-24T12:30:00",
            "2024-04-24T16:30:00",
            "2024-04-25T04:30:00",
            "2024-04-25T08:30:00",
            "2024-04-25T12:30:00",
            "2024-04-25T16:30:00",
            "2024-04-26T04:30:00",
            "2024-04-26T08:30:00",
            "2024-04-26T12:30:00",
            "2024-04-26T16:30:00",
            "2024-04-27T04:30:00",
            "2024-04-27T08:30:00",
            "2024-04-27T12:30:00",
            "2024-04-27T16:30:00",
            "2024-04-27T20:30:00",
            "2024-04-28T00:30:00",
            "2024-04-28T04:30:00",
            "2024-04-28T08:30:00",
            "2024-04-28T12:30:00",
            "2024-04-28T16:30:00",
            "2024-04-28T20:30:00",
            "2024-04-29T00:30:00",
            "2024-04-29T04:30:00",
            "2024-04-29T08:30:00",
            "2024-04-29T12:30:00",
            "2024-04-29T16:30:00",
            "2024-04-30T04:30:00",
            "2024-04-30T08:30:00",
            "2024-04-30T12:30:00",
            "2024-04-30T16:30:00",
            "2024-05-01T04:30:00",
            "2024-05-01T08:30:00",
            "2024-05-01T12:30:00",
            "2024-05-01T16:30:00",
            "2024-05-02T04:30:00",
            "2024-05-02T08:30:00",
            "2024-05-02T12:30:00",
            "2024-05-02T16:30:00",
            "2024-05-03T04:30:00",
            "2024-05-03T08:30:00",
            "2024-05-03T12:30:00",
            "2024-05-03T16:30:00",
            "2024-05-04T04:30:00",
            "2024-05-04T08:30:00",
            "2024-05-04T12:30:00",
            "2024-05-04T16:30:00",
            "2024-05-04T20:30:00",
            "2024-05-05T00:30:00",
            "2024-05-05T04:30:00",
            "2024-05-05T08:30:00",
            "2024-05-05T12:30:00",
            "2024-05-05T16:30:00",
            "2024-05-05T20:30:00",
            "2024-05-06T00:30:00",
            "2024-05-06T04:30:00",
            "2024-05-06T08:30:00",
            "2024-05-06T12:30:00",
            "2024-05-06T16:30:00",
            "2024-05-07T04:30:00",
            "2024-05-07T08:30:00",
            "2024-05-07T12:30:00",
            "2024-05-07T16:30:00",
            "2024-05-08T04:30:00",
            "2024-05-08T08:30:00",
            "2024-05-08T12:30:00",
            "2024-05-08T16:30:00",
            "2024-05-09T04:30:00",
            "2024-05-09T08:30:00",
            "2024-05-09T12:30:00",
            "2024-05-09T16:30:00",
            "2024-05-10T04:30:00",
            "2024-05-10T08:30:00",
            "2024-05-10T12:30:00",
            "2024-05-10T16:30:00",
            "2024-05-11T04:30:00",
            "2024-05-11T08:30:00",
            "2024-05-11T12:30:00",
            "2024-05-11T16:30:00",
            "2024-05-11T20:30:00",
            "2024-05-12T00:30:00",
            "2024-05-12T04:30:00",
            "2024-05-12T08:30:00",
            "2024-05-12T12:30:00",
            "2024-05-12T16:30:00",
            "2024-05-12T20:30:00",
            "2024-05-13T00:30:00",
            "2024-05-13T04:30:00",
            "2024-05-13T08:30:00",
            "2024-05-13T12:30:00",
            "2024-05-13T16:30:00",
            "2024-05-14T04:30:00",
            "2024-05-14T08:30:00",
            "2024-05-14T12:30:00",
            "2024-05-14T16:30:00",
            "2024-05-15T04:30:00",
            "2024-05-15T08:30:00",
            "2024-05-15T12:30:00",
            "2024-05-15T16:30:00",
            "2024-05-16T04:30:00",
            "2024-05-16T08:30:00",
            "2024-05-16T12:30:00",
            "2024-05-16T16:30:00",
            "2024-05-17T04:30:00",
            "2024-05-17T08:30:00",
            "2024-05-17T12:30:00",
            "2024-05-17T16:30:00",
            "2024-05-18T04:30:00",
            "2024-05-18T08:30:00",
            "2024-05-18T12:30:00",
            "2024-05-18T16:30:00",
            "2024-05-18T20:30:00",
            "2024-05-19T00:30:00",
            "2024-05-19T04:30:00",
            "2024-05-19T08:30:00",
            "2024-05-19T12:30:00",
            "2024-05-19T16:30:00",
            "2024-05-19T20:30:00",
            "2024-05-20T00:30:00",
            "2024-05-20T04:30:00",
            "2024-05-20T08:30:00",
            "2024-05-20T12:30:00",
            "2024-05-20T16:30:00",
            "2024-05-21T04:30:00",
            "2024-05-21T08:30:00",
            "2024-05-21T12:30:00",
            "2024-05-21T16:30:00",
            "2024-05-22T04:30:00",
            "2024-05-22T08:30:00",
            "2024-05-22T12:30:00",
            "2024-05-22T16:30:00",
            "2024-05-23T04:30:00",
            "2024-05-23T08:30:00",
            "2024-05-23T12:30:00",
            "2024-05-23T16:30:00",
            "2024-05-24T04:30:00",
            "2024-05-24T08:30:00",
            "2024-05-24T12:30:00",
            "2024-05-24T16:30:00",
            "2024-05-25T04:30:00",
            "2024-05-25T08:30:00",
            "2024-05-25T12:30:00",
            "2024-05-25T16:30:00",
            "2024-05-25T20:30:00",
            "2024-05-26T00:30:00",
            "2024-05-26T04:30:00",
            "2024-05-26T08:30:00",
            "2024-05-26T12:30:00",
            "2024-05-26T16:30:00",
            "2024-05-26T20:30:00",
            "2024-05-27T00:30:00",
            "2024-05-27T04:30:00",
            "2024-05-27T08:30:00",
            "2024-05-27T12:30:00",
            "2024-05-27T16:30:00",
            "2024-05-27T20:30:00",
            "2024-05-28T00:30:00",
            "2024-05-28T04:30:00",
            "2024-05-28T08:30:00",
            "2024-05-28T12:30:00",
            "2024-05-28T16:30:00",
            "2024-05-29T04:30:00",
            "2024-05-29T08:30:00",
            "2024-05-29T12:30:00",
            "2024-05-29T16:30:00",
            "2024-05-30T04:30:00",
            "2024-05-30T08:30:00",
            "2024-05-30T12:30:00",
            "2024-05-30T16:30:00",
            "2024-05-31T04:30:00",
            "2024-05-31T08:30:00",
            "2024-05-31T12:30:00",
            "2024-05-31T16:30:00",
            "2024-06-01T04:30:00",
            "2024-06-01T08:30:00",
            "2024-06-01T12:30:00",
            "2024-06-01T16:30:00",
            "2024-06-01T20:30:00",
            "2024-06-02T00:30:00",
            "2024-06-02T04:30:00",
            "2024-06-02T08:30:00",
            "2024-06-02T12:30:00",
            "2024-06-02T16:30:00",
            "2024-06-02T20:30:00",
            "2024-06-03T00:30:00",
            "2024-06-03T04:30:00",
            "2024-06-03T08:30:00",
            "2024-06-03T12:30:00",
            "2024-06-03T16:30:00",
            "2024-06-04T04:30:00",
            "2024-06-04T08:30:00",
            "2024-06-04T12:30:00",
            "2024-06-04T16:30:00",
            "2024-06-05T04:30:00",
            "2024-06-05T08:30:00",
            "2024-06-05T12:30:00",
            "2024-06-05T16:30:00",
            "2024-06-06T04:30:00",
            "2024-06-06T08:30:00",
            "2024-06-06T12:30:00",
            "2024-06-06T16:30:00",
            "2024-06-07T04:30:00",
            "2024-06-07T08:30:00",
            "2024-06-07T12:30:00",
            "2024-06-07T16:30:00",
            "2024-06-08T04:30:00",
            "2024-06-08T08:30:00",
            "2024-06-08T12:30:00",
            "2024-06-08T16:30:00",
            "2024-06-08T20:30:00",
            "2024-06-09T00:30:00",
            "2024-06-09T04:30:00",
            "2024-06-09T08:30:00",
            "2024-06-09T12:30:00",
            "2024-06-09T16:30:00",
            "2024-06-09T20:30:00",
            "2024-06-10T00:30:00",
            "2024-06-10T04:30:00",
            "2024-06-10T08:30:00",
            "2024-06-10T12:30:00",
            "2024-06-10T16:30:00",
            "2024-06-11T04:30:00",
            "2024-06-11T08:30:00",
            "2024-06-11T12:30:00",
            "2024-06-11T16:30:00",
            "2024-06-12T04:30:00",
            "2024-06-12T08:30:00",
            "2024-06-12T12:30:00",
            "2024-06-12T16:30:00",
            "2024-06-13T04:30:00",
            "2024-06-13T08:30:00",
            "2024-06-13T12:30:00",
            "2024-06-13T16:30:00",
            "2024-06-14T04:30:00",
            "2024-06-14T08:30:00",
            "2024-06-14T12:30:00",
            "2024-06-14T16:30:00",
            "2024-06-15T04:30:00",
            "2024-06-15T08:30:00",
            "2024-06-15T12:30:00",
            "2024-06-15T16:30:00",
            "2024-06-15T20:30:00",
            "2024-06-16T00:30:00",
            "2024-06-16T04:30:00",
            "2024-06-16T08:30:00",
            "2024-06-16T12:30:00",
            "2024-06-16T16:30:00",
            "2024-06-16T20:30:00",
            "2024-06-17T00:30:00",
            "2024-06-17T04:30:00",
            "2024-06-17T08:30:00",
            "2024-06-17T12:30:00",
            "2024-06-17T16:30:00",
            "2024-06-18T04:30:00",
            "2024-06-18T08:30:00",
            "2024-06-18T12:30:00",
            "2024-06-18T16:30:00",
            "2024-06-19T04:30:00",
            "2024-06-19T08:30:00",
            "2024-06-19T12:30:00",
            "2024-06-19T16:30:00",
            "2024-06-19T20:30:00",
            "2024-06-20T00:30:00",
            "2024-06-20T04:30:00",
            "2024-06-20T08:30:00",
            "2024-06-20T12:30:00",
            "2024-06-20T16:30:00",
            "2024-06-21T04:30:00",
            "2024-06-21T08:30:00",
            "2024-06-21T12:30:00",
            "2024-06-21T16:30:00",
            "2024-06-22T04:30:00",
            "2024-06-22T08:30:00",
            "2024-06-22T12:30:00",
            "2024-06-22T16:30:00",
            "2024-06-22T20:30:00",
            "2024-06-23T00:30:00",
            "2024-06-23T04:30:00",
            "2024-06-23T08:30:00",
            "2024-06-23T12:30:00",
            "2024-06-23T16:30:00",
            "2024-06-23T20:30:00",
            "2024-06-24T00:30:00",
            "2024-06-24T04:30:00",
            "2024-06-24T08:30:00",
            "2024-06-24T12:30:00",
            "2024-06-24T16:30:00",
            "2024-06-25T04:30:00",
            "2024-06-25T08:30:00",
            "2024-06-25T12:30:00",
            "2024-06-25T16:30:00",
            "2024-06-26T04:30:00",
            "2024-06-26T08:30:00",
            "2024-06-26T12:30:00",
            "2024-06-26T16:30:00",
            "2024-06-27T04:30:00",
            "2024-06-27T08:30:00",
            "2024-06-27T12:30:00",
            "2024-06-27T16:30:00",
            "2024-06-28T04:30:00",
            "2024-06-28T08:30:00",
            "2024-06-28T12:30:00",
            "2024-06-28T16:30:00",
            "2024-06-29T04:30:00",
            "2024-06-29T08:30:00",
            "2024-06-29T12:30:00",
            "2024-06-29T16:30:00",
            "2024-06-29T20:30:00",
            "2024-06-30T00:30:00",
            "2024-06-30T04:30:00",
            "2024-06-30T08:30:00",
            "2024-06-30T12:30:00",
            "2024-06-30T16:30:00",
            "2024-06-30T20:30:00",
            "2024-07-01T00:30:00",
            "2024-07-01T04:30:00",
            "2024-07-01T08:30:00",
            "2024-07-01T12:30:00",
            "2024-07-01T16:30:00",
            "2024-07-02T04:30:00",
            "2024-07-02T08:30:00",
            "2024-07-02T12:30:00",
            "2024-07-02T16:30:00",
            "2024-07-03T04:30:00",
            "2024-07-03T08:30:00",
            "2024-07-03T12:30:00",
            "2024-07-03T16:30:00",
            "2024-07-04T00:30:00",
            "2024-07-04T04:30:00",
            "2024-07-04T08:30:00",
            "2024-07-04T12:30:00",
            "2024-07-04T16:30:00",
            "2024-07-04T20:30:00",
            "2024-07-05T00:30:00",
            "2024-07-05T04:30:00",
            "2024-07-05T08:30:00",
            "2024-07-05T12:30:00",
            "2024-07-05T16:30:00",
            "2024-07-06T04:30:00",
            "2024-07-06T08:30:00",
            "2024-07-06T12:30:00",
            "2024-07-06T16:30:00",
            "2024-07-06T20:30:00",
            "2024-07-07T00:30:00",
            "2024-07-07T04:30:00",
            "2024-07-07T08:30:00",
            "2024-07-07T12:30:00",
            "2024-07-07T16:30:00",
            "2024-07-07T20:30:00",
            "2024-07-08T00:30:00",
            "2024-07-08T04:30:00",
            "2024-07-08T08:30:00",
            "2024-07-08T12:30:00",
            "2024-07-08T16:30:00",
            "2024-07-09T04:30:00",
            "2024-07-09T08:30:00",
            "2024-07-09T12:30:00",
            "2024-07-09T16:30:00",
            "2024-07-10T04:30:00",
            "2024-07-10T08:30:00",
            "2024-07-10T12:30:00",
            "2024-07-10T16:30:00",
            "2024-07-11T04:30:00",
            "2024-07-11T08:30:00",
            "2024-07-11T12:30:00",
            "2024-07-11T16:30:00",
            "2024-07-12T04:30:00",
            "2024-07-12T08:30:00",
            "2024-07-12T12:30:00",
            "2024-07-12T16:30:00",
            "2024-07-13T04:30:00",
            "2024-07-13T08:30:00",
            "2024-07-13T12:30:00",
            "2024-07-13T16:30:00",
            "2024-07-13T20:30:00",
            "2024-07-14T00:30:00",
            "2024-07-14T04:30:00",
            "2024-07-14T08:30:00",
            "2024-07-14T12:30:00",
            "2024-07-14T16:30:00",
            "2024-07-14T20:30:00",
            "2024-07-15T00:30:00",
            "2024-07-15T04:30:00",
            "2024-07-15T08:30:00",
            "2024-07-15T12:30:00",
            "2024-07-15T16:30:00",
            "2024-07-16T04:30:00",
            "2024-07-16T08:30:00",
            "2024-07-16T12:30:00",
            "2024-07-16T16:30:00",
            "2024-07-17T04:30:00",
            "2024-07-17T08:30:00",
            "2024-07-17T12:30:00",
            "2024-07-17T16:30:00",
            "2024-07-18T04:30:00",
            "2024-07-18T08:30:00",
            "2024-07-18T12:30:00",
            "2024-07-18T16:30:00",
            "2024-07-19T04:30:00",
            "2024-07-19T08:30:00",
            "2024-07-19T12:30:00",
            "2024-07-19T16:30:00",
            "2024-07-20T04:30:00",
            "2024-07-20T08:30:00",
            "2024-07-20T12:30:00",
            "2024-07-20T16:30:00",
            "2024-07-20T20:30:00",
            "2024-07-21T00:30:00",
            "2024-07-21T04:30:00",
            "2024-07-21T08:30:00",
            "2024-07-21T12:30:00",
            "2024-07-21T16:30:00",
            "2024-07-21T20:30:00",
            "2024-07-22T00:30:00",
            "2024-07-22T04:30:00",
            "2024-07-22T08:30:00",
            "2024-07-22T12:30:00",
            "2024-07-22T16:30:00",
            "2024-07-23T04:30:00",
            "2024-07-23T08:30:00",
            "2024-07-23T12:30:00",
            "2024-07-23T16:30:00",
            "2024-07-24T04:30:00",
            "2024-07-24T08:30:00",
            "2024-07-24T12:30:00",
            "2024-07-24T16:30:00",
            "2024-07-25T04:30:00",
            "2024-07-25T08:30:00",
            "2024-07-25T12:30:00",
            "2024-07-25T16:30:00",
            "2024-07-26T04:30:00",
            "2024-07-26T08:30:00",
            "2024-07-26T12:30:00",
            "2024-07-26T16:30:00",
            "2024-07-27T04:30:00",
            "2024-07-27T08:30:00",
            "2024-07-27T12:30:00",
            "2024-07-27T16:30:00",
            "2024-07-27T20:30:00",
            "2024-07-28T00:30:00",
            "2024-07-28T04:30:00",
            "2024-07-28T08:30:00",
            "2024-07-28T12:30:00",
            "2024-07-28T16:30:00",
            "2024-07-28T20:30:00",
            "2024-07-29T00:30:00",
            "2024-07-29T04:30:00",
            "2024-07-29T08:30:00",
            "2024-07-29T12:30:00",
            "2024-07-29T16:30:00",
            "2024-07-30T04:30:00",
            "2024-07-30T08:30:00",
            "2024-07-30T12:30:00",
            "2024-07-30T16:30:00",
            "2024-07-31T04:30:00",
            "2024-07-31T08:30:00",
            "2024-07-31T12:30:00",
            "2024-07-31T16:30:00",
            "2024-08-01T04:30:00",
            "2024-08-01T08:30:00",
            "2024-08-01T12:30:00",
            "2024-08-01T16:30:00",
            "2024-08-02T04:30:00",
            "2024-08-02T08:30:00",
            "2024-08-02T12:30:00",
            "2024-08-02T16:30:00",
            "2024-08-03T04:30:00",
            "2024-08-03T08:30:00",
            "2024-08-03T12:30:00",
            "2024-08-03T16:30:00",
            "2024-08-03T20:30:00",
            "2024-08-04T00:30:00",
            "2024-08-04T04:30:00",
            "2024-08-04T08:30:00",
            "2024-08-04T12:30:00",
            "2024-08-04T16:30:00",
            "2024-08-04T20:30:00",
            "2024-08-05T00:30:00",
            "2024-08-05T04:30:00",
            "2024-08-05T08:30:00",
            "2024-08-05T12:30:00",
            "2024-08-05T16:30:00",
            "2024-08-06T04:30:00",
            "2024-08-06T08:30:00",
            "2024-08-06T12:30:00",
            "2024-08-06T16:30:00",
            "2024-08-07T04:30:00",
            "2024-08-07T08:30:00",
            "2024-08-07T12:30:00",
            "2024-08-07T16:30:00",
            "2024-08-08T04:30:00",
            "2024-08-08T08:30:00",
            "2024-08-08T12:30:00",
            "2024-08-08T16:30:00",
            "2024-08-09T04:30:00",
            "2024-08-09T08:30:00",
            "2024-08-09T12:30:00",
            "2024-08-09T16:30:00",
            "2024-08-10T04:30:00",
            "2024-08-10T08:30:00",
            "2024-08-10T12:30:00",
            "2024-08-10T16:30:00",
            "2024-08-10T20:30:00",
            "2024-08-11T00:30:00",
            "2024-08-11T04:30:00",
            "2024-08-11T08:30:00",
            "2024-08-11T12:30:00",
            "2024-08-11T16:30:00",
            "2024-08-11T20:30:00",
            "2024-08-12T00:30:00",
            "2024-08-12T04:30:00",
            "2024-08-12T08:30:00",
            "2024-08-12T12:30:00",
            "2024-08-12T16:30:00",
            "2024-08-13T04:30:00",
            "2024-08-13T08:30:00",
            "2024-08-13T12:30:00",
            "2024-08-13T16:30:00",
            "2024-08-14T04:30:00",
            "2024-08-14T08:30:00",
            "2024-08-14T12:30:00",
            "2024-08-14T16:30:00",
            "2024-08-15T04:30:00",
            "2024-08-15T08:30:00",
            "2024-08-15T12:30:00",
            "2024-08-15T16:30:00",
            "2024-08-16T04:30:00",
            "2024-08-16T08:30:00",
            "2024-08-16T12:30:00",
            "2024-08-16T16:30:00",
            "2024-08-17T04:30:00",
            "2024-08-17T08:30:00",
            "2024-08-17T12:30:00",
            "2024-08-17T16:30:00",
            "2024-08-17T20:30:00",
            "2024-08-18T00:30:00",
            "2024-08-18T04:30:00",
            "2024-08-18T08:30:00",
            "2024-08-18T12:30:00",
            "2024-08-18T16:30:00",
            "2024-08-18T20:30:00",
            "2024-08-19T00:30:00",
            "2024-08-19T04:30:00",
            "2024-08-19T08:30:00",
            "2024-08-19T12:30:00",
            "2024-08-19T16:30:00",
            "2024-08-20T04:30:00",
            "2024-08-20T08:30:00",
            "2024-08-20T12:30:00",
            "2024-08-20T16:30:00",
            "2024-08-21T04:30:00",
            "2024-08-21T08:30:00",
            "2024-08-21T12:30:00",
            "2024-08-21T16:30:00",
            "2024-08-22T04:30:00",
            "2024-08-22T08:30:00",
            "2024-08-22T12:30:00",
            "2024-08-22T16:30:00",
            "2024-08-23T04:30:00",
            "2024-08-23T08:30:00",
            "2024-08-23T12:30:00",
            "2024-08-23T16:30:00",
            "2024-08-24T04:30:00",
            "2024-08-24T08:30:00",
            "2024-08-24T12:30:00",
            "2024-08-24T16:30:00",
            "2024-08-24T20:30:00",
            "2024-08-25T00:30:00",
            "2024-08-25T04:30:00",
            "2024-08-25T08:30:00",
            "2024-08-25T12:30:00",
            "2024-08-25T16:30:00",
            "2024-08-25T20:30:00",
            "2024-08-26T00:30:00",
            "2024-08-26T04:30:00",
            "2024-08-26T08:30:00",
            "2024-08-26T12:30:00",
            "2024-08-26T16:30:00",
            "2024-08-27T04:30:00",
            "2024-08-27T08:30:00",
            "2024-08-27T12:30:00",
            "2024-08-27T16:30:00",
            "2024-08-28T04:30:00",
            "2024-08-28T08:30:00",
            "2024-08-28T12:30:00",
            "2024-08-28T16:30:00",
            "2024-08-29T04:30:00",
            "2024-08-29T08:30:00",
            "2024-08-29T12:30:00",
            "2024-08-29T16:30:00",
            "2024-08-30T04:30:00",
            "2024-08-30T08:30:00",
            "2024-08-30T12:30:00",
            "2024-08-30T16:30:00",
            "2024-08-31T04:30:00",
            "2024-08-31T08:30:00",
            "2024-08-31T12:30:00",
            "2024-08-31T16:30:00",
            "2024-08-31T20:30:00",
            "2024-09-01T00:30:00",
            "2024-09-01T04:30:00",
            "2024-09-01T08:30:00",
            "2024-09-01T12:30:00",
            "2024-09-01T16:30:00",
            "2024-09-01T20:30:00",
            "2024-09-02T00:30:00",
            "2024-09-02T04:30:00",
            "2024-09-02T08:30:00",
            "2024-09-02T12:30:00",
            "2024-09-02T16:30:00",
            "2024-09-02T20:30:00",
            "2024-09-03T00:30:00",
            "2024-09-03T04:30:00",
            "2024-09-03T08:30:00",
            "2024-09-03T12:30:00",
            "2024-09-03T16:30:00",
            "2024-09-04T04:30:00",
            "2024-09-04T08:30:00",
            "2024-09-04T12:30:00",
            "2024-09-04T16:30:00",
            "2024-09-05T04:30:00",
            "2024-09-05T08:30:00",
            "2024-09-05T12:30:00",
            "2024-09-05T16:30:00",
            "2024-09-06T04:30:00",
            "2024-09-06T08:30:00",
            "2024-09-06T12:30:00",
            "2024-09-06T16:30:00",
            "2024-09-07T04:30:00",
            "2024-09-07T08:30:00",
            "2024-09-07T12:30:00",
            "2024-09-07T16:30:00",
            "2024-09-07T20:30:00",
            "2024-09-08T00:30:00",
            "2024-09-08T04:30:00",
            "2024-09-08T08:30:00",
            "2024-09-08T12:30:00",
            "2024-09-08T16:30:00",
            "2024-09-08T20:30:00",
            "2024-09-09T00:30:00",
            "2024-09-09T04:30:00",
            "2024-09-09T08:30:00",
            "2024-09-09T12:30:00",
            "2024-09-09T16:30:00",
            "2024-09-10T04:30:00",
            "2024-09-10T08:30:00",
            "2024-09-10T12:30:00",
            "2024-09-10T16:30:00",
            "2024-09-11T04:30:00",
            "2024-09-11T08:30:00",
            "2024-09-11T12:30:00",
            "2024-09-11T16:30:00",
            "2024-09-12T04:30:00",
            "2024-09-12T08:30:00",
            "2024-09-12T12:30:00",
            "2024-09-12T16:30:00"
           ]
          }
         ],
         "rangeslider": {
          "visible": false
         },
         "showgrid": false,
         "showline": false,
         "showticklabels": false,
         "visible": true,
         "zeroline": false
        },
        "yaxis": {
         "showticklabels": false,
         "visible": false
        }
       }
      }
     },
     "metadata": {},
     "output_type": "display_data"
    }
   ],
   "source": [
    "fig = create_smc_plot(df_4h, rangebreak_4h, dvalue= 240)\n",
    "fig.show()"
   ]
  },
  {
   "cell_type": "code",
   "execution_count": 9,
   "metadata": {},
   "outputs": [
    {
     "data": {
      "application/vnd.plotly.v1+json": {
       "config": {
        "plotlyServerURL": "https://plot.ly"
       },
       "data": [
        {
         "close": [
          40211.1,
          40322.82,
          39621.53,
          39393.24,
          39618.5,
          39499.07,
          39582.11,
          39654.63,
          39721.25,
          38610.93,
          38840.55,
          39020.38,
          38842.85,
          38847.81,
          38661.98,
          38690.68,
          39044.39,
          38938.06,
          39181.58,
          39282.99,
          39374.29,
          39258.92,
          38999.29,
          39309.54,
          39371.3,
          39236.83,
          39002.33,
          38826.55,
          38885.71,
          38775.59,
          39328.59,
          39324.53,
          39311.74,
          39402.69,
          39434.67,
          39397.52,
          39445.84,
          39404.35,
          39426.04,
          39388.27,
          39606.12,
          39426.86,
          39476.59,
          39496.36,
          39405.94,
          39335.92,
          39415,
          39364.87,
          39312.63,
          39325.38,
          39360.53,
          39477.08,
          39556.94,
          39651.35,
          39677.3,
          39701.34,
          39744.65,
          39770.78,
          39837.09,
          39911.87,
          39910.92,
          40000.7,
          39975.65,
          39993.51,
          39994.37,
          40363.03,
          40445.51,
          40525.79,
          40505.49,
          40530.78,
          40575.47,
          40568.54,
          40495.19,
          40562.57,
          40614.54,
          40673.91,
          40672.51,
          40672.14,
          40655.08,
          40802.69,
          40851.9,
          40855.22,
          40839.03,
          40806.37,
          40828.69,
          40891.87,
          40866.22,
          40769,
          40852.14,
          40829.36,
          40889.61,
          40819.17,
          40830.65,
          40860.21,
          40848.14,
          40824.45,
          40874.91,
          40891.63,
          40862.19,
          40890.54,
          40800.6,
          40719.68,
          40834.09,
          40680.92,
          40700.55,
          40673.88,
          40731.72,
          41123.43,
          41164.14,
          40899.89,
          41033.07,
          41073.82,
          41170.21,
          41175.55,
          41397.75,
          41203.56,
          41246.64,
          41264.54,
          41211.77,
          41212.25,
          41249.66,
          41228.35,
          41190.73,
          41169.7,
          41222.31,
          41244.34,
          41240.51,
          41254.78,
          41254.09,
          41210.23,
          41036.33,
          41051.68,
          40865.63,
          41060.26,
          41091.31,
          41366.78,
          41382.81,
          41532.38,
          41516.49,
          41477.07,
          41429.87,
          41340.22,
          41417.56,
          41281.86,
          41196.17,
          41229.09,
          41299.97,
          41396.26,
          41573.98,
          41103,
          41131.25,
          41115.54,
          41120.98,
          40998.15,
          40964.34,
          40939.59,
          41065.02,
          41011.1,
          40969.16,
          40879.87,
          40915.18,
          40932.79,
          40968.38,
          40932.55,
          40640.87,
          40606.11,
          40631.62,
          40790.09,
          40739.54,
          40752.93,
          40615.37,
          40412.41,
          40315.97,
          40402.96,
          40351.68,
          40407.68,
          40353.68,
          40744.7,
          40756.21,
          40973.67,
          40931.83,
          40785.83,
          40798.83,
          40828.33,
          40632.29,
          40677.59,
          40473.09,
          40611.92,
          40684.98,
          40731.25,
          40746.94,
          40026.27,
          40174.75,
          40389.04,
          40548.24,
          40631.48,
          40802.91,
          40838.38,
          40817.02,
          40869.23
         ],
         "decreasing": {
          "line": {
           "color": "#ff6962"
          }
         },
         "high": [
          40221.05,
          40352.8,
          40016.48,
          39649.44,
          39624.5,
          39651.56,
          39582.11,
          39672.98,
          39739.57,
          38974.81,
          38881.52,
          39029.04,
          39021.82,
          38883.41,
          38854.5,
          38704.05,
          39150.07,
          39251.68,
          39226.58,
          39289.69,
          39375.02,
          39449.53,
          39280.23,
          39477.96,
          39457.32,
          39413.67,
          39258.93,
          39109.19,
          38918.48,
          38935.26,
          39334.02,
          39359.51,
          39361.56,
          39404.27,
          39508.4,
          39469.15,
          39476.87,
          39452.3,
          39524.99,
          39473.43,
          39606.12,
          39628.66,
          39504.1,
          39524.32,
          39587.06,
          39523.27,
          39491.61,
          39427.48,
          39391.91,
          39352.1,
          39360.53,
          39651.18,
          39579.35,
          39702.8,
          39732.03,
          39710.18,
          39758.26,
          39792.8,
          39868.65,
          39915.79,
          40051.82,
          40001.93,
          40037.88,
          40068.75,
          40062.22,
          40536.67,
          40492.34,
          40533.86,
          40542.66,
          40531.37,
          40575.47,
          40590.51,
          40625.93,
          40567.54,
          40644.31,
          40712.67,
          40691.53,
          40726.03,
          40690.81,
          40825.47,
          40886.14,
          40865.34,
          40907.32,
          40844.27,
          40860.75,
          40894.71,
          40888.64,
          40885.9,
          40863.59,
          40869.77,
          40909.38,
          40894.18,
          40844.42,
          40963.61,
          40974.4,
          40868.07,
          40879.88,
          40892.62,
          40920.88,
          40908.2,
          41026.64,
          40854.58,
          40838.35,
          40867.06,
          40708.92,
          40726.37,
          40731.72,
          41152.54,
          41207.92,
          41195.87,
          41039.87,
          41087.67,
          41171.95,
          41207.77,
          41400.22,
          41420.05,
          41251.03,
          41308.24,
          41268.21,
          41246.27,
          41249.66,
          41260.79,
          41258.71,
          41193.05,
          41222.33,
          41254.51,
          41258.84,
          41271.75,
          41351.11,
          41316.85,
          41208.9,
          41129.31,
          41081.9,
          41087.58,
          41141.06,
          41397.29,
          41409.55,
          41554.15,
          41577.97,
          41570.4,
          41477.26,
          41450.32,
          41498.98,
          41441.47,
          41296.3,
          41298.66,
          41324.33,
          41407.92,
          41585.21,
          41428.94,
          41174.06,
          41153.55,
          41136.81,
          41122.08,
          41024.7,
          40989.88,
          41084.48,
          41172.59,
          41031.02,
          41023.56,
          40928.5,
          40946.81,
          41006.19,
          41084.78,
          40976.58,
          40663.68,
          40698.17,
          40842.19,
          40866.15,
          40805.23,
          41009.39,
          40738.26,
          40495.34,
          40461.95,
          40420.79,
          40450.52,
          40431.4,
          40799.51,
          40764.22,
          40979.88,
          41000.24,
          40935.51,
          40810.99,
          40854.19,
          40916.5,
          40719.56,
          40699.01,
          40651.99,
          40687.92,
          40738.66,
          40750.71,
          40638.75,
          40201.3,
          40392.9,
          40592.43,
          40676.67,
          40812.45,
          40903.67,
          40984.29,
          40869.66
         ],
         "increasing": {
          "line": {
           "color": "#77dd76"
          }
         },
         "low": [
          40098.57,
          40200.26,
          39605.31,
          39358.68,
          39387.57,
          39489.25,
          39419.69,
          39539.65,
          39558.27,
          38499.27,
          38603.1,
          38818.84,
          38757.83,
          38735.24,
          38619.76,
          38571.23,
          38638.3,
          38937.32,
          38935.08,
          39148.12,
          39226.54,
          39144.15,
          38981.88,
          39187.76,
          39293.91,
          39173.4,
          38918.99,
          38761.72,
          38731.51,
          38743.7,
          38922.79,
          39247.66,
          39255.35,
          39216.07,
          39382.91,
          39375.87,
          39325.03,
          39230.43,
          39326.71,
          39361.83,
          39386.94,
          39419.97,
          39392.57,
          39452.1,
          39251.72,
          39292.09,
          39314.28,
          39302.21,
          39269.87,
          39303.88,
          39276.04,
          39392.41,
          39403.11,
          39550.1,
          39620.73,
          39616.63,
          39695.76,
          39722.08,
          39757.13,
          39737.2,
          39906.58,
          39906.04,
          39964.89,
          39972.95,
          39963.38,
          40303.45,
          40335.21,
          40444.22,
          40455.77,
          40499.11,
          40517.18,
          40491.31,
          40490.65,
          40453.58,
          40543.03,
          40615.26,
          40646.58,
          40667.29,
          40646.17,
          40670.83,
          40791.61,
          40792.67,
          40838.49,
          40799.79,
          40805.26,
          40809.08,
          40793.03,
          40763.58,
          40756.65,
          40786.59,
          40793.98,
          40819.05,
          40794.81,
          40772.22,
          40738.43,
          40749.19,
          40822.14,
          40831.57,
          40814.43,
          40828.26,
          40783.65,
          40711.32,
          40695.22,
          40659.15,
          40584.47,
          40651.21,
          40641.8,
          40843.62,
          40934.8,
          40875.01,
          40842.96,
          41021.31,
          41053.86,
          41100.97,
          41219.45,
          41192.95,
          41179.61,
          41232.86,
          41140.23,
          41200.3,
          41199.43,
          41141.46,
          41173.07,
          41127.47,
          41109.42,
          41215.16,
          41222.26,
          41222.75,
          41166.4,
          41190.17,
          41021.25,
          41021.54,
          40842.29,
          40861.83,
          41034.17,
          41086.81,
          41292.85,
          41369.84,
          41491.67,
          41476.35,
          41269.71,
          41306.61,
          41317.75,
          41275.1,
          41192.87,
          41145.85,
          41228.71,
          41291.71,
          41373.98,
          41052.64,
          41056.93,
          41085.03,
          41052.69,
          40985.62,
          40930.02,
          40778.09,
          40875.91,
          41011.1,
          40923.27,
          40872.08,
          40840.89,
          40843.94,
          40875.92,
          40828.85,
          40631.69,
          40519.08,
          40582.17,
          40625.31,
          40688.41,
          40681.59,
          40605.08,
          40377.31,
          40315.12,
          40316.16,
          40321.13,
          40297.33,
          40314.51,
          40518.06,
          40658.04,
          40756.44,
          40918.3,
          40765.81,
          40732.8,
          40763.88,
          40543.74,
          40570.88,
          40417.47,
          40460.61,
          40611.86,
          40677.95,
          40676.12,
          40015.76,
          39993.08,
          40170.03,
          40370.48,
          40548.79,
          40632.02,
          40725.58,
          40665.52,
          40745.67
         ],
         "open": [
          40137.08,
          40210.49,
          39927.02,
          39610.9,
          39393.36,
          39618.49,
          39499.31,
          39581.16,
          39657.64,
          38660.04,
          38617.32,
          38839.93,
          39021.82,
          38843.46,
          38846.72,
          38663.41,
          38736.22,
          39046.54,
          38935.68,
          39180.34,
          39286.69,
          39374.52,
          39260.59,
          39267.47,
          39309.56,
          39367.65,
          39236.8,
          39002.17,
          38822.53,
          38884.88,
          38940.38,
          39332.03,
          39323.3,
          39311.76,
          39402.57,
          39434.66,
          39397.49,
          39410.37,
          39404.21,
          39424.07,
          39388.59,
          39607.05,
          39426.74,
          39476.35,
          39556.01,
          39407.61,
          39336.4,
          39415.1,
          39364.96,
          39312.53,
          39325.4,
          39507.19,
          39479.01,
          39556.89,
          39651.3,
          39677.36,
          39701.29,
          39744.99,
          39800.59,
          39837.25,
          39911.68,
          39910.54,
          40001.04,
          39975.5,
          39993.98,
          40416.72,
          40364.22,
          40445.25,
          40527.29,
          40505.25,
          40530.99,
          40575.32,
          40515.01,
          40495.69,
          40563.55,
          40616.71,
          40674.06,
          40672.48,
          40672.21,
          40670.83,
          40803.1,
          40851.82,
          40855.37,
          40838.5,
          40806.46,
          40828.8,
          40858.06,
          40865.42,
          40768.69,
          40851.91,
          40829.47,
          40889.93,
          40819.27,
          40923.63,
          40859.8,
          40848.8,
          40824.45,
          40875.16,
          40891.61,
          40861.94,
          40950.11,
          40800.02,
          40720.4,
          40833.94,
          40680.29,
          40700.73,
          40674.85,
          40879.12,
          41123.18,
          41163.3,
          40900.11,
          41032.75,
          41073.82,
          41168.53,
          41226.16,
          41400,
          41203.16,
          41246.33,
          41265.23,
          41211.78,
          41212.93,
          41215.45,
          41229.63,
          41184.87,
          41169.01,
          41222.06,
          41244.42,
          41241.35,
          41240.74,
          41254.37,
          41208.9,
          41035.76,
          41051.7,
          40865.81,
          41060.42,
          41370,
          41366.89,
          41383.22,
          41532.15,
          41516.7,
          41477.26,
          41429.86,
          41398.03,
          41417.86,
          41281.86,
          41196.09,
          41228.87,
          41300.06,
          41396.35,
          41364.92,
          41102.53,
          41131.3,
          41114.79,
          41120.96,
          40997.91,
          40964.15,
          40888.29,
          41067.29,
          41012.12,
          40969.02,
          40879.39,
          40915.2,
          40932.56,
          41050.96,
          40936.07,
          40641.13,
          40606.46,
          40631.65,
          40789.38,
          40739.46,
          40797.85,
          40617.16,
          40413.11,
          40316.16,
          40403.31,
          40351.69,
          40407.32,
          40643.13,
          40745.18,
          40756.44,
          40974.13,
          40931.92,
          40786.39,
          40798.91,
          40916.5,
          40631.04,
          40676.85,
          40472.59,
          40611.86,
          40685.18,
          40731.15,
          40638.75,
          40026.08,
          40174.64,
          40389.42,
          40549.31,
          40632.02,
          40803.09,
          40862.1,
          40817.54
         ],
         "type": "candlestick",
         "x": [
          "2024-08-02T01:30:00",
          "2024-08-02T02:30:00",
          "2024-08-02T20:30:00",
          "2024-08-02T21:30:00",
          "2024-08-02T22:30:00",
          "2024-08-02T23:30:00",
          "2024-08-03T00:30:00",
          "2024-08-03T01:30:00",
          "2024-08-03T02:30:00",
          "2024-08-05T20:30:00",
          "2024-08-05T21:30:00",
          "2024-08-05T22:30:00",
          "2024-08-05T23:30:00",
          "2024-08-06T00:30:00",
          "2024-08-06T01:30:00",
          "2024-08-06T02:30:00",
          "2024-08-06T20:30:00",
          "2024-08-06T21:30:00",
          "2024-08-06T22:30:00",
          "2024-08-06T23:30:00",
          "2024-08-07T00:30:00",
          "2024-08-07T01:30:00",
          "2024-08-07T02:30:00",
          "2024-08-07T20:30:00",
          "2024-08-07T21:30:00",
          "2024-08-07T22:30:00",
          "2024-08-07T23:30:00",
          "2024-08-08T00:30:00",
          "2024-08-08T01:30:00",
          "2024-08-08T02:30:00",
          "2024-08-08T20:30:00",
          "2024-08-08T21:30:00",
          "2024-08-08T22:30:00",
          "2024-08-08T23:30:00",
          "2024-08-09T00:30:00",
          "2024-08-09T01:30:00",
          "2024-08-09T02:30:00",
          "2024-08-09T20:30:00",
          "2024-08-09T21:30:00",
          "2024-08-09T22:30:00",
          "2024-08-09T23:30:00",
          "2024-08-10T00:30:00",
          "2024-08-10T01:30:00",
          "2024-08-10T02:30:00",
          "2024-08-12T20:30:00",
          "2024-08-12T21:30:00",
          "2024-08-12T22:30:00",
          "2024-08-12T23:30:00",
          "2024-08-13T00:30:00",
          "2024-08-13T01:30:00",
          "2024-08-13T02:30:00",
          "2024-08-13T20:30:00",
          "2024-08-13T21:30:00",
          "2024-08-13T22:30:00",
          "2024-08-13T23:30:00",
          "2024-08-14T00:30:00",
          "2024-08-14T01:30:00",
          "2024-08-14T02:30:00",
          "2024-08-14T20:30:00",
          "2024-08-14T21:30:00",
          "2024-08-14T22:30:00",
          "2024-08-14T23:30:00",
          "2024-08-15T00:30:00",
          "2024-08-15T01:30:00",
          "2024-08-15T02:30:00",
          "2024-08-15T20:30:00",
          "2024-08-15T21:30:00",
          "2024-08-15T22:30:00",
          "2024-08-15T23:30:00",
          "2024-08-16T00:30:00",
          "2024-08-16T01:30:00",
          "2024-08-16T02:30:00",
          "2024-08-16T20:30:00",
          "2024-08-16T21:30:00",
          "2024-08-16T22:30:00",
          "2024-08-16T23:30:00",
          "2024-08-17T00:30:00",
          "2024-08-17T01:30:00",
          "2024-08-17T02:30:00",
          "2024-08-19T20:30:00",
          "2024-08-19T21:30:00",
          "2024-08-19T22:30:00",
          "2024-08-19T23:30:00",
          "2024-08-20T00:30:00",
          "2024-08-20T01:30:00",
          "2024-08-20T02:30:00",
          "2024-08-20T20:30:00",
          "2024-08-20T21:30:00",
          "2024-08-20T22:30:00",
          "2024-08-20T23:30:00",
          "2024-08-21T00:30:00",
          "2024-08-21T01:30:00",
          "2024-08-21T02:30:00",
          "2024-08-21T20:30:00",
          "2024-08-21T21:30:00",
          "2024-08-21T22:30:00",
          "2024-08-21T23:30:00",
          "2024-08-22T00:30:00",
          "2024-08-22T01:30:00",
          "2024-08-22T02:30:00",
          "2024-08-22T20:30:00",
          "2024-08-22T21:30:00",
          "2024-08-22T22:30:00",
          "2024-08-22T23:30:00",
          "2024-08-23T00:30:00",
          "2024-08-23T01:30:00",
          "2024-08-23T02:30:00",
          "2024-08-23T20:30:00",
          "2024-08-23T21:30:00",
          "2024-08-23T22:30:00",
          "2024-08-23T23:30:00",
          "2024-08-24T00:30:00",
          "2024-08-24T01:30:00",
          "2024-08-24T02:30:00",
          "2024-08-26T20:30:00",
          "2024-08-26T21:30:00",
          "2024-08-26T22:30:00",
          "2024-08-26T23:30:00",
          "2024-08-27T00:30:00",
          "2024-08-27T01:30:00",
          "2024-08-27T02:30:00",
          "2024-08-27T20:30:00",
          "2024-08-27T21:30:00",
          "2024-08-27T22:30:00",
          "2024-08-27T23:30:00",
          "2024-08-28T00:30:00",
          "2024-08-28T01:30:00",
          "2024-08-28T02:30:00",
          "2024-08-28T20:30:00",
          "2024-08-28T21:30:00",
          "2024-08-28T22:30:00",
          "2024-08-28T23:30:00",
          "2024-08-29T00:30:00",
          "2024-08-29T01:30:00",
          "2024-08-29T02:30:00",
          "2024-08-29T20:30:00",
          "2024-08-29T21:30:00",
          "2024-08-29T22:30:00",
          "2024-08-29T23:30:00",
          "2024-08-30T00:30:00",
          "2024-08-30T01:30:00",
          "2024-08-30T02:30:00",
          "2024-08-30T20:30:00",
          "2024-08-30T21:30:00",
          "2024-08-30T22:30:00",
          "2024-08-30T23:30:00",
          "2024-08-31T00:30:00",
          "2024-08-31T01:30:00",
          "2024-08-31T02:30:00",
          "2024-09-03T20:30:00",
          "2024-09-03T21:30:00",
          "2024-09-03T22:30:00",
          "2024-09-03T23:30:00",
          "2024-09-04T00:30:00",
          "2024-09-04T01:30:00",
          "2024-09-04T02:30:00",
          "2024-09-04T20:30:00",
          "2024-09-04T21:30:00",
          "2024-09-04T22:30:00",
          "2024-09-04T23:30:00",
          "2024-09-05T00:30:00",
          "2024-09-05T01:30:00",
          "2024-09-05T02:30:00",
          "2024-09-05T20:30:00",
          "2024-09-05T21:30:00",
          "2024-09-05T22:30:00",
          "2024-09-05T23:30:00",
          "2024-09-06T00:30:00",
          "2024-09-06T01:30:00",
          "2024-09-06T02:30:00",
          "2024-09-06T20:30:00",
          "2024-09-06T21:30:00",
          "2024-09-06T22:30:00",
          "2024-09-06T23:30:00",
          "2024-09-07T00:30:00",
          "2024-09-07T01:30:00",
          "2024-09-07T02:30:00",
          "2024-09-09T20:30:00",
          "2024-09-09T21:30:00",
          "2024-09-09T22:30:00",
          "2024-09-09T23:30:00",
          "2024-09-10T00:30:00",
          "2024-09-10T01:30:00",
          "2024-09-10T02:30:00",
          "2024-09-10T20:30:00",
          "2024-09-10T21:30:00",
          "2024-09-10T22:30:00",
          "2024-09-10T23:30:00",
          "2024-09-11T00:30:00",
          "2024-09-11T01:30:00",
          "2024-09-11T02:30:00",
          "2024-09-11T20:30:00",
          "2024-09-11T21:30:00",
          "2024-09-11T22:30:00",
          "2024-09-11T23:30:00",
          "2024-09-12T00:30:00",
          "2024-09-12T01:30:00",
          "2024-09-12T02:30:00",
          "2024-09-12T20:30:00",
          "2024-09-12T21:30:00"
         ]
        },
        {
         "line": {
          "color": "rgba(255, 165, 0, 0.2)"
         },
         "mode": "lines",
         "type": "scatter",
         "x": [
          "2024-08-07T20:30:00",
          "2024-08-09T23:30:00"
         ],
         "y": [
          39477.9609375,
          39477.9609375
         ]
        },
        {
         "mode": "text",
         "text": "BOS",
         "textfont": {
          "color": "rgba(255, 165, 0, 0.4)",
          "size": 8
         },
         "textposition": "top center",
         "type": "scatter",
         "x": [
          "2024-08-08T22:30:00"
         ],
         "y": [
          39477.9609375
         ]
        },
        {
         "line": {
          "color": "rgba(255, 165, 0, 0.2)"
         },
         "mode": "lines",
         "type": "scatter",
         "x": [
          "2024-08-10T00:30:00",
          "2024-08-13T22:30:00"
         ],
         "y": [
          39628.66015625,
          39628.66015625
         ]
        },
        {
         "mode": "text",
         "text": "BOS",
         "textfont": {
          "color": "rgba(255, 165, 0, 0.4)",
          "size": 8
         },
         "textposition": "top center",
         "type": "scatter",
         "x": [
          "2024-08-12T23:30:00"
         ],
         "y": [
          39628.66015625
         ]
        },
        {
         "line": {
          "color": "rgba(255, 255, 255, 0.2)"
         },
         "mode": "lines",
         "type": "scatter",
         "x": [
          "2024-08-20T22:30:00",
          "2024-08-22T21:30:00"
         ],
         "y": [
          40756.6484375,
          40756.6484375
         ]
        },
        {
         "mode": "text",
         "text": "CHOCH",
         "textfont": {
          "color": "rgba(255, 255, 255, 0.4)",
          "size": 8
         },
         "textposition": "bottom center",
         "type": "scatter",
         "x": [
          "2024-08-21T21:30:00"
         ],
         "y": [
          40756.6484375
         ]
        },
        {
         "line": {
          "color": "rgba(255, 255, 255, 0.2)"
         },
         "mode": "lines",
         "type": "scatter",
         "x": [
          "2024-08-22T20:30:00",
          "2024-08-23T20:30:00"
         ],
         "y": [
          41026.640625,
          41026.640625
         ]
        },
        {
         "mode": "text",
         "text": "CHOCH",
         "textfont": {
          "color": "rgba(255, 255, 255, 0.4)",
          "size": 8
         },
         "textposition": "top center",
         "type": "scatter",
         "x": [
          "2024-08-23T00:30:00"
         ],
         "y": [
          41026.640625
         ]
        },
        {
         "line": {
          "color": "rgba(255, 165, 0, 0.2)"
         },
         "mode": "lines",
         "type": "scatter",
         "x": [
          "2024-08-27T23:30:00",
          "2024-08-28T22:30:00"
         ],
         "y": [
          41109.421875,
          41109.421875
         ]
        },
        {
         "mode": "text",
         "text": "BOS",
         "textfont": {
          "color": "rgba(255, 165, 0, 0.4)",
          "size": 8
         },
         "textposition": "bottom center",
         "type": "scatter",
         "x": [
          "2024-08-28T02:30:00"
         ],
         "y": [
          41109.421875
         ]
        },
        {
         "line": {
          "color": "rgba(255, 255, 255, 0.2)"
         },
         "mode": "lines",
         "type": "scatter",
         "x": [
          "2024-08-28T20:30:00",
          "2024-08-29T20:30:00"
         ],
         "y": [
          41351.109375,
          41351.109375
         ]
        },
        {
         "mode": "text",
         "text": "CHOCH",
         "textfont": {
          "color": "rgba(255, 255, 255, 0.4)",
          "size": 8
         },
         "textposition": "top center",
         "type": "scatter",
         "x": [
          "2024-08-29T00:30:00"
         ],
         "y": [
          41351.109375
         ]
        },
        {
         "line": {
          "color": "rgba(255, 165, 0, 0.2)"
         },
         "mode": "lines",
         "type": "scatter",
         "x": [
          "2024-09-04T02:30:00",
          "2024-09-05T21:30:00"
         ],
         "y": [
          40778.08984375,
          40778.08984375
         ]
        },
        {
         "mode": "text",
         "text": "BOS",
         "textfont": {
          "color": "rgba(255, 165, 0, 0.4)",
          "size": 8
         },
         "textposition": "bottom center",
         "type": "scatter",
         "x": [
          "2024-09-05T00:30:00"
         ],
         "y": [
          40778.08984375
         ]
        },
        {
         "line": {
          "color": "rgba(255, 165, 0, 0.2)"
         },
         "mode": "lines",
         "type": "scatter",
         "x": [
          "2024-09-05T22:30:00",
          "2024-09-06T21:30:00"
         ],
         "y": [
          40519.078125,
          40519.078125
         ]
        },
        {
         "mode": "text",
         "text": "BOS",
         "textfont": {
          "color": "rgba(255, 165, 0, 0.4)",
          "size": 8
         },
         "textposition": "bottom center",
         "type": "scatter",
         "x": [
          "2024-09-06T01:30:00"
         ],
         "y": [
          40519.078125
         ]
        },
        {
         "line": {
          "color": "rgba(255, 165, 0, 0.2)"
         },
         "mode": "lines",
         "type": "scatter",
         "x": [
          "2024-09-07T01:30:00",
          "2024-09-11T20:30:00"
         ],
         "y": [
          40297.328125,
          40297.328125
         ]
        },
        {
         "mode": "text",
         "text": "BOS",
         "textfont": {
          "color": "rgba(255, 165, 0, 0.4)",
          "size": 8
         },
         "textposition": "bottom center",
         "type": "scatter",
         "x": [
          "2024-09-10T02:30:00"
         ],
         "y": [
          40297.328125
         ]
        }
       ],
       "layout": {
        "annotations": [
         {
          "align": "center",
          "font": {
           "color": "rgba(250, 250, 250, 1)",
           "size": 8
          },
          "showarrow": false,
          "text": "OB: 0.00 (100.0%)",
          "x": "2024-08-26T20:30:00",
          "xref": "x",
          "y": 38824.99609375,
          "yref": "y"
         },
         {
          "align": "center",
          "font": {
           "color": "rgba(250, 250, 250, 1)",
           "size": 8
          },
          "showarrow": false,
          "text": "OB: 0.00 (100.0%)",
          "x": "2024-08-27T21:30:00",
          "xref": "x",
          "y": 39419.390625,
          "yref": "y"
         },
         {
          "align": "center",
          "font": {
           "color": "rgba(250, 250, 250, 1)",
           "size": 8
          },
          "showarrow": false,
          "text": "OB: 0.00 (100.0%)",
          "x": "2024-09-09T21:30:00",
          "xref": "x",
          "y": 41091.84375,
          "yref": "y"
         },
         {
          "align": "center",
          "font": {
           "color": "rgba(250, 250, 250, 1)",
           "size": 8
          },
          "showarrow": false,
          "text": "OB: 0.00 (100.0%)",
          "x": "2024-09-10T21:30:00",
          "xref": "x",
          "y": 40807.234375,
          "yref": "y"
         },
         {
          "align": "center",
          "font": {
           "color": "rgba(250, 250, 250, 1)",
           "size": 8
          },
          "showarrow": false,
          "text": "OB: 0.00 (100.0%)",
          "x": "2024-09-11T02:30:00",
          "xref": "x",
          "y": 40959.26953125,
          "yref": "y"
         }
        ],
        "font": {
         "color": "white"
        },
        "height": 400,
        "margin": {
         "b": 0,
         "l": 0,
         "pad": 50,
         "r": 50,
         "t": 0
        },
        "paper_bgcolor": "rgba(34, 42, 58, 0.8)",
        "plot_bgcolor": "rgba(34, 42, 58, 0.8)",
        "shapes": [
         {
          "fillcolor": "Purple",
          "legendgroup": "bullish ob",
          "line": {
           "color": "Purple"
          },
          "name": "Bullish OB",
          "opacity": 0.2,
          "showlegend": true,
          "type": "rect",
          "x0": "2024-08-08T01:30:00",
          "x1": "2024-09-12T21:30:00",
          "y0": 38731.51171875,
          "y1": 38918.48046875
         },
         {
          "fillcolor": "Purple",
          "legendgroup": "bullish ob",
          "line": {
           "color": "Purple"
          },
          "name": "Bullish OB",
          "opacity": 0.2,
          "showlegend": true,
          "type": "rect",
          "x0": "2024-08-12T20:30:00",
          "x1": "2024-09-12T21:30:00",
          "y0": 39251.71875,
          "y1": 39587.05859375
         },
         {
          "fillcolor": "Purple",
          "legendgroup": "bearish ob",
          "line": {
           "color": "Purple"
          },
          "name": "Bearish OB",
          "opacity": 0.2,
          "showlegend": true,
          "type": "rect",
          "x0": "2024-09-04T21:30:00",
          "x1": "2024-09-12T21:30:00",
          "y0": 41011.1015625,
          "y1": 41172.58984375
         },
         {
          "fillcolor": "Purple",
          "legendgroup": "bearish ob",
          "line": {
           "color": "Purple"
          },
          "name": "Bearish OB",
          "opacity": 0.2,
          "showlegend": true,
          "type": "rect",
          "x0": "2024-09-06T20:30:00",
          "x1": "2024-09-12T21:30:00",
          "y0": 40605.078125,
          "y1": 41009.390625
         },
         {
          "fillcolor": "Purple",
          "legendgroup": "bearish ob",
          "line": {
           "color": "Purple"
          },
          "name": "Bearish OB",
          "opacity": 0.2,
          "showlegend": true,
          "type": "rect",
          "x0": "2024-09-09T23:30:00",
          "x1": "2024-09-12T21:30:00",
          "y0": 40918.30078125,
          "y1": 41000.23828125
         }
        ],
        "showlegend": false,
        "template": {
         "data": {
          "bar": [
           {
            "error_x": {
             "color": "#2a3f5f"
            },
            "error_y": {
             "color": "#2a3f5f"
            },
            "marker": {
             "line": {
              "color": "#E5ECF6",
              "width": 0.5
             },
             "pattern": {
              "fillmode": "overlay",
              "size": 10,
              "solidity": 0.2
             }
            },
            "type": "bar"
           }
          ],
          "barpolar": [
           {
            "marker": {
             "line": {
              "color": "#E5ECF6",
              "width": 0.5
             },
             "pattern": {
              "fillmode": "overlay",
              "size": 10,
              "solidity": 0.2
             }
            },
            "type": "barpolar"
           }
          ],
          "carpet": [
           {
            "aaxis": {
             "endlinecolor": "#2a3f5f",
             "gridcolor": "white",
             "linecolor": "white",
             "minorgridcolor": "white",
             "startlinecolor": "#2a3f5f"
            },
            "baxis": {
             "endlinecolor": "#2a3f5f",
             "gridcolor": "white",
             "linecolor": "white",
             "minorgridcolor": "white",
             "startlinecolor": "#2a3f5f"
            },
            "type": "carpet"
           }
          ],
          "choropleth": [
           {
            "colorbar": {
             "outlinewidth": 0,
             "ticks": ""
            },
            "type": "choropleth"
           }
          ],
          "contour": [
           {
            "colorbar": {
             "outlinewidth": 0,
             "ticks": ""
            },
            "colorscale": [
             [
              0,
              "#0d0887"
             ],
             [
              0.1111111111111111,
              "#46039f"
             ],
             [
              0.2222222222222222,
              "#7201a8"
             ],
             [
              0.3333333333333333,
              "#9c179e"
             ],
             [
              0.4444444444444444,
              "#bd3786"
             ],
             [
              0.5555555555555556,
              "#d8576b"
             ],
             [
              0.6666666666666666,
              "#ed7953"
             ],
             [
              0.7777777777777778,
              "#fb9f3a"
             ],
             [
              0.8888888888888888,
              "#fdca26"
             ],
             [
              1,
              "#f0f921"
             ]
            ],
            "type": "contour"
           }
          ],
          "contourcarpet": [
           {
            "colorbar": {
             "outlinewidth": 0,
             "ticks": ""
            },
            "type": "contourcarpet"
           }
          ],
          "heatmap": [
           {
            "colorbar": {
             "outlinewidth": 0,
             "ticks": ""
            },
            "colorscale": [
             [
              0,
              "#0d0887"
             ],
             [
              0.1111111111111111,
              "#46039f"
             ],
             [
              0.2222222222222222,
              "#7201a8"
             ],
             [
              0.3333333333333333,
              "#9c179e"
             ],
             [
              0.4444444444444444,
              "#bd3786"
             ],
             [
              0.5555555555555556,
              "#d8576b"
             ],
             [
              0.6666666666666666,
              "#ed7953"
             ],
             [
              0.7777777777777778,
              "#fb9f3a"
             ],
             [
              0.8888888888888888,
              "#fdca26"
             ],
             [
              1,
              "#f0f921"
             ]
            ],
            "type": "heatmap"
           }
          ],
          "heatmapgl": [
           {
            "colorbar": {
             "outlinewidth": 0,
             "ticks": ""
            },
            "colorscale": [
             [
              0,
              "#0d0887"
             ],
             [
              0.1111111111111111,
              "#46039f"
             ],
             [
              0.2222222222222222,
              "#7201a8"
             ],
             [
              0.3333333333333333,
              "#9c179e"
             ],
             [
              0.4444444444444444,
              "#bd3786"
             ],
             [
              0.5555555555555556,
              "#d8576b"
             ],
             [
              0.6666666666666666,
              "#ed7953"
             ],
             [
              0.7777777777777778,
              "#fb9f3a"
             ],
             [
              0.8888888888888888,
              "#fdca26"
             ],
             [
              1,
              "#f0f921"
             ]
            ],
            "type": "heatmapgl"
           }
          ],
          "histogram": [
           {
            "marker": {
             "pattern": {
              "fillmode": "overlay",
              "size": 10,
              "solidity": 0.2
             }
            },
            "type": "histogram"
           }
          ],
          "histogram2d": [
           {
            "colorbar": {
             "outlinewidth": 0,
             "ticks": ""
            },
            "colorscale": [
             [
              0,
              "#0d0887"
             ],
             [
              0.1111111111111111,
              "#46039f"
             ],
             [
              0.2222222222222222,
              "#7201a8"
             ],
             [
              0.3333333333333333,
              "#9c179e"
             ],
             [
              0.4444444444444444,
              "#bd3786"
             ],
             [
              0.5555555555555556,
              "#d8576b"
             ],
             [
              0.6666666666666666,
              "#ed7953"
             ],
             [
              0.7777777777777778,
              "#fb9f3a"
             ],
             [
              0.8888888888888888,
              "#fdca26"
             ],
             [
              1,
              "#f0f921"
             ]
            ],
            "type": "histogram2d"
           }
          ],
          "histogram2dcontour": [
           {
            "colorbar": {
             "outlinewidth": 0,
             "ticks": ""
            },
            "colorscale": [
             [
              0,
              "#0d0887"
             ],
             [
              0.1111111111111111,
              "#46039f"
             ],
             [
              0.2222222222222222,
              "#7201a8"
             ],
             [
              0.3333333333333333,
              "#9c179e"
             ],
             [
              0.4444444444444444,
              "#bd3786"
             ],
             [
              0.5555555555555556,
              "#d8576b"
             ],
             [
              0.6666666666666666,
              "#ed7953"
             ],
             [
              0.7777777777777778,
              "#fb9f3a"
             ],
             [
              0.8888888888888888,
              "#fdca26"
             ],
             [
              1,
              "#f0f921"
             ]
            ],
            "type": "histogram2dcontour"
           }
          ],
          "mesh3d": [
           {
            "colorbar": {
             "outlinewidth": 0,
             "ticks": ""
            },
            "type": "mesh3d"
           }
          ],
          "parcoords": [
           {
            "line": {
             "colorbar": {
              "outlinewidth": 0,
              "ticks": ""
             }
            },
            "type": "parcoords"
           }
          ],
          "pie": [
           {
            "automargin": true,
            "type": "pie"
           }
          ],
          "scatter": [
           {
            "fillpattern": {
             "fillmode": "overlay",
             "size": 10,
             "solidity": 0.2
            },
            "type": "scatter"
           }
          ],
          "scatter3d": [
           {
            "line": {
             "colorbar": {
              "outlinewidth": 0,
              "ticks": ""
             }
            },
            "marker": {
             "colorbar": {
              "outlinewidth": 0,
              "ticks": ""
             }
            },
            "type": "scatter3d"
           }
          ],
          "scattercarpet": [
           {
            "marker": {
             "colorbar": {
              "outlinewidth": 0,
              "ticks": ""
             }
            },
            "type": "scattercarpet"
           }
          ],
          "scattergeo": [
           {
            "marker": {
             "colorbar": {
              "outlinewidth": 0,
              "ticks": ""
             }
            },
            "type": "scattergeo"
           }
          ],
          "scattergl": [
           {
            "marker": {
             "colorbar": {
              "outlinewidth": 0,
              "ticks": ""
             }
            },
            "type": "scattergl"
           }
          ],
          "scattermapbox": [
           {
            "marker": {
             "colorbar": {
              "outlinewidth": 0,
              "ticks": ""
             }
            },
            "type": "scattermapbox"
           }
          ],
          "scatterpolar": [
           {
            "marker": {
             "colorbar": {
              "outlinewidth": 0,
              "ticks": ""
             }
            },
            "type": "scatterpolar"
           }
          ],
          "scatterpolargl": [
           {
            "marker": {
             "colorbar": {
              "outlinewidth": 0,
              "ticks": ""
             }
            },
            "type": "scatterpolargl"
           }
          ],
          "scatterternary": [
           {
            "marker": {
             "colorbar": {
              "outlinewidth": 0,
              "ticks": ""
             }
            },
            "type": "scatterternary"
           }
          ],
          "surface": [
           {
            "colorbar": {
             "outlinewidth": 0,
             "ticks": ""
            },
            "colorscale": [
             [
              0,
              "#0d0887"
             ],
             [
              0.1111111111111111,
              "#46039f"
             ],
             [
              0.2222222222222222,
              "#7201a8"
             ],
             [
              0.3333333333333333,
              "#9c179e"
             ],
             [
              0.4444444444444444,
              "#bd3786"
             ],
             [
              0.5555555555555556,
              "#d8576b"
             ],
             [
              0.6666666666666666,
              "#ed7953"
             ],
             [
              0.7777777777777778,
              "#fb9f3a"
             ],
             [
              0.8888888888888888,
              "#fdca26"
             ],
             [
              1,
              "#f0f921"
             ]
            ],
            "type": "surface"
           }
          ],
          "table": [
           {
            "cells": {
             "fill": {
              "color": "#EBF0F8"
             },
             "line": {
              "color": "white"
             }
            },
            "header": {
             "fill": {
              "color": "#C8D4E3"
             },
             "line": {
              "color": "white"
             }
            },
            "type": "table"
           }
          ]
         },
         "layout": {
          "annotationdefaults": {
           "arrowcolor": "#2a3f5f",
           "arrowhead": 0,
           "arrowwidth": 1
          },
          "autotypenumbers": "strict",
          "coloraxis": {
           "colorbar": {
            "outlinewidth": 0,
            "ticks": ""
           }
          },
          "colorscale": {
           "diverging": [
            [
             0,
             "#8e0152"
            ],
            [
             0.1,
             "#c51b7d"
            ],
            [
             0.2,
             "#de77ae"
            ],
            [
             0.3,
             "#f1b6da"
            ],
            [
             0.4,
             "#fde0ef"
            ],
            [
             0.5,
             "#f7f7f7"
            ],
            [
             0.6,
             "#e6f5d0"
            ],
            [
             0.7,
             "#b8e186"
            ],
            [
             0.8,
             "#7fbc41"
            ],
            [
             0.9,
             "#4d9221"
            ],
            [
             1,
             "#276419"
            ]
           ],
           "sequential": [
            [
             0,
             "#0d0887"
            ],
            [
             0.1111111111111111,
             "#46039f"
            ],
            [
             0.2222222222222222,
             "#7201a8"
            ],
            [
             0.3333333333333333,
             "#9c179e"
            ],
            [
             0.4444444444444444,
             "#bd3786"
            ],
            [
             0.5555555555555556,
             "#d8576b"
            ],
            [
             0.6666666666666666,
             "#ed7953"
            ],
            [
             0.7777777777777778,
             "#fb9f3a"
            ],
            [
             0.8888888888888888,
             "#fdca26"
            ],
            [
             1,
             "#f0f921"
            ]
           ],
           "sequentialminus": [
            [
             0,
             "#0d0887"
            ],
            [
             0.1111111111111111,
             "#46039f"
            ],
            [
             0.2222222222222222,
             "#7201a8"
            ],
            [
             0.3333333333333333,
             "#9c179e"
            ],
            [
             0.4444444444444444,
             "#bd3786"
            ],
            [
             0.5555555555555556,
             "#d8576b"
            ],
            [
             0.6666666666666666,
             "#ed7953"
            ],
            [
             0.7777777777777778,
             "#fb9f3a"
            ],
            [
             0.8888888888888888,
             "#fdca26"
            ],
            [
             1,
             "#f0f921"
            ]
           ]
          },
          "colorway": [
           "#636efa",
           "#EF553B",
           "#00cc96",
           "#ab63fa",
           "#FFA15A",
           "#19d3f3",
           "#FF6692",
           "#B6E880",
           "#FF97FF",
           "#FECB52"
          ],
          "font": {
           "color": "#2a3f5f"
          },
          "geo": {
           "bgcolor": "white",
           "lakecolor": "white",
           "landcolor": "#E5ECF6",
           "showlakes": true,
           "showland": true,
           "subunitcolor": "white"
          },
          "hoverlabel": {
           "align": "left"
          },
          "hovermode": "closest",
          "mapbox": {
           "style": "light"
          },
          "paper_bgcolor": "white",
          "plot_bgcolor": "#E5ECF6",
          "polar": {
           "angularaxis": {
            "gridcolor": "white",
            "linecolor": "white",
            "ticks": ""
           },
           "bgcolor": "#E5ECF6",
           "radialaxis": {
            "gridcolor": "white",
            "linecolor": "white",
            "ticks": ""
           }
          },
          "scene": {
           "xaxis": {
            "backgroundcolor": "#E5ECF6",
            "gridcolor": "white",
            "gridwidth": 2,
            "linecolor": "white",
            "showbackground": true,
            "ticks": "",
            "zerolinecolor": "white"
           },
           "yaxis": {
            "backgroundcolor": "#E5ECF6",
            "gridcolor": "white",
            "gridwidth": 2,
            "linecolor": "white",
            "showbackground": true,
            "ticks": "",
            "zerolinecolor": "white"
           },
           "zaxis": {
            "backgroundcolor": "#E5ECF6",
            "gridcolor": "white",
            "gridwidth": 2,
            "linecolor": "white",
            "showbackground": true,
            "ticks": "",
            "zerolinecolor": "white"
           }
          },
          "shapedefaults": {
           "line": {
            "color": "#2a3f5f"
           }
          },
          "ternary": {
           "aaxis": {
            "gridcolor": "white",
            "linecolor": "white",
            "ticks": ""
           },
           "baxis": {
            "gridcolor": "white",
            "linecolor": "white",
            "ticks": ""
           },
           "bgcolor": "#E5ECF6",
           "caxis": {
            "gridcolor": "white",
            "linecolor": "white",
            "ticks": ""
           }
          },
          "title": {
           "x": 0.05
          },
          "xaxis": {
           "automargin": true,
           "gridcolor": "white",
           "linecolor": "white",
           "ticks": "",
           "title": {
            "standoff": 15
           },
           "zerolinecolor": "white",
           "zerolinewidth": 2
          },
          "yaxis": {
           "automargin": true,
           "gridcolor": "white",
           "linecolor": "white",
           "ticks": "",
           "title": {
            "standoff": 15
           },
           "zerolinecolor": "white",
           "zerolinewidth": 2
          }
         }
        },
        "width": 800,
        "xaxis": {
         "rangebreaks": [
          {
           "dvalue": 3600000,
           "values": [
            "2024-08-02T03:30:00",
            "2024-08-02T04:30:00",
            "2024-08-02T05:30:00",
            "2024-08-02T06:30:00",
            "2024-08-02T07:30:00",
            "2024-08-02T08:30:00",
            "2024-08-02T09:30:00",
            "2024-08-02T10:30:00",
            "2024-08-02T11:30:00",
            "2024-08-02T12:30:00",
            "2024-08-02T13:30:00",
            "2024-08-02T14:30:00",
            "2024-08-02T15:30:00",
            "2024-08-02T16:30:00",
            "2024-08-02T17:30:00",
            "2024-08-02T18:30:00",
            "2024-08-02T19:30:00",
            "2024-08-03T03:30:00",
            "2024-08-03T04:30:00",
            "2024-08-03T05:30:00",
            "2024-08-03T06:30:00",
            "2024-08-03T07:30:00",
            "2024-08-03T08:30:00",
            "2024-08-03T09:30:00",
            "2024-08-03T10:30:00",
            "2024-08-03T11:30:00",
            "2024-08-03T12:30:00",
            "2024-08-03T13:30:00",
            "2024-08-03T14:30:00",
            "2024-08-03T15:30:00",
            "2024-08-03T16:30:00",
            "2024-08-03T17:30:00",
            "2024-08-03T18:30:00",
            "2024-08-03T19:30:00",
            "2024-08-03T20:30:00",
            "2024-08-03T21:30:00",
            "2024-08-03T22:30:00",
            "2024-08-03T23:30:00",
            "2024-08-04T00:30:00",
            "2024-08-04T01:30:00",
            "2024-08-04T02:30:00",
            "2024-08-04T03:30:00",
            "2024-08-04T04:30:00",
            "2024-08-04T05:30:00",
            "2024-08-04T06:30:00",
            "2024-08-04T07:30:00",
            "2024-08-04T08:30:00",
            "2024-08-04T09:30:00",
            "2024-08-04T10:30:00",
            "2024-08-04T11:30:00",
            "2024-08-04T12:30:00",
            "2024-08-04T13:30:00",
            "2024-08-04T14:30:00",
            "2024-08-04T15:30:00",
            "2024-08-04T16:30:00",
            "2024-08-04T17:30:00",
            "2024-08-04T18:30:00",
            "2024-08-04T19:30:00",
            "2024-08-04T20:30:00",
            "2024-08-04T21:30:00",
            "2024-08-04T22:30:00",
            "2024-08-04T23:30:00",
            "2024-08-05T00:30:00",
            "2024-08-05T01:30:00",
            "2024-08-05T02:30:00",
            "2024-08-05T03:30:00",
            "2024-08-05T04:30:00",
            "2024-08-05T05:30:00",
            "2024-08-05T06:30:00",
            "2024-08-05T07:30:00",
            "2024-08-05T08:30:00",
            "2024-08-05T09:30:00",
            "2024-08-05T10:30:00",
            "2024-08-05T11:30:00",
            "2024-08-05T12:30:00",
            "2024-08-05T13:30:00",
            "2024-08-05T14:30:00",
            "2024-08-05T15:30:00",
            "2024-08-05T16:30:00",
            "2024-08-05T17:30:00",
            "2024-08-05T18:30:00",
            "2024-08-05T19:30:00",
            "2024-08-06T03:30:00",
            "2024-08-06T04:30:00",
            "2024-08-06T05:30:00",
            "2024-08-06T06:30:00",
            "2024-08-06T07:30:00",
            "2024-08-06T08:30:00",
            "2024-08-06T09:30:00",
            "2024-08-06T10:30:00",
            "2024-08-06T11:30:00",
            "2024-08-06T12:30:00",
            "2024-08-06T13:30:00",
            "2024-08-06T14:30:00",
            "2024-08-06T15:30:00",
            "2024-08-06T16:30:00",
            "2024-08-06T17:30:00",
            "2024-08-06T18:30:00",
            "2024-08-06T19:30:00",
            "2024-08-07T03:30:00",
            "2024-08-07T04:30:00",
            "2024-08-07T05:30:00",
            "2024-08-07T06:30:00",
            "2024-08-07T07:30:00",
            "2024-08-07T08:30:00",
            "2024-08-07T09:30:00",
            "2024-08-07T10:30:00",
            "2024-08-07T11:30:00",
            "2024-08-07T12:30:00",
            "2024-08-07T13:30:00",
            "2024-08-07T14:30:00",
            "2024-08-07T15:30:00",
            "2024-08-07T16:30:00",
            "2024-08-07T17:30:00",
            "2024-08-07T18:30:00",
            "2024-08-07T19:30:00",
            "2024-08-08T03:30:00",
            "2024-08-08T04:30:00",
            "2024-08-08T05:30:00",
            "2024-08-08T06:30:00",
            "2024-08-08T07:30:00",
            "2024-08-08T08:30:00",
            "2024-08-08T09:30:00",
            "2024-08-08T10:30:00",
            "2024-08-08T11:30:00",
            "2024-08-08T12:30:00",
            "2024-08-08T13:30:00",
            "2024-08-08T14:30:00",
            "2024-08-08T15:30:00",
            "2024-08-08T16:30:00",
            "2024-08-08T17:30:00",
            "2024-08-08T18:30:00",
            "2024-08-08T19:30:00",
            "2024-08-09T03:30:00",
            "2024-08-09T04:30:00",
            "2024-08-09T05:30:00",
            "2024-08-09T06:30:00",
            "2024-08-09T07:30:00",
            "2024-08-09T08:30:00",
            "2024-08-09T09:30:00",
            "2024-08-09T10:30:00",
            "2024-08-09T11:30:00",
            "2024-08-09T12:30:00",
            "2024-08-09T13:30:00",
            "2024-08-09T14:30:00",
            "2024-08-09T15:30:00",
            "2024-08-09T16:30:00",
            "2024-08-09T17:30:00",
            "2024-08-09T18:30:00",
            "2024-08-09T19:30:00",
            "2024-08-10T03:30:00",
            "2024-08-10T04:30:00",
            "2024-08-10T05:30:00",
            "2024-08-10T06:30:00",
            "2024-08-10T07:30:00",
            "2024-08-10T08:30:00",
            "2024-08-10T09:30:00",
            "2024-08-10T10:30:00",
            "2024-08-10T11:30:00",
            "2024-08-10T12:30:00",
            "2024-08-10T13:30:00",
            "2024-08-10T14:30:00",
            "2024-08-10T15:30:00",
            "2024-08-10T16:30:00",
            "2024-08-10T17:30:00",
            "2024-08-10T18:30:00",
            "2024-08-10T19:30:00",
            "2024-08-10T20:30:00",
            "2024-08-10T21:30:00",
            "2024-08-10T22:30:00",
            "2024-08-10T23:30:00",
            "2024-08-11T00:30:00",
            "2024-08-11T01:30:00",
            "2024-08-11T02:30:00",
            "2024-08-11T03:30:00",
            "2024-08-11T04:30:00",
            "2024-08-11T05:30:00",
            "2024-08-11T06:30:00",
            "2024-08-11T07:30:00",
            "2024-08-11T08:30:00",
            "2024-08-11T09:30:00",
            "2024-08-11T10:30:00",
            "2024-08-11T11:30:00",
            "2024-08-11T12:30:00",
            "2024-08-11T13:30:00",
            "2024-08-11T14:30:00",
            "2024-08-11T15:30:00",
            "2024-08-11T16:30:00",
            "2024-08-11T17:30:00",
            "2024-08-11T18:30:00",
            "2024-08-11T19:30:00",
            "2024-08-11T20:30:00",
            "2024-08-11T21:30:00",
            "2024-08-11T22:30:00",
            "2024-08-11T23:30:00",
            "2024-08-12T00:30:00",
            "2024-08-12T01:30:00",
            "2024-08-12T02:30:00",
            "2024-08-12T03:30:00",
            "2024-08-12T04:30:00",
            "2024-08-12T05:30:00",
            "2024-08-12T06:30:00",
            "2024-08-12T07:30:00",
            "2024-08-12T08:30:00",
            "2024-08-12T09:30:00",
            "2024-08-12T10:30:00",
            "2024-08-12T11:30:00",
            "2024-08-12T12:30:00",
            "2024-08-12T13:30:00",
            "2024-08-12T14:30:00",
            "2024-08-12T15:30:00",
            "2024-08-12T16:30:00",
            "2024-08-12T17:30:00",
            "2024-08-12T18:30:00",
            "2024-08-12T19:30:00",
            "2024-08-13T03:30:00",
            "2024-08-13T04:30:00",
            "2024-08-13T05:30:00",
            "2024-08-13T06:30:00",
            "2024-08-13T07:30:00",
            "2024-08-13T08:30:00",
            "2024-08-13T09:30:00",
            "2024-08-13T10:30:00",
            "2024-08-13T11:30:00",
            "2024-08-13T12:30:00",
            "2024-08-13T13:30:00",
            "2024-08-13T14:30:00",
            "2024-08-13T15:30:00",
            "2024-08-13T16:30:00",
            "2024-08-13T17:30:00",
            "2024-08-13T18:30:00",
            "2024-08-13T19:30:00",
            "2024-08-14T03:30:00",
            "2024-08-14T04:30:00",
            "2024-08-14T05:30:00",
            "2024-08-14T06:30:00",
            "2024-08-14T07:30:00",
            "2024-08-14T08:30:00",
            "2024-08-14T09:30:00",
            "2024-08-14T10:30:00",
            "2024-08-14T11:30:00",
            "2024-08-14T12:30:00",
            "2024-08-14T13:30:00",
            "2024-08-14T14:30:00",
            "2024-08-14T15:30:00",
            "2024-08-14T16:30:00",
            "2024-08-14T17:30:00",
            "2024-08-14T18:30:00",
            "2024-08-14T19:30:00",
            "2024-08-15T03:30:00",
            "2024-08-15T04:30:00",
            "2024-08-15T05:30:00",
            "2024-08-15T06:30:00",
            "2024-08-15T07:30:00",
            "2024-08-15T08:30:00",
            "2024-08-15T09:30:00",
            "2024-08-15T10:30:00",
            "2024-08-15T11:30:00",
            "2024-08-15T12:30:00",
            "2024-08-15T13:30:00",
            "2024-08-15T14:30:00",
            "2024-08-15T15:30:00",
            "2024-08-15T16:30:00",
            "2024-08-15T17:30:00",
            "2024-08-15T18:30:00",
            "2024-08-15T19:30:00",
            "2024-08-16T03:30:00",
            "2024-08-16T04:30:00",
            "2024-08-16T05:30:00",
            "2024-08-16T06:30:00",
            "2024-08-16T07:30:00",
            "2024-08-16T08:30:00",
            "2024-08-16T09:30:00",
            "2024-08-16T10:30:00",
            "2024-08-16T11:30:00",
            "2024-08-16T12:30:00",
            "2024-08-16T13:30:00",
            "2024-08-16T14:30:00",
            "2024-08-16T15:30:00",
            "2024-08-16T16:30:00",
            "2024-08-16T17:30:00",
            "2024-08-16T18:30:00",
            "2024-08-16T19:30:00",
            "2024-08-17T03:30:00",
            "2024-08-17T04:30:00",
            "2024-08-17T05:30:00",
            "2024-08-17T06:30:00",
            "2024-08-17T07:30:00",
            "2024-08-17T08:30:00",
            "2024-08-17T09:30:00",
            "2024-08-17T10:30:00",
            "2024-08-17T11:30:00",
            "2024-08-17T12:30:00",
            "2024-08-17T13:30:00",
            "2024-08-17T14:30:00",
            "2024-08-17T15:30:00",
            "2024-08-17T16:30:00",
            "2024-08-17T17:30:00",
            "2024-08-17T18:30:00",
            "2024-08-17T19:30:00",
            "2024-08-17T20:30:00",
            "2024-08-17T21:30:00",
            "2024-08-17T22:30:00",
            "2024-08-17T23:30:00",
            "2024-08-18T00:30:00",
            "2024-08-18T01:30:00",
            "2024-08-18T02:30:00",
            "2024-08-18T03:30:00",
            "2024-08-18T04:30:00",
            "2024-08-18T05:30:00",
            "2024-08-18T06:30:00",
            "2024-08-18T07:30:00",
            "2024-08-18T08:30:00",
            "2024-08-18T09:30:00",
            "2024-08-18T10:30:00",
            "2024-08-18T11:30:00",
            "2024-08-18T12:30:00",
            "2024-08-18T13:30:00",
            "2024-08-18T14:30:00",
            "2024-08-18T15:30:00",
            "2024-08-18T16:30:00",
            "2024-08-18T17:30:00",
            "2024-08-18T18:30:00",
            "2024-08-18T19:30:00",
            "2024-08-18T20:30:00",
            "2024-08-18T21:30:00",
            "2024-08-18T22:30:00",
            "2024-08-18T23:30:00",
            "2024-08-19T00:30:00",
            "2024-08-19T01:30:00",
            "2024-08-19T02:30:00",
            "2024-08-19T03:30:00",
            "2024-08-19T04:30:00",
            "2024-08-19T05:30:00",
            "2024-08-19T06:30:00",
            "2024-08-19T07:30:00",
            "2024-08-19T08:30:00",
            "2024-08-19T09:30:00",
            "2024-08-19T10:30:00",
            "2024-08-19T11:30:00",
            "2024-08-19T12:30:00",
            "2024-08-19T13:30:00",
            "2024-08-19T14:30:00",
            "2024-08-19T15:30:00",
            "2024-08-19T16:30:00",
            "2024-08-19T17:30:00",
            "2024-08-19T18:30:00",
            "2024-08-19T19:30:00",
            "2024-08-20T03:30:00",
            "2024-08-20T04:30:00",
            "2024-08-20T05:30:00",
            "2024-08-20T06:30:00",
            "2024-08-20T07:30:00",
            "2024-08-20T08:30:00",
            "2024-08-20T09:30:00",
            "2024-08-20T10:30:00",
            "2024-08-20T11:30:00",
            "2024-08-20T12:30:00",
            "2024-08-20T13:30:00",
            "2024-08-20T14:30:00",
            "2024-08-20T15:30:00",
            "2024-08-20T16:30:00",
            "2024-08-20T17:30:00",
            "2024-08-20T18:30:00",
            "2024-08-20T19:30:00",
            "2024-08-21T03:30:00",
            "2024-08-21T04:30:00",
            "2024-08-21T05:30:00",
            "2024-08-21T06:30:00",
            "2024-08-21T07:30:00",
            "2024-08-21T08:30:00",
            "2024-08-21T09:30:00",
            "2024-08-21T10:30:00",
            "2024-08-21T11:30:00",
            "2024-08-21T12:30:00",
            "2024-08-21T13:30:00",
            "2024-08-21T14:30:00",
            "2024-08-21T15:30:00",
            "2024-08-21T16:30:00",
            "2024-08-21T17:30:00",
            "2024-08-21T18:30:00",
            "2024-08-21T19:30:00",
            "2024-08-22T03:30:00",
            "2024-08-22T04:30:00",
            "2024-08-22T05:30:00",
            "2024-08-22T06:30:00",
            "2024-08-22T07:30:00",
            "2024-08-22T08:30:00",
            "2024-08-22T09:30:00",
            "2024-08-22T10:30:00",
            "2024-08-22T11:30:00",
            "2024-08-22T12:30:00",
            "2024-08-22T13:30:00",
            "2024-08-22T14:30:00",
            "2024-08-22T15:30:00",
            "2024-08-22T16:30:00",
            "2024-08-22T17:30:00",
            "2024-08-22T18:30:00",
            "2024-08-22T19:30:00",
            "2024-08-23T03:30:00",
            "2024-08-23T04:30:00",
            "2024-08-23T05:30:00",
            "2024-08-23T06:30:00",
            "2024-08-23T07:30:00",
            "2024-08-23T08:30:00",
            "2024-08-23T09:30:00",
            "2024-08-23T10:30:00",
            "2024-08-23T11:30:00",
            "2024-08-23T12:30:00",
            "2024-08-23T13:30:00",
            "2024-08-23T14:30:00",
            "2024-08-23T15:30:00",
            "2024-08-23T16:30:00",
            "2024-08-23T17:30:00",
            "2024-08-23T18:30:00",
            "2024-08-23T19:30:00",
            "2024-08-24T03:30:00",
            "2024-08-24T04:30:00",
            "2024-08-24T05:30:00",
            "2024-08-24T06:30:00",
            "2024-08-24T07:30:00",
            "2024-08-24T08:30:00",
            "2024-08-24T09:30:00",
            "2024-08-24T10:30:00",
            "2024-08-24T11:30:00",
            "2024-08-24T12:30:00",
            "2024-08-24T13:30:00",
            "2024-08-24T14:30:00",
            "2024-08-24T15:30:00",
            "2024-08-24T16:30:00",
            "2024-08-24T17:30:00",
            "2024-08-24T18:30:00",
            "2024-08-24T19:30:00",
            "2024-08-24T20:30:00",
            "2024-08-24T21:30:00",
            "2024-08-24T22:30:00",
            "2024-08-24T23:30:00",
            "2024-08-25T00:30:00",
            "2024-08-25T01:30:00",
            "2024-08-25T02:30:00",
            "2024-08-25T03:30:00",
            "2024-08-25T04:30:00",
            "2024-08-25T05:30:00",
            "2024-08-25T06:30:00",
            "2024-08-25T07:30:00",
            "2024-08-25T08:30:00",
            "2024-08-25T09:30:00",
            "2024-08-25T10:30:00",
            "2024-08-25T11:30:00",
            "2024-08-25T12:30:00",
            "2024-08-25T13:30:00",
            "2024-08-25T14:30:00",
            "2024-08-25T15:30:00",
            "2024-08-25T16:30:00",
            "2024-08-25T17:30:00",
            "2024-08-25T18:30:00",
            "2024-08-25T19:30:00",
            "2024-08-25T20:30:00",
            "2024-08-25T21:30:00",
            "2024-08-25T22:30:00",
            "2024-08-25T23:30:00",
            "2024-08-26T00:30:00",
            "2024-08-26T01:30:00",
            "2024-08-26T02:30:00",
            "2024-08-26T03:30:00",
            "2024-08-26T04:30:00",
            "2024-08-26T05:30:00",
            "2024-08-26T06:30:00",
            "2024-08-26T07:30:00",
            "2024-08-26T08:30:00",
            "2024-08-26T09:30:00",
            "2024-08-26T10:30:00",
            "2024-08-26T11:30:00",
            "2024-08-26T12:30:00",
            "2024-08-26T13:30:00",
            "2024-08-26T14:30:00",
            "2024-08-26T15:30:00",
            "2024-08-26T16:30:00",
            "2024-08-26T17:30:00",
            "2024-08-26T18:30:00",
            "2024-08-26T19:30:00",
            "2024-08-27T03:30:00",
            "2024-08-27T04:30:00",
            "2024-08-27T05:30:00",
            "2024-08-27T06:30:00",
            "2024-08-27T07:30:00",
            "2024-08-27T08:30:00",
            "2024-08-27T09:30:00",
            "2024-08-27T10:30:00",
            "2024-08-27T11:30:00",
            "2024-08-27T12:30:00",
            "2024-08-27T13:30:00",
            "2024-08-27T14:30:00",
            "2024-08-27T15:30:00",
            "2024-08-27T16:30:00",
            "2024-08-27T17:30:00",
            "2024-08-27T18:30:00",
            "2024-08-27T19:30:00",
            "2024-08-28T03:30:00",
            "2024-08-28T04:30:00",
            "2024-08-28T05:30:00",
            "2024-08-28T06:30:00",
            "2024-08-28T07:30:00",
            "2024-08-28T08:30:00",
            "2024-08-28T09:30:00",
            "2024-08-28T10:30:00",
            "2024-08-28T11:30:00",
            "2024-08-28T12:30:00",
            "2024-08-28T13:30:00",
            "2024-08-28T14:30:00",
            "2024-08-28T15:30:00",
            "2024-08-28T16:30:00",
            "2024-08-28T17:30:00",
            "2024-08-28T18:30:00",
            "2024-08-28T19:30:00",
            "2024-08-29T03:30:00",
            "2024-08-29T04:30:00",
            "2024-08-29T05:30:00",
            "2024-08-29T06:30:00",
            "2024-08-29T07:30:00",
            "2024-08-29T08:30:00",
            "2024-08-29T09:30:00",
            "2024-08-29T10:30:00",
            "2024-08-29T11:30:00",
            "2024-08-29T12:30:00",
            "2024-08-29T13:30:00",
            "2024-08-29T14:30:00",
            "2024-08-29T15:30:00",
            "2024-08-29T16:30:00",
            "2024-08-29T17:30:00",
            "2024-08-29T18:30:00",
            "2024-08-29T19:30:00",
            "2024-08-30T03:30:00",
            "2024-08-30T04:30:00",
            "2024-08-30T05:30:00",
            "2024-08-30T06:30:00",
            "2024-08-30T07:30:00",
            "2024-08-30T08:30:00",
            "2024-08-30T09:30:00",
            "2024-08-30T10:30:00",
            "2024-08-30T11:30:00",
            "2024-08-30T12:30:00",
            "2024-08-30T13:30:00",
            "2024-08-30T14:30:00",
            "2024-08-30T15:30:00",
            "2024-08-30T16:30:00",
            "2024-08-30T17:30:00",
            "2024-08-30T18:30:00",
            "2024-08-30T19:30:00",
            "2024-08-31T03:30:00",
            "2024-08-31T04:30:00",
            "2024-08-31T05:30:00",
            "2024-08-31T06:30:00",
            "2024-08-31T07:30:00",
            "2024-08-31T08:30:00",
            "2024-08-31T09:30:00",
            "2024-08-31T10:30:00",
            "2024-08-31T11:30:00",
            "2024-08-31T12:30:00",
            "2024-08-31T13:30:00",
            "2024-08-31T14:30:00",
            "2024-08-31T15:30:00",
            "2024-08-31T16:30:00",
            "2024-08-31T17:30:00",
            "2024-08-31T18:30:00",
            "2024-08-31T19:30:00",
            "2024-08-31T20:30:00",
            "2024-08-31T21:30:00",
            "2024-08-31T22:30:00",
            "2024-08-31T23:30:00",
            "2024-09-01T00:30:00",
            "2024-09-01T01:30:00",
            "2024-09-01T02:30:00",
            "2024-09-01T03:30:00",
            "2024-09-01T04:30:00",
            "2024-09-01T05:30:00",
            "2024-09-01T06:30:00",
            "2024-09-01T07:30:00",
            "2024-09-01T08:30:00",
            "2024-09-01T09:30:00",
            "2024-09-01T10:30:00",
            "2024-09-01T11:30:00",
            "2024-09-01T12:30:00",
            "2024-09-01T13:30:00",
            "2024-09-01T14:30:00",
            "2024-09-01T15:30:00",
            "2024-09-01T16:30:00",
            "2024-09-01T17:30:00",
            "2024-09-01T18:30:00",
            "2024-09-01T19:30:00",
            "2024-09-01T20:30:00",
            "2024-09-01T21:30:00",
            "2024-09-01T22:30:00",
            "2024-09-01T23:30:00",
            "2024-09-02T00:30:00",
            "2024-09-02T01:30:00",
            "2024-09-02T02:30:00",
            "2024-09-02T03:30:00",
            "2024-09-02T04:30:00",
            "2024-09-02T05:30:00",
            "2024-09-02T06:30:00",
            "2024-09-02T07:30:00",
            "2024-09-02T08:30:00",
            "2024-09-02T09:30:00",
            "2024-09-02T10:30:00",
            "2024-09-02T11:30:00",
            "2024-09-02T12:30:00",
            "2024-09-02T13:30:00",
            "2024-09-02T14:30:00",
            "2024-09-02T15:30:00",
            "2024-09-02T16:30:00",
            "2024-09-02T17:30:00",
            "2024-09-02T18:30:00",
            "2024-09-02T19:30:00",
            "2024-09-02T20:30:00",
            "2024-09-02T21:30:00",
            "2024-09-02T22:30:00",
            "2024-09-02T23:30:00",
            "2024-09-03T00:30:00",
            "2024-09-03T01:30:00",
            "2024-09-03T02:30:00",
            "2024-09-03T03:30:00",
            "2024-09-03T04:30:00",
            "2024-09-03T05:30:00",
            "2024-09-03T06:30:00",
            "2024-09-03T07:30:00",
            "2024-09-03T08:30:00",
            "2024-09-03T09:30:00",
            "2024-09-03T10:30:00",
            "2024-09-03T11:30:00",
            "2024-09-03T12:30:00",
            "2024-09-03T13:30:00",
            "2024-09-03T14:30:00",
            "2024-09-03T15:30:00",
            "2024-09-03T16:30:00",
            "2024-09-03T17:30:00",
            "2024-09-03T18:30:00",
            "2024-09-03T19:30:00",
            "2024-09-04T03:30:00",
            "2024-09-04T04:30:00",
            "2024-09-04T05:30:00",
            "2024-09-04T06:30:00",
            "2024-09-04T07:30:00",
            "2024-09-04T08:30:00",
            "2024-09-04T09:30:00",
            "2024-09-04T10:30:00",
            "2024-09-04T11:30:00",
            "2024-09-04T12:30:00",
            "2024-09-04T13:30:00",
            "2024-09-04T14:30:00",
            "2024-09-04T15:30:00",
            "2024-09-04T16:30:00",
            "2024-09-04T17:30:00",
            "2024-09-04T18:30:00",
            "2024-09-04T19:30:00",
            "2024-09-05T03:30:00",
            "2024-09-05T04:30:00",
            "2024-09-05T05:30:00",
            "2024-09-05T06:30:00",
            "2024-09-05T07:30:00",
            "2024-09-05T08:30:00",
            "2024-09-05T09:30:00",
            "2024-09-05T10:30:00",
            "2024-09-05T11:30:00",
            "2024-09-05T12:30:00",
            "2024-09-05T13:30:00",
            "2024-09-05T14:30:00",
            "2024-09-05T15:30:00",
            "2024-09-05T16:30:00",
            "2024-09-05T17:30:00",
            "2024-09-05T18:30:00",
            "2024-09-05T19:30:00",
            "2024-09-06T03:30:00",
            "2024-09-06T04:30:00",
            "2024-09-06T05:30:00",
            "2024-09-06T06:30:00",
            "2024-09-06T07:30:00",
            "2024-09-06T08:30:00",
            "2024-09-06T09:30:00",
            "2024-09-06T10:30:00",
            "2024-09-06T11:30:00",
            "2024-09-06T12:30:00",
            "2024-09-06T13:30:00",
            "2024-09-06T14:30:00",
            "2024-09-06T15:30:00",
            "2024-09-06T16:30:00",
            "2024-09-06T17:30:00",
            "2024-09-06T18:30:00",
            "2024-09-06T19:30:00",
            "2024-09-07T03:30:00",
            "2024-09-07T04:30:00",
            "2024-09-07T05:30:00",
            "2024-09-07T06:30:00",
            "2024-09-07T07:30:00",
            "2024-09-07T08:30:00",
            "2024-09-07T09:30:00",
            "2024-09-07T10:30:00",
            "2024-09-07T11:30:00",
            "2024-09-07T12:30:00",
            "2024-09-07T13:30:00",
            "2024-09-07T14:30:00",
            "2024-09-07T15:30:00",
            "2024-09-07T16:30:00",
            "2024-09-07T17:30:00",
            "2024-09-07T18:30:00",
            "2024-09-07T19:30:00",
            "2024-09-07T20:30:00",
            "2024-09-07T21:30:00",
            "2024-09-07T22:30:00",
            "2024-09-07T23:30:00",
            "2024-09-08T00:30:00",
            "2024-09-08T01:30:00",
            "2024-09-08T02:30:00",
            "2024-09-08T03:30:00",
            "2024-09-08T04:30:00",
            "2024-09-08T05:30:00",
            "2024-09-08T06:30:00",
            "2024-09-08T07:30:00",
            "2024-09-08T08:30:00",
            "2024-09-08T09:30:00",
            "2024-09-08T10:30:00",
            "2024-09-08T11:30:00",
            "2024-09-08T12:30:00",
            "2024-09-08T13:30:00",
            "2024-09-08T14:30:00",
            "2024-09-08T15:30:00",
            "2024-09-08T16:30:00",
            "2024-09-08T17:30:00",
            "2024-09-08T18:30:00",
            "2024-09-08T19:30:00",
            "2024-09-08T20:30:00",
            "2024-09-08T21:30:00",
            "2024-09-08T22:30:00",
            "2024-09-08T23:30:00",
            "2024-09-09T00:30:00",
            "2024-09-09T01:30:00",
            "2024-09-09T02:30:00",
            "2024-09-09T03:30:00",
            "2024-09-09T04:30:00",
            "2024-09-09T05:30:00",
            "2024-09-09T06:30:00",
            "2024-09-09T07:30:00",
            "2024-09-09T08:30:00",
            "2024-09-09T09:30:00",
            "2024-09-09T10:30:00",
            "2024-09-09T11:30:00",
            "2024-09-09T12:30:00",
            "2024-09-09T13:30:00",
            "2024-09-09T14:30:00",
            "2024-09-09T15:30:00",
            "2024-09-09T16:30:00",
            "2024-09-09T17:30:00",
            "2024-09-09T18:30:00",
            "2024-09-09T19:30:00",
            "2024-09-10T03:30:00",
            "2024-09-10T04:30:00",
            "2024-09-10T05:30:00",
            "2024-09-10T06:30:00",
            "2024-09-10T07:30:00",
            "2024-09-10T08:30:00",
            "2024-09-10T09:30:00",
            "2024-09-10T10:30:00",
            "2024-09-10T11:30:00",
            "2024-09-10T12:30:00",
            "2024-09-10T13:30:00",
            "2024-09-10T14:30:00",
            "2024-09-10T15:30:00",
            "2024-09-10T16:30:00",
            "2024-09-10T17:30:00",
            "2024-09-10T18:30:00",
            "2024-09-10T19:30:00",
            "2024-09-11T03:30:00",
            "2024-09-11T04:30:00",
            "2024-09-11T05:30:00",
            "2024-09-11T06:30:00",
            "2024-09-11T07:30:00",
            "2024-09-11T08:30:00",
            "2024-09-11T09:30:00",
            "2024-09-11T10:30:00",
            "2024-09-11T11:30:00",
            "2024-09-11T12:30:00",
            "2024-09-11T13:30:00",
            "2024-09-11T14:30:00",
            "2024-09-11T15:30:00",
            "2024-09-11T16:30:00",
            "2024-09-11T17:30:00",
            "2024-09-11T18:30:00",
            "2024-09-11T19:30:00",
            "2024-09-12T03:30:00",
            "2024-09-12T04:30:00",
            "2024-09-12T05:30:00",
            "2024-09-12T06:30:00",
            "2024-09-12T07:30:00",
            "2024-09-12T08:30:00",
            "2024-09-12T09:30:00",
            "2024-09-12T10:30:00",
            "2024-09-12T11:30:00",
            "2024-09-12T12:30:00",
            "2024-09-12T13:30:00",
            "2024-09-12T14:30:00",
            "2024-09-12T15:30:00",
            "2024-09-12T16:30:00",
            "2024-09-12T17:30:00",
            "2024-09-12T18:30:00",
            "2024-09-12T19:30:00"
           ]
          }
         ],
         "rangeslider": {
          "visible": false
         },
         "showgrid": false,
         "showline": false,
         "showticklabels": false,
         "visible": true,
         "zeroline": false
        },
        "yaxis": {
         "showticklabels": false,
         "visible": false
        }
       }
      }
     },
     "metadata": {},
     "output_type": "display_data"
    }
   ],
   "source": [
    "fig = create_smc_plot(df_1h, rangebreak_1h,  dvalue= 60)\n",
    "fig.show()"
   ]
  },
  {
   "cell_type": "code",
   "execution_count": 10,
   "metadata": {},
   "outputs": [
    {
     "data": {
      "application/vnd.plotly.v1+json": {
       "config": {
        "plotlyServerURL": "https://plot.ly"
       },
       "data": [
        {
         "close": [
          40819.17,
          40830.65,
          40899.61,
          40860.21,
          40797.8,
          40848.14,
          40788.35,
          40824.45,
          40861.25,
          40874.91,
          40850.55,
          40891.63,
          40892.78,
          40862.19,
          40890.54,
          40885.62,
          40800.6,
          40822.69,
          40719.68,
          40723.38,
          40834.09,
          40707.49,
          40680.92,
          40593.78,
          40700.55,
          40659.03,
          40673.88,
          40731.72,
          40904.77,
          41123.43,
          41059.55,
          41164.14,
          41036.41,
          40899.89,
          40979.75,
          41033.07,
          41055.39,
          41073.82,
          41073.1,
          41170.21,
          41175.55,
          41360.37,
          41397.75,
          41300.55,
          41203.56,
          41200.06,
          41246.64,
          41285.43,
          41264.54,
          41166.04,
          41211.77,
          41233.01,
          41212.25,
          41249.66,
          41190.42,
          41228.35,
          41225.58,
          41190.73,
          41180.24,
          41169.7,
          41164.47,
          41222.31,
          41227.07,
          41244.34,
          41246.6,
          41240.51,
          41254.78,
          41300.92,
          41254.09,
          41278.51,
          41210.23,
          41135.09,
          41036.33,
          41106.66,
          41051.68,
          40870.22,
          40865.63,
          41050.77,
          41060.26,
          41091.31,
          41192.1,
          41366.78,
          41300.11,
          41382.81,
          41459.61,
          41532.38,
          41553.86,
          41516.49,
          41566.12,
          41477.07,
          41351.36,
          41429.87,
          41340.22,
          41406.18,
          41417.56,
          41348.76,
          41281.86,
          41264.23,
          41196.17,
          41257.17,
          41229.09,
          41247.73,
          41299.97,
          41331.54,
          41396.26,
          41573.98,
          41300.27,
          41103,
          41098.26,
          41131.25,
          41109.87,
          41115.54,
          41054.79,
          41120.98,
          41057.04,
          40998.15,
          40943.48,
          40964.34,
          40939.59,
          41048.18,
          41065.02,
          41140.79,
          41011.1,
          40994.85,
          40969.16,
          40951.14,
          40879.87,
          40859.62,
          40915.18,
          40867.26,
          40932.79,
          40968.38,
          40869.17,
          40932.55,
          40796.68,
          40640.87,
          40592.71,
          40606.11,
          40673.75,
          40631.62,
          40818.01,
          40790.09,
          40805.17,
          40739.54,
          40752.93,
          40892.14,
          40615.37,
          40475.76,
          40412.41,
          40381.71,
          40315.97,
          40373.18,
          40402.96,
          40391.19,
          40351.68,
          40374.38,
          40407.68,
          40353.68,
          40648.19,
          40744.7,
          40719.3,
          40756.21,
          40884.3,
          40973.67,
          40981.57,
          40931.83,
          40805.24,
          40785.83,
          40781.04,
          40798.83,
          40828.33,
          40722.49,
          40632.29,
          40634.72,
          40677.59,
          40476.52,
          40473.09,
          40549.26,
          40611.92,
          40636.46,
          40684.98,
          40718.84,
          40731.25,
          40746.94,
          40242.03,
          40026.27,
          40105.71,
          40174.75,
          40258.55,
          40389.04,
          40472.8,
          40548.24,
          40612.3,
          40631.48,
          40711.73,
          40802.91,
          40838.38,
          40703.74,
          40817.02,
          40869.23
         ],
         "decreasing": {
          "line": {
           "color": "#ff6962"
          }
         },
         "high": [
          40845.78,
          40844.42,
          40963.61,
          40927.78,
          40974.4,
          40866.56,
          40868.07,
          40824.45,
          40866.37,
          40879.88,
          40883.75,
          40892.62,
          40920.88,
          40899.14,
          40908.2,
          41026.64,
          40909.93,
          40851.28,
          40854.58,
          40774.78,
          40838.35,
          40867.06,
          40740.33,
          40685.07,
          40708.92,
          40715.72,
          40726.37,
          40731.72,
          40952.36,
          41152.54,
          41143.27,
          41207.92,
          41195.87,
          41040.19,
          40997.88,
          41039.87,
          41068.68,
          41087.67,
          41084.4,
          41171.95,
          41207.77,
          41386.6,
          41400.22,
          41420.05,
          41301.28,
          41234.8,
          41251.03,
          41290.24,
          41308.24,
          41268.21,
          41215.14,
          41246.27,
          41241.36,
          41249.66,
          41260.79,
          41241.57,
          41251.84,
          41258.71,
          41184.87,
          41193.05,
          41177.64,
          41222.33,
          41243.53,
          41254.51,
          41258.84,
          41252.23,
          41271.75,
          41351.11,
          41341.71,
          41286.01,
          41316.85,
          41208.9,
          41144.14,
          41106.66,
          41129.31,
          41081.9,
          40921.44,
          41051.39,
          41087.58,
          41141.06,
          41392.73,
          41397.29,
          41394.74,
          41409.55,
          41459.7,
          41554.15,
          41577.97,
          41555.41,
          41569.48,
          41570.4,
          41477.26,
          41449.08,
          41450.32,
          41498.98,
          41443.58,
          41441.47,
          41381.15,
          41287.63,
          41296.3,
          41266.45,
          41298.66,
          41267.96,
          41324.33,
          41358.79,
          41407.92,
          41585.21,
          41428.94,
          41298.54,
          41126.79,
          41174.06,
          41153.55,
          41150.77,
          41131.7,
          41136.81,
          41122.08,
          41057.07,
          41024.7,
          40976.26,
          40989.88,
          41079.05,
          41084.48,
          41143.15,
          41172.59,
          41031.02,
          40995.13,
          41023.56,
          40951.17,
          40897.32,
          40928.5,
          40946.81,
          40938.99,
          41006.19,
          41084.78,
          40998.38,
          40976.58,
          40818.02,
          40663.68,
          40626.11,
          40698.17,
          40683.2,
          40818.23,
          40842.19,
          40866.15,
          40809.78,
          40805.23,
          41009.39,
          40901.78,
          40638.77,
          40738.26,
          40495.34,
          40429.27,
          40417.66,
          40461.95,
          40420.79,
          40402.77,
          40376.51,
          40450.52,
          40431.4,
          40686.29,
          40799.51,
          40764.22,
          40760.46,
          40918.81,
          40979.88,
          41000.24,
          40988.94,
          40935.51,
          40827.1,
          40810.99,
          40801.76,
          40854.19,
          40916.5,
          40729.29,
          40663.33,
          40719.56,
          40699.01,
          40488.2,
          40581.19,
          40651.99,
          40671.07,
          40687.92,
          40723.18,
          40738.66,
          40750.71,
          40638.75,
          40251.04,
          40107.67,
          40201.3,
          40321.49,
          40392.9,
          40481.1,
          40592.43,
          40676.67,
          40642.62,
          40796.68,
          40812.45,
          40903.67,
          40984.29,
          40851.29,
          40869.66
         ],
         "increasing": {
          "line": {
           "color": "#77dd76"
          }
         },
         "low": [
          40819.05,
          40794.81,
          40848.9,
          40772.22,
          40738.43,
          40748.89,
          40778.31,
          40749.19,
          40822.14,
          40852.43,
          40841.63,
          40831.57,
          40856.93,
          40814.43,
          40828.26,
          40856.13,
          40783.65,
          40780.07,
          40711.32,
          40695.22,
          40719.53,
          40697.73,
          40659.15,
          40584.47,
          40587.69,
          40652,
          40651.21,
          40641.8,
          40843.62,
          40904.29,
          40934.8,
          41022.79,
          41035.28,
          40875.01,
          40842.96,
          40964.25,
          41021.31,
          41042.93,
          41055.51,
          41053.86,
          41100.97,
          41219.45,
          41340.85,
          41272.32,
          41192.95,
          41179.61,
          41180.36,
          41232.86,
          41262.17,
          41140.23,
          41149.6,
          41200.55,
          41200.3,
          41199.43,
          41161.32,
          41141.46,
          41205.14,
          41173.07,
          41127.47,
          41142.43,
          41109.42,
          41164.52,
          41215.89,
          41215.16,
          41235.89,
          41222.26,
          41222.75,
          41166.4,
          41248.62,
          41238.93,
          41190.17,
          41107.31,
          41021.25,
          41021.54,
          41032.07,
          40868.43,
          40842.29,
          40861.83,
          40958.48,
          41034.17,
          41086.81,
          41196.13,
          41292.85,
          41299.91,
          41369.84,
          41457.48,
          41525.81,
          41491.67,
          41508.6,
          41476.35,
          41269.71,
          41305.54,
          41306.61,
          41317.75,
          41367.28,
          41348.76,
          41275.1,
          41222.95,
          41192.87,
          41145.85,
          41219.07,
          41228.71,
          41238.05,
          41291.71,
          41299.7,
          41373.98,
          41211.43,
          41052.64,
          41056.93,
          41079.87,
          41096.07,
          41085.03,
          41052.69,
          41054.63,
          41055.86,
          40985.62,
          40931.25,
          40930.02,
          40778.09,
          40875.91,
          40931.59,
          41026.02,
          41011.1,
          40968.87,
          40923.27,
          40926.12,
          40872.08,
          40840.89,
          40853.22,
          40863.77,
          40843.94,
          40875.92,
          40828.85,
          40883.24,
          40778.7,
          40631.69,
          40584.71,
          40519.08,
          40582.17,
          40629.57,
          40625.31,
          40784.22,
          40789.3,
          40688.41,
          40681.59,
          40772.75,
          40605.08,
          40453.74,
          40377.31,
          40352.08,
          40315.12,
          40316.16,
          40357.74,
          40337.6,
          40321.13,
          40297.33,
          40373.64,
          40314.51,
          40518.06,
          40638.74,
          40703.07,
          40658.04,
          40756.44,
          40871,
          40953.51,
          40918.3,
          40803.1,
          40765.81,
          40734.68,
          40732.8,
          40763.88,
          40708.33,
          40543.74,
          40570.88,
          40615.83,
          40476.52,
          40417.47,
          40460.61,
          40540.32,
          40611.86,
          40636.48,
          40677.95,
          40693.81,
          40676.12,
          40227.11,
          40015.76,
          39993.08,
          40069.02,
          40170.03,
          40247.25,
          40370.48,
          40472.7,
          40548.79,
          40592.6,
          40632.02,
          40701.93,
          40725.58,
          40697.66,
          40665.52,
          40745.67
         ],
         "open": [
          40831.26,
          40819.27,
          40923.63,
          40904.58,
          40859.8,
          40797.15,
          40848.8,
          40788.57,
          40824.45,
          40861.06,
          40875.16,
          40849.39,
          40891.61,
          40892.79,
          40861.94,
          40950.11,
          40892.79,
          40800.02,
          40822.15,
          40720.4,
          40723.23,
          40833.94,
          40707.7,
          40680.29,
          40593.39,
          40700.73,
          40658.71,
          40674.85,
          40879.12,
          40904.29,
          41123.18,
          41058.84,
          41163.3,
          41036.56,
          40900.11,
          40979.25,
          41032.75,
          41055.28,
          41073.82,
          41072.53,
          41168.53,
          41226.16,
          41364.12,
          41400,
          41300.51,
          41203.16,
          41199.92,
          41246.33,
          41285.61,
          41265.23,
          41165.86,
          41211.78,
          41232.21,
          41212.93,
          41215.45,
          41191.95,
          41229.63,
          41226.58,
          41184.87,
          41180.03,
          41169.01,
          41164.55,
          41222.06,
          41226.96,
          41244.42,
          41246.82,
          41241.35,
          41240.74,
          41300.77,
          41254.37,
          41276.29,
          41208.9,
          41134.68,
          41035.76,
          41106.58,
          41051.7,
          40869.41,
          40865.81,
          41049.49,
          41060.42,
          41370,
          41196.13,
          41366.89,
          41299.91,
          41383.22,
          41459.8,
          41532.15,
          41553.78,
          41516.7,
          41566.17,
          41477.26,
          41351.33,
          41429.86,
          41398.03,
          41406.67,
          41417.86,
          41347.67,
          41281.86,
          41263.7,
          41196.09,
          41257.13,
          41228.87,
          41247.62,
          41300.06,
          41331.92,
          41396.35,
          41364.92,
          41298.54,
          41102.53,
          41098.21,
          41131.3,
          41109.78,
          41114.79,
          41055.53,
          41120.96,
          41056.12,
          40997.91,
          40943.83,
          40964.15,
          40888.29,
          41051.77,
          41067.29,
          41142.66,
          41012.12,
          40994.32,
          40969.02,
          40951.17,
          40879.39,
          40859.81,
          40915.2,
          40867.32,
          40932.56,
          41050.96,
          40883.54,
          40936.07,
          40794.61,
          40641.13,
          40592.5,
          40606.46,
          40673.87,
          40631.65,
          40817.87,
          40789.38,
          40803.65,
          40739.46,
          40797.85,
          40896.2,
          40617.16,
          40479.03,
          40413.11,
          40379.3,
          40316.16,
          40373.87,
          40403.31,
          40391.15,
          40351.69,
          40374.05,
          40407.32,
          40643.13,
          40650.71,
          40745.18,
          40714.62,
          40756.44,
          40885.28,
          40974.13,
          40981.3,
          40931.92,
          40805.65,
          40786.39,
          40781.01,
          40798.91,
          40916.5,
          40721.95,
          40631.04,
          40633.76,
          40676.85,
          40477.11,
          40472.59,
          40548.99,
          40611.86,
          40636.48,
          40685.18,
          40718.81,
          40731.15,
          40638.75,
          40238.83,
          40026.08,
          40105.42,
          40174.64,
          40257.09,
          40389.42,
          40472.7,
          40549.31,
          40612.21,
          40632.02,
          40711.96,
          40803.09,
          40862.1,
          40711.21,
          40817.54
         ],
         "type": "candlestick",
         "x": [
          "2024-08-21T02:00:00",
          "2024-08-21T02:30:00",
          "2024-08-21T20:30:00",
          "2024-08-21T21:00:00",
          "2024-08-21T21:30:00",
          "2024-08-21T22:00:00",
          "2024-08-21T22:30:00",
          "2024-08-21T23:00:00",
          "2024-08-21T23:30:00",
          "2024-08-22T00:00:00",
          "2024-08-22T00:30:00",
          "2024-08-22T01:00:00",
          "2024-08-22T01:30:00",
          "2024-08-22T02:00:00",
          "2024-08-22T02:30:00",
          "2024-08-22T20:30:00",
          "2024-08-22T21:00:00",
          "2024-08-22T21:30:00",
          "2024-08-22T22:00:00",
          "2024-08-22T22:30:00",
          "2024-08-22T23:00:00",
          "2024-08-22T23:30:00",
          "2024-08-23T00:00:00",
          "2024-08-23T00:30:00",
          "2024-08-23T01:00:00",
          "2024-08-23T01:30:00",
          "2024-08-23T02:00:00",
          "2024-08-23T02:30:00",
          "2024-08-23T20:30:00",
          "2024-08-23T21:00:00",
          "2024-08-23T21:30:00",
          "2024-08-23T22:00:00",
          "2024-08-23T22:30:00",
          "2024-08-23T23:00:00",
          "2024-08-23T23:30:00",
          "2024-08-24T00:00:00",
          "2024-08-24T00:30:00",
          "2024-08-24T01:00:00",
          "2024-08-24T01:30:00",
          "2024-08-24T02:00:00",
          "2024-08-24T02:30:00",
          "2024-08-26T20:30:00",
          "2024-08-26T21:00:00",
          "2024-08-26T21:30:00",
          "2024-08-26T22:00:00",
          "2024-08-26T22:30:00",
          "2024-08-26T23:00:00",
          "2024-08-26T23:30:00",
          "2024-08-27T00:00:00",
          "2024-08-27T00:30:00",
          "2024-08-27T01:00:00",
          "2024-08-27T01:30:00",
          "2024-08-27T02:00:00",
          "2024-08-27T02:30:00",
          "2024-08-27T20:30:00",
          "2024-08-27T21:00:00",
          "2024-08-27T21:30:00",
          "2024-08-27T22:00:00",
          "2024-08-27T22:30:00",
          "2024-08-27T23:00:00",
          "2024-08-27T23:30:00",
          "2024-08-28T00:00:00",
          "2024-08-28T00:30:00",
          "2024-08-28T01:00:00",
          "2024-08-28T01:30:00",
          "2024-08-28T02:00:00",
          "2024-08-28T02:30:00",
          "2024-08-28T20:30:00",
          "2024-08-28T21:00:00",
          "2024-08-28T21:30:00",
          "2024-08-28T22:00:00",
          "2024-08-28T22:30:00",
          "2024-08-28T23:00:00",
          "2024-08-28T23:30:00",
          "2024-08-29T00:00:00",
          "2024-08-29T00:30:00",
          "2024-08-29T01:00:00",
          "2024-08-29T01:30:00",
          "2024-08-29T02:00:00",
          "2024-08-29T02:30:00",
          "2024-08-29T20:30:00",
          "2024-08-29T21:00:00",
          "2024-08-29T21:30:00",
          "2024-08-29T22:00:00",
          "2024-08-29T22:30:00",
          "2024-08-29T23:00:00",
          "2024-08-29T23:30:00",
          "2024-08-30T00:00:00",
          "2024-08-30T00:30:00",
          "2024-08-30T01:00:00",
          "2024-08-30T01:30:00",
          "2024-08-30T02:00:00",
          "2024-08-30T02:30:00",
          "2024-08-30T20:30:00",
          "2024-08-30T21:00:00",
          "2024-08-30T21:30:00",
          "2024-08-30T22:00:00",
          "2024-08-30T22:30:00",
          "2024-08-30T23:00:00",
          "2024-08-30T23:30:00",
          "2024-08-31T00:00:00",
          "2024-08-31T00:30:00",
          "2024-08-31T01:00:00",
          "2024-08-31T01:30:00",
          "2024-08-31T02:00:00",
          "2024-08-31T02:30:00",
          "2024-09-03T20:30:00",
          "2024-09-03T21:00:00",
          "2024-09-03T21:30:00",
          "2024-09-03T22:00:00",
          "2024-09-03T22:30:00",
          "2024-09-03T23:00:00",
          "2024-09-03T23:30:00",
          "2024-09-04T00:00:00",
          "2024-09-04T00:30:00",
          "2024-09-04T01:00:00",
          "2024-09-04T01:30:00",
          "2024-09-04T02:00:00",
          "2024-09-04T02:30:00",
          "2024-09-04T20:30:00",
          "2024-09-04T21:00:00",
          "2024-09-04T21:30:00",
          "2024-09-04T22:00:00",
          "2024-09-04T22:30:00",
          "2024-09-04T23:00:00",
          "2024-09-04T23:30:00",
          "2024-09-05T00:00:00",
          "2024-09-05T00:30:00",
          "2024-09-05T01:00:00",
          "2024-09-05T01:30:00",
          "2024-09-05T02:00:00",
          "2024-09-05T02:30:00",
          "2024-09-05T20:30:00",
          "2024-09-05T21:00:00",
          "2024-09-05T21:30:00",
          "2024-09-05T22:00:00",
          "2024-09-05T22:30:00",
          "2024-09-05T23:00:00",
          "2024-09-05T23:30:00",
          "2024-09-06T00:00:00",
          "2024-09-06T00:30:00",
          "2024-09-06T01:00:00",
          "2024-09-06T01:30:00",
          "2024-09-06T02:00:00",
          "2024-09-06T02:30:00",
          "2024-09-06T20:30:00",
          "2024-09-06T21:00:00",
          "2024-09-06T21:30:00",
          "2024-09-06T22:00:00",
          "2024-09-06T22:30:00",
          "2024-09-06T23:00:00",
          "2024-09-06T23:30:00",
          "2024-09-07T00:00:00",
          "2024-09-07T00:30:00",
          "2024-09-07T01:00:00",
          "2024-09-07T01:30:00",
          "2024-09-07T02:00:00",
          "2024-09-07T02:30:00",
          "2024-09-09T20:30:00",
          "2024-09-09T21:00:00",
          "2024-09-09T21:30:00",
          "2024-09-09T22:00:00",
          "2024-09-09T22:30:00",
          "2024-09-09T23:00:00",
          "2024-09-09T23:30:00",
          "2024-09-10T00:00:00",
          "2024-09-10T00:30:00",
          "2024-09-10T01:00:00",
          "2024-09-10T01:30:00",
          "2024-09-10T02:00:00",
          "2024-09-10T02:30:00",
          "2024-09-10T20:30:00",
          "2024-09-10T21:00:00",
          "2024-09-10T21:30:00",
          "2024-09-10T22:00:00",
          "2024-09-10T22:30:00",
          "2024-09-10T23:00:00",
          "2024-09-10T23:30:00",
          "2024-09-11T00:00:00",
          "2024-09-11T00:30:00",
          "2024-09-11T01:00:00",
          "2024-09-11T01:30:00",
          "2024-09-11T02:00:00",
          "2024-09-11T02:30:00",
          "2024-09-11T20:30:00",
          "2024-09-11T21:00:00",
          "2024-09-11T21:30:00",
          "2024-09-11T22:00:00",
          "2024-09-11T22:30:00",
          "2024-09-11T23:00:00",
          "2024-09-11T23:30:00",
          "2024-09-12T00:00:00",
          "2024-09-12T00:30:00",
          "2024-09-12T01:00:00",
          "2024-09-12T01:30:00",
          "2024-09-12T02:00:00",
          "2024-09-12T02:30:00",
          "2024-09-12T20:30:00",
          "2024-09-12T21:00:00",
          "2024-09-12T21:30:00"
         ]
        },
        {
         "line": {
          "color": "rgba(255, 255, 255, 0.2)"
         },
         "mode": "lines",
         "type": "scatter",
         "x": [
          "2024-08-22T20:30:00",
          "2024-08-23T21:00:00"
         ],
         "y": [
          41026.640625,
          41026.640625
         ]
        },
        {
         "mode": "text",
         "text": "CHOCH",
         "textfont": {
          "color": "rgba(255, 255, 255, 0.4)",
          "size": 8
         },
         "textposition": "top center",
         "type": "scatter",
         "x": [
          "2024-08-23T00:00:00"
         ],
         "y": [
          41026.640625
         ]
        },
        {
         "line": {
          "color": "rgba(255, 165, 0, 0.2)"
         },
         "mode": "lines",
         "type": "scatter",
         "x": [
          "2024-08-23T22:00:00",
          "2024-08-26T20:30:00"
         ],
         "y": [
          41207.921875,
          41207.921875
         ]
        },
        {
         "mode": "text",
         "text": "BOS",
         "textfont": {
          "color": "rgba(255, 165, 0, 0.4)",
          "size": 8
         },
         "textposition": "top center",
         "type": "scatter",
         "x": [
          "2024-08-24T00:30:00"
         ],
         "y": [
          41207.921875
         ]
        },
        {
         "line": {
          "color": "rgba(255, 255, 255, 0.2)"
         },
         "mode": "lines",
         "type": "scatter",
         "x": [
          "2024-08-27T20:30:00",
          "2024-08-28T20:30:00"
         ],
         "y": [
          41260.7890625,
          41260.7890625
         ]
        },
        {
         "mode": "text",
         "text": "CHOCH",
         "textfont": {
          "color": "rgba(255, 255, 255, 0.4)",
          "size": 8
         },
         "textposition": "top center",
         "type": "scatter",
         "x": [
          "2024-08-27T23:30:00"
         ],
         "y": [
          41260.7890625
         ]
        },
        {
         "line": {
          "color": "rgba(255, 255, 255, 0.2)"
         },
         "mode": "lines",
         "type": "scatter",
         "x": [
          "2024-08-27T23:30:00",
          "2024-08-28T23:00:00"
         ],
         "y": [
          41109.421875,
          41109.421875
         ]
        },
        {
         "mode": "text",
         "text": "CHOCH",
         "textfont": {
          "color": "rgba(255, 255, 255, 0.4)",
          "size": 8
         },
         "textposition": "bottom center",
         "type": "scatter",
         "x": [
          "2024-08-28T02:30:00"
         ],
         "y": [
          41109.421875
         ]
        },
        {
         "line": {
          "color": "rgba(255, 255, 255, 0.2)"
         },
         "mode": "lines",
         "type": "scatter",
         "x": [
          "2024-08-28T20:30:00",
          "2024-08-29T21:00:00"
         ],
         "y": [
          41351.109375,
          41351.109375
         ]
        },
        {
         "mode": "text",
         "text": "CHOCH",
         "textfont": {
          "color": "rgba(255, 255, 255, 0.4)",
          "size": 8
         },
         "textposition": "top center",
         "type": "scatter",
         "x": [
          "2024-08-29T00:00:00"
         ],
         "y": [
          41351.109375
         ]
        },
        {
         "line": {
          "color": "rgba(255, 255, 255, 0.2)"
         },
         "mode": "lines",
         "type": "scatter",
         "x": [
          "2024-08-30T23:30:00",
          "2024-09-03T21:00:00"
         ],
         "y": [
          41145.8515625,
          41145.8515625
         ]
        },
        {
         "mode": "text",
         "text": "CHOCH",
         "textfont": {
          "color": "rgba(255, 255, 255, 0.4)",
          "size": 8
         },
         "textposition": "bottom center",
         "type": "scatter",
         "x": [
          "2024-08-31T01:30:00"
         ],
         "y": [
          41145.8515625
         ]
        },
        {
         "line": {
          "color": "rgba(255, 165, 0, 0.2)"
         },
         "mode": "lines",
         "type": "scatter",
         "x": [
          "2024-09-04T02:30:00",
          "2024-09-05T22:00:00"
         ],
         "y": [
          40778.08984375,
          40778.08984375
         ]
        },
        {
         "mode": "text",
         "text": "BOS",
         "textfont": {
          "color": "rgba(255, 165, 0, 0.4)",
          "size": 8
         },
         "textposition": "bottom center",
         "type": "scatter",
         "x": [
          "2024-09-05T00:00:00"
         ],
         "y": [
          40778.08984375
         ]
        },
        {
         "line": {
          "color": "rgba(255, 165, 0, 0.2)"
         },
         "mode": "lines",
         "type": "scatter",
         "x": [
          "2024-09-05T23:00:00",
          "2024-09-06T21:30:00"
         ],
         "y": [
          40519.078125,
          40519.078125
         ]
        },
        {
         "mode": "text",
         "text": "BOS",
         "textfont": {
          "color": "rgba(255, 165, 0, 0.4)",
          "size": 8
         },
         "textposition": "bottom center",
         "type": "scatter",
         "x": [
          "2024-09-06T01:30:00"
         ],
         "y": [
          40519.078125
         ]
        },
        {
         "line": {
          "color": "rgba(255, 165, 0, 0.2)"
         },
         "mode": "lines",
         "type": "scatter",
         "x": [
          "2024-09-10T23:00:00",
          "2024-09-11T20:30:00"
         ],
         "y": [
          40417.46875,
          40417.46875
         ]
        },
        {
         "mode": "text",
         "text": "BOS",
         "textfont": {
          "color": "rgba(255, 165, 0, 0.4)",
          "size": 8
         },
         "textposition": "bottom center",
         "type": "scatter",
         "x": [
          "2024-09-11T01:00:00"
         ],
         "y": [
          40417.46875
         ]
        },
        {
         "line": {
          "color": "rgba(255, 255, 255, 0.2)"
         },
         "mode": "lines",
         "type": "scatter",
         "x": [
          "2024-09-11T02:30:00",
          "2024-09-12T02:00:00"
         ],
         "y": [
          40750.7109375,
          40750.7109375
         ]
        },
        {
         "mode": "text",
         "text": "CHOCH",
         "textfont": {
          "color": "rgba(255, 255, 255, 0.4)",
          "size": 8
         },
         "textposition": "top center",
         "type": "scatter",
         "x": [
          "2024-09-11T23:00:00"
         ],
         "y": [
          40750.7109375
         ]
        }
       ],
       "layout": {
        "annotations": [
         {
          "align": "center",
          "font": {
           "color": "rgba(250, 250, 250, 1)",
           "size": 8
          },
          "showarrow": false,
          "text": "OB: 0.00 (100.0%)",
          "x": "2024-09-12T01:00:00",
          "xref": "x",
          "y": 40050.375,
          "yref": "y"
         },
         {
          "align": "center",
          "font": {
           "color": "rgba(250, 250, 250, 1)",
           "size": 8
          },
          "showarrow": false,
          "text": "OB: 0.00 (100.0%)",
          "x": "2024-09-07T00:00:00",
          "xref": "x",
          "y": 41479.59375,
          "yref": "y"
         },
         {
          "align": "center",
          "font": {
           "color": "rgba(250, 250, 250, 1)",
           "size": 8
          },
          "showarrow": false,
          "text": "OB: 0.00 (100.0%)",
          "x": "2024-09-09T22:00:00",
          "xref": "x",
          "y": 41091.84375,
          "yref": "y"
         },
         {
          "align": "center",
          "font": {
           "color": "rgba(250, 250, 250, 1)",
           "size": 8
          },
          "showarrow": false,
          "text": "OB: 0.00 (100.0%)",
          "x": "2024-09-10T21:00:00",
          "xref": "x",
          "y": 40891.0703125,
          "yref": "y"
         }
        ],
        "font": {
         "color": "white"
        },
        "height": 400,
        "margin": {
         "b": 0,
         "l": 0,
         "pad": 50,
         "r": 50,
         "t": 0
        },
        "paper_bgcolor": "rgba(34, 42, 58, 0.8)",
        "plot_bgcolor": "rgba(34, 42, 58, 0.8)",
        "shapes": [
         {
          "fillcolor": "Purple",
          "legendgroup": "bullish ob",
          "line": {
           "color": "Purple"
          },
          "name": "Bullish OB",
          "opacity": 0.2,
          "showlegend": true,
          "type": "rect",
          "x0": "2024-09-11T21:30:00",
          "x1": "2024-09-12T21:30:00",
          "y0": 39993.078125,
          "y1": 40107.671875
         },
         {
          "fillcolor": "Purple",
          "legendgroup": "bearish ob",
          "line": {
           "color": "Purple"
          },
          "name": "Bearish OB",
          "opacity": 0.2,
          "showlegend": true,
          "type": "rect",
          "x0": "2024-08-31T02:30:00",
          "x1": "2024-09-12T21:30:00",
          "y0": 41373.98046875,
          "y1": 41585.2109375
         },
         {
          "fillcolor": "Purple",
          "legendgroup": "bearish ob",
          "line": {
           "color": "Purple"
          },
          "name": "Bearish OB",
          "opacity": 0.2,
          "showlegend": true,
          "type": "rect",
          "x0": "2024-09-04T22:00:00",
          "x1": "2024-09-12T21:30:00",
          "y0": 41011.1015625,
          "y1": 41172.58984375
         },
         {
          "fillcolor": "Purple",
          "legendgroup": "bearish ob",
          "line": {
           "color": "Purple"
          },
          "name": "Bearish OB",
          "opacity": 0.2,
          "showlegend": true,
          "type": "rect",
          "x0": "2024-09-06T20:30:00",
          "x1": "2024-09-12T21:30:00",
          "y0": 40772.75,
          "y1": 41009.390625
         }
        ],
        "showlegend": false,
        "template": {
         "data": {
          "bar": [
           {
            "error_x": {
             "color": "#2a3f5f"
            },
            "error_y": {
             "color": "#2a3f5f"
            },
            "marker": {
             "line": {
              "color": "#E5ECF6",
              "width": 0.5
             },
             "pattern": {
              "fillmode": "overlay",
              "size": 10,
              "solidity": 0.2
             }
            },
            "type": "bar"
           }
          ],
          "barpolar": [
           {
            "marker": {
             "line": {
              "color": "#E5ECF6",
              "width": 0.5
             },
             "pattern": {
              "fillmode": "overlay",
              "size": 10,
              "solidity": 0.2
             }
            },
            "type": "barpolar"
           }
          ],
          "carpet": [
           {
            "aaxis": {
             "endlinecolor": "#2a3f5f",
             "gridcolor": "white",
             "linecolor": "white",
             "minorgridcolor": "white",
             "startlinecolor": "#2a3f5f"
            },
            "baxis": {
             "endlinecolor": "#2a3f5f",
             "gridcolor": "white",
             "linecolor": "white",
             "minorgridcolor": "white",
             "startlinecolor": "#2a3f5f"
            },
            "type": "carpet"
           }
          ],
          "choropleth": [
           {
            "colorbar": {
             "outlinewidth": 0,
             "ticks": ""
            },
            "type": "choropleth"
           }
          ],
          "contour": [
           {
            "colorbar": {
             "outlinewidth": 0,
             "ticks": ""
            },
            "colorscale": [
             [
              0,
              "#0d0887"
             ],
             [
              0.1111111111111111,
              "#46039f"
             ],
             [
              0.2222222222222222,
              "#7201a8"
             ],
             [
              0.3333333333333333,
              "#9c179e"
             ],
             [
              0.4444444444444444,
              "#bd3786"
             ],
             [
              0.5555555555555556,
              "#d8576b"
             ],
             [
              0.6666666666666666,
              "#ed7953"
             ],
             [
              0.7777777777777778,
              "#fb9f3a"
             ],
             [
              0.8888888888888888,
              "#fdca26"
             ],
             [
              1,
              "#f0f921"
             ]
            ],
            "type": "contour"
           }
          ],
          "contourcarpet": [
           {
            "colorbar": {
             "outlinewidth": 0,
             "ticks": ""
            },
            "type": "contourcarpet"
           }
          ],
          "heatmap": [
           {
            "colorbar": {
             "outlinewidth": 0,
             "ticks": ""
            },
            "colorscale": [
             [
              0,
              "#0d0887"
             ],
             [
              0.1111111111111111,
              "#46039f"
             ],
             [
              0.2222222222222222,
              "#7201a8"
             ],
             [
              0.3333333333333333,
              "#9c179e"
             ],
             [
              0.4444444444444444,
              "#bd3786"
             ],
             [
              0.5555555555555556,
              "#d8576b"
             ],
             [
              0.6666666666666666,
              "#ed7953"
             ],
             [
              0.7777777777777778,
              "#fb9f3a"
             ],
             [
              0.8888888888888888,
              "#fdca26"
             ],
             [
              1,
              "#f0f921"
             ]
            ],
            "type": "heatmap"
           }
          ],
          "heatmapgl": [
           {
            "colorbar": {
             "outlinewidth": 0,
             "ticks": ""
            },
            "colorscale": [
             [
              0,
              "#0d0887"
             ],
             [
              0.1111111111111111,
              "#46039f"
             ],
             [
              0.2222222222222222,
              "#7201a8"
             ],
             [
              0.3333333333333333,
              "#9c179e"
             ],
             [
              0.4444444444444444,
              "#bd3786"
             ],
             [
              0.5555555555555556,
              "#d8576b"
             ],
             [
              0.6666666666666666,
              "#ed7953"
             ],
             [
              0.7777777777777778,
              "#fb9f3a"
             ],
             [
              0.8888888888888888,
              "#fdca26"
             ],
             [
              1,
              "#f0f921"
             ]
            ],
            "type": "heatmapgl"
           }
          ],
          "histogram": [
           {
            "marker": {
             "pattern": {
              "fillmode": "overlay",
              "size": 10,
              "solidity": 0.2
             }
            },
            "type": "histogram"
           }
          ],
          "histogram2d": [
           {
            "colorbar": {
             "outlinewidth": 0,
             "ticks": ""
            },
            "colorscale": [
             [
              0,
              "#0d0887"
             ],
             [
              0.1111111111111111,
              "#46039f"
             ],
             [
              0.2222222222222222,
              "#7201a8"
             ],
             [
              0.3333333333333333,
              "#9c179e"
             ],
             [
              0.4444444444444444,
              "#bd3786"
             ],
             [
              0.5555555555555556,
              "#d8576b"
             ],
             [
              0.6666666666666666,
              "#ed7953"
             ],
             [
              0.7777777777777778,
              "#fb9f3a"
             ],
             [
              0.8888888888888888,
              "#fdca26"
             ],
             [
              1,
              "#f0f921"
             ]
            ],
            "type": "histogram2d"
           }
          ],
          "histogram2dcontour": [
           {
            "colorbar": {
             "outlinewidth": 0,
             "ticks": ""
            },
            "colorscale": [
             [
              0,
              "#0d0887"
             ],
             [
              0.1111111111111111,
              "#46039f"
             ],
             [
              0.2222222222222222,
              "#7201a8"
             ],
             [
              0.3333333333333333,
              "#9c179e"
             ],
             [
              0.4444444444444444,
              "#bd3786"
             ],
             [
              0.5555555555555556,
              "#d8576b"
             ],
             [
              0.6666666666666666,
              "#ed7953"
             ],
             [
              0.7777777777777778,
              "#fb9f3a"
             ],
             [
              0.8888888888888888,
              "#fdca26"
             ],
             [
              1,
              "#f0f921"
             ]
            ],
            "type": "histogram2dcontour"
           }
          ],
          "mesh3d": [
           {
            "colorbar": {
             "outlinewidth": 0,
             "ticks": ""
            },
            "type": "mesh3d"
           }
          ],
          "parcoords": [
           {
            "line": {
             "colorbar": {
              "outlinewidth": 0,
              "ticks": ""
             }
            },
            "type": "parcoords"
           }
          ],
          "pie": [
           {
            "automargin": true,
            "type": "pie"
           }
          ],
          "scatter": [
           {
            "fillpattern": {
             "fillmode": "overlay",
             "size": 10,
             "solidity": 0.2
            },
            "type": "scatter"
           }
          ],
          "scatter3d": [
           {
            "line": {
             "colorbar": {
              "outlinewidth": 0,
              "ticks": ""
             }
            },
            "marker": {
             "colorbar": {
              "outlinewidth": 0,
              "ticks": ""
             }
            },
            "type": "scatter3d"
           }
          ],
          "scattercarpet": [
           {
            "marker": {
             "colorbar": {
              "outlinewidth": 0,
              "ticks": ""
             }
            },
            "type": "scattercarpet"
           }
          ],
          "scattergeo": [
           {
            "marker": {
             "colorbar": {
              "outlinewidth": 0,
              "ticks": ""
             }
            },
            "type": "scattergeo"
           }
          ],
          "scattergl": [
           {
            "marker": {
             "colorbar": {
              "outlinewidth": 0,
              "ticks": ""
             }
            },
            "type": "scattergl"
           }
          ],
          "scattermapbox": [
           {
            "marker": {
             "colorbar": {
              "outlinewidth": 0,
              "ticks": ""
             }
            },
            "type": "scattermapbox"
           }
          ],
          "scatterpolar": [
           {
            "marker": {
             "colorbar": {
              "outlinewidth": 0,
              "ticks": ""
             }
            },
            "type": "scatterpolar"
           }
          ],
          "scatterpolargl": [
           {
            "marker": {
             "colorbar": {
              "outlinewidth": 0,
              "ticks": ""
             }
            },
            "type": "scatterpolargl"
           }
          ],
          "scatterternary": [
           {
            "marker": {
             "colorbar": {
              "outlinewidth": 0,
              "ticks": ""
             }
            },
            "type": "scatterternary"
           }
          ],
          "surface": [
           {
            "colorbar": {
             "outlinewidth": 0,
             "ticks": ""
            },
            "colorscale": [
             [
              0,
              "#0d0887"
             ],
             [
              0.1111111111111111,
              "#46039f"
             ],
             [
              0.2222222222222222,
              "#7201a8"
             ],
             [
              0.3333333333333333,
              "#9c179e"
             ],
             [
              0.4444444444444444,
              "#bd3786"
             ],
             [
              0.5555555555555556,
              "#d8576b"
             ],
             [
              0.6666666666666666,
              "#ed7953"
             ],
             [
              0.7777777777777778,
              "#fb9f3a"
             ],
             [
              0.8888888888888888,
              "#fdca26"
             ],
             [
              1,
              "#f0f921"
             ]
            ],
            "type": "surface"
           }
          ],
          "table": [
           {
            "cells": {
             "fill": {
              "color": "#EBF0F8"
             },
             "line": {
              "color": "white"
             }
            },
            "header": {
             "fill": {
              "color": "#C8D4E3"
             },
             "line": {
              "color": "white"
             }
            },
            "type": "table"
           }
          ]
         },
         "layout": {
          "annotationdefaults": {
           "arrowcolor": "#2a3f5f",
           "arrowhead": 0,
           "arrowwidth": 1
          },
          "autotypenumbers": "strict",
          "coloraxis": {
           "colorbar": {
            "outlinewidth": 0,
            "ticks": ""
           }
          },
          "colorscale": {
           "diverging": [
            [
             0,
             "#8e0152"
            ],
            [
             0.1,
             "#c51b7d"
            ],
            [
             0.2,
             "#de77ae"
            ],
            [
             0.3,
             "#f1b6da"
            ],
            [
             0.4,
             "#fde0ef"
            ],
            [
             0.5,
             "#f7f7f7"
            ],
            [
             0.6,
             "#e6f5d0"
            ],
            [
             0.7,
             "#b8e186"
            ],
            [
             0.8,
             "#7fbc41"
            ],
            [
             0.9,
             "#4d9221"
            ],
            [
             1,
             "#276419"
            ]
           ],
           "sequential": [
            [
             0,
             "#0d0887"
            ],
            [
             0.1111111111111111,
             "#46039f"
            ],
            [
             0.2222222222222222,
             "#7201a8"
            ],
            [
             0.3333333333333333,
             "#9c179e"
            ],
            [
             0.4444444444444444,
             "#bd3786"
            ],
            [
             0.5555555555555556,
             "#d8576b"
            ],
            [
             0.6666666666666666,
             "#ed7953"
            ],
            [
             0.7777777777777778,
             "#fb9f3a"
            ],
            [
             0.8888888888888888,
             "#fdca26"
            ],
            [
             1,
             "#f0f921"
            ]
           ],
           "sequentialminus": [
            [
             0,
             "#0d0887"
            ],
            [
             0.1111111111111111,
             "#46039f"
            ],
            [
             0.2222222222222222,
             "#7201a8"
            ],
            [
             0.3333333333333333,
             "#9c179e"
            ],
            [
             0.4444444444444444,
             "#bd3786"
            ],
            [
             0.5555555555555556,
             "#d8576b"
            ],
            [
             0.6666666666666666,
             "#ed7953"
            ],
            [
             0.7777777777777778,
             "#fb9f3a"
            ],
            [
             0.8888888888888888,
             "#fdca26"
            ],
            [
             1,
             "#f0f921"
            ]
           ]
          },
          "colorway": [
           "#636efa",
           "#EF553B",
           "#00cc96",
           "#ab63fa",
           "#FFA15A",
           "#19d3f3",
           "#FF6692",
           "#B6E880",
           "#FF97FF",
           "#FECB52"
          ],
          "font": {
           "color": "#2a3f5f"
          },
          "geo": {
           "bgcolor": "white",
           "lakecolor": "white",
           "landcolor": "#E5ECF6",
           "showlakes": true,
           "showland": true,
           "subunitcolor": "white"
          },
          "hoverlabel": {
           "align": "left"
          },
          "hovermode": "closest",
          "mapbox": {
           "style": "light"
          },
          "paper_bgcolor": "white",
          "plot_bgcolor": "#E5ECF6",
          "polar": {
           "angularaxis": {
            "gridcolor": "white",
            "linecolor": "white",
            "ticks": ""
           },
           "bgcolor": "#E5ECF6",
           "radialaxis": {
            "gridcolor": "white",
            "linecolor": "white",
            "ticks": ""
           }
          },
          "scene": {
           "xaxis": {
            "backgroundcolor": "#E5ECF6",
            "gridcolor": "white",
            "gridwidth": 2,
            "linecolor": "white",
            "showbackground": true,
            "ticks": "",
            "zerolinecolor": "white"
           },
           "yaxis": {
            "backgroundcolor": "#E5ECF6",
            "gridcolor": "white",
            "gridwidth": 2,
            "linecolor": "white",
            "showbackground": true,
            "ticks": "",
            "zerolinecolor": "white"
           },
           "zaxis": {
            "backgroundcolor": "#E5ECF6",
            "gridcolor": "white",
            "gridwidth": 2,
            "linecolor": "white",
            "showbackground": true,
            "ticks": "",
            "zerolinecolor": "white"
           }
          },
          "shapedefaults": {
           "line": {
            "color": "#2a3f5f"
           }
          },
          "ternary": {
           "aaxis": {
            "gridcolor": "white",
            "linecolor": "white",
            "ticks": ""
           },
           "baxis": {
            "gridcolor": "white",
            "linecolor": "white",
            "ticks": ""
           },
           "bgcolor": "#E5ECF6",
           "caxis": {
            "gridcolor": "white",
            "linecolor": "white",
            "ticks": ""
           }
          },
          "title": {
           "x": 0.05
          },
          "xaxis": {
           "automargin": true,
           "gridcolor": "white",
           "linecolor": "white",
           "ticks": "",
           "title": {
            "standoff": 15
           },
           "zerolinecolor": "white",
           "zerolinewidth": 2
          },
          "yaxis": {
           "automargin": true,
           "gridcolor": "white",
           "linecolor": "white",
           "ticks": "",
           "title": {
            "standoff": 15
           },
           "zerolinecolor": "white",
           "zerolinewidth": 2
          }
         }
        },
        "width": 800,
        "xaxis": {
         "rangebreaks": [
          {
           "dvalue": 1800000,
           "values": [
            "2024-08-21T03:00:00",
            "2024-08-21T03:30:00",
            "2024-08-21T04:00:00",
            "2024-08-21T04:30:00",
            "2024-08-21T05:00:00",
            "2024-08-21T05:30:00",
            "2024-08-21T06:00:00",
            "2024-08-21T06:30:00",
            "2024-08-21T07:00:00",
            "2024-08-21T07:30:00",
            "2024-08-21T08:00:00",
            "2024-08-21T08:30:00",
            "2024-08-21T09:00:00",
            "2024-08-21T09:30:00",
            "2024-08-21T10:00:00",
            "2024-08-21T10:30:00",
            "2024-08-21T11:00:00",
            "2024-08-21T11:30:00",
            "2024-08-21T12:00:00",
            "2024-08-21T12:30:00",
            "2024-08-21T13:00:00",
            "2024-08-21T13:30:00",
            "2024-08-21T14:00:00",
            "2024-08-21T14:30:00",
            "2024-08-21T15:00:00",
            "2024-08-21T15:30:00",
            "2024-08-21T16:00:00",
            "2024-08-21T16:30:00",
            "2024-08-21T17:00:00",
            "2024-08-21T17:30:00",
            "2024-08-21T18:00:00",
            "2024-08-21T18:30:00",
            "2024-08-21T19:00:00",
            "2024-08-21T19:30:00",
            "2024-08-21T20:00:00",
            "2024-08-22T03:00:00",
            "2024-08-22T03:30:00",
            "2024-08-22T04:00:00",
            "2024-08-22T04:30:00",
            "2024-08-22T05:00:00",
            "2024-08-22T05:30:00",
            "2024-08-22T06:00:00",
            "2024-08-22T06:30:00",
            "2024-08-22T07:00:00",
            "2024-08-22T07:30:00",
            "2024-08-22T08:00:00",
            "2024-08-22T08:30:00",
            "2024-08-22T09:00:00",
            "2024-08-22T09:30:00",
            "2024-08-22T10:00:00",
            "2024-08-22T10:30:00",
            "2024-08-22T11:00:00",
            "2024-08-22T11:30:00",
            "2024-08-22T12:00:00",
            "2024-08-22T12:30:00",
            "2024-08-22T13:00:00",
            "2024-08-22T13:30:00",
            "2024-08-22T14:00:00",
            "2024-08-22T14:30:00",
            "2024-08-22T15:00:00",
            "2024-08-22T15:30:00",
            "2024-08-22T16:00:00",
            "2024-08-22T16:30:00",
            "2024-08-22T17:00:00",
            "2024-08-22T17:30:00",
            "2024-08-22T18:00:00",
            "2024-08-22T18:30:00",
            "2024-08-22T19:00:00",
            "2024-08-22T19:30:00",
            "2024-08-22T20:00:00",
            "2024-08-23T03:00:00",
            "2024-08-23T03:30:00",
            "2024-08-23T04:00:00",
            "2024-08-23T04:30:00",
            "2024-08-23T05:00:00",
            "2024-08-23T05:30:00",
            "2024-08-23T06:00:00",
            "2024-08-23T06:30:00",
            "2024-08-23T07:00:00",
            "2024-08-23T07:30:00",
            "2024-08-23T08:00:00",
            "2024-08-23T08:30:00",
            "2024-08-23T09:00:00",
            "2024-08-23T09:30:00",
            "2024-08-23T10:00:00",
            "2024-08-23T10:30:00",
            "2024-08-23T11:00:00",
            "2024-08-23T11:30:00",
            "2024-08-23T12:00:00",
            "2024-08-23T12:30:00",
            "2024-08-23T13:00:00",
            "2024-08-23T13:30:00",
            "2024-08-23T14:00:00",
            "2024-08-23T14:30:00",
            "2024-08-23T15:00:00",
            "2024-08-23T15:30:00",
            "2024-08-23T16:00:00",
            "2024-08-23T16:30:00",
            "2024-08-23T17:00:00",
            "2024-08-23T17:30:00",
            "2024-08-23T18:00:00",
            "2024-08-23T18:30:00",
            "2024-08-23T19:00:00",
            "2024-08-23T19:30:00",
            "2024-08-23T20:00:00",
            "2024-08-24T03:00:00",
            "2024-08-24T03:30:00",
            "2024-08-24T04:00:00",
            "2024-08-24T04:30:00",
            "2024-08-24T05:00:00",
            "2024-08-24T05:30:00",
            "2024-08-24T06:00:00",
            "2024-08-24T06:30:00",
            "2024-08-24T07:00:00",
            "2024-08-24T07:30:00",
            "2024-08-24T08:00:00",
            "2024-08-24T08:30:00",
            "2024-08-24T09:00:00",
            "2024-08-24T09:30:00",
            "2024-08-24T10:00:00",
            "2024-08-24T10:30:00",
            "2024-08-24T11:00:00",
            "2024-08-24T11:30:00",
            "2024-08-24T12:00:00",
            "2024-08-24T12:30:00",
            "2024-08-24T13:00:00",
            "2024-08-24T13:30:00",
            "2024-08-24T14:00:00",
            "2024-08-24T14:30:00",
            "2024-08-24T15:00:00",
            "2024-08-24T15:30:00",
            "2024-08-24T16:00:00",
            "2024-08-24T16:30:00",
            "2024-08-24T17:00:00",
            "2024-08-24T17:30:00",
            "2024-08-24T18:00:00",
            "2024-08-24T18:30:00",
            "2024-08-24T19:00:00",
            "2024-08-24T19:30:00",
            "2024-08-24T20:00:00",
            "2024-08-24T20:30:00",
            "2024-08-24T21:00:00",
            "2024-08-24T21:30:00",
            "2024-08-24T22:00:00",
            "2024-08-24T22:30:00",
            "2024-08-24T23:00:00",
            "2024-08-24T23:30:00",
            "2024-08-25T00:00:00",
            "2024-08-25T00:30:00",
            "2024-08-25T01:00:00",
            "2024-08-25T01:30:00",
            "2024-08-25T02:00:00",
            "2024-08-25T02:30:00",
            "2024-08-25T03:00:00",
            "2024-08-25T03:30:00",
            "2024-08-25T04:00:00",
            "2024-08-25T04:30:00",
            "2024-08-25T05:00:00",
            "2024-08-25T05:30:00",
            "2024-08-25T06:00:00",
            "2024-08-25T06:30:00",
            "2024-08-25T07:00:00",
            "2024-08-25T07:30:00",
            "2024-08-25T08:00:00",
            "2024-08-25T08:30:00",
            "2024-08-25T09:00:00",
            "2024-08-25T09:30:00",
            "2024-08-25T10:00:00",
            "2024-08-25T10:30:00",
            "2024-08-25T11:00:00",
            "2024-08-25T11:30:00",
            "2024-08-25T12:00:00",
            "2024-08-25T12:30:00",
            "2024-08-25T13:00:00",
            "2024-08-25T13:30:00",
            "2024-08-25T14:00:00",
            "2024-08-25T14:30:00",
            "2024-08-25T15:00:00",
            "2024-08-25T15:30:00",
            "2024-08-25T16:00:00",
            "2024-08-25T16:30:00",
            "2024-08-25T17:00:00",
            "2024-08-25T17:30:00",
            "2024-08-25T18:00:00",
            "2024-08-25T18:30:00",
            "2024-08-25T19:00:00",
            "2024-08-25T19:30:00",
            "2024-08-25T20:00:00",
            "2024-08-25T20:30:00",
            "2024-08-25T21:00:00",
            "2024-08-25T21:30:00",
            "2024-08-25T22:00:00",
            "2024-08-25T22:30:00",
            "2024-08-25T23:00:00",
            "2024-08-25T23:30:00",
            "2024-08-26T00:00:00",
            "2024-08-26T00:30:00",
            "2024-08-26T01:00:00",
            "2024-08-26T01:30:00",
            "2024-08-26T02:00:00",
            "2024-08-26T02:30:00",
            "2024-08-26T03:00:00",
            "2024-08-26T03:30:00",
            "2024-08-26T04:00:00",
            "2024-08-26T04:30:00",
            "2024-08-26T05:00:00",
            "2024-08-26T05:30:00",
            "2024-08-26T06:00:00",
            "2024-08-26T06:30:00",
            "2024-08-26T07:00:00",
            "2024-08-26T07:30:00",
            "2024-08-26T08:00:00",
            "2024-08-26T08:30:00",
            "2024-08-26T09:00:00",
            "2024-08-26T09:30:00",
            "2024-08-26T10:00:00",
            "2024-08-26T10:30:00",
            "2024-08-26T11:00:00",
            "2024-08-26T11:30:00",
            "2024-08-26T12:00:00",
            "2024-08-26T12:30:00",
            "2024-08-26T13:00:00",
            "2024-08-26T13:30:00",
            "2024-08-26T14:00:00",
            "2024-08-26T14:30:00",
            "2024-08-26T15:00:00",
            "2024-08-26T15:30:00",
            "2024-08-26T16:00:00",
            "2024-08-26T16:30:00",
            "2024-08-26T17:00:00",
            "2024-08-26T17:30:00",
            "2024-08-26T18:00:00",
            "2024-08-26T18:30:00",
            "2024-08-26T19:00:00",
            "2024-08-26T19:30:00",
            "2024-08-26T20:00:00",
            "2024-08-27T03:00:00",
            "2024-08-27T03:30:00",
            "2024-08-27T04:00:00",
            "2024-08-27T04:30:00",
            "2024-08-27T05:00:00",
            "2024-08-27T05:30:00",
            "2024-08-27T06:00:00",
            "2024-08-27T06:30:00",
            "2024-08-27T07:00:00",
            "2024-08-27T07:30:00",
            "2024-08-27T08:00:00",
            "2024-08-27T08:30:00",
            "2024-08-27T09:00:00",
            "2024-08-27T09:30:00",
            "2024-08-27T10:00:00",
            "2024-08-27T10:30:00",
            "2024-08-27T11:00:00",
            "2024-08-27T11:30:00",
            "2024-08-27T12:00:00",
            "2024-08-27T12:30:00",
            "2024-08-27T13:00:00",
            "2024-08-27T13:30:00",
            "2024-08-27T14:00:00",
            "2024-08-27T14:30:00",
            "2024-08-27T15:00:00",
            "2024-08-27T15:30:00",
            "2024-08-27T16:00:00",
            "2024-08-27T16:30:00",
            "2024-08-27T17:00:00",
            "2024-08-27T17:30:00",
            "2024-08-27T18:00:00",
            "2024-08-27T18:30:00",
            "2024-08-27T19:00:00",
            "2024-08-27T19:30:00",
            "2024-08-27T20:00:00",
            "2024-08-28T03:00:00",
            "2024-08-28T03:30:00",
            "2024-08-28T04:00:00",
            "2024-08-28T04:30:00",
            "2024-08-28T05:00:00",
            "2024-08-28T05:30:00",
            "2024-08-28T06:00:00",
            "2024-08-28T06:30:00",
            "2024-08-28T07:00:00",
            "2024-08-28T07:30:00",
            "2024-08-28T08:00:00",
            "2024-08-28T08:30:00",
            "2024-08-28T09:00:00",
            "2024-08-28T09:30:00",
            "2024-08-28T10:00:00",
            "2024-08-28T10:30:00",
            "2024-08-28T11:00:00",
            "2024-08-28T11:30:00",
            "2024-08-28T12:00:00",
            "2024-08-28T12:30:00",
            "2024-08-28T13:00:00",
            "2024-08-28T13:30:00",
            "2024-08-28T14:00:00",
            "2024-08-28T14:30:00",
            "2024-08-28T15:00:00",
            "2024-08-28T15:30:00",
            "2024-08-28T16:00:00",
            "2024-08-28T16:30:00",
            "2024-08-28T17:00:00",
            "2024-08-28T17:30:00",
            "2024-08-28T18:00:00",
            "2024-08-28T18:30:00",
            "2024-08-28T19:00:00",
            "2024-08-28T19:30:00",
            "2024-08-28T20:00:00",
            "2024-08-29T03:00:00",
            "2024-08-29T03:30:00",
            "2024-08-29T04:00:00",
            "2024-08-29T04:30:00",
            "2024-08-29T05:00:00",
            "2024-08-29T05:30:00",
            "2024-08-29T06:00:00",
            "2024-08-29T06:30:00",
            "2024-08-29T07:00:00",
            "2024-08-29T07:30:00",
            "2024-08-29T08:00:00",
            "2024-08-29T08:30:00",
            "2024-08-29T09:00:00",
            "2024-08-29T09:30:00",
            "2024-08-29T10:00:00",
            "2024-08-29T10:30:00",
            "2024-08-29T11:00:00",
            "2024-08-29T11:30:00",
            "2024-08-29T12:00:00",
            "2024-08-29T12:30:00",
            "2024-08-29T13:00:00",
            "2024-08-29T13:30:00",
            "2024-08-29T14:00:00",
            "2024-08-29T14:30:00",
            "2024-08-29T15:00:00",
            "2024-08-29T15:30:00",
            "2024-08-29T16:00:00",
            "2024-08-29T16:30:00",
            "2024-08-29T17:00:00",
            "2024-08-29T17:30:00",
            "2024-08-29T18:00:00",
            "2024-08-29T18:30:00",
            "2024-08-29T19:00:00",
            "2024-08-29T19:30:00",
            "2024-08-29T20:00:00",
            "2024-08-30T03:00:00",
            "2024-08-30T03:30:00",
            "2024-08-30T04:00:00",
            "2024-08-30T04:30:00",
            "2024-08-30T05:00:00",
            "2024-08-30T05:30:00",
            "2024-08-30T06:00:00",
            "2024-08-30T06:30:00",
            "2024-08-30T07:00:00",
            "2024-08-30T07:30:00",
            "2024-08-30T08:00:00",
            "2024-08-30T08:30:00",
            "2024-08-30T09:00:00",
            "2024-08-30T09:30:00",
            "2024-08-30T10:00:00",
            "2024-08-30T10:30:00",
            "2024-08-30T11:00:00",
            "2024-08-30T11:30:00",
            "2024-08-30T12:00:00",
            "2024-08-30T12:30:00",
            "2024-08-30T13:00:00",
            "2024-08-30T13:30:00",
            "2024-08-30T14:00:00",
            "2024-08-30T14:30:00",
            "2024-08-30T15:00:00",
            "2024-08-30T15:30:00",
            "2024-08-30T16:00:00",
            "2024-08-30T16:30:00",
            "2024-08-30T17:00:00",
            "2024-08-30T17:30:00",
            "2024-08-30T18:00:00",
            "2024-08-30T18:30:00",
            "2024-08-30T19:00:00",
            "2024-08-30T19:30:00",
            "2024-08-30T20:00:00",
            "2024-08-31T03:00:00",
            "2024-08-31T03:30:00",
            "2024-08-31T04:00:00",
            "2024-08-31T04:30:00",
            "2024-08-31T05:00:00",
            "2024-08-31T05:30:00",
            "2024-08-31T06:00:00",
            "2024-08-31T06:30:00",
            "2024-08-31T07:00:00",
            "2024-08-31T07:30:00",
            "2024-08-31T08:00:00",
            "2024-08-31T08:30:00",
            "2024-08-31T09:00:00",
            "2024-08-31T09:30:00",
            "2024-08-31T10:00:00",
            "2024-08-31T10:30:00",
            "2024-08-31T11:00:00",
            "2024-08-31T11:30:00",
            "2024-08-31T12:00:00",
            "2024-08-31T12:30:00",
            "2024-08-31T13:00:00",
            "2024-08-31T13:30:00",
            "2024-08-31T14:00:00",
            "2024-08-31T14:30:00",
            "2024-08-31T15:00:00",
            "2024-08-31T15:30:00",
            "2024-08-31T16:00:00",
            "2024-08-31T16:30:00",
            "2024-08-31T17:00:00",
            "2024-08-31T17:30:00",
            "2024-08-31T18:00:00",
            "2024-08-31T18:30:00",
            "2024-08-31T19:00:00",
            "2024-08-31T19:30:00",
            "2024-08-31T20:00:00",
            "2024-08-31T20:30:00",
            "2024-08-31T21:00:00",
            "2024-08-31T21:30:00",
            "2024-08-31T22:00:00",
            "2024-08-31T22:30:00",
            "2024-08-31T23:00:00",
            "2024-08-31T23:30:00",
            "2024-09-01T00:00:00",
            "2024-09-01T00:30:00",
            "2024-09-01T01:00:00",
            "2024-09-01T01:30:00",
            "2024-09-01T02:00:00",
            "2024-09-01T02:30:00",
            "2024-09-01T03:00:00",
            "2024-09-01T03:30:00",
            "2024-09-01T04:00:00",
            "2024-09-01T04:30:00",
            "2024-09-01T05:00:00",
            "2024-09-01T05:30:00",
            "2024-09-01T06:00:00",
            "2024-09-01T06:30:00",
            "2024-09-01T07:00:00",
            "2024-09-01T07:30:00",
            "2024-09-01T08:00:00",
            "2024-09-01T08:30:00",
            "2024-09-01T09:00:00",
            "2024-09-01T09:30:00",
            "2024-09-01T10:00:00",
            "2024-09-01T10:30:00",
            "2024-09-01T11:00:00",
            "2024-09-01T11:30:00",
            "2024-09-01T12:00:00",
            "2024-09-01T12:30:00",
            "2024-09-01T13:00:00",
            "2024-09-01T13:30:00",
            "2024-09-01T14:00:00",
            "2024-09-01T14:30:00",
            "2024-09-01T15:00:00",
            "2024-09-01T15:30:00",
            "2024-09-01T16:00:00",
            "2024-09-01T16:30:00",
            "2024-09-01T17:00:00",
            "2024-09-01T17:30:00",
            "2024-09-01T18:00:00",
            "2024-09-01T18:30:00",
            "2024-09-01T19:00:00",
            "2024-09-01T19:30:00",
            "2024-09-01T20:00:00",
            "2024-09-01T20:30:00",
            "2024-09-01T21:00:00",
            "2024-09-01T21:30:00",
            "2024-09-01T22:00:00",
            "2024-09-01T22:30:00",
            "2024-09-01T23:00:00",
            "2024-09-01T23:30:00",
            "2024-09-02T00:00:00",
            "2024-09-02T00:30:00",
            "2024-09-02T01:00:00",
            "2024-09-02T01:30:00",
            "2024-09-02T02:00:00",
            "2024-09-02T02:30:00",
            "2024-09-02T03:00:00",
            "2024-09-02T03:30:00",
            "2024-09-02T04:00:00",
            "2024-09-02T04:30:00",
            "2024-09-02T05:00:00",
            "2024-09-02T05:30:00",
            "2024-09-02T06:00:00",
            "2024-09-02T06:30:00",
            "2024-09-02T07:00:00",
            "2024-09-02T07:30:00",
            "2024-09-02T08:00:00",
            "2024-09-02T08:30:00",
            "2024-09-02T09:00:00",
            "2024-09-02T09:30:00",
            "2024-09-02T10:00:00",
            "2024-09-02T10:30:00",
            "2024-09-02T11:00:00",
            "2024-09-02T11:30:00",
            "2024-09-02T12:00:00",
            "2024-09-02T12:30:00",
            "2024-09-02T13:00:00",
            "2024-09-02T13:30:00",
            "2024-09-02T14:00:00",
            "2024-09-02T14:30:00",
            "2024-09-02T15:00:00",
            "2024-09-02T15:30:00",
            "2024-09-02T16:00:00",
            "2024-09-02T16:30:00",
            "2024-09-02T17:00:00",
            "2024-09-02T17:30:00",
            "2024-09-02T18:00:00",
            "2024-09-02T18:30:00",
            "2024-09-02T19:00:00",
            "2024-09-02T19:30:00",
            "2024-09-02T20:00:00",
            "2024-09-02T20:30:00",
            "2024-09-02T21:00:00",
            "2024-09-02T21:30:00",
            "2024-09-02T22:00:00",
            "2024-09-02T22:30:00",
            "2024-09-02T23:00:00",
            "2024-09-02T23:30:00",
            "2024-09-03T00:00:00",
            "2024-09-03T00:30:00",
            "2024-09-03T01:00:00",
            "2024-09-03T01:30:00",
            "2024-09-03T02:00:00",
            "2024-09-03T02:30:00",
            "2024-09-03T03:00:00",
            "2024-09-03T03:30:00",
            "2024-09-03T04:00:00",
            "2024-09-03T04:30:00",
            "2024-09-03T05:00:00",
            "2024-09-03T05:30:00",
            "2024-09-03T06:00:00",
            "2024-09-03T06:30:00",
            "2024-09-03T07:00:00",
            "2024-09-03T07:30:00",
            "2024-09-03T08:00:00",
            "2024-09-03T08:30:00",
            "2024-09-03T09:00:00",
            "2024-09-03T09:30:00",
            "2024-09-03T10:00:00",
            "2024-09-03T10:30:00",
            "2024-09-03T11:00:00",
            "2024-09-03T11:30:00",
            "2024-09-03T12:00:00",
            "2024-09-03T12:30:00",
            "2024-09-03T13:00:00",
            "2024-09-03T13:30:00",
            "2024-09-03T14:00:00",
            "2024-09-03T14:30:00",
            "2024-09-03T15:00:00",
            "2024-09-03T15:30:00",
            "2024-09-03T16:00:00",
            "2024-09-03T16:30:00",
            "2024-09-03T17:00:00",
            "2024-09-03T17:30:00",
            "2024-09-03T18:00:00",
            "2024-09-03T18:30:00",
            "2024-09-03T19:00:00",
            "2024-09-03T19:30:00",
            "2024-09-03T20:00:00",
            "2024-09-04T03:00:00",
            "2024-09-04T03:30:00",
            "2024-09-04T04:00:00",
            "2024-09-04T04:30:00",
            "2024-09-04T05:00:00",
            "2024-09-04T05:30:00",
            "2024-09-04T06:00:00",
            "2024-09-04T06:30:00",
            "2024-09-04T07:00:00",
            "2024-09-04T07:30:00",
            "2024-09-04T08:00:00",
            "2024-09-04T08:30:00",
            "2024-09-04T09:00:00",
            "2024-09-04T09:30:00",
            "2024-09-04T10:00:00",
            "2024-09-04T10:30:00",
            "2024-09-04T11:00:00",
            "2024-09-04T11:30:00",
            "2024-09-04T12:00:00",
            "2024-09-04T12:30:00",
            "2024-09-04T13:00:00",
            "2024-09-04T13:30:00",
            "2024-09-04T14:00:00",
            "2024-09-04T14:30:00",
            "2024-09-04T15:00:00",
            "2024-09-04T15:30:00",
            "2024-09-04T16:00:00",
            "2024-09-04T16:30:00",
            "2024-09-04T17:00:00",
            "2024-09-04T17:30:00",
            "2024-09-04T18:00:00",
            "2024-09-04T18:30:00",
            "2024-09-04T19:00:00",
            "2024-09-04T19:30:00",
            "2024-09-04T20:00:00",
            "2024-09-05T03:00:00",
            "2024-09-05T03:30:00",
            "2024-09-05T04:00:00",
            "2024-09-05T04:30:00",
            "2024-09-05T05:00:00",
            "2024-09-05T05:30:00",
            "2024-09-05T06:00:00",
            "2024-09-05T06:30:00",
            "2024-09-05T07:00:00",
            "2024-09-05T07:30:00",
            "2024-09-05T08:00:00",
            "2024-09-05T08:30:00",
            "2024-09-05T09:00:00",
            "2024-09-05T09:30:00",
            "2024-09-05T10:00:00",
            "2024-09-05T10:30:00",
            "2024-09-05T11:00:00",
            "2024-09-05T11:30:00",
            "2024-09-05T12:00:00",
            "2024-09-05T12:30:00",
            "2024-09-05T13:00:00",
            "2024-09-05T13:30:00",
            "2024-09-05T14:00:00",
            "2024-09-05T14:30:00",
            "2024-09-05T15:00:00",
            "2024-09-05T15:30:00",
            "2024-09-05T16:00:00",
            "2024-09-05T16:30:00",
            "2024-09-05T17:00:00",
            "2024-09-05T17:30:00",
            "2024-09-05T18:00:00",
            "2024-09-05T18:30:00",
            "2024-09-05T19:00:00",
            "2024-09-05T19:30:00",
            "2024-09-05T20:00:00",
            "2024-09-06T03:00:00",
            "2024-09-06T03:30:00",
            "2024-09-06T04:00:00",
            "2024-09-06T04:30:00",
            "2024-09-06T05:00:00",
            "2024-09-06T05:30:00",
            "2024-09-06T06:00:00",
            "2024-09-06T06:30:00",
            "2024-09-06T07:00:00",
            "2024-09-06T07:30:00",
            "2024-09-06T08:00:00",
            "2024-09-06T08:30:00",
            "2024-09-06T09:00:00",
            "2024-09-06T09:30:00",
            "2024-09-06T10:00:00",
            "2024-09-06T10:30:00",
            "2024-09-06T11:00:00",
            "2024-09-06T11:30:00",
            "2024-09-06T12:00:00",
            "2024-09-06T12:30:00",
            "2024-09-06T13:00:00",
            "2024-09-06T13:30:00",
            "2024-09-06T14:00:00",
            "2024-09-06T14:30:00",
            "2024-09-06T15:00:00",
            "2024-09-06T15:30:00",
            "2024-09-06T16:00:00",
            "2024-09-06T16:30:00",
            "2024-09-06T17:00:00",
            "2024-09-06T17:30:00",
            "2024-09-06T18:00:00",
            "2024-09-06T18:30:00",
            "2024-09-06T19:00:00",
            "2024-09-06T19:30:00",
            "2024-09-06T20:00:00",
            "2024-09-07T03:00:00",
            "2024-09-07T03:30:00",
            "2024-09-07T04:00:00",
            "2024-09-07T04:30:00",
            "2024-09-07T05:00:00",
            "2024-09-07T05:30:00",
            "2024-09-07T06:00:00",
            "2024-09-07T06:30:00",
            "2024-09-07T07:00:00",
            "2024-09-07T07:30:00",
            "2024-09-07T08:00:00",
            "2024-09-07T08:30:00",
            "2024-09-07T09:00:00",
            "2024-09-07T09:30:00",
            "2024-09-07T10:00:00",
            "2024-09-07T10:30:00",
            "2024-09-07T11:00:00",
            "2024-09-07T11:30:00",
            "2024-09-07T12:00:00",
            "2024-09-07T12:30:00",
            "2024-09-07T13:00:00",
            "2024-09-07T13:30:00",
            "2024-09-07T14:00:00",
            "2024-09-07T14:30:00",
            "2024-09-07T15:00:00",
            "2024-09-07T15:30:00",
            "2024-09-07T16:00:00",
            "2024-09-07T16:30:00",
            "2024-09-07T17:00:00",
            "2024-09-07T17:30:00",
            "2024-09-07T18:00:00",
            "2024-09-07T18:30:00",
            "2024-09-07T19:00:00",
            "2024-09-07T19:30:00",
            "2024-09-07T20:00:00",
            "2024-09-07T20:30:00",
            "2024-09-07T21:00:00",
            "2024-09-07T21:30:00",
            "2024-09-07T22:00:00",
            "2024-09-07T22:30:00",
            "2024-09-07T23:00:00",
            "2024-09-07T23:30:00",
            "2024-09-08T00:00:00",
            "2024-09-08T00:30:00",
            "2024-09-08T01:00:00",
            "2024-09-08T01:30:00",
            "2024-09-08T02:00:00",
            "2024-09-08T02:30:00",
            "2024-09-08T03:00:00",
            "2024-09-08T03:30:00",
            "2024-09-08T04:00:00",
            "2024-09-08T04:30:00",
            "2024-09-08T05:00:00",
            "2024-09-08T05:30:00",
            "2024-09-08T06:00:00",
            "2024-09-08T06:30:00",
            "2024-09-08T07:00:00",
            "2024-09-08T07:30:00",
            "2024-09-08T08:00:00",
            "2024-09-08T08:30:00",
            "2024-09-08T09:00:00",
            "2024-09-08T09:30:00",
            "2024-09-08T10:00:00",
            "2024-09-08T10:30:00",
            "2024-09-08T11:00:00",
            "2024-09-08T11:30:00",
            "2024-09-08T12:00:00",
            "2024-09-08T12:30:00",
            "2024-09-08T13:00:00",
            "2024-09-08T13:30:00",
            "2024-09-08T14:00:00",
            "2024-09-08T14:30:00",
            "2024-09-08T15:00:00",
            "2024-09-08T15:30:00",
            "2024-09-08T16:00:00",
            "2024-09-08T16:30:00",
            "2024-09-08T17:00:00",
            "2024-09-08T17:30:00",
            "2024-09-08T18:00:00",
            "2024-09-08T18:30:00",
            "2024-09-08T19:00:00",
            "2024-09-08T19:30:00",
            "2024-09-08T20:00:00",
            "2024-09-08T20:30:00",
            "2024-09-08T21:00:00",
            "2024-09-08T21:30:00",
            "2024-09-08T22:00:00",
            "2024-09-08T22:30:00",
            "2024-09-08T23:00:00",
            "2024-09-08T23:30:00",
            "2024-09-09T00:00:00",
            "2024-09-09T00:30:00",
            "2024-09-09T01:00:00",
            "2024-09-09T01:30:00",
            "2024-09-09T02:00:00",
            "2024-09-09T02:30:00",
            "2024-09-09T03:00:00",
            "2024-09-09T03:30:00",
            "2024-09-09T04:00:00",
            "2024-09-09T04:30:00",
            "2024-09-09T05:00:00",
            "2024-09-09T05:30:00",
            "2024-09-09T06:00:00",
            "2024-09-09T06:30:00",
            "2024-09-09T07:00:00",
            "2024-09-09T07:30:00",
            "2024-09-09T08:00:00",
            "2024-09-09T08:30:00",
            "2024-09-09T09:00:00",
            "2024-09-09T09:30:00",
            "2024-09-09T10:00:00",
            "2024-09-09T10:30:00",
            "2024-09-09T11:00:00",
            "2024-09-09T11:30:00",
            "2024-09-09T12:00:00",
            "2024-09-09T12:30:00",
            "2024-09-09T13:00:00",
            "2024-09-09T13:30:00",
            "2024-09-09T14:00:00",
            "2024-09-09T14:30:00",
            "2024-09-09T15:00:00",
            "2024-09-09T15:30:00",
            "2024-09-09T16:00:00",
            "2024-09-09T16:30:00",
            "2024-09-09T17:00:00",
            "2024-09-09T17:30:00",
            "2024-09-09T18:00:00",
            "2024-09-09T18:30:00",
            "2024-09-09T19:00:00",
            "2024-09-09T19:30:00",
            "2024-09-09T20:00:00",
            "2024-09-10T03:00:00",
            "2024-09-10T03:30:00",
            "2024-09-10T04:00:00",
            "2024-09-10T04:30:00",
            "2024-09-10T05:00:00",
            "2024-09-10T05:30:00",
            "2024-09-10T06:00:00",
            "2024-09-10T06:30:00",
            "2024-09-10T07:00:00",
            "2024-09-10T07:30:00",
            "2024-09-10T08:00:00",
            "2024-09-10T08:30:00",
            "2024-09-10T09:00:00",
            "2024-09-10T09:30:00",
            "2024-09-10T10:00:00",
            "2024-09-10T10:30:00",
            "2024-09-10T11:00:00",
            "2024-09-10T11:30:00",
            "2024-09-10T12:00:00",
            "2024-09-10T12:30:00",
            "2024-09-10T13:00:00",
            "2024-09-10T13:30:00",
            "2024-09-10T14:00:00",
            "2024-09-10T14:30:00",
            "2024-09-10T15:00:00",
            "2024-09-10T15:30:00",
            "2024-09-10T16:00:00",
            "2024-09-10T16:30:00",
            "2024-09-10T17:00:00",
            "2024-09-10T17:30:00",
            "2024-09-10T18:00:00",
            "2024-09-10T18:30:00",
            "2024-09-10T19:00:00",
            "2024-09-10T19:30:00",
            "2024-09-10T20:00:00",
            "2024-09-11T03:00:00",
            "2024-09-11T03:30:00",
            "2024-09-11T04:00:00",
            "2024-09-11T04:30:00",
            "2024-09-11T05:00:00",
            "2024-09-11T05:30:00",
            "2024-09-11T06:00:00",
            "2024-09-11T06:30:00",
            "2024-09-11T07:00:00",
            "2024-09-11T07:30:00",
            "2024-09-11T08:00:00",
            "2024-09-11T08:30:00",
            "2024-09-11T09:00:00",
            "2024-09-11T09:30:00",
            "2024-09-11T10:00:00",
            "2024-09-11T10:30:00",
            "2024-09-11T11:00:00",
            "2024-09-11T11:30:00",
            "2024-09-11T12:00:00",
            "2024-09-11T12:30:00",
            "2024-09-11T13:00:00",
            "2024-09-11T13:30:00",
            "2024-09-11T14:00:00",
            "2024-09-11T14:30:00",
            "2024-09-11T15:00:00",
            "2024-09-11T15:30:00",
            "2024-09-11T16:00:00",
            "2024-09-11T16:30:00",
            "2024-09-11T17:00:00",
            "2024-09-11T17:30:00",
            "2024-09-11T18:00:00",
            "2024-09-11T18:30:00",
            "2024-09-11T19:00:00",
            "2024-09-11T19:30:00",
            "2024-09-11T20:00:00",
            "2024-09-12T03:00:00",
            "2024-09-12T03:30:00",
            "2024-09-12T04:00:00",
            "2024-09-12T04:30:00",
            "2024-09-12T05:00:00",
            "2024-09-12T05:30:00",
            "2024-09-12T06:00:00",
            "2024-09-12T06:30:00",
            "2024-09-12T07:00:00",
            "2024-09-12T07:30:00",
            "2024-09-12T08:00:00",
            "2024-09-12T08:30:00",
            "2024-09-12T09:00:00",
            "2024-09-12T09:30:00",
            "2024-09-12T10:00:00",
            "2024-09-12T10:30:00",
            "2024-09-12T11:00:00",
            "2024-09-12T11:30:00",
            "2024-09-12T12:00:00",
            "2024-09-12T12:30:00",
            "2024-09-12T13:00:00",
            "2024-09-12T13:30:00",
            "2024-09-12T14:00:00",
            "2024-09-12T14:30:00",
            "2024-09-12T15:00:00",
            "2024-09-12T15:30:00",
            "2024-09-12T16:00:00",
            "2024-09-12T16:30:00",
            "2024-09-12T17:00:00",
            "2024-09-12T17:30:00",
            "2024-09-12T18:00:00",
            "2024-09-12T18:30:00",
            "2024-09-12T19:00:00",
            "2024-09-12T19:30:00",
            "2024-09-12T20:00:00"
           ]
          }
         ],
         "rangeslider": {
          "visible": false
         },
         "showgrid": false,
         "showline": false,
         "showticklabels": false,
         "visible": true,
         "zeroline": false
        },
        "yaxis": {
         "showticklabels": false,
         "visible": false
        }
       }
      }
     },
     "metadata": {},
     "output_type": "display_data"
    }
   ],
   "source": [
    "fig = create_smc_plot(df_30t, rangebreak_30t,  dvalue= 30)\n",
    "fig.show()"
   ]
  },
  {
   "cell_type": "code",
   "execution_count": 11,
   "metadata": {},
   "outputs": [
    {
     "data": {
      "application/vnd.plotly.v1+json": {
       "config": {
        "plotlyServerURL": "https://plot.ly"
       },
       "data": [
        {
         "close": [
          41279.1,
          41229.09,
          41248.01,
          41247.73,
          41295.21,
          41299.97,
          41319.45,
          41331.54,
          41323.08,
          41396.26,
          41422.44,
          41573.98,
          41374.2,
          41300.27,
          41077.81,
          41103,
          41115.4,
          41098.26,
          41116.35,
          41131.25,
          41111.39,
          41109.87,
          41121.91,
          41115.54,
          41076.99,
          41054.79,
          41067.56,
          41120.98,
          41075.58,
          41057.04,
          41004.61,
          40998.15,
          40997.41,
          40943.48,
          40951.82,
          40964.34,
          40850.73,
          40939.59,
          40970.85,
          41048.18,
          41038.62,
          41065.02,
          41105.18,
          41140.79,
          41071.59,
          41011.1,
          41016.45,
          40994.85,
          40926.15,
          40969.16,
          40941.54,
          40951.14,
          40909.62,
          40879.87,
          40855.84,
          40859.62,
          40904.56,
          40915.18,
          40883.26,
          40867.26,
          40866,
          40932.79,
          40959.74,
          40968.38,
          40919.84,
          40869.17,
          40899.83,
          40932.55,
          40887.17,
          40796.68,
          40701.15,
          40640.87,
          40597.12,
          40592.71,
          40565.84,
          40606.11,
          40632.53,
          40673.75,
          40663.17,
          40631.62,
          40755.8,
          40818.01,
          40809.11,
          40790.09,
          40822.47,
          40805.17,
          40760.93,
          40739.54,
          40699.81,
          40752.93,
          40949.12,
          40892.14,
          40786.85,
          40615.37,
          40490.87,
          40475.76,
          40441.81,
          40412.41,
          40412.31,
          40381.71,
          40394.7,
          40315.97,
          40397.33,
          40373.18,
          40442.81,
          40402.96,
          40358.74,
          40391.19,
          40359.69,
          40351.68,
          40340.23,
          40374.38,
          40415.36,
          40407.68,
          40353.73,
          40353.68,
          40600.75,
          40648.19,
          40764.86,
          40744.7,
          40710.35,
          40719.3,
          40701.44,
          40756.21,
          40885.05,
          40884.3,
          40932.56,
          40973.67,
          40981.14,
          40981.57,
          40951.26,
          40931.83,
          40850.47,
          40805.24,
          40786.56,
          40785.83,
          40805.51,
          40781.04,
          40769.72,
          40798.83,
          40836.51,
          40828.33,
          40824.53,
          40722.49,
          40569.88,
          40632.29,
          40605.72,
          40634.72,
          40681.7,
          40677.59,
          40626.16,
          40476.52,
          40426.13,
          40473.09,
          40496.55,
          40549.26,
          40624.71,
          40611.92,
          40657.49,
          40636.46,
          40656.51,
          40684.98,
          40699.65,
          40718.84,
          40726.22,
          40731.25,
          40684.2,
          40746.94,
          40336.04,
          40242.03,
          40083.7,
          40026.27,
          40036.45,
          40105.71,
          40184.03,
          40174.75,
          40305.49,
          40258.55,
          40346.83,
          40389.04,
          40429.27,
          40472.8,
          40574.32,
          40548.24,
          40596.58,
          40612.3,
          40605.1,
          40631.48,
          40775.23,
          40711.73,
          40743.1,
          40802.91,
          40767.29,
          40838.38,
          40816.06,
          40703.74,
          40811.25,
          40817.02,
          40846.73,
          40870.36
         ],
         "decreasing": {
          "line": {
           "color": "#ff6962"
          }
         },
         "high": [
          41298.66,
          41283.3,
          41255.9,
          41267.96,
          41303.23,
          41324.33,
          41339.11,
          41358.79,
          41346.33,
          41407.92,
          41444.39,
          41585.21,
          41428.94,
          41374.03,
          41298.54,
          41139.53,
          41126.79,
          41116.45,
          41174.06,
          41147.36,
          41153.55,
          41136.37,
          41142.65,
          41150.77,
          41131.7,
          41079.05,
          41112.51,
          41136.81,
          41122.08,
          41093.33,
          41057.07,
          41023.22,
          41024.7,
          41007.25,
          40975.44,
          40976.26,
          40989.88,
          40939.59,
          41079.05,
          41050.98,
          41073.7,
          41084.48,
          41105.18,
          41143.15,
          41172.59,
          41100.64,
          41031.02,
          41028.81,
          40995.13,
          40992.07,
          41023.56,
          40969.91,
          40951.17,
          40916.02,
          40884.16,
          40897.32,
          40905.93,
          40928.5,
          40946.81,
          40910.28,
          40879.18,
          40938.99,
          40962.36,
          41006.19,
          41084.78,
          40938.04,
          40998.38,
          40977.97,
          40976.58,
          40889.16,
          40818.02,
          40727.65,
          40663.68,
          40631.49,
          40626.11,
          40606.53,
          40634.25,
          40698.17,
          40683.2,
          40670.97,
          40756.96,
          40818.23,
          40842.19,
          40835.87,
          40843.27,
          40866.15,
          40809.78,
          40761.92,
          40805.23,
          40752.93,
          40984.45,
          41009.39,
          40901.78,
          40800.9,
          40638.77,
          40534.73,
          40738.26,
          40448.7,
          40495.34,
          40414,
          40429.27,
          40395.53,
          40417.66,
          40397.02,
          40448.84,
          40461.95,
          40403.31,
          40420.79,
          40402.77,
          40372.48,
          40361.76,
          40376.51,
          40434.18,
          40450.52,
          40431.4,
          40417.55,
          40661.27,
          40686.29,
          40789.74,
          40799.51,
          40764.22,
          40758.69,
          40760.46,
          40757.53,
          40891.37,
          40918.81,
          40937.7,
          40979.88,
          40997.24,
          41000.24,
          40988.94,
          40952.4,
          40935.51,
          40882.84,
          40813.14,
          40827.1,
          40806.67,
          40810.99,
          40797.4,
          40801.76,
          40854.19,
          40841.85,
          40916.5,
          40838.24,
          40729.29,
          40636.58,
          40644.51,
          40663.33,
          40719.56,
          40710.41,
          40699.01,
          40626.61,
          40488.2,
          40481.76,
          40516.61,
          40581.19,
          40624.71,
          40651.99,
          40671.07,
          40665.37,
          40677.24,
          40687.92,
          40716.02,
          40723.18,
          40726.55,
          40738.66,
          40731.15,
          40750.71,
          40638.75,
          40342.11,
          40251.04,
          40106.97,
          40081.44,
          40107.67,
          40201.3,
          40190.85,
          40316.88,
          40321.49,
          40389.26,
          40392.9,
          40440.48,
          40481.1,
          40592.43,
          40574.11,
          40604.15,
          40676.67,
          40642.62,
          40641.97,
          40796.68,
          40780.99,
          40753.62,
          40812.45,
          40818.55,
          40903.67,
          40984.29,
          40828.82,
          40813.73,
          40851.29,
          40847.27,
          40870.36
         ],
         "increasing": {
          "line": {
           "color": "#77dd76"
          }
         },
         "low": [
          41256.8,
          41219.07,
          41228.71,
          41239.1,
          41238.05,
          41294.42,
          41291.71,
          41319.59,
          41299.7,
          41312.7,
          41373.98,
          41421.21,
          41334.61,
          41211.43,
          41075.19,
          41052.64,
          41056.93,
          41066.6,
          41098.21,
          41079.87,
          41100.43,
          41096.07,
          41085.03,
          41089.85,
          41065.47,
          41052.69,
          41054.63,
          41067.76,
          41056.38,
          41055.86,
          40985.62,
          40986.47,
          40991.34,
          40931.25,
          40930.02,
          40937.82,
          40799.41,
          40778.09,
          40875.91,
          40947.2,
          40931.59,
          41007.51,
          41026.02,
          41071.5,
          41068.83,
          41011.1,
          40977.59,
          40968.87,
          40926.15,
          40923.27,
          40938.42,
          40926.12,
          40889.3,
          40872.08,
          40855.84,
          40840.89,
          40853.22,
          40881.27,
          40863.77,
          40866.2,
          40843.94,
          40859.49,
          40875.92,
          40938.39,
          40828.85,
          40857.72,
          40883.24,
          40884.67,
          40887.17,
          40778.7,
          40693.64,
          40631.69,
          40596.14,
          40584.71,
          40558.71,
          40519.08,
          40582.17,
          40615.49,
          40631.61,
          40629.57,
          40625.31,
          40753.4,
          40801.45,
          40784.22,
          40789.3,
          40804.42,
          40760.93,
          40688.41,
          40682.74,
          40681.59,
          40772.75,
          40878.62,
          40760.4,
          40605.08,
          40490.22,
          40453.74,
          40436.95,
          40377.31,
          40398.45,
          40352.08,
          40369.61,
          40315.12,
          40316.16,
          40328.05,
          40357.74,
          40402.92,
          40346.84,
          40337.6,
          40336.48,
          40321.13,
          40297.33,
          40312.88,
          40373.64,
          40392.6,
          40344.27,
          40314.51,
          40518.06,
          40566.86,
          40638.74,
          40735.37,
          40710.2,
          40703.07,
          40700.39,
          40658.04,
          40756.44,
          40874.21,
          40871,
          40926.71,
          40953.51,
          40963.07,
          40950.39,
          40918.3,
          40850.47,
          40803.1,
          40765.81,
          40779.12,
          40734.68,
          40772.2,
          40758.77,
          40732.8,
          40790.5,
          40763.88,
          40728.57,
          40708.33,
          40562.85,
          40543.74,
          40570.88,
          40602.47,
          40615.83,
          40669.03,
          40589.21,
          40476.52,
          40417.47,
          40426.07,
          40460.61,
          40483.38,
          40540.32,
          40609.7,
          40611.86,
          40623.85,
          40636.48,
          40642.8,
          40677.95,
          40695.7,
          40693.81,
          40706.18,
          40676.12,
          40679.72,
          40292.75,
          40227.11,
          40083.7,
          40015.76,
          39993.08,
          40024.35,
          40069.02,
          40125.3,
          40170.03,
          40173.16,
          40247.25,
          40317.26,
          40370.48,
          40429.37,
          40472.7,
          40507.6,
          40548.79,
          40579.22,
          40594.27,
          40592.6,
          40632.02,
          40695.46,
          40701.93,
          40742.34,
          40725.58,
          40754.07,
          40789.44,
          40697.66,
          40665.52,
          40800.23,
          40745.67,
          40838.68
         ],
         "open": [
          41257.13,
          41278.87,
          41228.87,
          41247.83,
          41247.62,
          41294.51,
          41300.06,
          41319.59,
          41331.92,
          41322.79,
          41396.35,
          41422.33,
          41364.92,
          41374.03,
          41298.54,
          41077.4,
          41102.53,
          41115.11,
          41098.21,
          41116.31,
          41131.3,
          41110.5,
          41109.78,
          41121.37,
          41114.79,
          41076.84,
          41055.53,
          41067.76,
          41120.96,
          41075.63,
          41056.12,
          41004.72,
          40997.91,
          40997.37,
          40943.83,
          40950.68,
          40964.15,
          40850.59,
          40888.29,
          40971.63,
          41051.77,
          41039.69,
          41067.29,
          41105.65,
          41142.66,
          41072.56,
          41012.12,
          41015.47,
          40994.32,
          40925.9,
          40969.02,
          40941.21,
          40951.17,
          40909.26,
          40879.39,
          40855.77,
          40859.81,
          40905.13,
          40915.2,
          40883.65,
          40867.32,
          40865.84,
          40932.56,
          40959.78,
          41050.96,
          40920.88,
          40883.54,
          40898.58,
          40936.07,
          40887.66,
          40794.61,
          40701.43,
          40641.13,
          40597.47,
          40592.5,
          40565.81,
          40606.46,
          40633.17,
          40673.87,
          40664.44,
          40631.65,
          40756.08,
          40817.87,
          40809.59,
          40789.38,
          40822.52,
          40803.65,
          40761.05,
          40739.46,
          40699.71,
          40797.85,
          40948.76,
          40896.2,
          40786.16,
          40617.16,
          40490.77,
          40479.03,
          40443.34,
          40413.11,
          40413.58,
          40379.3,
          40394.52,
          40316.16,
          40397.02,
          40373.87,
          40443.37,
          40403.31,
          40358.87,
          40391.15,
          40360.71,
          40351.69,
          40340.38,
          40374.05,
          40415.43,
          40407.32,
          40353.36,
          40643.13,
          40601.42,
          40650.71,
          40764.16,
          40745.18,
          40710.65,
          40714.62,
          40702.64,
          40756.44,
          40884.44,
          40885.28,
          40932.58,
          40974.13,
          40981.14,
          40981.3,
          40951.44,
          40931.92,
          40850.28,
          40805.65,
          40786.52,
          40786.39,
          40805.56,
          40781.01,
          40769.85,
          40798.91,
          40836.73,
          40916.5,
          40824.69,
          40721.95,
          40569.87,
          40631.04,
          40607.94,
          40633.76,
          40681.55,
          40676.85,
          40626.61,
          40477.11,
          40426.34,
          40472.59,
          40496.41,
          40548.99,
          40625.39,
          40611.86,
          40657.66,
          40636.48,
          40655.77,
          40685.18,
          40699.54,
          40718.81,
          40726.09,
          40731.15,
          40684.19,
          40638.75,
          40334.08,
          40238.83,
          40078.86,
          40026.08,
          40036.26,
          40105.42,
          40184.01,
          40174.64,
          40305.56,
          40257.09,
          40346.42,
          40389.42,
          40429.37,
          40472.7,
          40574.11,
          40549.31,
          40597.03,
          40612.21,
          40605.83,
          40632.02,
          40775.88,
          40711.96,
          40742.34,
          40803.09,
          40768.88,
          40862.1,
          40817.03,
          40711.21,
          40811.1,
          40817.54,
          40846.32
         ],
         "type": "candlestick",
         "x": [
          "2024-08-31T00:00:00",
          "2024-08-31T00:15:00",
          "2024-08-31T00:30:00",
          "2024-08-31T00:45:00",
          "2024-08-31T01:00:00",
          "2024-08-31T01:15:00",
          "2024-08-31T01:30:00",
          "2024-08-31T01:45:00",
          "2024-08-31T02:00:00",
          "2024-08-31T02:15:00",
          "2024-08-31T02:30:00",
          "2024-08-31T02:45:00",
          "2024-09-03T20:30:00",
          "2024-09-03T20:45:00",
          "2024-09-03T21:00:00",
          "2024-09-03T21:15:00",
          "2024-09-03T21:30:00",
          "2024-09-03T21:45:00",
          "2024-09-03T22:00:00",
          "2024-09-03T22:15:00",
          "2024-09-03T22:30:00",
          "2024-09-03T22:45:00",
          "2024-09-03T23:00:00",
          "2024-09-03T23:15:00",
          "2024-09-03T23:30:00",
          "2024-09-03T23:45:00",
          "2024-09-04T00:00:00",
          "2024-09-04T00:15:00",
          "2024-09-04T00:30:00",
          "2024-09-04T00:45:00",
          "2024-09-04T01:00:00",
          "2024-09-04T01:15:00",
          "2024-09-04T01:30:00",
          "2024-09-04T01:45:00",
          "2024-09-04T02:00:00",
          "2024-09-04T02:15:00",
          "2024-09-04T02:30:00",
          "2024-09-04T02:45:00",
          "2024-09-04T20:30:00",
          "2024-09-04T20:45:00",
          "2024-09-04T21:00:00",
          "2024-09-04T21:15:00",
          "2024-09-04T21:30:00",
          "2024-09-04T21:45:00",
          "2024-09-04T22:00:00",
          "2024-09-04T22:15:00",
          "2024-09-04T22:30:00",
          "2024-09-04T22:45:00",
          "2024-09-04T23:00:00",
          "2024-09-04T23:15:00",
          "2024-09-04T23:30:00",
          "2024-09-04T23:45:00",
          "2024-09-05T00:00:00",
          "2024-09-05T00:15:00",
          "2024-09-05T00:30:00",
          "2024-09-05T00:45:00",
          "2024-09-05T01:00:00",
          "2024-09-05T01:15:00",
          "2024-09-05T01:30:00",
          "2024-09-05T01:45:00",
          "2024-09-05T02:00:00",
          "2024-09-05T02:15:00",
          "2024-09-05T02:30:00",
          "2024-09-05T02:45:00",
          "2024-09-05T20:30:00",
          "2024-09-05T20:45:00",
          "2024-09-05T21:00:00",
          "2024-09-05T21:15:00",
          "2024-09-05T21:30:00",
          "2024-09-05T21:45:00",
          "2024-09-05T22:00:00",
          "2024-09-05T22:15:00",
          "2024-09-05T22:30:00",
          "2024-09-05T22:45:00",
          "2024-09-05T23:00:00",
          "2024-09-05T23:15:00",
          "2024-09-05T23:30:00",
          "2024-09-05T23:45:00",
          "2024-09-06T00:00:00",
          "2024-09-06T00:15:00",
          "2024-09-06T00:30:00",
          "2024-09-06T00:45:00",
          "2024-09-06T01:00:00",
          "2024-09-06T01:15:00",
          "2024-09-06T01:30:00",
          "2024-09-06T01:45:00",
          "2024-09-06T02:00:00",
          "2024-09-06T02:15:00",
          "2024-09-06T02:30:00",
          "2024-09-06T02:45:00",
          "2024-09-06T20:30:00",
          "2024-09-06T20:45:00",
          "2024-09-06T21:00:00",
          "2024-09-06T21:15:00",
          "2024-09-06T21:30:00",
          "2024-09-06T21:45:00",
          "2024-09-06T22:00:00",
          "2024-09-06T22:15:00",
          "2024-09-06T22:30:00",
          "2024-09-06T22:45:00",
          "2024-09-06T23:00:00",
          "2024-09-06T23:15:00",
          "2024-09-06T23:30:00",
          "2024-09-06T23:45:00",
          "2024-09-07T00:00:00",
          "2024-09-07T00:15:00",
          "2024-09-07T00:30:00",
          "2024-09-07T00:45:00",
          "2024-09-07T01:00:00",
          "2024-09-07T01:15:00",
          "2024-09-07T01:30:00",
          "2024-09-07T01:45:00",
          "2024-09-07T02:00:00",
          "2024-09-07T02:15:00",
          "2024-09-07T02:30:00",
          "2024-09-07T02:45:00",
          "2024-09-09T20:30:00",
          "2024-09-09T20:45:00",
          "2024-09-09T21:00:00",
          "2024-09-09T21:15:00",
          "2024-09-09T21:30:00",
          "2024-09-09T21:45:00",
          "2024-09-09T22:00:00",
          "2024-09-09T22:15:00",
          "2024-09-09T22:30:00",
          "2024-09-09T22:45:00",
          "2024-09-09T23:00:00",
          "2024-09-09T23:15:00",
          "2024-09-09T23:30:00",
          "2024-09-09T23:45:00",
          "2024-09-10T00:00:00",
          "2024-09-10T00:15:00",
          "2024-09-10T00:30:00",
          "2024-09-10T00:45:00",
          "2024-09-10T01:00:00",
          "2024-09-10T01:15:00",
          "2024-09-10T01:30:00",
          "2024-09-10T01:45:00",
          "2024-09-10T02:00:00",
          "2024-09-10T02:15:00",
          "2024-09-10T02:30:00",
          "2024-09-10T02:45:00",
          "2024-09-10T20:30:00",
          "2024-09-10T20:45:00",
          "2024-09-10T21:00:00",
          "2024-09-10T21:15:00",
          "2024-09-10T21:30:00",
          "2024-09-10T21:45:00",
          "2024-09-10T22:00:00",
          "2024-09-10T22:15:00",
          "2024-09-10T22:30:00",
          "2024-09-10T22:45:00",
          "2024-09-10T23:00:00",
          "2024-09-10T23:15:00",
          "2024-09-10T23:30:00",
          "2024-09-10T23:45:00",
          "2024-09-11T00:00:00",
          "2024-09-11T00:15:00",
          "2024-09-11T00:30:00",
          "2024-09-11T00:45:00",
          "2024-09-11T01:00:00",
          "2024-09-11T01:15:00",
          "2024-09-11T01:30:00",
          "2024-09-11T01:45:00",
          "2024-09-11T02:00:00",
          "2024-09-11T02:15:00",
          "2024-09-11T02:30:00",
          "2024-09-11T02:45:00",
          "2024-09-11T20:30:00",
          "2024-09-11T20:45:00",
          "2024-09-11T21:00:00",
          "2024-09-11T21:15:00",
          "2024-09-11T21:30:00",
          "2024-09-11T21:45:00",
          "2024-09-11T22:00:00",
          "2024-09-11T22:15:00",
          "2024-09-11T22:30:00",
          "2024-09-11T22:45:00",
          "2024-09-11T23:00:00",
          "2024-09-11T23:15:00",
          "2024-09-11T23:30:00",
          "2024-09-11T23:45:00",
          "2024-09-12T00:00:00",
          "2024-09-12T00:15:00",
          "2024-09-12T00:30:00",
          "2024-09-12T00:45:00",
          "2024-09-12T01:00:00",
          "2024-09-12T01:15:00",
          "2024-09-12T01:30:00",
          "2024-09-12T01:45:00",
          "2024-09-12T02:00:00",
          "2024-09-12T02:15:00",
          "2024-09-12T02:30:00",
          "2024-09-12T02:45:00",
          "2024-09-12T20:30:00",
          "2024-09-12T20:45:00",
          "2024-09-12T21:00:00",
          "2024-09-12T21:15:00",
          "2024-09-12T21:30:00",
          "2024-09-12T21:45:00"
         ]
        },
        {
         "line": {
          "color": "rgba(255, 165, 0, 0.2)"
         },
         "mode": "lines",
         "type": "scatter",
         "x": [
          "2024-09-05T00:45:00",
          "2024-09-05T21:45:00"
         ],
         "y": [
          40840.890625,
          40840.890625
         ]
        },
        {
         "mode": "text",
         "text": "BOS",
         "textfont": {
          "color": "rgba(255, 165, 0, 0.4)",
          "size": 8
         },
         "textposition": "bottom center",
         "type": "scatter",
         "x": [
          "2024-09-05T02:30:00"
         ],
         "y": [
          40840.890625
         ]
        },
        {
         "line": {
          "color": "rgba(255, 165, 0, 0.2)"
         },
         "mode": "lines",
         "type": "scatter",
         "x": [
          "2024-09-05T23:15:00",
          "2024-09-06T21:30:00"
         ],
         "y": [
          40519.078125,
          40519.078125
         ]
        },
        {
         "mode": "text",
         "text": "BOS",
         "textfont": {
          "color": "rgba(255, 165, 0, 0.4)",
          "size": 8
         },
         "textposition": "bottom center",
         "type": "scatter",
         "x": [
          "2024-09-06T01:30:00"
         ],
         "y": [
          40519.078125
         ]
        },
        {
         "line": {
          "color": "rgba(255, 255, 255, 0.2)"
         },
         "mode": "lines",
         "type": "scatter",
         "x": [
          "2024-09-07T00:15:00",
          "2024-09-09T20:30:00"
         ],
         "y": [
          40461.94921875,
          40461.94921875
         ]
        },
        {
         "mode": "text",
         "text": "CHOCH",
         "textfont": {
          "color": "rgba(255, 255, 255, 0.4)",
          "size": 8
         },
         "textposition": "top center",
         "type": "scatter",
         "x": [
          "2024-09-07T01:30:00"
         ],
         "y": [
          40461.94921875
         ]
        },
        {
         "line": {
          "color": "rgba(255, 165, 0, 0.2)"
         },
         "mode": "lines",
         "type": "scatter",
         "x": [
          "2024-09-10T23:00:00",
          "2024-09-11T20:30:00"
         ],
         "y": [
          40417.46875,
          40417.46875
         ]
        },
        {
         "mode": "text",
         "text": "BOS",
         "textfont": {
          "color": "rgba(255, 165, 0, 0.4)",
          "size": 8
         },
         "textposition": "bottom center",
         "type": "scatter",
         "x": [
          "2024-09-11T01:00:00"
         ],
         "y": [
          40417.46875
         ]
        },
        {
         "line": {
          "color": "rgba(255, 255, 255, 0.2)"
         },
         "mode": "lines",
         "type": "scatter",
         "x": [
          "2024-09-11T02:45:00",
          "2024-09-12T01:30:00"
         ],
         "y": [
          40750.7109375,
          40750.7109375
         ]
        },
        {
         "mode": "text",
         "text": "CHOCH",
         "textfont": {
          "color": "rgba(255, 255, 255, 0.4)",
          "size": 8
         },
         "textposition": "top center",
         "type": "scatter",
         "x": [
          "2024-09-11T23:00:00"
         ],
         "y": [
          40750.7109375
         ]
        }
       ],
       "layout": {
        "annotations": [
         {
          "align": "center",
          "font": {
           "color": "rgba(250, 250, 250, 1)",
           "size": 8
          },
          "showarrow": false,
          "text": "OB: 0.00 (100.0%)",
          "x": "2024-09-12T01:00:00",
          "xref": "x",
          "y": 40037.2578125,
          "yref": "y"
         },
         {
          "align": "center",
          "font": {
           "color": "rgba(250, 250, 250, 1)",
           "size": 8
          },
          "showarrow": false,
          "text": "OB: 0.00 (100.0%)",
          "x": "2024-09-10T00:30:00",
          "xref": "x",
          "y": 40956.81640625,
          "yref": "y"
         },
         {
          "align": "center",
          "font": {
           "color": "rgba(250, 250, 250, 1)",
           "size": 8
          },
          "showarrow": false,
          "text": "OB: 0.00 (100.0%)",
          "x": "2024-09-10T21:15:00",
          "xref": "x",
          "y": 40944.0078125,
          "yref": "y"
         }
        ],
        "font": {
         "color": "white"
        },
        "height": 400,
        "margin": {
         "b": 0,
         "l": 0,
         "pad": 50,
         "r": 50,
         "t": 0
        },
        "paper_bgcolor": "rgba(34, 42, 58, 0.8)",
        "plot_bgcolor": "rgba(34, 42, 58, 0.8)",
        "shapes": [
         {
          "fillcolor": "Purple",
          "legendgroup": "bullish ob",
          "line": {
           "color": "Purple"
          },
          "name": "Bullish OB",
          "opacity": 0.2,
          "showlegend": true,
          "type": "rect",
          "x0": "2024-09-11T21:30:00",
          "x1": "2024-09-12T21:45:00",
          "y0": 39993.078125,
          "y1": 40081.44140625
         },
         {
          "fillcolor": "Purple",
          "legendgroup": "bearish ob",
          "line": {
           "color": "Purple"
          },
          "name": "Bearish OB",
          "opacity": 0.2,
          "showlegend": true,
          "type": "rect",
          "x0": "2024-09-05T20:30:00",
          "x1": "2024-09-12T21:45:00",
          "y0": 40828.8515625,
          "y1": 41084.78125
         },
         {
          "fillcolor": "Purple",
          "legendgroup": "bearish ob",
          "line": {
           "color": "Purple"
          },
          "name": "Bearish OB",
          "opacity": 0.2,
          "showlegend": true,
          "type": "rect",
          "x0": "2024-09-06T20:45:00",
          "x1": "2024-09-12T21:45:00",
          "y0": 40878.62109375,
          "y1": 41009.390625
         }
        ],
        "showlegend": false,
        "template": {
         "data": {
          "bar": [
           {
            "error_x": {
             "color": "#2a3f5f"
            },
            "error_y": {
             "color": "#2a3f5f"
            },
            "marker": {
             "line": {
              "color": "#E5ECF6",
              "width": 0.5
             },
             "pattern": {
              "fillmode": "overlay",
              "size": 10,
              "solidity": 0.2
             }
            },
            "type": "bar"
           }
          ],
          "barpolar": [
           {
            "marker": {
             "line": {
              "color": "#E5ECF6",
              "width": 0.5
             },
             "pattern": {
              "fillmode": "overlay",
              "size": 10,
              "solidity": 0.2
             }
            },
            "type": "barpolar"
           }
          ],
          "carpet": [
           {
            "aaxis": {
             "endlinecolor": "#2a3f5f",
             "gridcolor": "white",
             "linecolor": "white",
             "minorgridcolor": "white",
             "startlinecolor": "#2a3f5f"
            },
            "baxis": {
             "endlinecolor": "#2a3f5f",
             "gridcolor": "white",
             "linecolor": "white",
             "minorgridcolor": "white",
             "startlinecolor": "#2a3f5f"
            },
            "type": "carpet"
           }
          ],
          "choropleth": [
           {
            "colorbar": {
             "outlinewidth": 0,
             "ticks": ""
            },
            "type": "choropleth"
           }
          ],
          "contour": [
           {
            "colorbar": {
             "outlinewidth": 0,
             "ticks": ""
            },
            "colorscale": [
             [
              0,
              "#0d0887"
             ],
             [
              0.1111111111111111,
              "#46039f"
             ],
             [
              0.2222222222222222,
              "#7201a8"
             ],
             [
              0.3333333333333333,
              "#9c179e"
             ],
             [
              0.4444444444444444,
              "#bd3786"
             ],
             [
              0.5555555555555556,
              "#d8576b"
             ],
             [
              0.6666666666666666,
              "#ed7953"
             ],
             [
              0.7777777777777778,
              "#fb9f3a"
             ],
             [
              0.8888888888888888,
              "#fdca26"
             ],
             [
              1,
              "#f0f921"
             ]
            ],
            "type": "contour"
           }
          ],
          "contourcarpet": [
           {
            "colorbar": {
             "outlinewidth": 0,
             "ticks": ""
            },
            "type": "contourcarpet"
           }
          ],
          "heatmap": [
           {
            "colorbar": {
             "outlinewidth": 0,
             "ticks": ""
            },
            "colorscale": [
             [
              0,
              "#0d0887"
             ],
             [
              0.1111111111111111,
              "#46039f"
             ],
             [
              0.2222222222222222,
              "#7201a8"
             ],
             [
              0.3333333333333333,
              "#9c179e"
             ],
             [
              0.4444444444444444,
              "#bd3786"
             ],
             [
              0.5555555555555556,
              "#d8576b"
             ],
             [
              0.6666666666666666,
              "#ed7953"
             ],
             [
              0.7777777777777778,
              "#fb9f3a"
             ],
             [
              0.8888888888888888,
              "#fdca26"
             ],
             [
              1,
              "#f0f921"
             ]
            ],
            "type": "heatmap"
           }
          ],
          "heatmapgl": [
           {
            "colorbar": {
             "outlinewidth": 0,
             "ticks": ""
            },
            "colorscale": [
             [
              0,
              "#0d0887"
             ],
             [
              0.1111111111111111,
              "#46039f"
             ],
             [
              0.2222222222222222,
              "#7201a8"
             ],
             [
              0.3333333333333333,
              "#9c179e"
             ],
             [
              0.4444444444444444,
              "#bd3786"
             ],
             [
              0.5555555555555556,
              "#d8576b"
             ],
             [
              0.6666666666666666,
              "#ed7953"
             ],
             [
              0.7777777777777778,
              "#fb9f3a"
             ],
             [
              0.8888888888888888,
              "#fdca26"
             ],
             [
              1,
              "#f0f921"
             ]
            ],
            "type": "heatmapgl"
           }
          ],
          "histogram": [
           {
            "marker": {
             "pattern": {
              "fillmode": "overlay",
              "size": 10,
              "solidity": 0.2
             }
            },
            "type": "histogram"
           }
          ],
          "histogram2d": [
           {
            "colorbar": {
             "outlinewidth": 0,
             "ticks": ""
            },
            "colorscale": [
             [
              0,
              "#0d0887"
             ],
             [
              0.1111111111111111,
              "#46039f"
             ],
             [
              0.2222222222222222,
              "#7201a8"
             ],
             [
              0.3333333333333333,
              "#9c179e"
             ],
             [
              0.4444444444444444,
              "#bd3786"
             ],
             [
              0.5555555555555556,
              "#d8576b"
             ],
             [
              0.6666666666666666,
              "#ed7953"
             ],
             [
              0.7777777777777778,
              "#fb9f3a"
             ],
             [
              0.8888888888888888,
              "#fdca26"
             ],
             [
              1,
              "#f0f921"
             ]
            ],
            "type": "histogram2d"
           }
          ],
          "histogram2dcontour": [
           {
            "colorbar": {
             "outlinewidth": 0,
             "ticks": ""
            },
            "colorscale": [
             [
              0,
              "#0d0887"
             ],
             [
              0.1111111111111111,
              "#46039f"
             ],
             [
              0.2222222222222222,
              "#7201a8"
             ],
             [
              0.3333333333333333,
              "#9c179e"
             ],
             [
              0.4444444444444444,
              "#bd3786"
             ],
             [
              0.5555555555555556,
              "#d8576b"
             ],
             [
              0.6666666666666666,
              "#ed7953"
             ],
             [
              0.7777777777777778,
              "#fb9f3a"
             ],
             [
              0.8888888888888888,
              "#fdca26"
             ],
             [
              1,
              "#f0f921"
             ]
            ],
            "type": "histogram2dcontour"
           }
          ],
          "mesh3d": [
           {
            "colorbar": {
             "outlinewidth": 0,
             "ticks": ""
            },
            "type": "mesh3d"
           }
          ],
          "parcoords": [
           {
            "line": {
             "colorbar": {
              "outlinewidth": 0,
              "ticks": ""
             }
            },
            "type": "parcoords"
           }
          ],
          "pie": [
           {
            "automargin": true,
            "type": "pie"
           }
          ],
          "scatter": [
           {
            "fillpattern": {
             "fillmode": "overlay",
             "size": 10,
             "solidity": 0.2
            },
            "type": "scatter"
           }
          ],
          "scatter3d": [
           {
            "line": {
             "colorbar": {
              "outlinewidth": 0,
              "ticks": ""
             }
            },
            "marker": {
             "colorbar": {
              "outlinewidth": 0,
              "ticks": ""
             }
            },
            "type": "scatter3d"
           }
          ],
          "scattercarpet": [
           {
            "marker": {
             "colorbar": {
              "outlinewidth": 0,
              "ticks": ""
             }
            },
            "type": "scattercarpet"
           }
          ],
          "scattergeo": [
           {
            "marker": {
             "colorbar": {
              "outlinewidth": 0,
              "ticks": ""
             }
            },
            "type": "scattergeo"
           }
          ],
          "scattergl": [
           {
            "marker": {
             "colorbar": {
              "outlinewidth": 0,
              "ticks": ""
             }
            },
            "type": "scattergl"
           }
          ],
          "scattermapbox": [
           {
            "marker": {
             "colorbar": {
              "outlinewidth": 0,
              "ticks": ""
             }
            },
            "type": "scattermapbox"
           }
          ],
          "scatterpolar": [
           {
            "marker": {
             "colorbar": {
              "outlinewidth": 0,
              "ticks": ""
             }
            },
            "type": "scatterpolar"
           }
          ],
          "scatterpolargl": [
           {
            "marker": {
             "colorbar": {
              "outlinewidth": 0,
              "ticks": ""
             }
            },
            "type": "scatterpolargl"
           }
          ],
          "scatterternary": [
           {
            "marker": {
             "colorbar": {
              "outlinewidth": 0,
              "ticks": ""
             }
            },
            "type": "scatterternary"
           }
          ],
          "surface": [
           {
            "colorbar": {
             "outlinewidth": 0,
             "ticks": ""
            },
            "colorscale": [
             [
              0,
              "#0d0887"
             ],
             [
              0.1111111111111111,
              "#46039f"
             ],
             [
              0.2222222222222222,
              "#7201a8"
             ],
             [
              0.3333333333333333,
              "#9c179e"
             ],
             [
              0.4444444444444444,
              "#bd3786"
             ],
             [
              0.5555555555555556,
              "#d8576b"
             ],
             [
              0.6666666666666666,
              "#ed7953"
             ],
             [
              0.7777777777777778,
              "#fb9f3a"
             ],
             [
              0.8888888888888888,
              "#fdca26"
             ],
             [
              1,
              "#f0f921"
             ]
            ],
            "type": "surface"
           }
          ],
          "table": [
           {
            "cells": {
             "fill": {
              "color": "#EBF0F8"
             },
             "line": {
              "color": "white"
             }
            },
            "header": {
             "fill": {
              "color": "#C8D4E3"
             },
             "line": {
              "color": "white"
             }
            },
            "type": "table"
           }
          ]
         },
         "layout": {
          "annotationdefaults": {
           "arrowcolor": "#2a3f5f",
           "arrowhead": 0,
           "arrowwidth": 1
          },
          "autotypenumbers": "strict",
          "coloraxis": {
           "colorbar": {
            "outlinewidth": 0,
            "ticks": ""
           }
          },
          "colorscale": {
           "diverging": [
            [
             0,
             "#8e0152"
            ],
            [
             0.1,
             "#c51b7d"
            ],
            [
             0.2,
             "#de77ae"
            ],
            [
             0.3,
             "#f1b6da"
            ],
            [
             0.4,
             "#fde0ef"
            ],
            [
             0.5,
             "#f7f7f7"
            ],
            [
             0.6,
             "#e6f5d0"
            ],
            [
             0.7,
             "#b8e186"
            ],
            [
             0.8,
             "#7fbc41"
            ],
            [
             0.9,
             "#4d9221"
            ],
            [
             1,
             "#276419"
            ]
           ],
           "sequential": [
            [
             0,
             "#0d0887"
            ],
            [
             0.1111111111111111,
             "#46039f"
            ],
            [
             0.2222222222222222,
             "#7201a8"
            ],
            [
             0.3333333333333333,
             "#9c179e"
            ],
            [
             0.4444444444444444,
             "#bd3786"
            ],
            [
             0.5555555555555556,
             "#d8576b"
            ],
            [
             0.6666666666666666,
             "#ed7953"
            ],
            [
             0.7777777777777778,
             "#fb9f3a"
            ],
            [
             0.8888888888888888,
             "#fdca26"
            ],
            [
             1,
             "#f0f921"
            ]
           ],
           "sequentialminus": [
            [
             0,
             "#0d0887"
            ],
            [
             0.1111111111111111,
             "#46039f"
            ],
            [
             0.2222222222222222,
             "#7201a8"
            ],
            [
             0.3333333333333333,
             "#9c179e"
            ],
            [
             0.4444444444444444,
             "#bd3786"
            ],
            [
             0.5555555555555556,
             "#d8576b"
            ],
            [
             0.6666666666666666,
             "#ed7953"
            ],
            [
             0.7777777777777778,
             "#fb9f3a"
            ],
            [
             0.8888888888888888,
             "#fdca26"
            ],
            [
             1,
             "#f0f921"
            ]
           ]
          },
          "colorway": [
           "#636efa",
           "#EF553B",
           "#00cc96",
           "#ab63fa",
           "#FFA15A",
           "#19d3f3",
           "#FF6692",
           "#B6E880",
           "#FF97FF",
           "#FECB52"
          ],
          "font": {
           "color": "#2a3f5f"
          },
          "geo": {
           "bgcolor": "white",
           "lakecolor": "white",
           "landcolor": "#E5ECF6",
           "showlakes": true,
           "showland": true,
           "subunitcolor": "white"
          },
          "hoverlabel": {
           "align": "left"
          },
          "hovermode": "closest",
          "mapbox": {
           "style": "light"
          },
          "paper_bgcolor": "white",
          "plot_bgcolor": "#E5ECF6",
          "polar": {
           "angularaxis": {
            "gridcolor": "white",
            "linecolor": "white",
            "ticks": ""
           },
           "bgcolor": "#E5ECF6",
           "radialaxis": {
            "gridcolor": "white",
            "linecolor": "white",
            "ticks": ""
           }
          },
          "scene": {
           "xaxis": {
            "backgroundcolor": "#E5ECF6",
            "gridcolor": "white",
            "gridwidth": 2,
            "linecolor": "white",
            "showbackground": true,
            "ticks": "",
            "zerolinecolor": "white"
           },
           "yaxis": {
            "backgroundcolor": "#E5ECF6",
            "gridcolor": "white",
            "gridwidth": 2,
            "linecolor": "white",
            "showbackground": true,
            "ticks": "",
            "zerolinecolor": "white"
           },
           "zaxis": {
            "backgroundcolor": "#E5ECF6",
            "gridcolor": "white",
            "gridwidth": 2,
            "linecolor": "white",
            "showbackground": true,
            "ticks": "",
            "zerolinecolor": "white"
           }
          },
          "shapedefaults": {
           "line": {
            "color": "#2a3f5f"
           }
          },
          "ternary": {
           "aaxis": {
            "gridcolor": "white",
            "linecolor": "white",
            "ticks": ""
           },
           "baxis": {
            "gridcolor": "white",
            "linecolor": "white",
            "ticks": ""
           },
           "bgcolor": "#E5ECF6",
           "caxis": {
            "gridcolor": "white",
            "linecolor": "white",
            "ticks": ""
           }
          },
          "title": {
           "x": 0.05
          },
          "xaxis": {
           "automargin": true,
           "gridcolor": "white",
           "linecolor": "white",
           "ticks": "",
           "title": {
            "standoff": 15
           },
           "zerolinecolor": "white",
           "zerolinewidth": 2
          },
          "yaxis": {
           "automargin": true,
           "gridcolor": "white",
           "linecolor": "white",
           "ticks": "",
           "title": {
            "standoff": 15
           },
           "zerolinecolor": "white",
           "zerolinewidth": 2
          }
         }
        },
        "width": 800,
        "xaxis": {
         "rangebreaks": [
          {
           "dvalue": 900000,
           "values": [
            "2024-08-31T03:00:00",
            "2024-08-31T03:15:00",
            "2024-08-31T03:30:00",
            "2024-08-31T03:45:00",
            "2024-08-31T04:00:00",
            "2024-08-31T04:15:00",
            "2024-08-31T04:30:00",
            "2024-08-31T04:45:00",
            "2024-08-31T05:00:00",
            "2024-08-31T05:15:00",
            "2024-08-31T05:30:00",
            "2024-08-31T05:45:00",
            "2024-08-31T06:00:00",
            "2024-08-31T06:15:00",
            "2024-08-31T06:30:00",
            "2024-08-31T06:45:00",
            "2024-08-31T07:00:00",
            "2024-08-31T07:15:00",
            "2024-08-31T07:30:00",
            "2024-08-31T07:45:00",
            "2024-08-31T08:00:00",
            "2024-08-31T08:15:00",
            "2024-08-31T08:30:00",
            "2024-08-31T08:45:00",
            "2024-08-31T09:00:00",
            "2024-08-31T09:15:00",
            "2024-08-31T09:30:00",
            "2024-08-31T09:45:00",
            "2024-08-31T10:00:00",
            "2024-08-31T10:15:00",
            "2024-08-31T10:30:00",
            "2024-08-31T10:45:00",
            "2024-08-31T11:00:00",
            "2024-08-31T11:15:00",
            "2024-08-31T11:30:00",
            "2024-08-31T11:45:00",
            "2024-08-31T12:00:00",
            "2024-08-31T12:15:00",
            "2024-08-31T12:30:00",
            "2024-08-31T12:45:00",
            "2024-08-31T13:00:00",
            "2024-08-31T13:15:00",
            "2024-08-31T13:30:00",
            "2024-08-31T13:45:00",
            "2024-08-31T14:00:00",
            "2024-08-31T14:15:00",
            "2024-08-31T14:30:00",
            "2024-08-31T14:45:00",
            "2024-08-31T15:00:00",
            "2024-08-31T15:15:00",
            "2024-08-31T15:30:00",
            "2024-08-31T15:45:00",
            "2024-08-31T16:00:00",
            "2024-08-31T16:15:00",
            "2024-08-31T16:30:00",
            "2024-08-31T16:45:00",
            "2024-08-31T17:00:00",
            "2024-08-31T17:15:00",
            "2024-08-31T17:30:00",
            "2024-08-31T17:45:00",
            "2024-08-31T18:00:00",
            "2024-08-31T18:15:00",
            "2024-08-31T18:30:00",
            "2024-08-31T18:45:00",
            "2024-08-31T19:00:00",
            "2024-08-31T19:15:00",
            "2024-08-31T19:30:00",
            "2024-08-31T19:45:00",
            "2024-08-31T20:00:00",
            "2024-08-31T20:15:00",
            "2024-08-31T20:30:00",
            "2024-08-31T20:45:00",
            "2024-08-31T21:00:00",
            "2024-08-31T21:15:00",
            "2024-08-31T21:30:00",
            "2024-08-31T21:45:00",
            "2024-08-31T22:00:00",
            "2024-08-31T22:15:00",
            "2024-08-31T22:30:00",
            "2024-08-31T22:45:00",
            "2024-08-31T23:00:00",
            "2024-08-31T23:15:00",
            "2024-08-31T23:30:00",
            "2024-08-31T23:45:00",
            "2024-09-01T00:00:00",
            "2024-09-01T00:15:00",
            "2024-09-01T00:30:00",
            "2024-09-01T00:45:00",
            "2024-09-01T01:00:00",
            "2024-09-01T01:15:00",
            "2024-09-01T01:30:00",
            "2024-09-01T01:45:00",
            "2024-09-01T02:00:00",
            "2024-09-01T02:15:00",
            "2024-09-01T02:30:00",
            "2024-09-01T02:45:00",
            "2024-09-01T03:00:00",
            "2024-09-01T03:15:00",
            "2024-09-01T03:30:00",
            "2024-09-01T03:45:00",
            "2024-09-01T04:00:00",
            "2024-09-01T04:15:00",
            "2024-09-01T04:30:00",
            "2024-09-01T04:45:00",
            "2024-09-01T05:00:00",
            "2024-09-01T05:15:00",
            "2024-09-01T05:30:00",
            "2024-09-01T05:45:00",
            "2024-09-01T06:00:00",
            "2024-09-01T06:15:00",
            "2024-09-01T06:30:00",
            "2024-09-01T06:45:00",
            "2024-09-01T07:00:00",
            "2024-09-01T07:15:00",
            "2024-09-01T07:30:00",
            "2024-09-01T07:45:00",
            "2024-09-01T08:00:00",
            "2024-09-01T08:15:00",
            "2024-09-01T08:30:00",
            "2024-09-01T08:45:00",
            "2024-09-01T09:00:00",
            "2024-09-01T09:15:00",
            "2024-09-01T09:30:00",
            "2024-09-01T09:45:00",
            "2024-09-01T10:00:00",
            "2024-09-01T10:15:00",
            "2024-09-01T10:30:00",
            "2024-09-01T10:45:00",
            "2024-09-01T11:00:00",
            "2024-09-01T11:15:00",
            "2024-09-01T11:30:00",
            "2024-09-01T11:45:00",
            "2024-09-01T12:00:00",
            "2024-09-01T12:15:00",
            "2024-09-01T12:30:00",
            "2024-09-01T12:45:00",
            "2024-09-01T13:00:00",
            "2024-09-01T13:15:00",
            "2024-09-01T13:30:00",
            "2024-09-01T13:45:00",
            "2024-09-01T14:00:00",
            "2024-09-01T14:15:00",
            "2024-09-01T14:30:00",
            "2024-09-01T14:45:00",
            "2024-09-01T15:00:00",
            "2024-09-01T15:15:00",
            "2024-09-01T15:30:00",
            "2024-09-01T15:45:00",
            "2024-09-01T16:00:00",
            "2024-09-01T16:15:00",
            "2024-09-01T16:30:00",
            "2024-09-01T16:45:00",
            "2024-09-01T17:00:00",
            "2024-09-01T17:15:00",
            "2024-09-01T17:30:00",
            "2024-09-01T17:45:00",
            "2024-09-01T18:00:00",
            "2024-09-01T18:15:00",
            "2024-09-01T18:30:00",
            "2024-09-01T18:45:00",
            "2024-09-01T19:00:00",
            "2024-09-01T19:15:00",
            "2024-09-01T19:30:00",
            "2024-09-01T19:45:00",
            "2024-09-01T20:00:00",
            "2024-09-01T20:15:00",
            "2024-09-01T20:30:00",
            "2024-09-01T20:45:00",
            "2024-09-01T21:00:00",
            "2024-09-01T21:15:00",
            "2024-09-01T21:30:00",
            "2024-09-01T21:45:00",
            "2024-09-01T22:00:00",
            "2024-09-01T22:15:00",
            "2024-09-01T22:30:00",
            "2024-09-01T22:45:00",
            "2024-09-01T23:00:00",
            "2024-09-01T23:15:00",
            "2024-09-01T23:30:00",
            "2024-09-01T23:45:00",
            "2024-09-02T00:00:00",
            "2024-09-02T00:15:00",
            "2024-09-02T00:30:00",
            "2024-09-02T00:45:00",
            "2024-09-02T01:00:00",
            "2024-09-02T01:15:00",
            "2024-09-02T01:30:00",
            "2024-09-02T01:45:00",
            "2024-09-02T02:00:00",
            "2024-09-02T02:15:00",
            "2024-09-02T02:30:00",
            "2024-09-02T02:45:00",
            "2024-09-02T03:00:00",
            "2024-09-02T03:15:00",
            "2024-09-02T03:30:00",
            "2024-09-02T03:45:00",
            "2024-09-02T04:00:00",
            "2024-09-02T04:15:00",
            "2024-09-02T04:30:00",
            "2024-09-02T04:45:00",
            "2024-09-02T05:00:00",
            "2024-09-02T05:15:00",
            "2024-09-02T05:30:00",
            "2024-09-02T05:45:00",
            "2024-09-02T06:00:00",
            "2024-09-02T06:15:00",
            "2024-09-02T06:30:00",
            "2024-09-02T06:45:00",
            "2024-09-02T07:00:00",
            "2024-09-02T07:15:00",
            "2024-09-02T07:30:00",
            "2024-09-02T07:45:00",
            "2024-09-02T08:00:00",
            "2024-09-02T08:15:00",
            "2024-09-02T08:30:00",
            "2024-09-02T08:45:00",
            "2024-09-02T09:00:00",
            "2024-09-02T09:15:00",
            "2024-09-02T09:30:00",
            "2024-09-02T09:45:00",
            "2024-09-02T10:00:00",
            "2024-09-02T10:15:00",
            "2024-09-02T10:30:00",
            "2024-09-02T10:45:00",
            "2024-09-02T11:00:00",
            "2024-09-02T11:15:00",
            "2024-09-02T11:30:00",
            "2024-09-02T11:45:00",
            "2024-09-02T12:00:00",
            "2024-09-02T12:15:00",
            "2024-09-02T12:30:00",
            "2024-09-02T12:45:00",
            "2024-09-02T13:00:00",
            "2024-09-02T13:15:00",
            "2024-09-02T13:30:00",
            "2024-09-02T13:45:00",
            "2024-09-02T14:00:00",
            "2024-09-02T14:15:00",
            "2024-09-02T14:30:00",
            "2024-09-02T14:45:00",
            "2024-09-02T15:00:00",
            "2024-09-02T15:15:00",
            "2024-09-02T15:30:00",
            "2024-09-02T15:45:00",
            "2024-09-02T16:00:00",
            "2024-09-02T16:15:00",
            "2024-09-02T16:30:00",
            "2024-09-02T16:45:00",
            "2024-09-02T17:00:00",
            "2024-09-02T17:15:00",
            "2024-09-02T17:30:00",
            "2024-09-02T17:45:00",
            "2024-09-02T18:00:00",
            "2024-09-02T18:15:00",
            "2024-09-02T18:30:00",
            "2024-09-02T18:45:00",
            "2024-09-02T19:00:00",
            "2024-09-02T19:15:00",
            "2024-09-02T19:30:00",
            "2024-09-02T19:45:00",
            "2024-09-02T20:00:00",
            "2024-09-02T20:15:00",
            "2024-09-02T20:30:00",
            "2024-09-02T20:45:00",
            "2024-09-02T21:00:00",
            "2024-09-02T21:15:00",
            "2024-09-02T21:30:00",
            "2024-09-02T21:45:00",
            "2024-09-02T22:00:00",
            "2024-09-02T22:15:00",
            "2024-09-02T22:30:00",
            "2024-09-02T22:45:00",
            "2024-09-02T23:00:00",
            "2024-09-02T23:15:00",
            "2024-09-02T23:30:00",
            "2024-09-02T23:45:00",
            "2024-09-03T00:00:00",
            "2024-09-03T00:15:00",
            "2024-09-03T00:30:00",
            "2024-09-03T00:45:00",
            "2024-09-03T01:00:00",
            "2024-09-03T01:15:00",
            "2024-09-03T01:30:00",
            "2024-09-03T01:45:00",
            "2024-09-03T02:00:00",
            "2024-09-03T02:15:00",
            "2024-09-03T02:30:00",
            "2024-09-03T02:45:00",
            "2024-09-03T03:00:00",
            "2024-09-03T03:15:00",
            "2024-09-03T03:30:00",
            "2024-09-03T03:45:00",
            "2024-09-03T04:00:00",
            "2024-09-03T04:15:00",
            "2024-09-03T04:30:00",
            "2024-09-03T04:45:00",
            "2024-09-03T05:00:00",
            "2024-09-03T05:15:00",
            "2024-09-03T05:30:00",
            "2024-09-03T05:45:00",
            "2024-09-03T06:00:00",
            "2024-09-03T06:15:00",
            "2024-09-03T06:30:00",
            "2024-09-03T06:45:00",
            "2024-09-03T07:00:00",
            "2024-09-03T07:15:00",
            "2024-09-03T07:30:00",
            "2024-09-03T07:45:00",
            "2024-09-03T08:00:00",
            "2024-09-03T08:15:00",
            "2024-09-03T08:30:00",
            "2024-09-03T08:45:00",
            "2024-09-03T09:00:00",
            "2024-09-03T09:15:00",
            "2024-09-03T09:30:00",
            "2024-09-03T09:45:00",
            "2024-09-03T10:00:00",
            "2024-09-03T10:15:00",
            "2024-09-03T10:30:00",
            "2024-09-03T10:45:00",
            "2024-09-03T11:00:00",
            "2024-09-03T11:15:00",
            "2024-09-03T11:30:00",
            "2024-09-03T11:45:00",
            "2024-09-03T12:00:00",
            "2024-09-03T12:15:00",
            "2024-09-03T12:30:00",
            "2024-09-03T12:45:00",
            "2024-09-03T13:00:00",
            "2024-09-03T13:15:00",
            "2024-09-03T13:30:00",
            "2024-09-03T13:45:00",
            "2024-09-03T14:00:00",
            "2024-09-03T14:15:00",
            "2024-09-03T14:30:00",
            "2024-09-03T14:45:00",
            "2024-09-03T15:00:00",
            "2024-09-03T15:15:00",
            "2024-09-03T15:30:00",
            "2024-09-03T15:45:00",
            "2024-09-03T16:00:00",
            "2024-09-03T16:15:00",
            "2024-09-03T16:30:00",
            "2024-09-03T16:45:00",
            "2024-09-03T17:00:00",
            "2024-09-03T17:15:00",
            "2024-09-03T17:30:00",
            "2024-09-03T17:45:00",
            "2024-09-03T18:00:00",
            "2024-09-03T18:15:00",
            "2024-09-03T18:30:00",
            "2024-09-03T18:45:00",
            "2024-09-03T19:00:00",
            "2024-09-03T19:15:00",
            "2024-09-03T19:30:00",
            "2024-09-03T19:45:00",
            "2024-09-03T20:00:00",
            "2024-09-03T20:15:00",
            "2024-09-04T03:00:00",
            "2024-09-04T03:15:00",
            "2024-09-04T03:30:00",
            "2024-09-04T03:45:00",
            "2024-09-04T04:00:00",
            "2024-09-04T04:15:00",
            "2024-09-04T04:30:00",
            "2024-09-04T04:45:00",
            "2024-09-04T05:00:00",
            "2024-09-04T05:15:00",
            "2024-09-04T05:30:00",
            "2024-09-04T05:45:00",
            "2024-09-04T06:00:00",
            "2024-09-04T06:15:00",
            "2024-09-04T06:30:00",
            "2024-09-04T06:45:00",
            "2024-09-04T07:00:00",
            "2024-09-04T07:15:00",
            "2024-09-04T07:30:00",
            "2024-09-04T07:45:00",
            "2024-09-04T08:00:00",
            "2024-09-04T08:15:00",
            "2024-09-04T08:30:00",
            "2024-09-04T08:45:00",
            "2024-09-04T09:00:00",
            "2024-09-04T09:15:00",
            "2024-09-04T09:30:00",
            "2024-09-04T09:45:00",
            "2024-09-04T10:00:00",
            "2024-09-04T10:15:00",
            "2024-09-04T10:30:00",
            "2024-09-04T10:45:00",
            "2024-09-04T11:00:00",
            "2024-09-04T11:15:00",
            "2024-09-04T11:30:00",
            "2024-09-04T11:45:00",
            "2024-09-04T12:00:00",
            "2024-09-04T12:15:00",
            "2024-09-04T12:30:00",
            "2024-09-04T12:45:00",
            "2024-09-04T13:00:00",
            "2024-09-04T13:15:00",
            "2024-09-04T13:30:00",
            "2024-09-04T13:45:00",
            "2024-09-04T14:00:00",
            "2024-09-04T14:15:00",
            "2024-09-04T14:30:00",
            "2024-09-04T14:45:00",
            "2024-09-04T15:00:00",
            "2024-09-04T15:15:00",
            "2024-09-04T15:30:00",
            "2024-09-04T15:45:00",
            "2024-09-04T16:00:00",
            "2024-09-04T16:15:00",
            "2024-09-04T16:30:00",
            "2024-09-04T16:45:00",
            "2024-09-04T17:00:00",
            "2024-09-04T17:15:00",
            "2024-09-04T17:30:00",
            "2024-09-04T17:45:00",
            "2024-09-04T18:00:00",
            "2024-09-04T18:15:00",
            "2024-09-04T18:30:00",
            "2024-09-04T18:45:00",
            "2024-09-04T19:00:00",
            "2024-09-04T19:15:00",
            "2024-09-04T19:30:00",
            "2024-09-04T19:45:00",
            "2024-09-04T20:00:00",
            "2024-09-04T20:15:00",
            "2024-09-05T03:00:00",
            "2024-09-05T03:15:00",
            "2024-09-05T03:30:00",
            "2024-09-05T03:45:00",
            "2024-09-05T04:00:00",
            "2024-09-05T04:15:00",
            "2024-09-05T04:30:00",
            "2024-09-05T04:45:00",
            "2024-09-05T05:00:00",
            "2024-09-05T05:15:00",
            "2024-09-05T05:30:00",
            "2024-09-05T05:45:00",
            "2024-09-05T06:00:00",
            "2024-09-05T06:15:00",
            "2024-09-05T06:30:00",
            "2024-09-05T06:45:00",
            "2024-09-05T07:00:00",
            "2024-09-05T07:15:00",
            "2024-09-05T07:30:00",
            "2024-09-05T07:45:00",
            "2024-09-05T08:00:00",
            "2024-09-05T08:15:00",
            "2024-09-05T08:30:00",
            "2024-09-05T08:45:00",
            "2024-09-05T09:00:00",
            "2024-09-05T09:15:00",
            "2024-09-05T09:30:00",
            "2024-09-05T09:45:00",
            "2024-09-05T10:00:00",
            "2024-09-05T10:15:00",
            "2024-09-05T10:30:00",
            "2024-09-05T10:45:00",
            "2024-09-05T11:00:00",
            "2024-09-05T11:15:00",
            "2024-09-05T11:30:00",
            "2024-09-05T11:45:00",
            "2024-09-05T12:00:00",
            "2024-09-05T12:15:00",
            "2024-09-05T12:30:00",
            "2024-09-05T12:45:00",
            "2024-09-05T13:00:00",
            "2024-09-05T13:15:00",
            "2024-09-05T13:30:00",
            "2024-09-05T13:45:00",
            "2024-09-05T14:00:00",
            "2024-09-05T14:15:00",
            "2024-09-05T14:30:00",
            "2024-09-05T14:45:00",
            "2024-09-05T15:00:00",
            "2024-09-05T15:15:00",
            "2024-09-05T15:30:00",
            "2024-09-05T15:45:00",
            "2024-09-05T16:00:00",
            "2024-09-05T16:15:00",
            "2024-09-05T16:30:00",
            "2024-09-05T16:45:00",
            "2024-09-05T17:00:00",
            "2024-09-05T17:15:00",
            "2024-09-05T17:30:00",
            "2024-09-05T17:45:00",
            "2024-09-05T18:00:00",
            "2024-09-05T18:15:00",
            "2024-09-05T18:30:00",
            "2024-09-05T18:45:00",
            "2024-09-05T19:00:00",
            "2024-09-05T19:15:00",
            "2024-09-05T19:30:00",
            "2024-09-05T19:45:00",
            "2024-09-05T20:00:00",
            "2024-09-05T20:15:00",
            "2024-09-06T03:00:00",
            "2024-09-06T03:15:00",
            "2024-09-06T03:30:00",
            "2024-09-06T03:45:00",
            "2024-09-06T04:00:00",
            "2024-09-06T04:15:00",
            "2024-09-06T04:30:00",
            "2024-09-06T04:45:00",
            "2024-09-06T05:00:00",
            "2024-09-06T05:15:00",
            "2024-09-06T05:30:00",
            "2024-09-06T05:45:00",
            "2024-09-06T06:00:00",
            "2024-09-06T06:15:00",
            "2024-09-06T06:30:00",
            "2024-09-06T06:45:00",
            "2024-09-06T07:00:00",
            "2024-09-06T07:15:00",
            "2024-09-06T07:30:00",
            "2024-09-06T07:45:00",
            "2024-09-06T08:00:00",
            "2024-09-06T08:15:00",
            "2024-09-06T08:30:00",
            "2024-09-06T08:45:00",
            "2024-09-06T09:00:00",
            "2024-09-06T09:15:00",
            "2024-09-06T09:30:00",
            "2024-09-06T09:45:00",
            "2024-09-06T10:00:00",
            "2024-09-06T10:15:00",
            "2024-09-06T10:30:00",
            "2024-09-06T10:45:00",
            "2024-09-06T11:00:00",
            "2024-09-06T11:15:00",
            "2024-09-06T11:30:00",
            "2024-09-06T11:45:00",
            "2024-09-06T12:00:00",
            "2024-09-06T12:15:00",
            "2024-09-06T12:30:00",
            "2024-09-06T12:45:00",
            "2024-09-06T13:00:00",
            "2024-09-06T13:15:00",
            "2024-09-06T13:30:00",
            "2024-09-06T13:45:00",
            "2024-09-06T14:00:00",
            "2024-09-06T14:15:00",
            "2024-09-06T14:30:00",
            "2024-09-06T14:45:00",
            "2024-09-06T15:00:00",
            "2024-09-06T15:15:00",
            "2024-09-06T15:30:00",
            "2024-09-06T15:45:00",
            "2024-09-06T16:00:00",
            "2024-09-06T16:15:00",
            "2024-09-06T16:30:00",
            "2024-09-06T16:45:00",
            "2024-09-06T17:00:00",
            "2024-09-06T17:15:00",
            "2024-09-06T17:30:00",
            "2024-09-06T17:45:00",
            "2024-09-06T18:00:00",
            "2024-09-06T18:15:00",
            "2024-09-06T18:30:00",
            "2024-09-06T18:45:00",
            "2024-09-06T19:00:00",
            "2024-09-06T19:15:00",
            "2024-09-06T19:30:00",
            "2024-09-06T19:45:00",
            "2024-09-06T20:00:00",
            "2024-09-06T20:15:00",
            "2024-09-07T03:00:00",
            "2024-09-07T03:15:00",
            "2024-09-07T03:30:00",
            "2024-09-07T03:45:00",
            "2024-09-07T04:00:00",
            "2024-09-07T04:15:00",
            "2024-09-07T04:30:00",
            "2024-09-07T04:45:00",
            "2024-09-07T05:00:00",
            "2024-09-07T05:15:00",
            "2024-09-07T05:30:00",
            "2024-09-07T05:45:00",
            "2024-09-07T06:00:00",
            "2024-09-07T06:15:00",
            "2024-09-07T06:30:00",
            "2024-09-07T06:45:00",
            "2024-09-07T07:00:00",
            "2024-09-07T07:15:00",
            "2024-09-07T07:30:00",
            "2024-09-07T07:45:00",
            "2024-09-07T08:00:00",
            "2024-09-07T08:15:00",
            "2024-09-07T08:30:00",
            "2024-09-07T08:45:00",
            "2024-09-07T09:00:00",
            "2024-09-07T09:15:00",
            "2024-09-07T09:30:00",
            "2024-09-07T09:45:00",
            "2024-09-07T10:00:00",
            "2024-09-07T10:15:00",
            "2024-09-07T10:30:00",
            "2024-09-07T10:45:00",
            "2024-09-07T11:00:00",
            "2024-09-07T11:15:00",
            "2024-09-07T11:30:00",
            "2024-09-07T11:45:00",
            "2024-09-07T12:00:00",
            "2024-09-07T12:15:00",
            "2024-09-07T12:30:00",
            "2024-09-07T12:45:00",
            "2024-09-07T13:00:00",
            "2024-09-07T13:15:00",
            "2024-09-07T13:30:00",
            "2024-09-07T13:45:00",
            "2024-09-07T14:00:00",
            "2024-09-07T14:15:00",
            "2024-09-07T14:30:00",
            "2024-09-07T14:45:00",
            "2024-09-07T15:00:00",
            "2024-09-07T15:15:00",
            "2024-09-07T15:30:00",
            "2024-09-07T15:45:00",
            "2024-09-07T16:00:00",
            "2024-09-07T16:15:00",
            "2024-09-07T16:30:00",
            "2024-09-07T16:45:00",
            "2024-09-07T17:00:00",
            "2024-09-07T17:15:00",
            "2024-09-07T17:30:00",
            "2024-09-07T17:45:00",
            "2024-09-07T18:00:00",
            "2024-09-07T18:15:00",
            "2024-09-07T18:30:00",
            "2024-09-07T18:45:00",
            "2024-09-07T19:00:00",
            "2024-09-07T19:15:00",
            "2024-09-07T19:30:00",
            "2024-09-07T19:45:00",
            "2024-09-07T20:00:00",
            "2024-09-07T20:15:00",
            "2024-09-07T20:30:00",
            "2024-09-07T20:45:00",
            "2024-09-07T21:00:00",
            "2024-09-07T21:15:00",
            "2024-09-07T21:30:00",
            "2024-09-07T21:45:00",
            "2024-09-07T22:00:00",
            "2024-09-07T22:15:00",
            "2024-09-07T22:30:00",
            "2024-09-07T22:45:00",
            "2024-09-07T23:00:00",
            "2024-09-07T23:15:00",
            "2024-09-07T23:30:00",
            "2024-09-07T23:45:00",
            "2024-09-08T00:00:00",
            "2024-09-08T00:15:00",
            "2024-09-08T00:30:00",
            "2024-09-08T00:45:00",
            "2024-09-08T01:00:00",
            "2024-09-08T01:15:00",
            "2024-09-08T01:30:00",
            "2024-09-08T01:45:00",
            "2024-09-08T02:00:00",
            "2024-09-08T02:15:00",
            "2024-09-08T02:30:00",
            "2024-09-08T02:45:00",
            "2024-09-08T03:00:00",
            "2024-09-08T03:15:00",
            "2024-09-08T03:30:00",
            "2024-09-08T03:45:00",
            "2024-09-08T04:00:00",
            "2024-09-08T04:15:00",
            "2024-09-08T04:30:00",
            "2024-09-08T04:45:00",
            "2024-09-08T05:00:00",
            "2024-09-08T05:15:00",
            "2024-09-08T05:30:00",
            "2024-09-08T05:45:00",
            "2024-09-08T06:00:00",
            "2024-09-08T06:15:00",
            "2024-09-08T06:30:00",
            "2024-09-08T06:45:00",
            "2024-09-08T07:00:00",
            "2024-09-08T07:15:00",
            "2024-09-08T07:30:00",
            "2024-09-08T07:45:00",
            "2024-09-08T08:00:00",
            "2024-09-08T08:15:00",
            "2024-09-08T08:30:00",
            "2024-09-08T08:45:00",
            "2024-09-08T09:00:00",
            "2024-09-08T09:15:00",
            "2024-09-08T09:30:00",
            "2024-09-08T09:45:00",
            "2024-09-08T10:00:00",
            "2024-09-08T10:15:00",
            "2024-09-08T10:30:00",
            "2024-09-08T10:45:00",
            "2024-09-08T11:00:00",
            "2024-09-08T11:15:00",
            "2024-09-08T11:30:00",
            "2024-09-08T11:45:00",
            "2024-09-08T12:00:00",
            "2024-09-08T12:15:00",
            "2024-09-08T12:30:00",
            "2024-09-08T12:45:00",
            "2024-09-08T13:00:00",
            "2024-09-08T13:15:00",
            "2024-09-08T13:30:00",
            "2024-09-08T13:45:00",
            "2024-09-08T14:00:00",
            "2024-09-08T14:15:00",
            "2024-09-08T14:30:00",
            "2024-09-08T14:45:00",
            "2024-09-08T15:00:00",
            "2024-09-08T15:15:00",
            "2024-09-08T15:30:00",
            "2024-09-08T15:45:00",
            "2024-09-08T16:00:00",
            "2024-09-08T16:15:00",
            "2024-09-08T16:30:00",
            "2024-09-08T16:45:00",
            "2024-09-08T17:00:00",
            "2024-09-08T17:15:00",
            "2024-09-08T17:30:00",
            "2024-09-08T17:45:00",
            "2024-09-08T18:00:00",
            "2024-09-08T18:15:00",
            "2024-09-08T18:30:00",
            "2024-09-08T18:45:00",
            "2024-09-08T19:00:00",
            "2024-09-08T19:15:00",
            "2024-09-08T19:30:00",
            "2024-09-08T19:45:00",
            "2024-09-08T20:00:00",
            "2024-09-08T20:15:00",
            "2024-09-08T20:30:00",
            "2024-09-08T20:45:00",
            "2024-09-08T21:00:00",
            "2024-09-08T21:15:00",
            "2024-09-08T21:30:00",
            "2024-09-08T21:45:00",
            "2024-09-08T22:00:00",
            "2024-09-08T22:15:00",
            "2024-09-08T22:30:00",
            "2024-09-08T22:45:00",
            "2024-09-08T23:00:00",
            "2024-09-08T23:15:00",
            "2024-09-08T23:30:00",
            "2024-09-08T23:45:00",
            "2024-09-09T00:00:00",
            "2024-09-09T00:15:00",
            "2024-09-09T00:30:00",
            "2024-09-09T00:45:00",
            "2024-09-09T01:00:00",
            "2024-09-09T01:15:00",
            "2024-09-09T01:30:00",
            "2024-09-09T01:45:00",
            "2024-09-09T02:00:00",
            "2024-09-09T02:15:00",
            "2024-09-09T02:30:00",
            "2024-09-09T02:45:00",
            "2024-09-09T03:00:00",
            "2024-09-09T03:15:00",
            "2024-09-09T03:30:00",
            "2024-09-09T03:45:00",
            "2024-09-09T04:00:00",
            "2024-09-09T04:15:00",
            "2024-09-09T04:30:00",
            "2024-09-09T04:45:00",
            "2024-09-09T05:00:00",
            "2024-09-09T05:15:00",
            "2024-09-09T05:30:00",
            "2024-09-09T05:45:00",
            "2024-09-09T06:00:00",
            "2024-09-09T06:15:00",
            "2024-09-09T06:30:00",
            "2024-09-09T06:45:00",
            "2024-09-09T07:00:00",
            "2024-09-09T07:15:00",
            "2024-09-09T07:30:00",
            "2024-09-09T07:45:00",
            "2024-09-09T08:00:00",
            "2024-09-09T08:15:00",
            "2024-09-09T08:30:00",
            "2024-09-09T08:45:00",
            "2024-09-09T09:00:00",
            "2024-09-09T09:15:00",
            "2024-09-09T09:30:00",
            "2024-09-09T09:45:00",
            "2024-09-09T10:00:00",
            "2024-09-09T10:15:00",
            "2024-09-09T10:30:00",
            "2024-09-09T10:45:00",
            "2024-09-09T11:00:00",
            "2024-09-09T11:15:00",
            "2024-09-09T11:30:00",
            "2024-09-09T11:45:00",
            "2024-09-09T12:00:00",
            "2024-09-09T12:15:00",
            "2024-09-09T12:30:00",
            "2024-09-09T12:45:00",
            "2024-09-09T13:00:00",
            "2024-09-09T13:15:00",
            "2024-09-09T13:30:00",
            "2024-09-09T13:45:00",
            "2024-09-09T14:00:00",
            "2024-09-09T14:15:00",
            "2024-09-09T14:30:00",
            "2024-09-09T14:45:00",
            "2024-09-09T15:00:00",
            "2024-09-09T15:15:00",
            "2024-09-09T15:30:00",
            "2024-09-09T15:45:00",
            "2024-09-09T16:00:00",
            "2024-09-09T16:15:00",
            "2024-09-09T16:30:00",
            "2024-09-09T16:45:00",
            "2024-09-09T17:00:00",
            "2024-09-09T17:15:00",
            "2024-09-09T17:30:00",
            "2024-09-09T17:45:00",
            "2024-09-09T18:00:00",
            "2024-09-09T18:15:00",
            "2024-09-09T18:30:00",
            "2024-09-09T18:45:00",
            "2024-09-09T19:00:00",
            "2024-09-09T19:15:00",
            "2024-09-09T19:30:00",
            "2024-09-09T19:45:00",
            "2024-09-09T20:00:00",
            "2024-09-09T20:15:00",
            "2024-09-10T03:00:00",
            "2024-09-10T03:15:00",
            "2024-09-10T03:30:00",
            "2024-09-10T03:45:00",
            "2024-09-10T04:00:00",
            "2024-09-10T04:15:00",
            "2024-09-10T04:30:00",
            "2024-09-10T04:45:00",
            "2024-09-10T05:00:00",
            "2024-09-10T05:15:00",
            "2024-09-10T05:30:00",
            "2024-09-10T05:45:00",
            "2024-09-10T06:00:00",
            "2024-09-10T06:15:00",
            "2024-09-10T06:30:00",
            "2024-09-10T06:45:00",
            "2024-09-10T07:00:00",
            "2024-09-10T07:15:00",
            "2024-09-10T07:30:00",
            "2024-09-10T07:45:00",
            "2024-09-10T08:00:00",
            "2024-09-10T08:15:00",
            "2024-09-10T08:30:00",
            "2024-09-10T08:45:00",
            "2024-09-10T09:00:00",
            "2024-09-10T09:15:00",
            "2024-09-10T09:30:00",
            "2024-09-10T09:45:00",
            "2024-09-10T10:00:00",
            "2024-09-10T10:15:00",
            "2024-09-10T10:30:00",
            "2024-09-10T10:45:00",
            "2024-09-10T11:00:00",
            "2024-09-10T11:15:00",
            "2024-09-10T11:30:00",
            "2024-09-10T11:45:00",
            "2024-09-10T12:00:00",
            "2024-09-10T12:15:00",
            "2024-09-10T12:30:00",
            "2024-09-10T12:45:00",
            "2024-09-10T13:00:00",
            "2024-09-10T13:15:00",
            "2024-09-10T13:30:00",
            "2024-09-10T13:45:00",
            "2024-09-10T14:00:00",
            "2024-09-10T14:15:00",
            "2024-09-10T14:30:00",
            "2024-09-10T14:45:00",
            "2024-09-10T15:00:00",
            "2024-09-10T15:15:00",
            "2024-09-10T15:30:00",
            "2024-09-10T15:45:00",
            "2024-09-10T16:00:00",
            "2024-09-10T16:15:00",
            "2024-09-10T16:30:00",
            "2024-09-10T16:45:00",
            "2024-09-10T17:00:00",
            "2024-09-10T17:15:00",
            "2024-09-10T17:30:00",
            "2024-09-10T17:45:00",
            "2024-09-10T18:00:00",
            "2024-09-10T18:15:00",
            "2024-09-10T18:30:00",
            "2024-09-10T18:45:00",
            "2024-09-10T19:00:00",
            "2024-09-10T19:15:00",
            "2024-09-10T19:30:00",
            "2024-09-10T19:45:00",
            "2024-09-10T20:00:00",
            "2024-09-10T20:15:00",
            "2024-09-11T03:00:00",
            "2024-09-11T03:15:00",
            "2024-09-11T03:30:00",
            "2024-09-11T03:45:00",
            "2024-09-11T04:00:00",
            "2024-09-11T04:15:00",
            "2024-09-11T04:30:00",
            "2024-09-11T04:45:00",
            "2024-09-11T05:00:00",
            "2024-09-11T05:15:00",
            "2024-09-11T05:30:00",
            "2024-09-11T05:45:00",
            "2024-09-11T06:00:00",
            "2024-09-11T06:15:00",
            "2024-09-11T06:30:00",
            "2024-09-11T06:45:00",
            "2024-09-11T07:00:00",
            "2024-09-11T07:15:00",
            "2024-09-11T07:30:00",
            "2024-09-11T07:45:00",
            "2024-09-11T08:00:00",
            "2024-09-11T08:15:00",
            "2024-09-11T08:30:00",
            "2024-09-11T08:45:00",
            "2024-09-11T09:00:00",
            "2024-09-11T09:15:00",
            "2024-09-11T09:30:00",
            "2024-09-11T09:45:00",
            "2024-09-11T10:00:00",
            "2024-09-11T10:15:00",
            "2024-09-11T10:30:00",
            "2024-09-11T10:45:00",
            "2024-09-11T11:00:00",
            "2024-09-11T11:15:00",
            "2024-09-11T11:30:00",
            "2024-09-11T11:45:00",
            "2024-09-11T12:00:00",
            "2024-09-11T12:15:00",
            "2024-09-11T12:30:00",
            "2024-09-11T12:45:00",
            "2024-09-11T13:00:00",
            "2024-09-11T13:15:00",
            "2024-09-11T13:30:00",
            "2024-09-11T13:45:00",
            "2024-09-11T14:00:00",
            "2024-09-11T14:15:00",
            "2024-09-11T14:30:00",
            "2024-09-11T14:45:00",
            "2024-09-11T15:00:00",
            "2024-09-11T15:15:00",
            "2024-09-11T15:30:00",
            "2024-09-11T15:45:00",
            "2024-09-11T16:00:00",
            "2024-09-11T16:15:00",
            "2024-09-11T16:30:00",
            "2024-09-11T16:45:00",
            "2024-09-11T17:00:00",
            "2024-09-11T17:15:00",
            "2024-09-11T17:30:00",
            "2024-09-11T17:45:00",
            "2024-09-11T18:00:00",
            "2024-09-11T18:15:00",
            "2024-09-11T18:30:00",
            "2024-09-11T18:45:00",
            "2024-09-11T19:00:00",
            "2024-09-11T19:15:00",
            "2024-09-11T19:30:00",
            "2024-09-11T19:45:00",
            "2024-09-11T20:00:00",
            "2024-09-11T20:15:00",
            "2024-09-12T03:00:00",
            "2024-09-12T03:15:00",
            "2024-09-12T03:30:00",
            "2024-09-12T03:45:00",
            "2024-09-12T04:00:00",
            "2024-09-12T04:15:00",
            "2024-09-12T04:30:00",
            "2024-09-12T04:45:00",
            "2024-09-12T05:00:00",
            "2024-09-12T05:15:00",
            "2024-09-12T05:30:00",
            "2024-09-12T05:45:00",
            "2024-09-12T06:00:00",
            "2024-09-12T06:15:00",
            "2024-09-12T06:30:00",
            "2024-09-12T06:45:00",
            "2024-09-12T07:00:00",
            "2024-09-12T07:15:00",
            "2024-09-12T07:30:00",
            "2024-09-12T07:45:00",
            "2024-09-12T08:00:00",
            "2024-09-12T08:15:00",
            "2024-09-12T08:30:00",
            "2024-09-12T08:45:00",
            "2024-09-12T09:00:00",
            "2024-09-12T09:15:00",
            "2024-09-12T09:30:00",
            "2024-09-12T09:45:00",
            "2024-09-12T10:00:00",
            "2024-09-12T10:15:00",
            "2024-09-12T10:30:00",
            "2024-09-12T10:45:00",
            "2024-09-12T11:00:00",
            "2024-09-12T11:15:00",
            "2024-09-12T11:30:00",
            "2024-09-12T11:45:00",
            "2024-09-12T12:00:00",
            "2024-09-12T12:15:00",
            "2024-09-12T12:30:00",
            "2024-09-12T12:45:00",
            "2024-09-12T13:00:00",
            "2024-09-12T13:15:00",
            "2024-09-12T13:30:00",
            "2024-09-12T13:45:00",
            "2024-09-12T14:00:00",
            "2024-09-12T14:15:00",
            "2024-09-12T14:30:00",
            "2024-09-12T14:45:00",
            "2024-09-12T15:00:00",
            "2024-09-12T15:15:00",
            "2024-09-12T15:30:00",
            "2024-09-12T15:45:00",
            "2024-09-12T16:00:00",
            "2024-09-12T16:15:00",
            "2024-09-12T16:30:00",
            "2024-09-12T16:45:00",
            "2024-09-12T17:00:00",
            "2024-09-12T17:15:00",
            "2024-09-12T17:30:00",
            "2024-09-12T17:45:00",
            "2024-09-12T18:00:00",
            "2024-09-12T18:15:00",
            "2024-09-12T18:30:00",
            "2024-09-12T18:45:00",
            "2024-09-12T19:00:00",
            "2024-09-12T19:15:00",
            "2024-09-12T19:30:00",
            "2024-09-12T19:45:00",
            "2024-09-12T20:00:00",
            "2024-09-12T20:15:00"
           ]
          }
         ],
         "rangeslider": {
          "visible": false
         },
         "showgrid": false,
         "showline": false,
         "showticklabels": false,
         "visible": true,
         "zeroline": false
        },
        "yaxis": {
         "showticklabels": false,
         "visible": false
        }
       }
      }
     },
     "metadata": {},
     "output_type": "display_data"
    }
   ],
   "source": [
    "fig = create_smc_plot(df_15t, rangebreak_15t, dvalue= 15)\n",
    "fig.show()"
   ]
  },
  {
   "cell_type": "code",
   "execution_count": 12,
   "metadata": {},
   "outputs": [
    {
     "data": {
      "application/vnd.plotly.v1+json": {
       "config": {
        "plotlyServerURL": "https://plot.ly"
       },
       "data": [
        {
         "close": [
          40850.47,
          40881.47,
          40849.27,
          40805.24,
          40787.66,
          40773.6,
          40786.56,
          40811.87,
          40817.15,
          40785.83,
          40789.37,
          40741.23,
          40805.51,
          40795.26,
          40781.17,
          40781.04,
          40761.66,
          40790.09,
          40769.72,
          40771.67,
          40754.25,
          40798.83,
          40807.29,
          40811.31,
          40836.51,
          40795.91,
          40810.37,
          40828.33,
          40776.79,
          40805.31,
          40824.53,
          40752.62,
          40763.81,
          40722.49,
          40716.74,
          40679.07,
          40569.88,
          40593.19,
          40574.63,
          40632.29,
          40576.16,
          40631.3,
          40605.72,
          40661.95,
          40617.91,
          40634.72,
          40653.34,
          40693.87,
          40681.7,
          40682.13,
          40690.23,
          40677.59,
          40644.67,
          40590.85,
          40626.16,
          40585.87,
          40531.4,
          40476.52,
          40436.09,
          40436.77,
          40426.13,
          40460.91,
          40469.66,
          40473.09,
          40478.31,
          40485.06,
          40496.55,
          40522.88,
          40580.11,
          40549.26,
          40562.09,
          40576.82,
          40624.71,
          40630.69,
          40646.46,
          40611.92,
          40645.18,
          40648.62,
          40657.49,
          40624.54,
          40633.62,
          40636.46,
          40661.96,
          40671.21,
          40656.51,
          40669.53,
          40673.91,
          40684.98,
          40707.88,
          40705.86,
          40699.65,
          40698.34,
          40713.4,
          40718.84,
          40706.24,
          40714.9,
          40726.22,
          40717.19,
          40732.86,
          40731.25,
          40716.03,
          40680.83,
          40684.2,
          40696.94,
          40746.11,
          40746.94,
          40368.94,
          40331.25,
          40336.04,
          40283.75,
          40287.25,
          40242.03,
          40164.97,
          40185.7,
          40083.7,
          40061.29,
          40051.92,
          40026.27,
          40027.5,
          40081.27,
          40036.45,
          40030.77,
          40063.87,
          40105.71,
          40110.79,
          40124.4,
          40184.03,
          40163.53,
          40140.92,
          40174.75,
          40209.21,
          40273.24,
          40305.49,
          40311.89,
          40270.08,
          40258.55,
          40330.53,
          40339.78,
          40346.83,
          40345.36,
          40350.47,
          40389.04,
          40396.21,
          40426.53,
          40429.27,
          40441.97,
          40478.14,
          40472.8,
          40514.53,
          40545.97,
          40574.32,
          40551.08,
          40509.31,
          40548.24,
          40561.94,
          40581.87,
          40596.58,
          40663.23,
          40624.59,
          40612.3,
          40625.03,
          40625.04,
          40605.1,
          40603.66,
          40635.61,
          40631.48,
          40684.95,
          40717.6,
          40775.23,
          40763.74,
          40704.33,
          40711.73,
          40717.43,
          40734.2,
          40743.1,
          40767.98,
          40783.26,
          40802.91,
          40805.71,
          40777.72,
          40767.29,
          40796.6,
          40831.94,
          40838.38,
          40870.85,
          40867.39,
          40816.06,
          40725.4,
          40731.55,
          40703.74,
          40675.37,
          40721.94,
          40811.25,
          40845.69,
          40813.65,
          40817.02,
          40834.26,
          40797.04,
          40846.73,
          40870.56
         ],
         "decreasing": {
          "line": {
           "color": "#ff6962"
          }
         },
         "high": [
          40935.51,
          40882.84,
          40881.47,
          40849.58,
          40813.14,
          40792.92,
          40791.16,
          40814.09,
          40822.71,
          40827.1,
          40796.14,
          40795.72,
          40806.67,
          40810.99,
          40804.31,
          40789.48,
          40784.02,
          40797.4,
          40790.08,
          40792.43,
          40771.06,
          40801.76,
          40826.66,
          40840.13,
          40854.19,
          40836.73,
          40819.38,
          40841.85,
          40916.5,
          40837.62,
          40845.71,
          40838.24,
          40785.58,
          40764.17,
          40729.29,
          40716.78,
          40678.23,
          40609.02,
          40602.46,
          40636.58,
          40638.52,
          40638.48,
          40644.51,
          40662.37,
          40663.33,
          40634.72,
          40659.02,
          40693.87,
          40719.56,
          40707.92,
          40690.3,
          40710.41,
          40699.01,
          40657.29,
          40649.69,
          40626.61,
          40586.52,
          40548.4,
          40488.2,
          40451.38,
          40459.38,
          40462.42,
          40474.05,
          40481.76,
          40479.84,
          40506.05,
          40516.61,
          40524.87,
          40580.95,
          40581.19,
          40562.33,
          40584.63,
          40624.71,
          40645.11,
          40651.99,
          40646.38,
          40645.63,
          40657.32,
          40671.07,
          40665.37,
          40648.96,
          40643.35,
          40673.54,
          40677.24,
          40676.59,
          40678.43,
          40680.38,
          40687.92,
          40709.85,
          40716.02,
          40708.46,
          40707.94,
          40715.17,
          40723.18,
          40724.17,
          40717.06,
          40726.55,
          40726.18,
          40738.66,
          40733.64,
          40731.15,
          40715.91,
          40695.26,
          40716.17,
          40746.11,
          40750.71,
          40638.75,
          40389.62,
          40341.48,
          40342.11,
          40298.18,
          40288.29,
          40251.04,
          40186.65,
          40185.62,
          40106.97,
          40100.49,
          40060.66,
          40033.54,
          40081.44,
          40081.03,
          40055.59,
          40076.62,
          40107.67,
          40111.52,
          40151.93,
          40201.3,
          40190.85,
          40174.22,
          40176.34,
          40217.51,
          40273.24,
          40316.88,
          40321.49,
          40314.29,
          40269.01,
          40330.9,
          40389.26,
          40362.55,
          40352.73,
          40369.55,
          40392.9,
          40411.13,
          40427.7,
          40440.48,
          40450.72,
          40481.1,
          40478.23,
          40518.42,
          40563.81,
          40592.43,
          40574.11,
          40553.08,
          40571.16,
          40572.4,
          40582.1,
          40604.15,
          40663.84,
          40676.67,
          40629.76,
          40630.02,
          40641.58,
          40642.62,
          40620.15,
          40635.61,
          40641.97,
          40688.03,
          40717.6,
          40796.68,
          40780.99,
          40764.91,
          40739.99,
          40728.94,
          40749.77,
          40753.62,
          40786.82,
          40785.45,
          40812.45,
          40818.55,
          40810.2,
          40789.34,
          40797.01,
          40833.12,
          40903.67,
          40984.29,
          40934.53,
          40895.03,
          40828.82,
          40778.35,
          40738.24,
          40711.21,
          40724.22,
          40813.73,
          40851.29,
          40847.96,
          40838.48,
          40834.26,
          40833.09,
          40847.27,
          40870.56
         ],
         "increasing": {
          "line": {
           "color": "#77dd76"
          }
         },
         "low": [
          40850.47,
          40841.39,
          40847.55,
          40803.1,
          40784.98,
          40769.8,
          40765.81,
          40779.12,
          40795.93,
          40785.29,
          40772.29,
          40734.68,
          40736.07,
          40786.23,
          40777.74,
          40772.2,
          40759.68,
          40758.77,
          40764.2,
          40769.78,
          40732.8,
          40743.91,
          40790.5,
          40797.37,
          40811.25,
          40793.23,
          40763.88,
          40796.36,
          40728.57,
          40743.54,
          40802.03,
          40741.96,
          40743.43,
          40708.33,
          40681.08,
          40634.5,
          40562.85,
          40543.74,
          40554.75,
          40569.93,
          40576.16,
          40570.88,
          40594.55,
          40607.07,
          40610.58,
          40602.47,
          40615.83,
          40637.11,
          40677.19,
          40671.75,
          40669.03,
          40677.59,
          40642.06,
          40589.21,
          40593.45,
          40585.78,
          40515.75,
          40476.52,
          40417.47,
          40427.25,
          40422.77,
          40426.07,
          40446.58,
          40461.45,
          40460.61,
          40473.58,
          40476.65,
          40483.38,
          40522.27,
          40548.71,
          40540.32,
          40562.76,
          40579.97,
          40623.09,
          40611.83,
          40609.7,
          40611.86,
          40638.96,
          40651.36,
          40623.85,
          40623.89,
          40629.21,
          40636.48,
          40654.99,
          40643.28,
          40655.71,
          40642.8,
          40664.73,
          40677.95,
          40695.23,
          40692.56,
          40695.7,
          40696.22,
          40706.42,
          40693.81,
          40701.78,
          40710.29,
          40706.18,
          40715.77,
          40723.33,
          40698.4,
          40676.88,
          40676.12,
          40679.72,
          40692.85,
          40721.8,
          40368.94,
          40331.25,
          40292.75,
          40283.73,
          40256.85,
          40227.11,
          40160.01,
          40137.57,
          40083.7,
          40056.64,
          40036.13,
          40015.76,
          39993.08,
          40026.03,
          40017.81,
          40024.35,
          40028.97,
          40046.46,
          40069.02,
          40093.9,
          40102.88,
          40157.04,
          40125.3,
          40133.5,
          40170.03,
          40200.46,
          40269.18,
          40300.56,
          40270.08,
          40173.16,
          40247.25,
          40331.96,
          40303.89,
          40317.26,
          40317.27,
          40346.26,
          40370.48,
          40396.42,
          40412.32,
          40429.37,
          40441.27,
          40448.46,
          40472.7,
          40509.09,
          40545.87,
          40543.77,
          40507.6,
          40509.6,
          40548.79,
          40554.69,
          40581.87,
          40596.69,
          40622.44,
          40579.22,
          40594.27,
          40605.86,
          40604.99,
          40595.85,
          40592.6,
          40621.2,
          40632.02,
          40659.4,
          40721.99,
          40738.27,
          40699.36,
          40695.46,
          40701.93,
          40717.29,
          40726.69,
          40742.34,
          40764.89,
          40781.87,
          40775.46,
          40775.92,
          40725.58,
          40754.07,
          40759.63,
          40830.84,
          40831.21,
          40847.82,
          40789.44,
          40700.85,
          40706.69,
          40697.66,
          40665.52,
          40675.92,
          40719.29,
          40803.45,
          40807.76,
          40800.23,
          40800.36,
          40745.67,
          40785.99,
          40838.68
         ],
         "open": [
          40922.86,
          40850.28,
          40881.4,
          40849.09,
          40805.65,
          40788.17,
          40773.62,
          40786.52,
          40811.84,
          40817.38,
          40786.39,
          40789.67,
          40737.17,
          40805.56,
          40795.2,
          40781.03,
          40781.01,
          40761.45,
          40789.36,
          40769.85,
          40770.99,
          40754.68,
          40798.91,
          40807.05,
          40811.44,
          40836.73,
          40799.16,
          40811.18,
          40916.5,
          40775.02,
          40806.41,
          40824.69,
          40752.88,
          40761.6,
          40721.95,
          40716.78,
          40678.23,
          40569.87,
          40594.32,
          40575.07,
          40631.04,
          40577.34,
          40634.23,
          40607.94,
          40661.03,
          40619.04,
          40633.76,
          40653.16,
          40692.98,
          40681.55,
          40683.17,
          40690.39,
          40676.85,
          40644.27,
          40593.45,
          40626.61,
          40586.52,
          40531.22,
          40477.11,
          40436.54,
          40436.24,
          40426.34,
          40459.48,
          40469.05,
          40472.59,
          40478.78,
          40485.21,
          40496.41,
          40522.74,
          40580.19,
          40548.99,
          40564.48,
          40582.16,
          40625.39,
          40630.87,
          40646.38,
          40611.86,
          40645.45,
          40651.36,
          40657.66,
          40624.72,
          40633.37,
          40636.48,
          40662.11,
          40671.13,
          40655.77,
          40670.01,
          40673.78,
          40685.18,
          40707.9,
          40705.81,
          40699.54,
          40698.66,
          40713.37,
          40718.81,
          40706.25,
          40715.78,
          40726.09,
          40717.3,
          40732.98,
          40731.15,
          40715.91,
          40680.52,
          40684.19,
          40696.96,
          40746.89,
          40638.75,
          40363.98,
          40335.49,
          40334.08,
          40283.46,
          40288.29,
          40238.83,
          40164.07,
          40185.62,
          40078.86,
          40067.89,
          40053.24,
          40026.08,
          40027.01,
          40081.03,
          40036.26,
          40030.06,
          40064.14,
          40105.42,
          40110.94,
          40127.09,
          40184.01,
          40161.38,
          40141.25,
          40174.64,
          40208.2,
          40273.29,
          40305.56,
          40311.71,
          40268.78,
          40257.09,
          40331.96,
          40340.32,
          40346.42,
          40348.06,
          40350.29,
          40389.42,
          40396.42,
          40427.24,
          40429.37,
          40441.27,
          40478.23,
          40472.7,
          40515.05,
          40545.87,
          40574.11,
          40551.92,
          40509.82,
          40549.31,
          40561.79,
          40581.87,
          40597.03,
          40663.47,
          40624.84,
          40612.21,
          40623.89,
          40625.16,
          40605.83,
          40605.16,
          40635.62,
          40632.02,
          40685.07,
          40721.99,
          40775.88,
          40764.91,
          40698.95,
          40711.96,
          40717.42,
          40734.68,
          40742.34,
          40767.96,
          40783.57,
          40803.09,
          40805.54,
          40777.86,
          40768.88,
          40786.4,
          40830.84,
          40862.1,
          40871.16,
          40866.47,
          40817.03,
          40726.65,
          40730.86,
          40711.21,
          40676.59,
          40721.76,
          40811.1,
          40845.51,
          40813.5,
          40817.54,
          40833.01,
          40795.28,
          40846.32
         ],
         "type": "candlestick",
         "x": [
          "2024-09-10T00:40:00",
          "2024-09-10T00:45:00",
          "2024-09-10T00:50:00",
          "2024-09-10T00:55:00",
          "2024-09-10T01:00:00",
          "2024-09-10T01:05:00",
          "2024-09-10T01:10:00",
          "2024-09-10T01:15:00",
          "2024-09-10T01:20:00",
          "2024-09-10T01:25:00",
          "2024-09-10T01:30:00",
          "2024-09-10T01:35:00",
          "2024-09-10T01:40:00",
          "2024-09-10T01:45:00",
          "2024-09-10T01:50:00",
          "2024-09-10T01:55:00",
          "2024-09-10T02:00:00",
          "2024-09-10T02:05:00",
          "2024-09-10T02:10:00",
          "2024-09-10T02:15:00",
          "2024-09-10T02:20:00",
          "2024-09-10T02:25:00",
          "2024-09-10T02:30:00",
          "2024-09-10T02:35:00",
          "2024-09-10T02:40:00",
          "2024-09-10T02:45:00",
          "2024-09-10T02:50:00",
          "2024-09-10T02:55:00",
          "2024-09-10T20:30:00",
          "2024-09-10T20:35:00",
          "2024-09-10T20:40:00",
          "2024-09-10T20:45:00",
          "2024-09-10T20:50:00",
          "2024-09-10T20:55:00",
          "2024-09-10T21:00:00",
          "2024-09-10T21:05:00",
          "2024-09-10T21:10:00",
          "2024-09-10T21:15:00",
          "2024-09-10T21:20:00",
          "2024-09-10T21:25:00",
          "2024-09-10T21:30:00",
          "2024-09-10T21:35:00",
          "2024-09-10T21:40:00",
          "2024-09-10T21:45:00",
          "2024-09-10T21:50:00",
          "2024-09-10T21:55:00",
          "2024-09-10T22:00:00",
          "2024-09-10T22:05:00",
          "2024-09-10T22:10:00",
          "2024-09-10T22:15:00",
          "2024-09-10T22:20:00",
          "2024-09-10T22:25:00",
          "2024-09-10T22:30:00",
          "2024-09-10T22:35:00",
          "2024-09-10T22:40:00",
          "2024-09-10T22:45:00",
          "2024-09-10T22:50:00",
          "2024-09-10T22:55:00",
          "2024-09-10T23:00:00",
          "2024-09-10T23:05:00",
          "2024-09-10T23:10:00",
          "2024-09-10T23:15:00",
          "2024-09-10T23:20:00",
          "2024-09-10T23:25:00",
          "2024-09-10T23:30:00",
          "2024-09-10T23:35:00",
          "2024-09-10T23:40:00",
          "2024-09-10T23:45:00",
          "2024-09-10T23:50:00",
          "2024-09-10T23:55:00",
          "2024-09-11T00:00:00",
          "2024-09-11T00:05:00",
          "2024-09-11T00:10:00",
          "2024-09-11T00:15:00",
          "2024-09-11T00:20:00",
          "2024-09-11T00:25:00",
          "2024-09-11T00:30:00",
          "2024-09-11T00:35:00",
          "2024-09-11T00:40:00",
          "2024-09-11T00:45:00",
          "2024-09-11T00:50:00",
          "2024-09-11T00:55:00",
          "2024-09-11T01:00:00",
          "2024-09-11T01:05:00",
          "2024-09-11T01:10:00",
          "2024-09-11T01:15:00",
          "2024-09-11T01:20:00",
          "2024-09-11T01:25:00",
          "2024-09-11T01:30:00",
          "2024-09-11T01:35:00",
          "2024-09-11T01:40:00",
          "2024-09-11T01:45:00",
          "2024-09-11T01:50:00",
          "2024-09-11T01:55:00",
          "2024-09-11T02:00:00",
          "2024-09-11T02:05:00",
          "2024-09-11T02:10:00",
          "2024-09-11T02:15:00",
          "2024-09-11T02:20:00",
          "2024-09-11T02:25:00",
          "2024-09-11T02:30:00",
          "2024-09-11T02:35:00",
          "2024-09-11T02:40:00",
          "2024-09-11T02:45:00",
          "2024-09-11T02:50:00",
          "2024-09-11T02:55:00",
          "2024-09-11T20:30:00",
          "2024-09-11T20:35:00",
          "2024-09-11T20:40:00",
          "2024-09-11T20:45:00",
          "2024-09-11T20:50:00",
          "2024-09-11T20:55:00",
          "2024-09-11T21:00:00",
          "2024-09-11T21:05:00",
          "2024-09-11T21:10:00",
          "2024-09-11T21:15:00",
          "2024-09-11T21:20:00",
          "2024-09-11T21:25:00",
          "2024-09-11T21:30:00",
          "2024-09-11T21:35:00",
          "2024-09-11T21:40:00",
          "2024-09-11T21:45:00",
          "2024-09-11T21:50:00",
          "2024-09-11T21:55:00",
          "2024-09-11T22:00:00",
          "2024-09-11T22:05:00",
          "2024-09-11T22:10:00",
          "2024-09-11T22:15:00",
          "2024-09-11T22:20:00",
          "2024-09-11T22:25:00",
          "2024-09-11T22:30:00",
          "2024-09-11T22:35:00",
          "2024-09-11T22:40:00",
          "2024-09-11T22:45:00",
          "2024-09-11T22:50:00",
          "2024-09-11T22:55:00",
          "2024-09-11T23:00:00",
          "2024-09-11T23:05:00",
          "2024-09-11T23:10:00",
          "2024-09-11T23:15:00",
          "2024-09-11T23:20:00",
          "2024-09-11T23:25:00",
          "2024-09-11T23:30:00",
          "2024-09-11T23:35:00",
          "2024-09-11T23:40:00",
          "2024-09-11T23:45:00",
          "2024-09-11T23:50:00",
          "2024-09-11T23:55:00",
          "2024-09-12T00:00:00",
          "2024-09-12T00:05:00",
          "2024-09-12T00:10:00",
          "2024-09-12T00:15:00",
          "2024-09-12T00:20:00",
          "2024-09-12T00:25:00",
          "2024-09-12T00:30:00",
          "2024-09-12T00:35:00",
          "2024-09-12T00:40:00",
          "2024-09-12T00:45:00",
          "2024-09-12T00:50:00",
          "2024-09-12T00:55:00",
          "2024-09-12T01:00:00",
          "2024-09-12T01:05:00",
          "2024-09-12T01:10:00",
          "2024-09-12T01:15:00",
          "2024-09-12T01:20:00",
          "2024-09-12T01:25:00",
          "2024-09-12T01:30:00",
          "2024-09-12T01:35:00",
          "2024-09-12T01:40:00",
          "2024-09-12T01:45:00",
          "2024-09-12T01:50:00",
          "2024-09-12T01:55:00",
          "2024-09-12T02:00:00",
          "2024-09-12T02:05:00",
          "2024-09-12T02:10:00",
          "2024-09-12T02:15:00",
          "2024-09-12T02:20:00",
          "2024-09-12T02:25:00",
          "2024-09-12T02:30:00",
          "2024-09-12T02:35:00",
          "2024-09-12T02:40:00",
          "2024-09-12T02:45:00",
          "2024-09-12T02:50:00",
          "2024-09-12T02:55:00",
          "2024-09-12T20:30:00",
          "2024-09-12T20:35:00",
          "2024-09-12T20:40:00",
          "2024-09-12T20:45:00",
          "2024-09-12T20:50:00",
          "2024-09-12T20:55:00",
          "2024-09-12T21:00:00",
          "2024-09-12T21:05:00",
          "2024-09-12T21:10:00",
          "2024-09-12T21:15:00",
          "2024-09-12T21:20:00",
          "2024-09-12T21:25:00",
          "2024-09-12T21:30:00",
          "2024-09-12T21:35:00",
          "2024-09-12T21:40:00",
          "2024-09-12T21:45:00"
         ]
        },
        {
         "line": {
          "color": "rgba(255, 255, 255, 0.2)"
         },
         "mode": "lines",
         "type": "scatter",
         "x": [
          "2024-09-10T02:20:00",
          "2024-09-10T20:55:00"
         ],
         "y": [
          40732.80078125,
          40732.80078125
         ]
        },
        {
         "mode": "text",
         "text": "CHOCH",
         "textfont": {
          "color": "rgba(255, 255, 255, 0.4)",
          "size": 8
         },
         "textposition": "bottom center",
         "type": "scatter",
         "x": [
          "2024-09-10T02:50:00"
         ],
         "y": [
          40732.80078125
         ]
        },
        {
         "line": {
          "color": "rgba(255, 165, 0, 0.2)"
         },
         "mode": "lines",
         "type": "scatter",
         "x": [
          "2024-09-10T21:15:00",
          "2024-09-10T22:50:00"
         ],
         "y": [
          40543.73828125,
          40543.73828125
         ]
        },
        {
         "mode": "text",
         "text": "BOS",
         "textfont": {
          "color": "rgba(255, 165, 0, 0.4)",
          "size": 8
         },
         "textposition": "bottom center",
         "type": "scatter",
         "x": [
          "2024-09-10T22:00:00"
         ],
         "y": [
          40543.73828125
         ]
        },
        {
         "line": {
          "color": "rgba(255, 255, 255, 0.2)"
         },
         "mode": "lines",
         "type": "scatter",
         "x": [
          "2024-09-10T22:10:00",
          "2024-09-11T02:10:00"
         ],
         "y": [
          40719.55859375,
          40719.55859375
         ]
        },
        {
         "mode": "text",
         "text": "CHOCH",
         "textfont": {
          "color": "rgba(255, 255, 255, 0.4)",
          "size": 8
         },
         "textposition": "top center",
         "type": "scatter",
         "x": [
          "2024-09-11T00:10:00"
         ],
         "y": [
          40719.55859375
         ]
        },
        {
         "line": {
          "color": "rgba(255, 255, 255, 0.2)"
         },
         "mode": "lines",
         "type": "scatter",
         "x": [
          "2024-09-10T23:00:00",
          "2024-09-11T20:30:00"
         ],
         "y": [
          40417.46875,
          40417.46875
         ]
        },
        {
         "mode": "text",
         "text": "CHOCH",
         "textfont": {
          "color": "rgba(255, 255, 255, 0.4)",
          "size": 8
         },
         "textposition": "bottom center",
         "type": "scatter",
         "x": [
          "2024-09-11T01:00:00"
         ],
         "y": [
          40417.46875
         ]
        },
        {
         "line": {
          "color": "rgba(255, 165, 0, 0.2)"
         },
         "mode": "lines",
         "type": "scatter",
         "x": [
          "2024-09-12T00:50:00",
          "2024-09-12T01:30:00"
         ],
         "y": [
          40676.671875,
          40676.671875
         ]
        },
        {
         "mode": "text",
         "text": "BOS",
         "textfont": {
          "color": "rgba(255, 165, 0, 0.4)",
          "size": 8
         },
         "textposition": "top center",
         "type": "scatter",
         "x": [
          "2024-09-12T01:10:00"
         ],
         "y": [
          40676.671875
         ]
        },
        {
         "line": {
          "color": "rgba(255, 165, 0, 0.2)"
         },
         "mode": "lines",
         "type": "scatter",
         "x": [
          "2024-09-12T01:40:00",
          "2024-09-12T02:25:00"
         ],
         "y": [
          40796.6796875,
          40796.6796875
         ]
        },
        {
         "mode": "text",
         "text": "BOS",
         "textfont": {
          "color": "rgba(255, 165, 0, 0.4)",
          "size": 8
         },
         "textposition": "top center",
         "type": "scatter",
         "x": [
          "2024-09-12T02:00:00"
         ],
         "y": [
          40796.6796875
         ]
        },
        {
         "line": {
          "color": "rgba(255, 255, 255, 0.2)"
         },
         "mode": "lines",
         "type": "scatter",
         "x": [
          "2024-09-12T02:40:00",
          "2024-09-12T20:45:00"
         ],
         "y": [
          40725.578125,
          40725.578125
         ]
        },
        {
         "mode": "text",
         "text": "CHOCH",
         "textfont": {
          "color": "rgba(255, 255, 255, 0.4)",
          "size": 8
         },
         "textposition": "bottom center",
         "type": "scatter",
         "x": [
          "2024-09-12T20:30:00"
         ],
         "y": [
          40725.578125
         ]
        }
       ],
       "layout": {
        "annotations": [
         {
          "align": "center",
          "font": {
           "color": "rgba(250, 250, 250, 1)",
           "size": 8
          },
          "showarrow": false,
          "text": "OB: 0.00 (100.0%)",
          "x": "2024-09-12T02:35:00",
          "xref": "x",
          "y": 40604.4921875,
          "yref": "y"
         },
         {
          "align": "center",
          "font": {
           "color": "rgba(250, 250, 250, 1)",
           "size": 8
          },
          "showarrow": false,
          "text": "OB: 0.00 (100.0%)",
          "x": "2024-09-12T21:40:00",
          "xref": "x",
          "y": 40789.3828125,
          "yref": "y"
         },
         {
          "align": "center",
          "font": {
           "color": "rgba(250, 250, 250, 1)",
           "size": 8
          },
          "showarrow": false,
          "text": "OB: 0.00 (100.0%)",
          "x": "2024-09-12T21:10:00",
          "xref": "x",
          "y": 40907.75,
          "yref": "y"
         }
        ],
        "font": {
         "color": "white"
        },
        "height": 400,
        "margin": {
         "b": 0,
         "l": 0,
         "pad": 50,
         "r": 50,
         "t": 0
        },
        "paper_bgcolor": "rgba(34, 42, 58, 0.8)",
        "plot_bgcolor": "rgba(34, 42, 58, 0.8)",
        "shapes": [
         {
          "fillcolor": "Purple",
          "legendgroup": "bullish ob",
          "line": {
           "color": "Purple"
          },
          "name": "Bullish OB",
          "opacity": 0.2,
          "showlegend": true,
          "type": "rect",
          "x0": "2024-09-12T00:55:00",
          "x1": "2024-09-12T21:45:00",
          "y0": 40579.21875,
          "y1": 40629.76171875
         },
         {
          "fillcolor": "Purple",
          "legendgroup": "bullish ob",
          "line": {
           "color": "Purple"
          },
          "name": "Bullish OB",
          "opacity": 0.2,
          "showlegend": true,
          "type": "rect",
          "x0": "2024-09-12T21:35:00",
          "x1": "2024-09-12T21:45:00",
          "y0": 40745.671875,
          "y1": 40833.08984375
         },
         {
          "fillcolor": "Purple",
          "legendgroup": "bearish ob",
          "line": {
           "color": "Purple"
          },
          "name": "Bearish OB",
          "opacity": 0.2,
          "showlegend": true,
          "type": "rect",
          "x0": "2024-09-12T20:30:00",
          "x1": "2024-09-12T21:45:00",
          "y0": 40831.2109375,
          "y1": 40984.2890625
         }
        ],
        "showlegend": false,
        "template": {
         "data": {
          "bar": [
           {
            "error_x": {
             "color": "#2a3f5f"
            },
            "error_y": {
             "color": "#2a3f5f"
            },
            "marker": {
             "line": {
              "color": "#E5ECF6",
              "width": 0.5
             },
             "pattern": {
              "fillmode": "overlay",
              "size": 10,
              "solidity": 0.2
             }
            },
            "type": "bar"
           }
          ],
          "barpolar": [
           {
            "marker": {
             "line": {
              "color": "#E5ECF6",
              "width": 0.5
             },
             "pattern": {
              "fillmode": "overlay",
              "size": 10,
              "solidity": 0.2
             }
            },
            "type": "barpolar"
           }
          ],
          "carpet": [
           {
            "aaxis": {
             "endlinecolor": "#2a3f5f",
             "gridcolor": "white",
             "linecolor": "white",
             "minorgridcolor": "white",
             "startlinecolor": "#2a3f5f"
            },
            "baxis": {
             "endlinecolor": "#2a3f5f",
             "gridcolor": "white",
             "linecolor": "white",
             "minorgridcolor": "white",
             "startlinecolor": "#2a3f5f"
            },
            "type": "carpet"
           }
          ],
          "choropleth": [
           {
            "colorbar": {
             "outlinewidth": 0,
             "ticks": ""
            },
            "type": "choropleth"
           }
          ],
          "contour": [
           {
            "colorbar": {
             "outlinewidth": 0,
             "ticks": ""
            },
            "colorscale": [
             [
              0,
              "#0d0887"
             ],
             [
              0.1111111111111111,
              "#46039f"
             ],
             [
              0.2222222222222222,
              "#7201a8"
             ],
             [
              0.3333333333333333,
              "#9c179e"
             ],
             [
              0.4444444444444444,
              "#bd3786"
             ],
             [
              0.5555555555555556,
              "#d8576b"
             ],
             [
              0.6666666666666666,
              "#ed7953"
             ],
             [
              0.7777777777777778,
              "#fb9f3a"
             ],
             [
              0.8888888888888888,
              "#fdca26"
             ],
             [
              1,
              "#f0f921"
             ]
            ],
            "type": "contour"
           }
          ],
          "contourcarpet": [
           {
            "colorbar": {
             "outlinewidth": 0,
             "ticks": ""
            },
            "type": "contourcarpet"
           }
          ],
          "heatmap": [
           {
            "colorbar": {
             "outlinewidth": 0,
             "ticks": ""
            },
            "colorscale": [
             [
              0,
              "#0d0887"
             ],
             [
              0.1111111111111111,
              "#46039f"
             ],
             [
              0.2222222222222222,
              "#7201a8"
             ],
             [
              0.3333333333333333,
              "#9c179e"
             ],
             [
              0.4444444444444444,
              "#bd3786"
             ],
             [
              0.5555555555555556,
              "#d8576b"
             ],
             [
              0.6666666666666666,
              "#ed7953"
             ],
             [
              0.7777777777777778,
              "#fb9f3a"
             ],
             [
              0.8888888888888888,
              "#fdca26"
             ],
             [
              1,
              "#f0f921"
             ]
            ],
            "type": "heatmap"
           }
          ],
          "heatmapgl": [
           {
            "colorbar": {
             "outlinewidth": 0,
             "ticks": ""
            },
            "colorscale": [
             [
              0,
              "#0d0887"
             ],
             [
              0.1111111111111111,
              "#46039f"
             ],
             [
              0.2222222222222222,
              "#7201a8"
             ],
             [
              0.3333333333333333,
              "#9c179e"
             ],
             [
              0.4444444444444444,
              "#bd3786"
             ],
             [
              0.5555555555555556,
              "#d8576b"
             ],
             [
              0.6666666666666666,
              "#ed7953"
             ],
             [
              0.7777777777777778,
              "#fb9f3a"
             ],
             [
              0.8888888888888888,
              "#fdca26"
             ],
             [
              1,
              "#f0f921"
             ]
            ],
            "type": "heatmapgl"
           }
          ],
          "histogram": [
           {
            "marker": {
             "pattern": {
              "fillmode": "overlay",
              "size": 10,
              "solidity": 0.2
             }
            },
            "type": "histogram"
           }
          ],
          "histogram2d": [
           {
            "colorbar": {
             "outlinewidth": 0,
             "ticks": ""
            },
            "colorscale": [
             [
              0,
              "#0d0887"
             ],
             [
              0.1111111111111111,
              "#46039f"
             ],
             [
              0.2222222222222222,
              "#7201a8"
             ],
             [
              0.3333333333333333,
              "#9c179e"
             ],
             [
              0.4444444444444444,
              "#bd3786"
             ],
             [
              0.5555555555555556,
              "#d8576b"
             ],
             [
              0.6666666666666666,
              "#ed7953"
             ],
             [
              0.7777777777777778,
              "#fb9f3a"
             ],
             [
              0.8888888888888888,
              "#fdca26"
             ],
             [
              1,
              "#f0f921"
             ]
            ],
            "type": "histogram2d"
           }
          ],
          "histogram2dcontour": [
           {
            "colorbar": {
             "outlinewidth": 0,
             "ticks": ""
            },
            "colorscale": [
             [
              0,
              "#0d0887"
             ],
             [
              0.1111111111111111,
              "#46039f"
             ],
             [
              0.2222222222222222,
              "#7201a8"
             ],
             [
              0.3333333333333333,
              "#9c179e"
             ],
             [
              0.4444444444444444,
              "#bd3786"
             ],
             [
              0.5555555555555556,
              "#d8576b"
             ],
             [
              0.6666666666666666,
              "#ed7953"
             ],
             [
              0.7777777777777778,
              "#fb9f3a"
             ],
             [
              0.8888888888888888,
              "#fdca26"
             ],
             [
              1,
              "#f0f921"
             ]
            ],
            "type": "histogram2dcontour"
           }
          ],
          "mesh3d": [
           {
            "colorbar": {
             "outlinewidth": 0,
             "ticks": ""
            },
            "type": "mesh3d"
           }
          ],
          "parcoords": [
           {
            "line": {
             "colorbar": {
              "outlinewidth": 0,
              "ticks": ""
             }
            },
            "type": "parcoords"
           }
          ],
          "pie": [
           {
            "automargin": true,
            "type": "pie"
           }
          ],
          "scatter": [
           {
            "fillpattern": {
             "fillmode": "overlay",
             "size": 10,
             "solidity": 0.2
            },
            "type": "scatter"
           }
          ],
          "scatter3d": [
           {
            "line": {
             "colorbar": {
              "outlinewidth": 0,
              "ticks": ""
             }
            },
            "marker": {
             "colorbar": {
              "outlinewidth": 0,
              "ticks": ""
             }
            },
            "type": "scatter3d"
           }
          ],
          "scattercarpet": [
           {
            "marker": {
             "colorbar": {
              "outlinewidth": 0,
              "ticks": ""
             }
            },
            "type": "scattercarpet"
           }
          ],
          "scattergeo": [
           {
            "marker": {
             "colorbar": {
              "outlinewidth": 0,
              "ticks": ""
             }
            },
            "type": "scattergeo"
           }
          ],
          "scattergl": [
           {
            "marker": {
             "colorbar": {
              "outlinewidth": 0,
              "ticks": ""
             }
            },
            "type": "scattergl"
           }
          ],
          "scattermapbox": [
           {
            "marker": {
             "colorbar": {
              "outlinewidth": 0,
              "ticks": ""
             }
            },
            "type": "scattermapbox"
           }
          ],
          "scatterpolar": [
           {
            "marker": {
             "colorbar": {
              "outlinewidth": 0,
              "ticks": ""
             }
            },
            "type": "scatterpolar"
           }
          ],
          "scatterpolargl": [
           {
            "marker": {
             "colorbar": {
              "outlinewidth": 0,
              "ticks": ""
             }
            },
            "type": "scatterpolargl"
           }
          ],
          "scatterternary": [
           {
            "marker": {
             "colorbar": {
              "outlinewidth": 0,
              "ticks": ""
             }
            },
            "type": "scatterternary"
           }
          ],
          "surface": [
           {
            "colorbar": {
             "outlinewidth": 0,
             "ticks": ""
            },
            "colorscale": [
             [
              0,
              "#0d0887"
             ],
             [
              0.1111111111111111,
              "#46039f"
             ],
             [
              0.2222222222222222,
              "#7201a8"
             ],
             [
              0.3333333333333333,
              "#9c179e"
             ],
             [
              0.4444444444444444,
              "#bd3786"
             ],
             [
              0.5555555555555556,
              "#d8576b"
             ],
             [
              0.6666666666666666,
              "#ed7953"
             ],
             [
              0.7777777777777778,
              "#fb9f3a"
             ],
             [
              0.8888888888888888,
              "#fdca26"
             ],
             [
              1,
              "#f0f921"
             ]
            ],
            "type": "surface"
           }
          ],
          "table": [
           {
            "cells": {
             "fill": {
              "color": "#EBF0F8"
             },
             "line": {
              "color": "white"
             }
            },
            "header": {
             "fill": {
              "color": "#C8D4E3"
             },
             "line": {
              "color": "white"
             }
            },
            "type": "table"
           }
          ]
         },
         "layout": {
          "annotationdefaults": {
           "arrowcolor": "#2a3f5f",
           "arrowhead": 0,
           "arrowwidth": 1
          },
          "autotypenumbers": "strict",
          "coloraxis": {
           "colorbar": {
            "outlinewidth": 0,
            "ticks": ""
           }
          },
          "colorscale": {
           "diverging": [
            [
             0,
             "#8e0152"
            ],
            [
             0.1,
             "#c51b7d"
            ],
            [
             0.2,
             "#de77ae"
            ],
            [
             0.3,
             "#f1b6da"
            ],
            [
             0.4,
             "#fde0ef"
            ],
            [
             0.5,
             "#f7f7f7"
            ],
            [
             0.6,
             "#e6f5d0"
            ],
            [
             0.7,
             "#b8e186"
            ],
            [
             0.8,
             "#7fbc41"
            ],
            [
             0.9,
             "#4d9221"
            ],
            [
             1,
             "#276419"
            ]
           ],
           "sequential": [
            [
             0,
             "#0d0887"
            ],
            [
             0.1111111111111111,
             "#46039f"
            ],
            [
             0.2222222222222222,
             "#7201a8"
            ],
            [
             0.3333333333333333,
             "#9c179e"
            ],
            [
             0.4444444444444444,
             "#bd3786"
            ],
            [
             0.5555555555555556,
             "#d8576b"
            ],
            [
             0.6666666666666666,
             "#ed7953"
            ],
            [
             0.7777777777777778,
             "#fb9f3a"
            ],
            [
             0.8888888888888888,
             "#fdca26"
            ],
            [
             1,
             "#f0f921"
            ]
           ],
           "sequentialminus": [
            [
             0,
             "#0d0887"
            ],
            [
             0.1111111111111111,
             "#46039f"
            ],
            [
             0.2222222222222222,
             "#7201a8"
            ],
            [
             0.3333333333333333,
             "#9c179e"
            ],
            [
             0.4444444444444444,
             "#bd3786"
            ],
            [
             0.5555555555555556,
             "#d8576b"
            ],
            [
             0.6666666666666666,
             "#ed7953"
            ],
            [
             0.7777777777777778,
             "#fb9f3a"
            ],
            [
             0.8888888888888888,
             "#fdca26"
            ],
            [
             1,
             "#f0f921"
            ]
           ]
          },
          "colorway": [
           "#636efa",
           "#EF553B",
           "#00cc96",
           "#ab63fa",
           "#FFA15A",
           "#19d3f3",
           "#FF6692",
           "#B6E880",
           "#FF97FF",
           "#FECB52"
          ],
          "font": {
           "color": "#2a3f5f"
          },
          "geo": {
           "bgcolor": "white",
           "lakecolor": "white",
           "landcolor": "#E5ECF6",
           "showlakes": true,
           "showland": true,
           "subunitcolor": "white"
          },
          "hoverlabel": {
           "align": "left"
          },
          "hovermode": "closest",
          "mapbox": {
           "style": "light"
          },
          "paper_bgcolor": "white",
          "plot_bgcolor": "#E5ECF6",
          "polar": {
           "angularaxis": {
            "gridcolor": "white",
            "linecolor": "white",
            "ticks": ""
           },
           "bgcolor": "#E5ECF6",
           "radialaxis": {
            "gridcolor": "white",
            "linecolor": "white",
            "ticks": ""
           }
          },
          "scene": {
           "xaxis": {
            "backgroundcolor": "#E5ECF6",
            "gridcolor": "white",
            "gridwidth": 2,
            "linecolor": "white",
            "showbackground": true,
            "ticks": "",
            "zerolinecolor": "white"
           },
           "yaxis": {
            "backgroundcolor": "#E5ECF6",
            "gridcolor": "white",
            "gridwidth": 2,
            "linecolor": "white",
            "showbackground": true,
            "ticks": "",
            "zerolinecolor": "white"
           },
           "zaxis": {
            "backgroundcolor": "#E5ECF6",
            "gridcolor": "white",
            "gridwidth": 2,
            "linecolor": "white",
            "showbackground": true,
            "ticks": "",
            "zerolinecolor": "white"
           }
          },
          "shapedefaults": {
           "line": {
            "color": "#2a3f5f"
           }
          },
          "ternary": {
           "aaxis": {
            "gridcolor": "white",
            "linecolor": "white",
            "ticks": ""
           },
           "baxis": {
            "gridcolor": "white",
            "linecolor": "white",
            "ticks": ""
           },
           "bgcolor": "#E5ECF6",
           "caxis": {
            "gridcolor": "white",
            "linecolor": "white",
            "ticks": ""
           }
          },
          "title": {
           "x": 0.05
          },
          "xaxis": {
           "automargin": true,
           "gridcolor": "white",
           "linecolor": "white",
           "ticks": "",
           "title": {
            "standoff": 15
           },
           "zerolinecolor": "white",
           "zerolinewidth": 2
          },
          "yaxis": {
           "automargin": true,
           "gridcolor": "white",
           "linecolor": "white",
           "ticks": "",
           "title": {
            "standoff": 15
           },
           "zerolinecolor": "white",
           "zerolinewidth": 2
          }
         }
        },
        "width": 800,
        "xaxis": {
         "rangebreaks": [
          {
           "dvalue": 300000,
           "values": [
            "2024-09-10T03:00:00",
            "2024-09-10T03:05:00",
            "2024-09-10T03:10:00",
            "2024-09-10T03:15:00",
            "2024-09-10T03:20:00",
            "2024-09-10T03:25:00",
            "2024-09-10T03:30:00",
            "2024-09-10T03:35:00",
            "2024-09-10T03:40:00",
            "2024-09-10T03:45:00",
            "2024-09-10T03:50:00",
            "2024-09-10T03:55:00",
            "2024-09-10T04:00:00",
            "2024-09-10T04:05:00",
            "2024-09-10T04:10:00",
            "2024-09-10T04:15:00",
            "2024-09-10T04:20:00",
            "2024-09-10T04:25:00",
            "2024-09-10T04:30:00",
            "2024-09-10T04:35:00",
            "2024-09-10T04:40:00",
            "2024-09-10T04:45:00",
            "2024-09-10T04:50:00",
            "2024-09-10T04:55:00",
            "2024-09-10T05:00:00",
            "2024-09-10T05:05:00",
            "2024-09-10T05:10:00",
            "2024-09-10T05:15:00",
            "2024-09-10T05:20:00",
            "2024-09-10T05:25:00",
            "2024-09-10T05:30:00",
            "2024-09-10T05:35:00",
            "2024-09-10T05:40:00",
            "2024-09-10T05:45:00",
            "2024-09-10T05:50:00",
            "2024-09-10T05:55:00",
            "2024-09-10T06:00:00",
            "2024-09-10T06:05:00",
            "2024-09-10T06:10:00",
            "2024-09-10T06:15:00",
            "2024-09-10T06:20:00",
            "2024-09-10T06:25:00",
            "2024-09-10T06:30:00",
            "2024-09-10T06:35:00",
            "2024-09-10T06:40:00",
            "2024-09-10T06:45:00",
            "2024-09-10T06:50:00",
            "2024-09-10T06:55:00",
            "2024-09-10T07:00:00",
            "2024-09-10T07:05:00",
            "2024-09-10T07:10:00",
            "2024-09-10T07:15:00",
            "2024-09-10T07:20:00",
            "2024-09-10T07:25:00",
            "2024-09-10T07:30:00",
            "2024-09-10T07:35:00",
            "2024-09-10T07:40:00",
            "2024-09-10T07:45:00",
            "2024-09-10T07:50:00",
            "2024-09-10T07:55:00",
            "2024-09-10T08:00:00",
            "2024-09-10T08:05:00",
            "2024-09-10T08:10:00",
            "2024-09-10T08:15:00",
            "2024-09-10T08:20:00",
            "2024-09-10T08:25:00",
            "2024-09-10T08:30:00",
            "2024-09-10T08:35:00",
            "2024-09-10T08:40:00",
            "2024-09-10T08:45:00",
            "2024-09-10T08:50:00",
            "2024-09-10T08:55:00",
            "2024-09-10T09:00:00",
            "2024-09-10T09:05:00",
            "2024-09-10T09:10:00",
            "2024-09-10T09:15:00",
            "2024-09-10T09:20:00",
            "2024-09-10T09:25:00",
            "2024-09-10T09:30:00",
            "2024-09-10T09:35:00",
            "2024-09-10T09:40:00",
            "2024-09-10T09:45:00",
            "2024-09-10T09:50:00",
            "2024-09-10T09:55:00",
            "2024-09-10T10:00:00",
            "2024-09-10T10:05:00",
            "2024-09-10T10:10:00",
            "2024-09-10T10:15:00",
            "2024-09-10T10:20:00",
            "2024-09-10T10:25:00",
            "2024-09-10T10:30:00",
            "2024-09-10T10:35:00",
            "2024-09-10T10:40:00",
            "2024-09-10T10:45:00",
            "2024-09-10T10:50:00",
            "2024-09-10T10:55:00",
            "2024-09-10T11:00:00",
            "2024-09-10T11:05:00",
            "2024-09-10T11:10:00",
            "2024-09-10T11:15:00",
            "2024-09-10T11:20:00",
            "2024-09-10T11:25:00",
            "2024-09-10T11:30:00",
            "2024-09-10T11:35:00",
            "2024-09-10T11:40:00",
            "2024-09-10T11:45:00",
            "2024-09-10T11:50:00",
            "2024-09-10T11:55:00",
            "2024-09-10T12:00:00",
            "2024-09-10T12:05:00",
            "2024-09-10T12:10:00",
            "2024-09-10T12:15:00",
            "2024-09-10T12:20:00",
            "2024-09-10T12:25:00",
            "2024-09-10T12:30:00",
            "2024-09-10T12:35:00",
            "2024-09-10T12:40:00",
            "2024-09-10T12:45:00",
            "2024-09-10T12:50:00",
            "2024-09-10T12:55:00",
            "2024-09-10T13:00:00",
            "2024-09-10T13:05:00",
            "2024-09-10T13:10:00",
            "2024-09-10T13:15:00",
            "2024-09-10T13:20:00",
            "2024-09-10T13:25:00",
            "2024-09-10T13:30:00",
            "2024-09-10T13:35:00",
            "2024-09-10T13:40:00",
            "2024-09-10T13:45:00",
            "2024-09-10T13:50:00",
            "2024-09-10T13:55:00",
            "2024-09-10T14:00:00",
            "2024-09-10T14:05:00",
            "2024-09-10T14:10:00",
            "2024-09-10T14:15:00",
            "2024-09-10T14:20:00",
            "2024-09-10T14:25:00",
            "2024-09-10T14:30:00",
            "2024-09-10T14:35:00",
            "2024-09-10T14:40:00",
            "2024-09-10T14:45:00",
            "2024-09-10T14:50:00",
            "2024-09-10T14:55:00",
            "2024-09-10T15:00:00",
            "2024-09-10T15:05:00",
            "2024-09-10T15:10:00",
            "2024-09-10T15:15:00",
            "2024-09-10T15:20:00",
            "2024-09-10T15:25:00",
            "2024-09-10T15:30:00",
            "2024-09-10T15:35:00",
            "2024-09-10T15:40:00",
            "2024-09-10T15:45:00",
            "2024-09-10T15:50:00",
            "2024-09-10T15:55:00",
            "2024-09-10T16:00:00",
            "2024-09-10T16:05:00",
            "2024-09-10T16:10:00",
            "2024-09-10T16:15:00",
            "2024-09-10T16:20:00",
            "2024-09-10T16:25:00",
            "2024-09-10T16:30:00",
            "2024-09-10T16:35:00",
            "2024-09-10T16:40:00",
            "2024-09-10T16:45:00",
            "2024-09-10T16:50:00",
            "2024-09-10T16:55:00",
            "2024-09-10T17:00:00",
            "2024-09-10T17:05:00",
            "2024-09-10T17:10:00",
            "2024-09-10T17:15:00",
            "2024-09-10T17:20:00",
            "2024-09-10T17:25:00",
            "2024-09-10T17:30:00",
            "2024-09-10T17:35:00",
            "2024-09-10T17:40:00",
            "2024-09-10T17:45:00",
            "2024-09-10T17:50:00",
            "2024-09-10T17:55:00",
            "2024-09-10T18:00:00",
            "2024-09-10T18:05:00",
            "2024-09-10T18:10:00",
            "2024-09-10T18:15:00",
            "2024-09-10T18:20:00",
            "2024-09-10T18:25:00",
            "2024-09-10T18:30:00",
            "2024-09-10T18:35:00",
            "2024-09-10T18:40:00",
            "2024-09-10T18:45:00",
            "2024-09-10T18:50:00",
            "2024-09-10T18:55:00",
            "2024-09-10T19:00:00",
            "2024-09-10T19:05:00",
            "2024-09-10T19:10:00",
            "2024-09-10T19:15:00",
            "2024-09-10T19:20:00",
            "2024-09-10T19:25:00",
            "2024-09-10T19:30:00",
            "2024-09-10T19:35:00",
            "2024-09-10T19:40:00",
            "2024-09-10T19:45:00",
            "2024-09-10T19:50:00",
            "2024-09-10T19:55:00",
            "2024-09-10T20:00:00",
            "2024-09-10T20:05:00",
            "2024-09-10T20:10:00",
            "2024-09-10T20:15:00",
            "2024-09-10T20:20:00",
            "2024-09-10T20:25:00",
            "2024-09-11T03:00:00",
            "2024-09-11T03:05:00",
            "2024-09-11T03:10:00",
            "2024-09-11T03:15:00",
            "2024-09-11T03:20:00",
            "2024-09-11T03:25:00",
            "2024-09-11T03:30:00",
            "2024-09-11T03:35:00",
            "2024-09-11T03:40:00",
            "2024-09-11T03:45:00",
            "2024-09-11T03:50:00",
            "2024-09-11T03:55:00",
            "2024-09-11T04:00:00",
            "2024-09-11T04:05:00",
            "2024-09-11T04:10:00",
            "2024-09-11T04:15:00",
            "2024-09-11T04:20:00",
            "2024-09-11T04:25:00",
            "2024-09-11T04:30:00",
            "2024-09-11T04:35:00",
            "2024-09-11T04:40:00",
            "2024-09-11T04:45:00",
            "2024-09-11T04:50:00",
            "2024-09-11T04:55:00",
            "2024-09-11T05:00:00",
            "2024-09-11T05:05:00",
            "2024-09-11T05:10:00",
            "2024-09-11T05:15:00",
            "2024-09-11T05:20:00",
            "2024-09-11T05:25:00",
            "2024-09-11T05:30:00",
            "2024-09-11T05:35:00",
            "2024-09-11T05:40:00",
            "2024-09-11T05:45:00",
            "2024-09-11T05:50:00",
            "2024-09-11T05:55:00",
            "2024-09-11T06:00:00",
            "2024-09-11T06:05:00",
            "2024-09-11T06:10:00",
            "2024-09-11T06:15:00",
            "2024-09-11T06:20:00",
            "2024-09-11T06:25:00",
            "2024-09-11T06:30:00",
            "2024-09-11T06:35:00",
            "2024-09-11T06:40:00",
            "2024-09-11T06:45:00",
            "2024-09-11T06:50:00",
            "2024-09-11T06:55:00",
            "2024-09-11T07:00:00",
            "2024-09-11T07:05:00",
            "2024-09-11T07:10:00",
            "2024-09-11T07:15:00",
            "2024-09-11T07:20:00",
            "2024-09-11T07:25:00",
            "2024-09-11T07:30:00",
            "2024-09-11T07:35:00",
            "2024-09-11T07:40:00",
            "2024-09-11T07:45:00",
            "2024-09-11T07:50:00",
            "2024-09-11T07:55:00",
            "2024-09-11T08:00:00",
            "2024-09-11T08:05:00",
            "2024-09-11T08:10:00",
            "2024-09-11T08:15:00",
            "2024-09-11T08:20:00",
            "2024-09-11T08:25:00",
            "2024-09-11T08:30:00",
            "2024-09-11T08:35:00",
            "2024-09-11T08:40:00",
            "2024-09-11T08:45:00",
            "2024-09-11T08:50:00",
            "2024-09-11T08:55:00",
            "2024-09-11T09:00:00",
            "2024-09-11T09:05:00",
            "2024-09-11T09:10:00",
            "2024-09-11T09:15:00",
            "2024-09-11T09:20:00",
            "2024-09-11T09:25:00",
            "2024-09-11T09:30:00",
            "2024-09-11T09:35:00",
            "2024-09-11T09:40:00",
            "2024-09-11T09:45:00",
            "2024-09-11T09:50:00",
            "2024-09-11T09:55:00",
            "2024-09-11T10:00:00",
            "2024-09-11T10:05:00",
            "2024-09-11T10:10:00",
            "2024-09-11T10:15:00",
            "2024-09-11T10:20:00",
            "2024-09-11T10:25:00",
            "2024-09-11T10:30:00",
            "2024-09-11T10:35:00",
            "2024-09-11T10:40:00",
            "2024-09-11T10:45:00",
            "2024-09-11T10:50:00",
            "2024-09-11T10:55:00",
            "2024-09-11T11:00:00",
            "2024-09-11T11:05:00",
            "2024-09-11T11:10:00",
            "2024-09-11T11:15:00",
            "2024-09-11T11:20:00",
            "2024-09-11T11:25:00",
            "2024-09-11T11:30:00",
            "2024-09-11T11:35:00",
            "2024-09-11T11:40:00",
            "2024-09-11T11:45:00",
            "2024-09-11T11:50:00",
            "2024-09-11T11:55:00",
            "2024-09-11T12:00:00",
            "2024-09-11T12:05:00",
            "2024-09-11T12:10:00",
            "2024-09-11T12:15:00",
            "2024-09-11T12:20:00",
            "2024-09-11T12:25:00",
            "2024-09-11T12:30:00",
            "2024-09-11T12:35:00",
            "2024-09-11T12:40:00",
            "2024-09-11T12:45:00",
            "2024-09-11T12:50:00",
            "2024-09-11T12:55:00",
            "2024-09-11T13:00:00",
            "2024-09-11T13:05:00",
            "2024-09-11T13:10:00",
            "2024-09-11T13:15:00",
            "2024-09-11T13:20:00",
            "2024-09-11T13:25:00",
            "2024-09-11T13:30:00",
            "2024-09-11T13:35:00",
            "2024-09-11T13:40:00",
            "2024-09-11T13:45:00",
            "2024-09-11T13:50:00",
            "2024-09-11T13:55:00",
            "2024-09-11T14:00:00",
            "2024-09-11T14:05:00",
            "2024-09-11T14:10:00",
            "2024-09-11T14:15:00",
            "2024-09-11T14:20:00",
            "2024-09-11T14:25:00",
            "2024-09-11T14:30:00",
            "2024-09-11T14:35:00",
            "2024-09-11T14:40:00",
            "2024-09-11T14:45:00",
            "2024-09-11T14:50:00",
            "2024-09-11T14:55:00",
            "2024-09-11T15:00:00",
            "2024-09-11T15:05:00",
            "2024-09-11T15:10:00",
            "2024-09-11T15:15:00",
            "2024-09-11T15:20:00",
            "2024-09-11T15:25:00",
            "2024-09-11T15:30:00",
            "2024-09-11T15:35:00",
            "2024-09-11T15:40:00",
            "2024-09-11T15:45:00",
            "2024-09-11T15:50:00",
            "2024-09-11T15:55:00",
            "2024-09-11T16:00:00",
            "2024-09-11T16:05:00",
            "2024-09-11T16:10:00",
            "2024-09-11T16:15:00",
            "2024-09-11T16:20:00",
            "2024-09-11T16:25:00",
            "2024-09-11T16:30:00",
            "2024-09-11T16:35:00",
            "2024-09-11T16:40:00",
            "2024-09-11T16:45:00",
            "2024-09-11T16:50:00",
            "2024-09-11T16:55:00",
            "2024-09-11T17:00:00",
            "2024-09-11T17:05:00",
            "2024-09-11T17:10:00",
            "2024-09-11T17:15:00",
            "2024-09-11T17:20:00",
            "2024-09-11T17:25:00",
            "2024-09-11T17:30:00",
            "2024-09-11T17:35:00",
            "2024-09-11T17:40:00",
            "2024-09-11T17:45:00",
            "2024-09-11T17:50:00",
            "2024-09-11T17:55:00",
            "2024-09-11T18:00:00",
            "2024-09-11T18:05:00",
            "2024-09-11T18:10:00",
            "2024-09-11T18:15:00",
            "2024-09-11T18:20:00",
            "2024-09-11T18:25:00",
            "2024-09-11T18:30:00",
            "2024-09-11T18:35:00",
            "2024-09-11T18:40:00",
            "2024-09-11T18:45:00",
            "2024-09-11T18:50:00",
            "2024-09-11T18:55:00",
            "2024-09-11T19:00:00",
            "2024-09-11T19:05:00",
            "2024-09-11T19:10:00",
            "2024-09-11T19:15:00",
            "2024-09-11T19:20:00",
            "2024-09-11T19:25:00",
            "2024-09-11T19:30:00",
            "2024-09-11T19:35:00",
            "2024-09-11T19:40:00",
            "2024-09-11T19:45:00",
            "2024-09-11T19:50:00",
            "2024-09-11T19:55:00",
            "2024-09-11T20:00:00",
            "2024-09-11T20:05:00",
            "2024-09-11T20:10:00",
            "2024-09-11T20:15:00",
            "2024-09-11T20:20:00",
            "2024-09-11T20:25:00",
            "2024-09-12T03:00:00",
            "2024-09-12T03:05:00",
            "2024-09-12T03:10:00",
            "2024-09-12T03:15:00",
            "2024-09-12T03:20:00",
            "2024-09-12T03:25:00",
            "2024-09-12T03:30:00",
            "2024-09-12T03:35:00",
            "2024-09-12T03:40:00",
            "2024-09-12T03:45:00",
            "2024-09-12T03:50:00",
            "2024-09-12T03:55:00",
            "2024-09-12T04:00:00",
            "2024-09-12T04:05:00",
            "2024-09-12T04:10:00",
            "2024-09-12T04:15:00",
            "2024-09-12T04:20:00",
            "2024-09-12T04:25:00",
            "2024-09-12T04:30:00",
            "2024-09-12T04:35:00",
            "2024-09-12T04:40:00",
            "2024-09-12T04:45:00",
            "2024-09-12T04:50:00",
            "2024-09-12T04:55:00",
            "2024-09-12T05:00:00",
            "2024-09-12T05:05:00",
            "2024-09-12T05:10:00",
            "2024-09-12T05:15:00",
            "2024-09-12T05:20:00",
            "2024-09-12T05:25:00",
            "2024-09-12T05:30:00",
            "2024-09-12T05:35:00",
            "2024-09-12T05:40:00",
            "2024-09-12T05:45:00",
            "2024-09-12T05:50:00",
            "2024-09-12T05:55:00",
            "2024-09-12T06:00:00",
            "2024-09-12T06:05:00",
            "2024-09-12T06:10:00",
            "2024-09-12T06:15:00",
            "2024-09-12T06:20:00",
            "2024-09-12T06:25:00",
            "2024-09-12T06:30:00",
            "2024-09-12T06:35:00",
            "2024-09-12T06:40:00",
            "2024-09-12T06:45:00",
            "2024-09-12T06:50:00",
            "2024-09-12T06:55:00",
            "2024-09-12T07:00:00",
            "2024-09-12T07:05:00",
            "2024-09-12T07:10:00",
            "2024-09-12T07:15:00",
            "2024-09-12T07:20:00",
            "2024-09-12T07:25:00",
            "2024-09-12T07:30:00",
            "2024-09-12T07:35:00",
            "2024-09-12T07:40:00",
            "2024-09-12T07:45:00",
            "2024-09-12T07:50:00",
            "2024-09-12T07:55:00",
            "2024-09-12T08:00:00",
            "2024-09-12T08:05:00",
            "2024-09-12T08:10:00",
            "2024-09-12T08:15:00",
            "2024-09-12T08:20:00",
            "2024-09-12T08:25:00",
            "2024-09-12T08:30:00",
            "2024-09-12T08:35:00",
            "2024-09-12T08:40:00",
            "2024-09-12T08:45:00",
            "2024-09-12T08:50:00",
            "2024-09-12T08:55:00",
            "2024-09-12T09:00:00",
            "2024-09-12T09:05:00",
            "2024-09-12T09:10:00",
            "2024-09-12T09:15:00",
            "2024-09-12T09:20:00",
            "2024-09-12T09:25:00",
            "2024-09-12T09:30:00",
            "2024-09-12T09:35:00",
            "2024-09-12T09:40:00",
            "2024-09-12T09:45:00",
            "2024-09-12T09:50:00",
            "2024-09-12T09:55:00",
            "2024-09-12T10:00:00",
            "2024-09-12T10:05:00",
            "2024-09-12T10:10:00",
            "2024-09-12T10:15:00",
            "2024-09-12T10:20:00",
            "2024-09-12T10:25:00",
            "2024-09-12T10:30:00",
            "2024-09-12T10:35:00",
            "2024-09-12T10:40:00",
            "2024-09-12T10:45:00",
            "2024-09-12T10:50:00",
            "2024-09-12T10:55:00",
            "2024-09-12T11:00:00",
            "2024-09-12T11:05:00",
            "2024-09-12T11:10:00",
            "2024-09-12T11:15:00",
            "2024-09-12T11:20:00",
            "2024-09-12T11:25:00",
            "2024-09-12T11:30:00",
            "2024-09-12T11:35:00",
            "2024-09-12T11:40:00",
            "2024-09-12T11:45:00",
            "2024-09-12T11:50:00",
            "2024-09-12T11:55:00",
            "2024-09-12T12:00:00",
            "2024-09-12T12:05:00",
            "2024-09-12T12:10:00",
            "2024-09-12T12:15:00",
            "2024-09-12T12:20:00",
            "2024-09-12T12:25:00",
            "2024-09-12T12:30:00",
            "2024-09-12T12:35:00",
            "2024-09-12T12:40:00",
            "2024-09-12T12:45:00",
            "2024-09-12T12:50:00",
            "2024-09-12T12:55:00",
            "2024-09-12T13:00:00",
            "2024-09-12T13:05:00",
            "2024-09-12T13:10:00",
            "2024-09-12T13:15:00",
            "2024-09-12T13:20:00",
            "2024-09-12T13:25:00",
            "2024-09-12T13:30:00",
            "2024-09-12T13:35:00",
            "2024-09-12T13:40:00",
            "2024-09-12T13:45:00",
            "2024-09-12T13:50:00",
            "2024-09-12T13:55:00",
            "2024-09-12T14:00:00",
            "2024-09-12T14:05:00",
            "2024-09-12T14:10:00",
            "2024-09-12T14:15:00",
            "2024-09-12T14:20:00",
            "2024-09-12T14:25:00",
            "2024-09-12T14:30:00",
            "2024-09-12T14:35:00",
            "2024-09-12T14:40:00",
            "2024-09-12T14:45:00",
            "2024-09-12T14:50:00",
            "2024-09-12T14:55:00",
            "2024-09-12T15:00:00",
            "2024-09-12T15:05:00",
            "2024-09-12T15:10:00",
            "2024-09-12T15:15:00",
            "2024-09-12T15:20:00",
            "2024-09-12T15:25:00",
            "2024-09-12T15:30:00",
            "2024-09-12T15:35:00",
            "2024-09-12T15:40:00",
            "2024-09-12T15:45:00",
            "2024-09-12T15:50:00",
            "2024-09-12T15:55:00",
            "2024-09-12T16:00:00",
            "2024-09-12T16:05:00",
            "2024-09-12T16:10:00",
            "2024-09-12T16:15:00",
            "2024-09-12T16:20:00",
            "2024-09-12T16:25:00",
            "2024-09-12T16:30:00",
            "2024-09-12T16:35:00",
            "2024-09-12T16:40:00",
            "2024-09-12T16:45:00",
            "2024-09-12T16:50:00",
            "2024-09-12T16:55:00",
            "2024-09-12T17:00:00",
            "2024-09-12T17:05:00",
            "2024-09-12T17:10:00",
            "2024-09-12T17:15:00",
            "2024-09-12T17:20:00",
            "2024-09-12T17:25:00",
            "2024-09-12T17:30:00",
            "2024-09-12T17:35:00",
            "2024-09-12T17:40:00",
            "2024-09-12T17:45:00",
            "2024-09-12T17:50:00",
            "2024-09-12T17:55:00",
            "2024-09-12T18:00:00",
            "2024-09-12T18:05:00",
            "2024-09-12T18:10:00",
            "2024-09-12T18:15:00",
            "2024-09-12T18:20:00",
            "2024-09-12T18:25:00",
            "2024-09-12T18:30:00",
            "2024-09-12T18:35:00",
            "2024-09-12T18:40:00",
            "2024-09-12T18:45:00",
            "2024-09-12T18:50:00",
            "2024-09-12T18:55:00",
            "2024-09-12T19:00:00",
            "2024-09-12T19:05:00",
            "2024-09-12T19:10:00",
            "2024-09-12T19:15:00",
            "2024-09-12T19:20:00",
            "2024-09-12T19:25:00",
            "2024-09-12T19:30:00",
            "2024-09-12T19:35:00",
            "2024-09-12T19:40:00",
            "2024-09-12T19:45:00",
            "2024-09-12T19:50:00",
            "2024-09-12T19:55:00",
            "2024-09-12T20:00:00",
            "2024-09-12T20:05:00",
            "2024-09-12T20:10:00",
            "2024-09-12T20:15:00",
            "2024-09-12T20:20:00",
            "2024-09-12T20:25:00"
           ]
          }
         ],
         "rangeslider": {
          "visible": false
         },
         "showgrid": false,
         "showline": false,
         "showticklabels": false,
         "visible": true,
         "zeroline": false
        },
        "yaxis": {
         "showticklabels": false,
         "visible": false
        }
       }
      }
     },
     "metadata": {},
     "output_type": "display_data"
    }
   ],
   "source": [
    "fig = create_smc_plot(df_5t, rangebreak_5t, dvalue= 5)\n",
    "fig.show()"
   ]
  }
 ],
 "metadata": {
  "kernelspec": {
   "display_name": "ivt",
   "language": "python",
   "name": "python3"
  },
  "language_info": {
   "codemirror_mode": {
    "name": "ipython",
    "version": 3
   },
   "file_extension": ".py",
   "mimetype": "text/x-python",
   "name": "python",
   "nbconvert_exporter": "python",
   "pygments_lexer": "ipython3",
   "version": "3.10.14"
  }
 },
 "nbformat": 4,
 "nbformat_minor": 2
}
